{
 "cells": [
  {
   "cell_type": "markdown",
   "metadata": {},
   "source": [
    "#                               Research on car sales ads\n",
    "\n",
    "\n",
    "We are making an analysis for the telecom operator Megaline. The company offers its clients two prepaid plans, Surf and Ultimate. Using the data on 500 Megaline clients, we need to find out which plan brings in more revenue.\n",
    "We have 5 datasets - calls, internet usage, message usage, plans descriptions, information about users.\n",
    "#### Let's move on and study the data more thorougly.    "
   ]
  },
  {
   "cell_type": "code",
   "execution_count": 1,
   "metadata": {},
   "outputs": [
    {
     "name": "stdout",
     "output_type": "stream",
     "text": [
      "Requirement already satisfied: seaborn in /opt/conda/lib/python3.9/site-packages (0.11.1)\n",
      "Collecting seaborn\n",
      "  Downloading seaborn-0.11.2-py3-none-any.whl (292 kB)\n",
      "\u001b[K     |████████████████████████████████| 292 kB 1.3 MB/s eta 0:00:01\n",
      "\u001b[?25hRequirement already satisfied: numpy>=1.15 in /opt/conda/lib/python3.9/site-packages (from seaborn) (1.21.1)\n",
      "Requirement already satisfied: scipy>=1.0 in /opt/conda/lib/python3.9/site-packages (from seaborn) (1.8.0)\n",
      "Requirement already satisfied: matplotlib>=2.2 in /opt/conda/lib/python3.9/site-packages (from seaborn) (3.3.4)\n",
      "Requirement already satisfied: pandas>=0.23 in /opt/conda/lib/python3.9/site-packages (from seaborn) (1.2.4)\n",
      "Requirement already satisfied: pyparsing!=2.0.4,!=2.1.2,!=2.1.6,>=2.0.3 in /opt/conda/lib/python3.9/site-packages (from matplotlib>=2.2->seaborn) (2.4.7)\n",
      "Requirement already satisfied: kiwisolver>=1.0.1 in /opt/conda/lib/python3.9/site-packages (from matplotlib>=2.2->seaborn) (1.4.2)\n",
      "Requirement already satisfied: pillow>=6.2.0 in /opt/conda/lib/python3.9/site-packages (from matplotlib>=2.2->seaborn) (8.4.0)\n",
      "Requirement already satisfied: python-dateutil>=2.1 in /opt/conda/lib/python3.9/site-packages (from matplotlib>=2.2->seaborn) (2.8.1)\n",
      "Requirement already satisfied: cycler>=0.10 in /opt/conda/lib/python3.9/site-packages (from matplotlib>=2.2->seaborn) (0.11.0)\n",
      "Requirement already satisfied: pytz>=2017.3 in /opt/conda/lib/python3.9/site-packages (from pandas>=0.23->seaborn) (2021.1)\n",
      "Requirement already satisfied: six>=1.5 in /opt/conda/lib/python3.9/site-packages (from python-dateutil>=2.1->matplotlib>=2.2->seaborn) (1.16.0)\n",
      "Installing collected packages: seaborn\n",
      "  Attempting uninstall: seaborn\n",
      "    Found existing installation: seaborn 0.11.1\n",
      "    Uninstalling seaborn-0.11.1:\n",
      "      Successfully uninstalled seaborn-0.11.1\n",
      "Successfully installed seaborn-0.11.2\n"
     ]
    }
   ],
   "source": [
    "!pip install seaborn -U"
   ]
  },
  {
   "cell_type": "code",
   "execution_count": 2,
   "metadata": {},
   "outputs": [],
   "source": [
    "import pandas as pd\n",
    "import numpy as np\n",
    "import matplotlib.pyplot as plt\n",
    "from functools import reduce\n",
    "import seaborn as sns\n",
    "from scipy import stats"
   ]
  },
  {
   "cell_type": "code",
   "execution_count": 3,
   "metadata": {},
   "outputs": [],
   "source": [
    "try:\n",
    "    megaline_calls = pd.read_csv('/datasets/megaline_calls.csv')\n",
    "except IOError as e:\n",
    "    print(e)"
   ]
  },
  {
   "cell_type": "code",
   "execution_count": 4,
   "metadata": {},
   "outputs": [],
   "source": [
    "try:\n",
    "    megaline_internet = pd.read_csv('/datasets/megaline_internet.csv')\n",
    "except IOError as e:\n",
    "    print(e)"
   ]
  },
  {
   "cell_type": "code",
   "execution_count": 5,
   "metadata": {},
   "outputs": [],
   "source": [
    "try:\n",
    "    megaline_messages = pd.read_csv('/datasets/megaline_messages.csv')\n",
    "except IOError as e:\n",
    "    print(e)"
   ]
  },
  {
   "cell_type": "code",
   "execution_count": 6,
   "metadata": {},
   "outputs": [],
   "source": [
    "try:\n",
    "    megaline_plans = pd.read_csv('/datasets/megaline_plans.csv')\n",
    "except IOError as e:\n",
    "    print(e)"
   ]
  },
  {
   "cell_type": "code",
   "execution_count": 7,
   "metadata": {},
   "outputs": [],
   "source": [
    "try:\n",
    "    megaline_users = pd.read_csv('/datasets/megaline_users.csv')\n",
    "except IOError as e:\n",
    "    print(e)"
   ]
  },
  {
   "cell_type": "markdown",
   "metadata": {},
   "source": [
    "First of all, I want to see what kind of data do I have. We downloaded 5 files, containing\n",
    "- informtaion about plans\n",
    "- information about users\n",
    "- information about:\n",
    "              calls made\n",
    "              messages sent \n",
    "              internet used\n"
   ]
  },
  {
   "cell_type": "code",
   "execution_count": 8,
   "metadata": {},
   "outputs": [
    {
     "data": {
      "text/html": [
       "<div>\n",
       "<style scoped>\n",
       "    .dataframe tbody tr th:only-of-type {\n",
       "        vertical-align: middle;\n",
       "    }\n",
       "\n",
       "    .dataframe tbody tr th {\n",
       "        vertical-align: top;\n",
       "    }\n",
       "\n",
       "    .dataframe thead th {\n",
       "        text-align: right;\n",
       "    }\n",
       "</style>\n",
       "<table border=\"1\" class=\"dataframe\">\n",
       "  <thead>\n",
       "    <tr style=\"text-align: right;\">\n",
       "      <th></th>\n",
       "      <th>messages_included</th>\n",
       "      <th>mb_per_month_included</th>\n",
       "      <th>minutes_included</th>\n",
       "      <th>usd_monthly_pay</th>\n",
       "      <th>usd_per_gb</th>\n",
       "      <th>usd_per_message</th>\n",
       "      <th>usd_per_minute</th>\n",
       "      <th>plan_name</th>\n",
       "    </tr>\n",
       "  </thead>\n",
       "  <tbody>\n",
       "    <tr>\n",
       "      <th>0</th>\n",
       "      <td>50</td>\n",
       "      <td>15360</td>\n",
       "      <td>500</td>\n",
       "      <td>20</td>\n",
       "      <td>10</td>\n",
       "      <td>0.03</td>\n",
       "      <td>0.03</td>\n",
       "      <td>surf</td>\n",
       "    </tr>\n",
       "    <tr>\n",
       "      <th>1</th>\n",
       "      <td>1000</td>\n",
       "      <td>30720</td>\n",
       "      <td>3000</td>\n",
       "      <td>70</td>\n",
       "      <td>7</td>\n",
       "      <td>0.01</td>\n",
       "      <td>0.01</td>\n",
       "      <td>ultimate</td>\n",
       "    </tr>\n",
       "  </tbody>\n",
       "</table>\n",
       "</div>"
      ],
      "text/plain": [
       "   messages_included  mb_per_month_included  minutes_included  \\\n",
       "0                 50                  15360               500   \n",
       "1               1000                  30720              3000   \n",
       "\n",
       "   usd_monthly_pay  usd_per_gb  usd_per_message  usd_per_minute plan_name  \n",
       "0               20          10             0.03            0.03      surf  \n",
       "1               70           7             0.01            0.01  ultimate  "
      ]
     },
     "execution_count": 8,
     "metadata": {},
     "output_type": "execute_result"
    }
   ],
   "source": [
    "megaline_plans.head()"
   ]
  },
  {
   "cell_type": "code",
   "execution_count": 9,
   "metadata": {},
   "outputs": [
    {
     "data": {
      "text/html": [
       "<div>\n",
       "<style scoped>\n",
       "    .dataframe tbody tr th:only-of-type {\n",
       "        vertical-align: middle;\n",
       "    }\n",
       "\n",
       "    .dataframe tbody tr th {\n",
       "        vertical-align: top;\n",
       "    }\n",
       "\n",
       "    .dataframe thead th {\n",
       "        text-align: right;\n",
       "    }\n",
       "</style>\n",
       "<table border=\"1\" class=\"dataframe\">\n",
       "  <thead>\n",
       "    <tr style=\"text-align: right;\">\n",
       "      <th></th>\n",
       "      <th>user_id</th>\n",
       "      <th>first_name</th>\n",
       "      <th>last_name</th>\n",
       "      <th>age</th>\n",
       "      <th>city</th>\n",
       "      <th>reg_date</th>\n",
       "      <th>plan</th>\n",
       "      <th>churn_date</th>\n",
       "    </tr>\n",
       "  </thead>\n",
       "  <tbody>\n",
       "    <tr>\n",
       "      <th>0</th>\n",
       "      <td>1000</td>\n",
       "      <td>Anamaria</td>\n",
       "      <td>Bauer</td>\n",
       "      <td>45</td>\n",
       "      <td>Atlanta-Sandy Springs-Roswell, GA MSA</td>\n",
       "      <td>2018-12-24</td>\n",
       "      <td>ultimate</td>\n",
       "      <td>NaN</td>\n",
       "    </tr>\n",
       "    <tr>\n",
       "      <th>1</th>\n",
       "      <td>1001</td>\n",
       "      <td>Mickey</td>\n",
       "      <td>Wilkerson</td>\n",
       "      <td>28</td>\n",
       "      <td>Seattle-Tacoma-Bellevue, WA MSA</td>\n",
       "      <td>2018-08-13</td>\n",
       "      <td>surf</td>\n",
       "      <td>NaN</td>\n",
       "    </tr>\n",
       "    <tr>\n",
       "      <th>2</th>\n",
       "      <td>1002</td>\n",
       "      <td>Carlee</td>\n",
       "      <td>Hoffman</td>\n",
       "      <td>36</td>\n",
       "      <td>Las Vegas-Henderson-Paradise, NV MSA</td>\n",
       "      <td>2018-10-21</td>\n",
       "      <td>surf</td>\n",
       "      <td>NaN</td>\n",
       "    </tr>\n",
       "    <tr>\n",
       "      <th>3</th>\n",
       "      <td>1003</td>\n",
       "      <td>Reynaldo</td>\n",
       "      <td>Jenkins</td>\n",
       "      <td>52</td>\n",
       "      <td>Tulsa, OK MSA</td>\n",
       "      <td>2018-01-28</td>\n",
       "      <td>surf</td>\n",
       "      <td>NaN</td>\n",
       "    </tr>\n",
       "    <tr>\n",
       "      <th>4</th>\n",
       "      <td>1004</td>\n",
       "      <td>Leonila</td>\n",
       "      <td>Thompson</td>\n",
       "      <td>40</td>\n",
       "      <td>Seattle-Tacoma-Bellevue, WA MSA</td>\n",
       "      <td>2018-05-23</td>\n",
       "      <td>surf</td>\n",
       "      <td>NaN</td>\n",
       "    </tr>\n",
       "  </tbody>\n",
       "</table>\n",
       "</div>"
      ],
      "text/plain": [
       "   user_id first_name  last_name  age                                   city  \\\n",
       "0     1000   Anamaria      Bauer   45  Atlanta-Sandy Springs-Roswell, GA MSA   \n",
       "1     1001     Mickey  Wilkerson   28        Seattle-Tacoma-Bellevue, WA MSA   \n",
       "2     1002     Carlee    Hoffman   36   Las Vegas-Henderson-Paradise, NV MSA   \n",
       "3     1003   Reynaldo    Jenkins   52                          Tulsa, OK MSA   \n",
       "4     1004    Leonila   Thompson   40        Seattle-Tacoma-Bellevue, WA MSA   \n",
       "\n",
       "     reg_date      plan churn_date  \n",
       "0  2018-12-24  ultimate        NaN  \n",
       "1  2018-08-13      surf        NaN  \n",
       "2  2018-10-21      surf        NaN  \n",
       "3  2018-01-28      surf        NaN  \n",
       "4  2018-05-23      surf        NaN  "
      ]
     },
     "execution_count": 9,
     "metadata": {},
     "output_type": "execute_result"
    }
   ],
   "source": [
    "megaline_users.head()"
   ]
  },
  {
   "cell_type": "code",
   "execution_count": 10,
   "metadata": {},
   "outputs": [
    {
     "data": {
      "text/plain": [
       "array([nan, '2018-12-18', '2018-11-16', '2018-09-07', '2018-12-30',\n",
       "       '2018-10-07', '2018-12-31', '2018-11-24', '2018-11-11',\n",
       "       '2018-12-12', '2018-11-14', '2018-12-27', '2018-11-29',\n",
       "       '2018-12-22', '2018-11-30', '2018-10-13', '2018-07-31',\n",
       "       '2018-12-15', '2018-12-19', '2018-10-03', '2018-10-22',\n",
       "       '2018-08-16', '2018-12-26', '2018-09-01', '2018-11-21',\n",
       "       '2018-08-19', '2018-12-10', '2018-09-17', '2018-11-18',\n",
       "       '2018-09-18'], dtype=object)"
      ]
     },
     "execution_count": 10,
     "metadata": {},
     "output_type": "execute_result"
    }
   ],
   "source": [
    "megaline_users['churn_date'].unique()"
   ]
  },
  {
   "cell_type": "markdown",
   "metadata": {},
   "source": [
    "We see that there are a lot of missing data in column churn_date. In my opinion that rows without dates are the ones, who are using megaline on the date of analysis. We can't replaci it by \"0\" or other date. As we are not going to use this column in our analysis, I think it is a better idea not to change it."
   ]
  },
  {
   "cell_type": "code",
   "execution_count": 11,
   "metadata": {},
   "outputs": [
    {
     "name": "stdout",
     "output_type": "stream",
     "text": [
      "<class 'pandas.core.frame.DataFrame'>\n",
      "RangeIndex: 500 entries, 0 to 499\n",
      "Data columns (total 8 columns):\n",
      " #   Column      Non-Null Count  Dtype \n",
      "---  ------      --------------  ----- \n",
      " 0   user_id     500 non-null    int64 \n",
      " 1   first_name  500 non-null    object\n",
      " 2   last_name   500 non-null    object\n",
      " 3   age         500 non-null    int64 \n",
      " 4   city        500 non-null    object\n",
      " 5   reg_date    500 non-null    object\n",
      " 6   plan        500 non-null    object\n",
      " 7   churn_date  34 non-null     object\n",
      "dtypes: int64(2), object(6)\n",
      "memory usage: 31.4+ KB\n"
     ]
    }
   ],
   "source": [
    "megaline_users.info()"
   ]
  },
  {
   "cell_type": "code",
   "execution_count": 12,
   "metadata": {},
   "outputs": [
    {
     "data": {
      "text/html": [
       "<div>\n",
       "<style scoped>\n",
       "    .dataframe tbody tr th:only-of-type {\n",
       "        vertical-align: middle;\n",
       "    }\n",
       "\n",
       "    .dataframe tbody tr th {\n",
       "        vertical-align: top;\n",
       "    }\n",
       "\n",
       "    .dataframe thead th {\n",
       "        text-align: right;\n",
       "    }\n",
       "</style>\n",
       "<table border=\"1\" class=\"dataframe\">\n",
       "  <thead>\n",
       "    <tr style=\"text-align: right;\">\n",
       "      <th></th>\n",
       "      <th>id</th>\n",
       "      <th>user_id</th>\n",
       "      <th>call_date</th>\n",
       "      <th>duration</th>\n",
       "    </tr>\n",
       "  </thead>\n",
       "  <tbody>\n",
       "    <tr>\n",
       "      <th>21281</th>\n",
       "      <td>1078_24</td>\n",
       "      <td>1078</td>\n",
       "      <td>2018-12-17</td>\n",
       "      <td>0.00</td>\n",
       "    </tr>\n",
       "    <tr>\n",
       "      <th>12363</th>\n",
       "      <td>1054_86</td>\n",
       "      <td>1054</td>\n",
       "      <td>2018-05-23</td>\n",
       "      <td>0.00</td>\n",
       "    </tr>\n",
       "    <tr>\n",
       "      <th>76717</th>\n",
       "      <td>1274_22</td>\n",
       "      <td>1274</td>\n",
       "      <td>2018-12-31</td>\n",
       "      <td>9.96</td>\n",
       "    </tr>\n",
       "    <tr>\n",
       "      <th>115315</th>\n",
       "      <td>1404_109</td>\n",
       "      <td>1404</td>\n",
       "      <td>2018-09-27</td>\n",
       "      <td>14.36</td>\n",
       "    </tr>\n",
       "    <tr>\n",
       "      <th>73442</th>\n",
       "      <td>1261_195</td>\n",
       "      <td>1261</td>\n",
       "      <td>2018-08-08</td>\n",
       "      <td>4.49</td>\n",
       "    </tr>\n",
       "  </tbody>\n",
       "</table>\n",
       "</div>"
      ],
      "text/plain": [
       "              id  user_id   call_date  duration\n",
       "21281    1078_24     1078  2018-12-17      0.00\n",
       "12363    1054_86     1054  2018-05-23      0.00\n",
       "76717    1274_22     1274  2018-12-31      9.96\n",
       "115315  1404_109     1404  2018-09-27     14.36\n",
       "73442   1261_195     1261  2018-08-08      4.49"
      ]
     },
     "execution_count": 12,
     "metadata": {},
     "output_type": "execute_result"
    }
   ],
   "source": [
    "megaline_calls.sample(5)"
   ]
  },
  {
   "cell_type": "code",
   "execution_count": 13,
   "metadata": {},
   "outputs": [
    {
     "data": {
      "text/plain": [
       "19.482339274694162"
      ]
     },
     "execution_count": 13,
     "metadata": {},
     "output_type": "execute_result"
    }
   ],
   "source": [
    "(megaline_calls['duration'] == 0).sum()/len(megaline_calls)*100"
   ]
  },
  {
   "cell_type": "markdown",
   "metadata": {},
   "source": [
    "When looking through the data about calls made, I ve noticed that there are 19% of calls duration is equal to 0, maybe that are the missing calls, novadays people mostly prefer not to answer the calls, but texting or using internet."
   ]
  },
  {
   "cell_type": "code",
   "execution_count": 14,
   "metadata": {},
   "outputs": [
    {
     "name": "stdout",
     "output_type": "stream",
     "text": [
      "<class 'pandas.core.frame.DataFrame'>\n",
      "RangeIndex: 137735 entries, 0 to 137734\n",
      "Data columns (total 4 columns):\n",
      " #   Column     Non-Null Count   Dtype  \n",
      "---  ------     --------------   -----  \n",
      " 0   id         137735 non-null  object \n",
      " 1   user_id    137735 non-null  int64  \n",
      " 2   call_date  137735 non-null  object \n",
      " 3   duration   137735 non-null  float64\n",
      "dtypes: float64(1), int64(1), object(2)\n",
      "memory usage: 4.2+ MB\n"
     ]
    }
   ],
   "source": [
    "megaline_calls.info()"
   ]
  },
  {
   "cell_type": "code",
   "execution_count": 15,
   "metadata": {},
   "outputs": [
    {
     "data": {
      "text/html": [
       "<div>\n",
       "<style scoped>\n",
       "    .dataframe tbody tr th:only-of-type {\n",
       "        vertical-align: middle;\n",
       "    }\n",
       "\n",
       "    .dataframe tbody tr th {\n",
       "        vertical-align: top;\n",
       "    }\n",
       "\n",
       "    .dataframe thead th {\n",
       "        text-align: right;\n",
       "    }\n",
       "</style>\n",
       "<table border=\"1\" class=\"dataframe\">\n",
       "  <thead>\n",
       "    <tr style=\"text-align: right;\">\n",
       "      <th></th>\n",
       "      <th>user_id</th>\n",
       "      <th>duration</th>\n",
       "    </tr>\n",
       "  </thead>\n",
       "  <tbody>\n",
       "    <tr>\n",
       "      <th>count</th>\n",
       "      <td>137735.000000</td>\n",
       "      <td>137735.000000</td>\n",
       "    </tr>\n",
       "    <tr>\n",
       "      <th>mean</th>\n",
       "      <td>1247.658046</td>\n",
       "      <td>6.745927</td>\n",
       "    </tr>\n",
       "    <tr>\n",
       "      <th>std</th>\n",
       "      <td>139.416268</td>\n",
       "      <td>5.839241</td>\n",
       "    </tr>\n",
       "    <tr>\n",
       "      <th>min</th>\n",
       "      <td>1000.000000</td>\n",
       "      <td>0.000000</td>\n",
       "    </tr>\n",
       "    <tr>\n",
       "      <th>25%</th>\n",
       "      <td>1128.000000</td>\n",
       "      <td>1.290000</td>\n",
       "    </tr>\n",
       "    <tr>\n",
       "      <th>50%</th>\n",
       "      <td>1247.000000</td>\n",
       "      <td>5.980000</td>\n",
       "    </tr>\n",
       "    <tr>\n",
       "      <th>75%</th>\n",
       "      <td>1365.000000</td>\n",
       "      <td>10.690000</td>\n",
       "    </tr>\n",
       "    <tr>\n",
       "      <th>max</th>\n",
       "      <td>1499.000000</td>\n",
       "      <td>37.600000</td>\n",
       "    </tr>\n",
       "  </tbody>\n",
       "</table>\n",
       "</div>"
      ],
      "text/plain": [
       "             user_id       duration\n",
       "count  137735.000000  137735.000000\n",
       "mean     1247.658046       6.745927\n",
       "std       139.416268       5.839241\n",
       "min      1000.000000       0.000000\n",
       "25%      1128.000000       1.290000\n",
       "50%      1247.000000       5.980000\n",
       "75%      1365.000000      10.690000\n",
       "max      1499.000000      37.600000"
      ]
     },
     "execution_count": 15,
     "metadata": {},
     "output_type": "execute_result"
    }
   ],
   "source": [
    "megaline_calls.describe()"
   ]
  },
  {
   "cell_type": "code",
   "execution_count": 16,
   "metadata": {},
   "outputs": [
    {
     "data": {
      "text/html": [
       "<div>\n",
       "<style scoped>\n",
       "    .dataframe tbody tr th:only-of-type {\n",
       "        vertical-align: middle;\n",
       "    }\n",
       "\n",
       "    .dataframe tbody tr th {\n",
       "        vertical-align: top;\n",
       "    }\n",
       "\n",
       "    .dataframe thead th {\n",
       "        text-align: right;\n",
       "    }\n",
       "</style>\n",
       "<table border=\"1\" class=\"dataframe\">\n",
       "  <thead>\n",
       "    <tr style=\"text-align: right;\">\n",
       "      <th></th>\n",
       "      <th>id</th>\n",
       "      <th>user_id</th>\n",
       "      <th>session_date</th>\n",
       "      <th>mb_used</th>\n",
       "    </tr>\n",
       "  </thead>\n",
       "  <tbody>\n",
       "    <tr>\n",
       "      <th>0</th>\n",
       "      <td>1000_13</td>\n",
       "      <td>1000</td>\n",
       "      <td>2018-12-29</td>\n",
       "      <td>89.86</td>\n",
       "    </tr>\n",
       "    <tr>\n",
       "      <th>1</th>\n",
       "      <td>1000_204</td>\n",
       "      <td>1000</td>\n",
       "      <td>2018-12-31</td>\n",
       "      <td>0.00</td>\n",
       "    </tr>\n",
       "    <tr>\n",
       "      <th>2</th>\n",
       "      <td>1000_379</td>\n",
       "      <td>1000</td>\n",
       "      <td>2018-12-28</td>\n",
       "      <td>660.40</td>\n",
       "    </tr>\n",
       "    <tr>\n",
       "      <th>3</th>\n",
       "      <td>1000_413</td>\n",
       "      <td>1000</td>\n",
       "      <td>2018-12-26</td>\n",
       "      <td>270.99</td>\n",
       "    </tr>\n",
       "    <tr>\n",
       "      <th>4</th>\n",
       "      <td>1000_442</td>\n",
       "      <td>1000</td>\n",
       "      <td>2018-12-27</td>\n",
       "      <td>880.22</td>\n",
       "    </tr>\n",
       "  </tbody>\n",
       "</table>\n",
       "</div>"
      ],
      "text/plain": [
       "         id  user_id session_date  mb_used\n",
       "0   1000_13     1000   2018-12-29    89.86\n",
       "1  1000_204     1000   2018-12-31     0.00\n",
       "2  1000_379     1000   2018-12-28   660.40\n",
       "3  1000_413     1000   2018-12-26   270.99\n",
       "4  1000_442     1000   2018-12-27   880.22"
      ]
     },
     "execution_count": 16,
     "metadata": {},
     "output_type": "execute_result"
    }
   ],
   "source": [
    "megaline_internet.head()"
   ]
  },
  {
   "cell_type": "code",
   "execution_count": 17,
   "metadata": {},
   "outputs": [
    {
     "data": {
      "text/plain": [
       "13.11423801574052"
      ]
     },
     "execution_count": 17,
     "metadata": {},
     "output_type": "execute_result"
    }
   ],
   "source": [
    "(megaline_internet['mb_used'] == 0).sum()/len(megaline_internet)*100"
   ]
  },
  {
   "cell_type": "markdown",
   "metadata": {},
   "source": [
    "There are 13% zeros in internet users, but it is completely possible, a lot of elderly users are not using internet at all, so do little kids."
   ]
  },
  {
   "cell_type": "code",
   "execution_count": 18,
   "metadata": {},
   "outputs": [
    {
     "name": "stdout",
     "output_type": "stream",
     "text": [
      "<class 'pandas.core.frame.DataFrame'>\n",
      "RangeIndex: 104825 entries, 0 to 104824\n",
      "Data columns (total 4 columns):\n",
      " #   Column        Non-Null Count   Dtype  \n",
      "---  ------        --------------   -----  \n",
      " 0   id            104825 non-null  object \n",
      " 1   user_id       104825 non-null  int64  \n",
      " 2   session_date  104825 non-null  object \n",
      " 3   mb_used       104825 non-null  float64\n",
      "dtypes: float64(1), int64(1), object(2)\n",
      "memory usage: 3.2+ MB\n"
     ]
    }
   ],
   "source": [
    "megaline_internet.info()"
   ]
  },
  {
   "cell_type": "code",
   "execution_count": 19,
   "metadata": {},
   "outputs": [
    {
     "data": {
      "text/html": [
       "<div>\n",
       "<style scoped>\n",
       "    .dataframe tbody tr th:only-of-type {\n",
       "        vertical-align: middle;\n",
       "    }\n",
       "\n",
       "    .dataframe tbody tr th {\n",
       "        vertical-align: top;\n",
       "    }\n",
       "\n",
       "    .dataframe thead th {\n",
       "        text-align: right;\n",
       "    }\n",
       "</style>\n",
       "<table border=\"1\" class=\"dataframe\">\n",
       "  <thead>\n",
       "    <tr style=\"text-align: right;\">\n",
       "      <th></th>\n",
       "      <th>id</th>\n",
       "      <th>user_id</th>\n",
       "      <th>message_date</th>\n",
       "    </tr>\n",
       "  </thead>\n",
       "  <tbody>\n",
       "    <tr>\n",
       "      <th>0</th>\n",
       "      <td>1000_125</td>\n",
       "      <td>1000</td>\n",
       "      <td>2018-12-27</td>\n",
       "    </tr>\n",
       "    <tr>\n",
       "      <th>1</th>\n",
       "      <td>1000_160</td>\n",
       "      <td>1000</td>\n",
       "      <td>2018-12-31</td>\n",
       "    </tr>\n",
       "    <tr>\n",
       "      <th>2</th>\n",
       "      <td>1000_223</td>\n",
       "      <td>1000</td>\n",
       "      <td>2018-12-31</td>\n",
       "    </tr>\n",
       "    <tr>\n",
       "      <th>3</th>\n",
       "      <td>1000_251</td>\n",
       "      <td>1000</td>\n",
       "      <td>2018-12-27</td>\n",
       "    </tr>\n",
       "    <tr>\n",
       "      <th>4</th>\n",
       "      <td>1000_255</td>\n",
       "      <td>1000</td>\n",
       "      <td>2018-12-26</td>\n",
       "    </tr>\n",
       "    <tr>\n",
       "      <th>5</th>\n",
       "      <td>1000_346</td>\n",
       "      <td>1000</td>\n",
       "      <td>2018-12-29</td>\n",
       "    </tr>\n",
       "    <tr>\n",
       "      <th>6</th>\n",
       "      <td>1000_386</td>\n",
       "      <td>1000</td>\n",
       "      <td>2018-12-30</td>\n",
       "    </tr>\n",
       "    <tr>\n",
       "      <th>7</th>\n",
       "      <td>1000_413</td>\n",
       "      <td>1000</td>\n",
       "      <td>2018-12-31</td>\n",
       "    </tr>\n",
       "    <tr>\n",
       "      <th>8</th>\n",
       "      <td>1000_502</td>\n",
       "      <td>1000</td>\n",
       "      <td>2018-12-27</td>\n",
       "    </tr>\n",
       "    <tr>\n",
       "      <th>9</th>\n",
       "      <td>1000_525</td>\n",
       "      <td>1000</td>\n",
       "      <td>2018-12-28</td>\n",
       "    </tr>\n",
       "  </tbody>\n",
       "</table>\n",
       "</div>"
      ],
      "text/plain": [
       "         id  user_id message_date\n",
       "0  1000_125     1000   2018-12-27\n",
       "1  1000_160     1000   2018-12-31\n",
       "2  1000_223     1000   2018-12-31\n",
       "3  1000_251     1000   2018-12-27\n",
       "4  1000_255     1000   2018-12-26\n",
       "5  1000_346     1000   2018-12-29\n",
       "6  1000_386     1000   2018-12-30\n",
       "7  1000_413     1000   2018-12-31\n",
       "8  1000_502     1000   2018-12-27\n",
       "9  1000_525     1000   2018-12-28"
      ]
     },
     "execution_count": 19,
     "metadata": {},
     "output_type": "execute_result"
    }
   ],
   "source": [
    "megaline_messages.head(10)"
   ]
  },
  {
   "cell_type": "code",
   "execution_count": 20,
   "metadata": {},
   "outputs": [
    {
     "name": "stdout",
     "output_type": "stream",
     "text": [
      "<class 'pandas.core.frame.DataFrame'>\n",
      "RangeIndex: 76051 entries, 0 to 76050\n",
      "Data columns (total 3 columns):\n",
      " #   Column        Non-Null Count  Dtype \n",
      "---  ------        --------------  ----- \n",
      " 0   id            76051 non-null  object\n",
      " 1   user_id       76051 non-null  int64 \n",
      " 2   message_date  76051 non-null  object\n",
      "dtypes: int64(1), object(2)\n",
      "memory usage: 1.7+ MB\n"
     ]
    }
   ],
   "source": [
    "megaline_messages.info()"
   ]
  },
  {
   "cell_type": "code",
   "execution_count": 21,
   "metadata": {},
   "outputs": [],
   "source": [
    "megaline_calls['month'] = pd.DatetimeIndex(megaline_calls['call_date']).month"
   ]
  },
  {
   "cell_type": "code",
   "execution_count": 22,
   "metadata": {},
   "outputs": [
    {
     "data": {
      "text/html": [
       "<div>\n",
       "<style scoped>\n",
       "    .dataframe tbody tr th:only-of-type {\n",
       "        vertical-align: middle;\n",
       "    }\n",
       "\n",
       "    .dataframe tbody tr th {\n",
       "        vertical-align: top;\n",
       "    }\n",
       "\n",
       "    .dataframe thead th {\n",
       "        text-align: right;\n",
       "    }\n",
       "</style>\n",
       "<table border=\"1\" class=\"dataframe\">\n",
       "  <thead>\n",
       "    <tr style=\"text-align: right;\">\n",
       "      <th></th>\n",
       "      <th>id</th>\n",
       "      <th>user_id</th>\n",
       "      <th>call_date</th>\n",
       "      <th>duration</th>\n",
       "      <th>month</th>\n",
       "    </tr>\n",
       "  </thead>\n",
       "  <tbody>\n",
       "    <tr>\n",
       "      <th>0</th>\n",
       "      <td>1000_93</td>\n",
       "      <td>1000</td>\n",
       "      <td>2018-12-27</td>\n",
       "      <td>8.52</td>\n",
       "      <td>12</td>\n",
       "    </tr>\n",
       "    <tr>\n",
       "      <th>1</th>\n",
       "      <td>1000_145</td>\n",
       "      <td>1000</td>\n",
       "      <td>2018-12-27</td>\n",
       "      <td>13.66</td>\n",
       "      <td>12</td>\n",
       "    </tr>\n",
       "    <tr>\n",
       "      <th>2</th>\n",
       "      <td>1000_247</td>\n",
       "      <td>1000</td>\n",
       "      <td>2018-12-27</td>\n",
       "      <td>14.48</td>\n",
       "      <td>12</td>\n",
       "    </tr>\n",
       "    <tr>\n",
       "      <th>3</th>\n",
       "      <td>1000_309</td>\n",
       "      <td>1000</td>\n",
       "      <td>2018-12-28</td>\n",
       "      <td>5.76</td>\n",
       "      <td>12</td>\n",
       "    </tr>\n",
       "    <tr>\n",
       "      <th>4</th>\n",
       "      <td>1000_380</td>\n",
       "      <td>1000</td>\n",
       "      <td>2018-12-30</td>\n",
       "      <td>4.22</td>\n",
       "      <td>12</td>\n",
       "    </tr>\n",
       "  </tbody>\n",
       "</table>\n",
       "</div>"
      ],
      "text/plain": [
       "         id  user_id   call_date  duration  month\n",
       "0   1000_93     1000  2018-12-27      8.52     12\n",
       "1  1000_145     1000  2018-12-27     13.66     12\n",
       "2  1000_247     1000  2018-12-27     14.48     12\n",
       "3  1000_309     1000  2018-12-28      5.76     12\n",
       "4  1000_380     1000  2018-12-30      4.22     12"
      ]
     },
     "execution_count": 22,
     "metadata": {},
     "output_type": "execute_result"
    }
   ],
   "source": [
    "megaline_calls.head()"
   ]
  },
  {
   "cell_type": "code",
   "execution_count": 23,
   "metadata": {},
   "outputs": [],
   "source": [
    "megaline_internet['month'] = pd.DatetimeIndex(megaline_internet['session_date']).month"
   ]
  },
  {
   "cell_type": "code",
   "execution_count": 24,
   "metadata": {},
   "outputs": [
    {
     "data": {
      "text/html": [
       "<div>\n",
       "<style scoped>\n",
       "    .dataframe tbody tr th:only-of-type {\n",
       "        vertical-align: middle;\n",
       "    }\n",
       "\n",
       "    .dataframe tbody tr th {\n",
       "        vertical-align: top;\n",
       "    }\n",
       "\n",
       "    .dataframe thead th {\n",
       "        text-align: right;\n",
       "    }\n",
       "</style>\n",
       "<table border=\"1\" class=\"dataframe\">\n",
       "  <thead>\n",
       "    <tr style=\"text-align: right;\">\n",
       "      <th></th>\n",
       "      <th>id</th>\n",
       "      <th>user_id</th>\n",
       "      <th>session_date</th>\n",
       "      <th>mb_used</th>\n",
       "      <th>month</th>\n",
       "    </tr>\n",
       "  </thead>\n",
       "  <tbody>\n",
       "    <tr>\n",
       "      <th>0</th>\n",
       "      <td>1000_13</td>\n",
       "      <td>1000</td>\n",
       "      <td>2018-12-29</td>\n",
       "      <td>89.86</td>\n",
       "      <td>12</td>\n",
       "    </tr>\n",
       "    <tr>\n",
       "      <th>1</th>\n",
       "      <td>1000_204</td>\n",
       "      <td>1000</td>\n",
       "      <td>2018-12-31</td>\n",
       "      <td>0.00</td>\n",
       "      <td>12</td>\n",
       "    </tr>\n",
       "    <tr>\n",
       "      <th>2</th>\n",
       "      <td>1000_379</td>\n",
       "      <td>1000</td>\n",
       "      <td>2018-12-28</td>\n",
       "      <td>660.40</td>\n",
       "      <td>12</td>\n",
       "    </tr>\n",
       "    <tr>\n",
       "      <th>3</th>\n",
       "      <td>1000_413</td>\n",
       "      <td>1000</td>\n",
       "      <td>2018-12-26</td>\n",
       "      <td>270.99</td>\n",
       "      <td>12</td>\n",
       "    </tr>\n",
       "    <tr>\n",
       "      <th>4</th>\n",
       "      <td>1000_442</td>\n",
       "      <td>1000</td>\n",
       "      <td>2018-12-27</td>\n",
       "      <td>880.22</td>\n",
       "      <td>12</td>\n",
       "    </tr>\n",
       "  </tbody>\n",
       "</table>\n",
       "</div>"
      ],
      "text/plain": [
       "         id  user_id session_date  mb_used  month\n",
       "0   1000_13     1000   2018-12-29    89.86     12\n",
       "1  1000_204     1000   2018-12-31     0.00     12\n",
       "2  1000_379     1000   2018-12-28   660.40     12\n",
       "3  1000_413     1000   2018-12-26   270.99     12\n",
       "4  1000_442     1000   2018-12-27   880.22     12"
      ]
     },
     "execution_count": 24,
     "metadata": {},
     "output_type": "execute_result"
    }
   ],
   "source": [
    "megaline_internet.head()"
   ]
  },
  {
   "cell_type": "code",
   "execution_count": 25,
   "metadata": {},
   "outputs": [],
   "source": [
    "megaline_messages['month'] = pd.DatetimeIndex(megaline_messages['message_date']).month"
   ]
  },
  {
   "cell_type": "code",
   "execution_count": 26,
   "metadata": {},
   "outputs": [
    {
     "data": {
      "text/html": [
       "<div>\n",
       "<style scoped>\n",
       "    .dataframe tbody tr th:only-of-type {\n",
       "        vertical-align: middle;\n",
       "    }\n",
       "\n",
       "    .dataframe tbody tr th {\n",
       "        vertical-align: top;\n",
       "    }\n",
       "\n",
       "    .dataframe thead th {\n",
       "        text-align: right;\n",
       "    }\n",
       "</style>\n",
       "<table border=\"1\" class=\"dataframe\">\n",
       "  <thead>\n",
       "    <tr style=\"text-align: right;\">\n",
       "      <th></th>\n",
       "      <th>id</th>\n",
       "      <th>user_id</th>\n",
       "      <th>message_date</th>\n",
       "      <th>month</th>\n",
       "    </tr>\n",
       "  </thead>\n",
       "  <tbody>\n",
       "    <tr>\n",
       "      <th>0</th>\n",
       "      <td>1000_125</td>\n",
       "      <td>1000</td>\n",
       "      <td>2018-12-27</td>\n",
       "      <td>12</td>\n",
       "    </tr>\n",
       "    <tr>\n",
       "      <th>1</th>\n",
       "      <td>1000_160</td>\n",
       "      <td>1000</td>\n",
       "      <td>2018-12-31</td>\n",
       "      <td>12</td>\n",
       "    </tr>\n",
       "    <tr>\n",
       "      <th>2</th>\n",
       "      <td>1000_223</td>\n",
       "      <td>1000</td>\n",
       "      <td>2018-12-31</td>\n",
       "      <td>12</td>\n",
       "    </tr>\n",
       "    <tr>\n",
       "      <th>3</th>\n",
       "      <td>1000_251</td>\n",
       "      <td>1000</td>\n",
       "      <td>2018-12-27</td>\n",
       "      <td>12</td>\n",
       "    </tr>\n",
       "    <tr>\n",
       "      <th>4</th>\n",
       "      <td>1000_255</td>\n",
       "      <td>1000</td>\n",
       "      <td>2018-12-26</td>\n",
       "      <td>12</td>\n",
       "    </tr>\n",
       "  </tbody>\n",
       "</table>\n",
       "</div>"
      ],
      "text/plain": [
       "         id  user_id message_date  month\n",
       "0  1000_125     1000   2018-12-27     12\n",
       "1  1000_160     1000   2018-12-31     12\n",
       "2  1000_223     1000   2018-12-31     12\n",
       "3  1000_251     1000   2018-12-27     12\n",
       "4  1000_255     1000   2018-12-26     12"
      ]
     },
     "execution_count": 26,
     "metadata": {},
     "output_type": "execute_result"
    }
   ],
   "source": [
    "megaline_messages.head()"
   ]
  },
  {
   "cell_type": "markdown",
   "metadata": {},
   "source": [
    "Here I ve added column month, it is visually more convenient to have this kind of column just with the month value. \n",
    "Also as we know that according to the plan rules , megaline rounds up all the calls to next minute, let's round all the durations to minutes."
   ]
  },
  {
   "cell_type": "code",
   "execution_count": 27,
   "metadata": {},
   "outputs": [],
   "source": [
    "megaline_calls['rounded_duration'] = np.ceil(megaline_calls['duration']) "
   ]
  },
  {
   "cell_type": "markdown",
   "metadata": {},
   "source": [
    "Our next step is to group by the user , calculating for each month, number and the duration of calls, quantity of messages and usage of megabytes per month. I've created ceveral dataframes containing that information."
   ]
  },
  {
   "cell_type": "code",
   "execution_count": 28,
   "metadata": {},
   "outputs": [],
   "source": [
    "df_calls_per_user = megaline_calls.groupby(['user_id','month'])['rounded_duration'].sum()\n",
    "df_calls_per_user = df_calls_per_user.to_frame()\n",
    "df_calls_count = megaline_calls.groupby(['user_id','month'])['rounded_duration'].count()\n",
    "df_calls_count = df_calls_count.to_frame()\n",
    "df_sms_per_user = megaline_messages.groupby(['user_id','month'])['id'].count()\n",
    "df_sms_per_user = df_sms_per_user.to_frame()\n",
    "df_internet_per_user = megaline_internet.groupby(['user_id','month'])['mb_used'].sum()\n",
    "df_internet_per_user = df_internet_per_user.to_frame()"
   ]
  },
  {
   "cell_type": "code",
   "execution_count": 29,
   "metadata": {},
   "outputs": [
    {
     "data": {
      "text/html": [
       "<div>\n",
       "<style scoped>\n",
       "    .dataframe tbody tr th:only-of-type {\n",
       "        vertical-align: middle;\n",
       "    }\n",
       "\n",
       "    .dataframe tbody tr th {\n",
       "        vertical-align: top;\n",
       "    }\n",
       "\n",
       "    .dataframe thead th {\n",
       "        text-align: right;\n",
       "    }\n",
       "</style>\n",
       "<table border=\"1\" class=\"dataframe\">\n",
       "  <thead>\n",
       "    <tr style=\"text-align: right;\">\n",
       "      <th></th>\n",
       "      <th></th>\n",
       "      <th>count</th>\n",
       "      <th>sum</th>\n",
       "    </tr>\n",
       "    <tr>\n",
       "      <th>user_id</th>\n",
       "      <th>month</th>\n",
       "      <th></th>\n",
       "      <th></th>\n",
       "    </tr>\n",
       "  </thead>\n",
       "  <tbody>\n",
       "    <tr>\n",
       "      <th>1000</th>\n",
       "      <th>12</th>\n",
       "      <td>16</td>\n",
       "      <td>124.0</td>\n",
       "    </tr>\n",
       "    <tr>\n",
       "      <th rowspan=\"4\" valign=\"top\">1001</th>\n",
       "      <th>8</th>\n",
       "      <td>27</td>\n",
       "      <td>182.0</td>\n",
       "    </tr>\n",
       "    <tr>\n",
       "      <th>9</th>\n",
       "      <td>49</td>\n",
       "      <td>315.0</td>\n",
       "    </tr>\n",
       "    <tr>\n",
       "      <th>10</th>\n",
       "      <td>65</td>\n",
       "      <td>393.0</td>\n",
       "    </tr>\n",
       "    <tr>\n",
       "      <th>11</th>\n",
       "      <td>64</td>\n",
       "      <td>426.0</td>\n",
       "    </tr>\n",
       "    <tr>\n",
       "      <th>...</th>\n",
       "      <th>...</th>\n",
       "      <td>...</td>\n",
       "      <td>...</td>\n",
       "    </tr>\n",
       "    <tr>\n",
       "      <th>1498</th>\n",
       "      <th>12</th>\n",
       "      <td>39</td>\n",
       "      <td>339.0</td>\n",
       "    </tr>\n",
       "    <tr>\n",
       "      <th rowspan=\"4\" valign=\"top\">1499</th>\n",
       "      <th>9</th>\n",
       "      <td>41</td>\n",
       "      <td>346.0</td>\n",
       "    </tr>\n",
       "    <tr>\n",
       "      <th>10</th>\n",
       "      <td>53</td>\n",
       "      <td>385.0</td>\n",
       "    </tr>\n",
       "    <tr>\n",
       "      <th>11</th>\n",
       "      <td>45</td>\n",
       "      <td>308.0</td>\n",
       "    </tr>\n",
       "    <tr>\n",
       "      <th>12</th>\n",
       "      <td>65</td>\n",
       "      <td>496.0</td>\n",
       "    </tr>\n",
       "  </tbody>\n",
       "</table>\n",
       "<p>2258 rows × 2 columns</p>\n",
       "</div>"
      ],
      "text/plain": [
       "               count    sum\n",
       "user_id month              \n",
       "1000    12        16  124.0\n",
       "1001    8         27  182.0\n",
       "        9         49  315.0\n",
       "        10        65  393.0\n",
       "        11        64  426.0\n",
       "...              ...    ...\n",
       "1498    12        39  339.0\n",
       "1499    9         41  346.0\n",
       "        10        53  385.0\n",
       "        11        45  308.0\n",
       "        12        65  496.0\n",
       "\n",
       "[2258 rows x 2 columns]"
      ]
     },
     "execution_count": 29,
     "metadata": {},
     "output_type": "execute_result"
    }
   ],
   "source": [
    "megaline_calls.groupby(['user_id','month'])['rounded_duration'].agg(['count', 'sum'])"
   ]
  },
  {
   "cell_type": "code",
   "execution_count": 30,
   "metadata": {},
   "outputs": [
    {
     "data": {
      "text/html": [
       "<div>\n",
       "<style scoped>\n",
       "    .dataframe tbody tr th:only-of-type {\n",
       "        vertical-align: middle;\n",
       "    }\n",
       "\n",
       "    .dataframe tbody tr th {\n",
       "        vertical-align: top;\n",
       "    }\n",
       "\n",
       "    .dataframe thead th {\n",
       "        text-align: right;\n",
       "    }\n",
       "</style>\n",
       "<table border=\"1\" class=\"dataframe\">\n",
       "  <thead>\n",
       "    <tr style=\"text-align: right;\">\n",
       "      <th></th>\n",
       "      <th></th>\n",
       "      <th>rounded_duration</th>\n",
       "    </tr>\n",
       "    <tr>\n",
       "      <th>user_id</th>\n",
       "      <th>month</th>\n",
       "      <th></th>\n",
       "    </tr>\n",
       "  </thead>\n",
       "  <tbody>\n",
       "    <tr>\n",
       "      <th>1000</th>\n",
       "      <th>12</th>\n",
       "      <td>124.0</td>\n",
       "    </tr>\n",
       "    <tr>\n",
       "      <th rowspan=\"4\" valign=\"top\">1001</th>\n",
       "      <th>8</th>\n",
       "      <td>182.0</td>\n",
       "    </tr>\n",
       "    <tr>\n",
       "      <th>9</th>\n",
       "      <td>315.0</td>\n",
       "    </tr>\n",
       "    <tr>\n",
       "      <th>10</th>\n",
       "      <td>393.0</td>\n",
       "    </tr>\n",
       "    <tr>\n",
       "      <th>11</th>\n",
       "      <td>426.0</td>\n",
       "    </tr>\n",
       "  </tbody>\n",
       "</table>\n",
       "</div>"
      ],
      "text/plain": [
       "               rounded_duration\n",
       "user_id month                  \n",
       "1000    12                124.0\n",
       "1001    8                 182.0\n",
       "        9                 315.0\n",
       "        10                393.0\n",
       "        11                426.0"
      ]
     },
     "execution_count": 30,
     "metadata": {},
     "output_type": "execute_result"
    }
   ],
   "source": [
    "df_calls_per_user.head()"
   ]
  },
  {
   "cell_type": "code",
   "execution_count": 31,
   "metadata": {},
   "outputs": [
    {
     "data": {
      "text/html": [
       "<div>\n",
       "<style scoped>\n",
       "    .dataframe tbody tr th:only-of-type {\n",
       "        vertical-align: middle;\n",
       "    }\n",
       "\n",
       "    .dataframe tbody tr th {\n",
       "        vertical-align: top;\n",
       "    }\n",
       "\n",
       "    .dataframe thead th {\n",
       "        text-align: right;\n",
       "    }\n",
       "</style>\n",
       "<table border=\"1\" class=\"dataframe\">\n",
       "  <thead>\n",
       "    <tr style=\"text-align: right;\">\n",
       "      <th></th>\n",
       "      <th></th>\n",
       "      <th>rounded_duration</th>\n",
       "    </tr>\n",
       "    <tr>\n",
       "      <th>user_id</th>\n",
       "      <th>month</th>\n",
       "      <th></th>\n",
       "    </tr>\n",
       "  </thead>\n",
       "  <tbody>\n",
       "    <tr>\n",
       "      <th>1000</th>\n",
       "      <th>12</th>\n",
       "      <td>16</td>\n",
       "    </tr>\n",
       "    <tr>\n",
       "      <th rowspan=\"4\" valign=\"top\">1001</th>\n",
       "      <th>8</th>\n",
       "      <td>27</td>\n",
       "    </tr>\n",
       "    <tr>\n",
       "      <th>9</th>\n",
       "      <td>49</td>\n",
       "    </tr>\n",
       "    <tr>\n",
       "      <th>10</th>\n",
       "      <td>65</td>\n",
       "    </tr>\n",
       "    <tr>\n",
       "      <th>11</th>\n",
       "      <td>64</td>\n",
       "    </tr>\n",
       "  </tbody>\n",
       "</table>\n",
       "</div>"
      ],
      "text/plain": [
       "               rounded_duration\n",
       "user_id month                  \n",
       "1000    12                   16\n",
       "1001    8                    27\n",
       "        9                    49\n",
       "        10                   65\n",
       "        11                   64"
      ]
     },
     "execution_count": 31,
     "metadata": {},
     "output_type": "execute_result"
    }
   ],
   "source": [
    "df_calls_count.head()"
   ]
  },
  {
   "cell_type": "code",
   "execution_count": 32,
   "metadata": {},
   "outputs": [],
   "source": [
    "df_calls_count.columns = ['calls_quantity']"
   ]
  },
  {
   "cell_type": "code",
   "execution_count": 33,
   "metadata": {},
   "outputs": [
    {
     "data": {
      "text/html": [
       "<div>\n",
       "<style scoped>\n",
       "    .dataframe tbody tr th:only-of-type {\n",
       "        vertical-align: middle;\n",
       "    }\n",
       "\n",
       "    .dataframe tbody tr th {\n",
       "        vertical-align: top;\n",
       "    }\n",
       "\n",
       "    .dataframe thead th {\n",
       "        text-align: right;\n",
       "    }\n",
       "</style>\n",
       "<table border=\"1\" class=\"dataframe\">\n",
       "  <thead>\n",
       "    <tr style=\"text-align: right;\">\n",
       "      <th></th>\n",
       "      <th></th>\n",
       "      <th>calls_quantity</th>\n",
       "    </tr>\n",
       "    <tr>\n",
       "      <th>user_id</th>\n",
       "      <th>month</th>\n",
       "      <th></th>\n",
       "    </tr>\n",
       "  </thead>\n",
       "  <tbody>\n",
       "    <tr>\n",
       "      <th>1000</th>\n",
       "      <th>12</th>\n",
       "      <td>16</td>\n",
       "    </tr>\n",
       "    <tr>\n",
       "      <th rowspan=\"4\" valign=\"top\">1001</th>\n",
       "      <th>8</th>\n",
       "      <td>27</td>\n",
       "    </tr>\n",
       "    <tr>\n",
       "      <th>9</th>\n",
       "      <td>49</td>\n",
       "    </tr>\n",
       "    <tr>\n",
       "      <th>10</th>\n",
       "      <td>65</td>\n",
       "    </tr>\n",
       "    <tr>\n",
       "      <th>11</th>\n",
       "      <td>64</td>\n",
       "    </tr>\n",
       "  </tbody>\n",
       "</table>\n",
       "</div>"
      ],
      "text/plain": [
       "               calls_quantity\n",
       "user_id month                \n",
       "1000    12                 16\n",
       "1001    8                  27\n",
       "        9                  49\n",
       "        10                 65\n",
       "        11                 64"
      ]
     },
     "execution_count": 33,
     "metadata": {},
     "output_type": "execute_result"
    }
   ],
   "source": [
    "df_calls_count.head()"
   ]
  },
  {
   "cell_type": "code",
   "execution_count": 34,
   "metadata": {},
   "outputs": [
    {
     "data": {
      "text/html": [
       "<div>\n",
       "<style scoped>\n",
       "    .dataframe tbody tr th:only-of-type {\n",
       "        vertical-align: middle;\n",
       "    }\n",
       "\n",
       "    .dataframe tbody tr th {\n",
       "        vertical-align: top;\n",
       "    }\n",
       "\n",
       "    .dataframe thead th {\n",
       "        text-align: right;\n",
       "    }\n",
       "</style>\n",
       "<table border=\"1\" class=\"dataframe\">\n",
       "  <thead>\n",
       "    <tr style=\"text-align: right;\">\n",
       "      <th></th>\n",
       "      <th></th>\n",
       "      <th>id</th>\n",
       "    </tr>\n",
       "    <tr>\n",
       "      <th>user_id</th>\n",
       "      <th>month</th>\n",
       "      <th></th>\n",
       "    </tr>\n",
       "  </thead>\n",
       "  <tbody>\n",
       "    <tr>\n",
       "      <th>1000</th>\n",
       "      <th>12</th>\n",
       "      <td>11</td>\n",
       "    </tr>\n",
       "    <tr>\n",
       "      <th rowspan=\"4\" valign=\"top\">1001</th>\n",
       "      <th>8</th>\n",
       "      <td>30</td>\n",
       "    </tr>\n",
       "    <tr>\n",
       "      <th>9</th>\n",
       "      <td>44</td>\n",
       "    </tr>\n",
       "    <tr>\n",
       "      <th>10</th>\n",
       "      <td>53</td>\n",
       "    </tr>\n",
       "    <tr>\n",
       "      <th>11</th>\n",
       "      <td>36</td>\n",
       "    </tr>\n",
       "  </tbody>\n",
       "</table>\n",
       "</div>"
      ],
      "text/plain": [
       "               id\n",
       "user_id month    \n",
       "1000    12     11\n",
       "1001    8      30\n",
       "        9      44\n",
       "        10     53\n",
       "        11     36"
      ]
     },
     "execution_count": 34,
     "metadata": {},
     "output_type": "execute_result"
    }
   ],
   "source": [
    "df_sms_per_user.head()"
   ]
  },
  {
   "cell_type": "code",
   "execution_count": 35,
   "metadata": {},
   "outputs": [
    {
     "data": {
      "text/html": [
       "<div>\n",
       "<style scoped>\n",
       "    .dataframe tbody tr th:only-of-type {\n",
       "        vertical-align: middle;\n",
       "    }\n",
       "\n",
       "    .dataframe tbody tr th {\n",
       "        vertical-align: top;\n",
       "    }\n",
       "\n",
       "    .dataframe thead th {\n",
       "        text-align: right;\n",
       "    }\n",
       "</style>\n",
       "<table border=\"1\" class=\"dataframe\">\n",
       "  <thead>\n",
       "    <tr style=\"text-align: right;\">\n",
       "      <th></th>\n",
       "      <th></th>\n",
       "      <th>mb_used</th>\n",
       "    </tr>\n",
       "    <tr>\n",
       "      <th>user_id</th>\n",
       "      <th>month</th>\n",
       "      <th></th>\n",
       "    </tr>\n",
       "  </thead>\n",
       "  <tbody>\n",
       "    <tr>\n",
       "      <th>1000</th>\n",
       "      <th>12</th>\n",
       "      <td>1901.47</td>\n",
       "    </tr>\n",
       "    <tr>\n",
       "      <th rowspan=\"4\" valign=\"top\">1001</th>\n",
       "      <th>8</th>\n",
       "      <td>6919.15</td>\n",
       "    </tr>\n",
       "    <tr>\n",
       "      <th>9</th>\n",
       "      <td>13314.82</td>\n",
       "    </tr>\n",
       "    <tr>\n",
       "      <th>10</th>\n",
       "      <td>22330.49</td>\n",
       "    </tr>\n",
       "    <tr>\n",
       "      <th>11</th>\n",
       "      <td>18504.30</td>\n",
       "    </tr>\n",
       "  </tbody>\n",
       "</table>\n",
       "</div>"
      ],
      "text/plain": [
       "                mb_used\n",
       "user_id month          \n",
       "1000    12      1901.47\n",
       "1001    8       6919.15\n",
       "        9      13314.82\n",
       "        10     22330.49\n",
       "        11     18504.30"
      ]
     },
     "execution_count": 35,
     "metadata": {},
     "output_type": "execute_result"
    }
   ],
   "source": [
    "df_internet_per_user.head()"
   ]
  },
  {
   "cell_type": "code",
   "execution_count": 36,
   "metadata": {},
   "outputs": [],
   "source": [
    "data_frames = [df_calls_per_user,df_calls_count,df_internet_per_user, df_sms_per_user ]\n",
    "df_merged = reduce(lambda left,right: pd.merge(left,right,on=['user_id','month'],how='outer'),data_frames).reset_index(drop=False)"
   ]
  },
  {
   "cell_type": "code",
   "execution_count": 37,
   "metadata": {},
   "outputs": [
    {
     "data": {
      "text/html": [
       "<div>\n",
       "<style scoped>\n",
       "    .dataframe tbody tr th:only-of-type {\n",
       "        vertical-align: middle;\n",
       "    }\n",
       "\n",
       "    .dataframe tbody tr th {\n",
       "        vertical-align: top;\n",
       "    }\n",
       "\n",
       "    .dataframe thead th {\n",
       "        text-align: right;\n",
       "    }\n",
       "</style>\n",
       "<table border=\"1\" class=\"dataframe\">\n",
       "  <thead>\n",
       "    <tr style=\"text-align: right;\">\n",
       "      <th></th>\n",
       "      <th>user_id</th>\n",
       "      <th>month</th>\n",
       "      <th>rounded_duration</th>\n",
       "      <th>calls_quantity</th>\n",
       "      <th>mb_used</th>\n",
       "      <th>id</th>\n",
       "    </tr>\n",
       "  </thead>\n",
       "  <tbody>\n",
       "    <tr>\n",
       "      <th>164</th>\n",
       "      <td>1042</td>\n",
       "      <td>10</td>\n",
       "      <td>281.0</td>\n",
       "      <td>41.0</td>\n",
       "      <td>6118.26</td>\n",
       "      <td>NaN</td>\n",
       "    </tr>\n",
       "    <tr>\n",
       "      <th>1252</th>\n",
       "      <td>1268</td>\n",
       "      <td>12</td>\n",
       "      <td>488.0</td>\n",
       "      <td>62.0</td>\n",
       "      <td>31756.34</td>\n",
       "      <td>23.0</td>\n",
       "    </tr>\n",
       "    <tr>\n",
       "      <th>1867</th>\n",
       "      <td>1406</td>\n",
       "      <td>7</td>\n",
       "      <td>428.0</td>\n",
       "      <td>59.0</td>\n",
       "      <td>18499.22</td>\n",
       "      <td>NaN</td>\n",
       "    </tr>\n",
       "    <tr>\n",
       "      <th>1089</th>\n",
       "      <td>1237</td>\n",
       "      <td>10</td>\n",
       "      <td>743.0</td>\n",
       "      <td>105.0</td>\n",
       "      <td>11199.21</td>\n",
       "      <td>36.0</td>\n",
       "    </tr>\n",
       "    <tr>\n",
       "      <th>75</th>\n",
       "      <td>1022</td>\n",
       "      <td>5</td>\n",
       "      <td>302.0</td>\n",
       "      <td>39.0</td>\n",
       "      <td>4908.08</td>\n",
       "      <td>NaN</td>\n",
       "    </tr>\n",
       "  </tbody>\n",
       "</table>\n",
       "</div>"
      ],
      "text/plain": [
       "      user_id  month  rounded_duration  calls_quantity   mb_used    id\n",
       "164      1042     10             281.0            41.0   6118.26   NaN\n",
       "1252     1268     12             488.0            62.0  31756.34  23.0\n",
       "1867     1406      7             428.0            59.0  18499.22   NaN\n",
       "1089     1237     10             743.0           105.0  11199.21  36.0\n",
       "75       1022      5             302.0            39.0   4908.08   NaN"
      ]
     },
     "execution_count": 37,
     "metadata": {},
     "output_type": "execute_result"
    }
   ],
   "source": [
    "df_merged.sample(5)"
   ]
  },
  {
   "cell_type": "code",
   "execution_count": 38,
   "metadata": {},
   "outputs": [
    {
     "data": {
      "text/html": [
       "<div>\n",
       "<style scoped>\n",
       "    .dataframe tbody tr th:only-of-type {\n",
       "        vertical-align: middle;\n",
       "    }\n",
       "\n",
       "    .dataframe tbody tr th {\n",
       "        vertical-align: top;\n",
       "    }\n",
       "\n",
       "    .dataframe thead th {\n",
       "        text-align: right;\n",
       "    }\n",
       "</style>\n",
       "<table border=\"1\" class=\"dataframe\">\n",
       "  <thead>\n",
       "    <tr style=\"text-align: right;\">\n",
       "      <th></th>\n",
       "      <th>user_id</th>\n",
       "      <th>month</th>\n",
       "      <th>rounded_duration</th>\n",
       "      <th>calls_quantity</th>\n",
       "      <th>mb_used</th>\n",
       "      <th>id</th>\n",
       "    </tr>\n",
       "  </thead>\n",
       "  <tbody>\n",
       "    <tr>\n",
       "      <th>0</th>\n",
       "      <td>1000</td>\n",
       "      <td>12</td>\n",
       "      <td>124.0</td>\n",
       "      <td>16.0</td>\n",
       "      <td>1901.47</td>\n",
       "      <td>11.0</td>\n",
       "    </tr>\n",
       "    <tr>\n",
       "      <th>1</th>\n",
       "      <td>1001</td>\n",
       "      <td>8</td>\n",
       "      <td>182.0</td>\n",
       "      <td>27.0</td>\n",
       "      <td>6919.15</td>\n",
       "      <td>30.0</td>\n",
       "    </tr>\n",
       "    <tr>\n",
       "      <th>2</th>\n",
       "      <td>1001</td>\n",
       "      <td>9</td>\n",
       "      <td>315.0</td>\n",
       "      <td>49.0</td>\n",
       "      <td>13314.82</td>\n",
       "      <td>44.0</td>\n",
       "    </tr>\n",
       "    <tr>\n",
       "      <th>3</th>\n",
       "      <td>1001</td>\n",
       "      <td>10</td>\n",
       "      <td>393.0</td>\n",
       "      <td>65.0</td>\n",
       "      <td>22330.49</td>\n",
       "      <td>53.0</td>\n",
       "    </tr>\n",
       "    <tr>\n",
       "      <th>4</th>\n",
       "      <td>1001</td>\n",
       "      <td>11</td>\n",
       "      <td>426.0</td>\n",
       "      <td>64.0</td>\n",
       "      <td>18504.30</td>\n",
       "      <td>36.0</td>\n",
       "    </tr>\n",
       "    <tr>\n",
       "      <th>5</th>\n",
       "      <td>1001</td>\n",
       "      <td>12</td>\n",
       "      <td>412.0</td>\n",
       "      <td>56.0</td>\n",
       "      <td>19369.18</td>\n",
       "      <td>44.0</td>\n",
       "    </tr>\n",
       "    <tr>\n",
       "      <th>6</th>\n",
       "      <td>1002</td>\n",
       "      <td>10</td>\n",
       "      <td>59.0</td>\n",
       "      <td>11.0</td>\n",
       "      <td>6552.01</td>\n",
       "      <td>15.0</td>\n",
       "    </tr>\n",
       "    <tr>\n",
       "      <th>7</th>\n",
       "      <td>1002</td>\n",
       "      <td>11</td>\n",
       "      <td>386.0</td>\n",
       "      <td>55.0</td>\n",
       "      <td>19345.08</td>\n",
       "      <td>32.0</td>\n",
       "    </tr>\n",
       "    <tr>\n",
       "      <th>8</th>\n",
       "      <td>1002</td>\n",
       "      <td>12</td>\n",
       "      <td>384.0</td>\n",
       "      <td>47.0</td>\n",
       "      <td>14396.24</td>\n",
       "      <td>41.0</td>\n",
       "    </tr>\n",
       "    <tr>\n",
       "      <th>9</th>\n",
       "      <td>1003</td>\n",
       "      <td>12</td>\n",
       "      <td>1104.0</td>\n",
       "      <td>149.0</td>\n",
       "      <td>27044.14</td>\n",
       "      <td>50.0</td>\n",
       "    </tr>\n",
       "    <tr>\n",
       "      <th>10</th>\n",
       "      <td>1004</td>\n",
       "      <td>5</td>\n",
       "      <td>193.0</td>\n",
       "      <td>21.0</td>\n",
       "      <td>6547.21</td>\n",
       "      <td>7.0</td>\n",
       "    </tr>\n",
       "    <tr>\n",
       "      <th>11</th>\n",
       "      <td>1004</td>\n",
       "      <td>6</td>\n",
       "      <td>275.0</td>\n",
       "      <td>44.0</td>\n",
       "      <td>20672.82</td>\n",
       "      <td>18.0</td>\n",
       "    </tr>\n",
       "    <tr>\n",
       "      <th>12</th>\n",
       "      <td>1004</td>\n",
       "      <td>7</td>\n",
       "      <td>381.0</td>\n",
       "      <td>49.0</td>\n",
       "      <td>24516.62</td>\n",
       "      <td>26.0</td>\n",
       "    </tr>\n",
       "    <tr>\n",
       "      <th>13</th>\n",
       "      <td>1004</td>\n",
       "      <td>8</td>\n",
       "      <td>354.0</td>\n",
       "      <td>49.0</td>\n",
       "      <td>27981.74</td>\n",
       "      <td>25.0</td>\n",
       "    </tr>\n",
       "    <tr>\n",
       "      <th>14</th>\n",
       "      <td>1004</td>\n",
       "      <td>9</td>\n",
       "      <td>301.0</td>\n",
       "      <td>42.0</td>\n",
       "      <td>18852.72</td>\n",
       "      <td>21.0</td>\n",
       "    </tr>\n",
       "    <tr>\n",
       "      <th>15</th>\n",
       "      <td>1004</td>\n",
       "      <td>10</td>\n",
       "      <td>365.0</td>\n",
       "      <td>61.0</td>\n",
       "      <td>14541.63</td>\n",
       "      <td>24.0</td>\n",
       "    </tr>\n",
       "    <tr>\n",
       "      <th>16</th>\n",
       "      <td>1004</td>\n",
       "      <td>11</td>\n",
       "      <td>476.0</td>\n",
       "      <td>54.0</td>\n",
       "      <td>21850.78</td>\n",
       "      <td>25.0</td>\n",
       "    </tr>\n",
       "    <tr>\n",
       "      <th>17</th>\n",
       "      <td>1004</td>\n",
       "      <td>12</td>\n",
       "      <td>427.0</td>\n",
       "      <td>50.0</td>\n",
       "      <td>21389.29</td>\n",
       "      <td>31.0</td>\n",
       "    </tr>\n",
       "    <tr>\n",
       "      <th>18</th>\n",
       "      <td>1005</td>\n",
       "      <td>12</td>\n",
       "      <td>496.0</td>\n",
       "      <td>59.0</td>\n",
       "      <td>17140.17</td>\n",
       "      <td>11.0</td>\n",
       "    </tr>\n",
       "    <tr>\n",
       "      <th>19</th>\n",
       "      <td>1006</td>\n",
       "      <td>11</td>\n",
       "      <td>10.0</td>\n",
       "      <td>2.0</td>\n",
       "      <td>2068.37</td>\n",
       "      <td>15.0</td>\n",
       "    </tr>\n",
       "  </tbody>\n",
       "</table>\n",
       "</div>"
      ],
      "text/plain": [
       "    user_id  month  rounded_duration  calls_quantity   mb_used    id\n",
       "0      1000     12             124.0            16.0   1901.47  11.0\n",
       "1      1001      8             182.0            27.0   6919.15  30.0\n",
       "2      1001      9             315.0            49.0  13314.82  44.0\n",
       "3      1001     10             393.0            65.0  22330.49  53.0\n",
       "4      1001     11             426.0            64.0  18504.30  36.0\n",
       "5      1001     12             412.0            56.0  19369.18  44.0\n",
       "6      1002     10              59.0            11.0   6552.01  15.0\n",
       "7      1002     11             386.0            55.0  19345.08  32.0\n",
       "8      1002     12             384.0            47.0  14396.24  41.0\n",
       "9      1003     12            1104.0           149.0  27044.14  50.0\n",
       "10     1004      5             193.0            21.0   6547.21   7.0\n",
       "11     1004      6             275.0            44.0  20672.82  18.0\n",
       "12     1004      7             381.0            49.0  24516.62  26.0\n",
       "13     1004      8             354.0            49.0  27981.74  25.0\n",
       "14     1004      9             301.0            42.0  18852.72  21.0\n",
       "15     1004     10             365.0            61.0  14541.63  24.0\n",
       "16     1004     11             476.0            54.0  21850.78  25.0\n",
       "17     1004     12             427.0            50.0  21389.29  31.0\n",
       "18     1005     12             496.0            59.0  17140.17  11.0\n",
       "19     1006     11              10.0             2.0   2068.37  15.0"
      ]
     },
     "execution_count": 38,
     "metadata": {},
     "output_type": "execute_result"
    }
   ],
   "source": [
    "df_merged.head(20)"
   ]
  },
  {
   "cell_type": "markdown",
   "metadata": {},
   "source": [
    "Now when we merged all the information together, we should round up the internet usage to GB, because megaline rounds it up at the end of the month when charging"
   ]
  },
  {
   "cell_type": "code",
   "execution_count": 39,
   "metadata": {},
   "outputs": [],
   "source": [
    "df_merged['mb_used'] = np.ceil(df_merged['mb_used']/1024)"
   ]
  },
  {
   "cell_type": "code",
   "execution_count": 40,
   "metadata": {},
   "outputs": [
    {
     "data": {
      "text/html": [
       "<div>\n",
       "<style scoped>\n",
       "    .dataframe tbody tr th:only-of-type {\n",
       "        vertical-align: middle;\n",
       "    }\n",
       "\n",
       "    .dataframe tbody tr th {\n",
       "        vertical-align: top;\n",
       "    }\n",
       "\n",
       "    .dataframe thead th {\n",
       "        text-align: right;\n",
       "    }\n",
       "</style>\n",
       "<table border=\"1\" class=\"dataframe\">\n",
       "  <thead>\n",
       "    <tr style=\"text-align: right;\">\n",
       "      <th></th>\n",
       "      <th>user_id</th>\n",
       "      <th>month</th>\n",
       "      <th>rounded_duration</th>\n",
       "      <th>calls_quantity</th>\n",
       "      <th>mb_used</th>\n",
       "      <th>id</th>\n",
       "    </tr>\n",
       "  </thead>\n",
       "  <tbody>\n",
       "    <tr>\n",
       "      <th>0</th>\n",
       "      <td>1000</td>\n",
       "      <td>12</td>\n",
       "      <td>124.0</td>\n",
       "      <td>16.0</td>\n",
       "      <td>2.0</td>\n",
       "      <td>11.0</td>\n",
       "    </tr>\n",
       "    <tr>\n",
       "      <th>1</th>\n",
       "      <td>1001</td>\n",
       "      <td>8</td>\n",
       "      <td>182.0</td>\n",
       "      <td>27.0</td>\n",
       "      <td>7.0</td>\n",
       "      <td>30.0</td>\n",
       "    </tr>\n",
       "    <tr>\n",
       "      <th>2</th>\n",
       "      <td>1001</td>\n",
       "      <td>9</td>\n",
       "      <td>315.0</td>\n",
       "      <td>49.0</td>\n",
       "      <td>14.0</td>\n",
       "      <td>44.0</td>\n",
       "    </tr>\n",
       "    <tr>\n",
       "      <th>3</th>\n",
       "      <td>1001</td>\n",
       "      <td>10</td>\n",
       "      <td>393.0</td>\n",
       "      <td>65.0</td>\n",
       "      <td>22.0</td>\n",
       "      <td>53.0</td>\n",
       "    </tr>\n",
       "    <tr>\n",
       "      <th>4</th>\n",
       "      <td>1001</td>\n",
       "      <td>11</td>\n",
       "      <td>426.0</td>\n",
       "      <td>64.0</td>\n",
       "      <td>19.0</td>\n",
       "      <td>36.0</td>\n",
       "    </tr>\n",
       "  </tbody>\n",
       "</table>\n",
       "</div>"
      ],
      "text/plain": [
       "   user_id  month  rounded_duration  calls_quantity  mb_used    id\n",
       "0     1000     12             124.0            16.0      2.0  11.0\n",
       "1     1001      8             182.0            27.0      7.0  30.0\n",
       "2     1001      9             315.0            49.0     14.0  44.0\n",
       "3     1001     10             393.0            65.0     22.0  53.0\n",
       "4     1001     11             426.0            64.0     19.0  36.0"
      ]
     },
     "execution_count": 40,
     "metadata": {},
     "output_type": "execute_result"
    }
   ],
   "source": [
    "df_merged.head()"
   ]
  },
  {
   "cell_type": "code",
   "execution_count": 41,
   "metadata": {},
   "outputs": [],
   "source": [
    "df_merged.columns = ['user_id', 'month', 'calls', 'calls_quantity', 'gb_internet', 'message']"
   ]
  },
  {
   "cell_type": "markdown",
   "metadata": {},
   "source": [
    "I also filled all the missing values with \"0\", because it is possible that one user can use only messages, calls or internet, not necessary to use all of them. And I've added the column plan for my future analysis."
   ]
  },
  {
   "cell_type": "code",
   "execution_count": 42,
   "metadata": {},
   "outputs": [],
   "source": [
    "totall = (pd.merge(df_merged, megaline_users[['user_id','plan']], how = 'left', on=['user_id'])).fillna(0)"
   ]
  },
  {
   "cell_type": "code",
   "execution_count": 43,
   "metadata": {},
   "outputs": [
    {
     "data": {
      "text/html": [
       "<div>\n",
       "<style scoped>\n",
       "    .dataframe tbody tr th:only-of-type {\n",
       "        vertical-align: middle;\n",
       "    }\n",
       "\n",
       "    .dataframe tbody tr th {\n",
       "        vertical-align: top;\n",
       "    }\n",
       "\n",
       "    .dataframe thead th {\n",
       "        text-align: right;\n",
       "    }\n",
       "</style>\n",
       "<table border=\"1\" class=\"dataframe\">\n",
       "  <thead>\n",
       "    <tr style=\"text-align: right;\">\n",
       "      <th></th>\n",
       "      <th>user_id</th>\n",
       "      <th>month</th>\n",
       "      <th>calls</th>\n",
       "      <th>calls_quantity</th>\n",
       "      <th>gb_internet</th>\n",
       "      <th>message</th>\n",
       "      <th>plan</th>\n",
       "    </tr>\n",
       "  </thead>\n",
       "  <tbody>\n",
       "    <tr>\n",
       "      <th>0</th>\n",
       "      <td>1000</td>\n",
       "      <td>12</td>\n",
       "      <td>124.0</td>\n",
       "      <td>16.0</td>\n",
       "      <td>2.0</td>\n",
       "      <td>11.0</td>\n",
       "      <td>ultimate</td>\n",
       "    </tr>\n",
       "    <tr>\n",
       "      <th>1</th>\n",
       "      <td>1001</td>\n",
       "      <td>8</td>\n",
       "      <td>182.0</td>\n",
       "      <td>27.0</td>\n",
       "      <td>7.0</td>\n",
       "      <td>30.0</td>\n",
       "      <td>surf</td>\n",
       "    </tr>\n",
       "    <tr>\n",
       "      <th>2</th>\n",
       "      <td>1001</td>\n",
       "      <td>9</td>\n",
       "      <td>315.0</td>\n",
       "      <td>49.0</td>\n",
       "      <td>14.0</td>\n",
       "      <td>44.0</td>\n",
       "      <td>surf</td>\n",
       "    </tr>\n",
       "    <tr>\n",
       "      <th>3</th>\n",
       "      <td>1001</td>\n",
       "      <td>10</td>\n",
       "      <td>393.0</td>\n",
       "      <td>65.0</td>\n",
       "      <td>22.0</td>\n",
       "      <td>53.0</td>\n",
       "      <td>surf</td>\n",
       "    </tr>\n",
       "    <tr>\n",
       "      <th>4</th>\n",
       "      <td>1001</td>\n",
       "      <td>11</td>\n",
       "      <td>426.0</td>\n",
       "      <td>64.0</td>\n",
       "      <td>19.0</td>\n",
       "      <td>36.0</td>\n",
       "      <td>surf</td>\n",
       "    </tr>\n",
       "  </tbody>\n",
       "</table>\n",
       "</div>"
      ],
      "text/plain": [
       "   user_id  month  calls  calls_quantity  gb_internet  message      plan\n",
       "0     1000     12  124.0            16.0          2.0     11.0  ultimate\n",
       "1     1001      8  182.0            27.0          7.0     30.0      surf\n",
       "2     1001      9  315.0            49.0         14.0     44.0      surf\n",
       "3     1001     10  393.0            65.0         22.0     53.0      surf\n",
       "4     1001     11  426.0            64.0         19.0     36.0      surf"
      ]
     },
     "execution_count": 43,
     "metadata": {},
     "output_type": "execute_result"
    }
   ],
   "source": [
    "totall.head()"
   ]
  },
  {
   "cell_type": "code",
   "execution_count": 44,
   "metadata": {},
   "outputs": [
    {
     "data": {
      "text/plain": [
       "2293"
      ]
     },
     "execution_count": 44,
     "metadata": {},
     "output_type": "execute_result"
    }
   ],
   "source": [
    "len(totall)"
   ]
  },
  {
   "cell_type": "code",
   "execution_count": 45,
   "metadata": {},
   "outputs": [
    {
     "data": {
      "text/plain": [
       "plan\n",
       "surf        333\n",
       "ultimate    157\n",
       "Name: user_id, dtype: int64"
      ]
     },
     "execution_count": 45,
     "metadata": {},
     "output_type": "execute_result"
    }
   ],
   "source": [
    "totall.groupby(['plan'])['user_id'].nunique()"
   ]
  },
  {
   "cell_type": "markdown",
   "metadata": {},
   "source": [
    "There is more users, that use surf plan than the ultimate plan in our data. The distribution is not equal."
   ]
  },
  {
   "cell_type": "markdown",
   "metadata": {},
   "source": [
    "Now it is time to count the revenue that we have for each plan, using our combined data."
   ]
  },
  {
   "cell_type": "code",
   "execution_count": 46,
   "metadata": {},
   "outputs": [],
   "source": [
    "def cost(row):\n",
    "    calls=row['calls']\n",
    "    internet=row['gb_internet']\n",
    "    message=row['message']\n",
    "    plan=row['plan']\n",
    "    \n",
    "    if plan == 'surf':\n",
    "        if calls > 500:\n",
    "            calls_cost = (calls - 500)*0.03\n",
    "        else:\n",
    "            calls_cost = 0\n",
    "        if internet > 15:\n",
    "            internet_cost = (internet - 15)*10\n",
    "        else:\n",
    "            internet_cost = 0\n",
    "        if message > 50:\n",
    "            message_cost = (message - 50)*0.03\n",
    "        else:\n",
    "            message_cost = 0 \n",
    "        plan_cost = 20    \n",
    "    if plan == 'ultimate':\n",
    "        if calls > 3000:\n",
    "            calls_cost = (calls - 3000)*0.01\n",
    "        else:\n",
    "            calls_cost = 0\n",
    "        if internet > 30:\n",
    "            internet_cost = (internet - 30)*7\n",
    "        else:\n",
    "            internet_cost = 0\n",
    "        if message > 1000:\n",
    "            message_cost = (message - 1000)*0.01\n",
    "        else:\n",
    "            message_cost = 0 \n",
    "        plan_cost = 70\n",
    "    return calls_cost + internet_cost + message_cost + plan_cost            "
   ]
  },
  {
   "cell_type": "code",
   "execution_count": 47,
   "metadata": {},
   "outputs": [],
   "source": [
    "plans = megaline_plans.set_index('plan_name')\n",
    "\n",
    "\n",
    "def func(df):\n",
    "    \n",
    "    revenue = plans.loc[df.plan]['usd_monthly_pay']\n",
    "    \n",
    "    revenue += (max(0, (df['calls'] - plans.loc[df.plan]['minutes_included']) * plans.loc[df.plan]['usd_per_minute'])\n",
    "    + max(0, (df['message'] - plans.loc[df.plan]['messages_included']) * plans.loc[df.plan]['usd_per_message'])\n",
    "    + max(0, (df['gb_internet'] - plans.loc[df.plan]['mb_per_month_included']/1024) * plans.loc[df.plan]['usd_per_gb']))\n",
    "    \n",
    "    return revenue"
   ]
  },
  {
   "cell_type": "code",
   "execution_count": 48,
   "metadata": {},
   "outputs": [],
   "source": [
    "totall['total_cost']=totall.apply(cost, axis = 1)"
   ]
  },
  {
   "cell_type": "code",
   "execution_count": 49,
   "metadata": {},
   "outputs": [
    {
     "data": {
      "text/html": [
       "<div>\n",
       "<style scoped>\n",
       "    .dataframe tbody tr th:only-of-type {\n",
       "        vertical-align: middle;\n",
       "    }\n",
       "\n",
       "    .dataframe tbody tr th {\n",
       "        vertical-align: top;\n",
       "    }\n",
       "\n",
       "    .dataframe thead th {\n",
       "        text-align: right;\n",
       "    }\n",
       "</style>\n",
       "<table border=\"1\" class=\"dataframe\">\n",
       "  <thead>\n",
       "    <tr style=\"text-align: right;\">\n",
       "      <th></th>\n",
       "      <th>user_id</th>\n",
       "      <th>month</th>\n",
       "      <th>calls</th>\n",
       "      <th>calls_quantity</th>\n",
       "      <th>gb_internet</th>\n",
       "      <th>message</th>\n",
       "      <th>plan</th>\n",
       "      <th>total_cost</th>\n",
       "    </tr>\n",
       "  </thead>\n",
       "  <tbody>\n",
       "    <tr>\n",
       "      <th>0</th>\n",
       "      <td>1000</td>\n",
       "      <td>12</td>\n",
       "      <td>124.0</td>\n",
       "      <td>16.0</td>\n",
       "      <td>2.0</td>\n",
       "      <td>11.0</td>\n",
       "      <td>ultimate</td>\n",
       "      <td>70.00</td>\n",
       "    </tr>\n",
       "    <tr>\n",
       "      <th>1</th>\n",
       "      <td>1001</td>\n",
       "      <td>8</td>\n",
       "      <td>182.0</td>\n",
       "      <td>27.0</td>\n",
       "      <td>7.0</td>\n",
       "      <td>30.0</td>\n",
       "      <td>surf</td>\n",
       "      <td>20.00</td>\n",
       "    </tr>\n",
       "    <tr>\n",
       "      <th>2</th>\n",
       "      <td>1001</td>\n",
       "      <td>9</td>\n",
       "      <td>315.0</td>\n",
       "      <td>49.0</td>\n",
       "      <td>14.0</td>\n",
       "      <td>44.0</td>\n",
       "      <td>surf</td>\n",
       "      <td>20.00</td>\n",
       "    </tr>\n",
       "    <tr>\n",
       "      <th>3</th>\n",
       "      <td>1001</td>\n",
       "      <td>10</td>\n",
       "      <td>393.0</td>\n",
       "      <td>65.0</td>\n",
       "      <td>22.0</td>\n",
       "      <td>53.0</td>\n",
       "      <td>surf</td>\n",
       "      <td>90.09</td>\n",
       "    </tr>\n",
       "    <tr>\n",
       "      <th>4</th>\n",
       "      <td>1001</td>\n",
       "      <td>11</td>\n",
       "      <td>426.0</td>\n",
       "      <td>64.0</td>\n",
       "      <td>19.0</td>\n",
       "      <td>36.0</td>\n",
       "      <td>surf</td>\n",
       "      <td>60.00</td>\n",
       "    </tr>\n",
       "    <tr>\n",
       "      <th>5</th>\n",
       "      <td>1001</td>\n",
       "      <td>12</td>\n",
       "      <td>412.0</td>\n",
       "      <td>56.0</td>\n",
       "      <td>19.0</td>\n",
       "      <td>44.0</td>\n",
       "      <td>surf</td>\n",
       "      <td>60.00</td>\n",
       "    </tr>\n",
       "    <tr>\n",
       "      <th>6</th>\n",
       "      <td>1002</td>\n",
       "      <td>10</td>\n",
       "      <td>59.0</td>\n",
       "      <td>11.0</td>\n",
       "      <td>7.0</td>\n",
       "      <td>15.0</td>\n",
       "      <td>surf</td>\n",
       "      <td>20.00</td>\n",
       "    </tr>\n",
       "    <tr>\n",
       "      <th>7</th>\n",
       "      <td>1002</td>\n",
       "      <td>11</td>\n",
       "      <td>386.0</td>\n",
       "      <td>55.0</td>\n",
       "      <td>19.0</td>\n",
       "      <td>32.0</td>\n",
       "      <td>surf</td>\n",
       "      <td>60.00</td>\n",
       "    </tr>\n",
       "    <tr>\n",
       "      <th>8</th>\n",
       "      <td>1002</td>\n",
       "      <td>12</td>\n",
       "      <td>384.0</td>\n",
       "      <td>47.0</td>\n",
       "      <td>15.0</td>\n",
       "      <td>41.0</td>\n",
       "      <td>surf</td>\n",
       "      <td>20.00</td>\n",
       "    </tr>\n",
       "    <tr>\n",
       "      <th>9</th>\n",
       "      <td>1003</td>\n",
       "      <td>12</td>\n",
       "      <td>1104.0</td>\n",
       "      <td>149.0</td>\n",
       "      <td>27.0</td>\n",
       "      <td>50.0</td>\n",
       "      <td>surf</td>\n",
       "      <td>158.12</td>\n",
       "    </tr>\n",
       "  </tbody>\n",
       "</table>\n",
       "</div>"
      ],
      "text/plain": [
       "   user_id  month   calls  calls_quantity  gb_internet  message      plan  \\\n",
       "0     1000     12   124.0            16.0          2.0     11.0  ultimate   \n",
       "1     1001      8   182.0            27.0          7.0     30.0      surf   \n",
       "2     1001      9   315.0            49.0         14.0     44.0      surf   \n",
       "3     1001     10   393.0            65.0         22.0     53.0      surf   \n",
       "4     1001     11   426.0            64.0         19.0     36.0      surf   \n",
       "5     1001     12   412.0            56.0         19.0     44.0      surf   \n",
       "6     1002     10    59.0            11.0          7.0     15.0      surf   \n",
       "7     1002     11   386.0            55.0         19.0     32.0      surf   \n",
       "8     1002     12   384.0            47.0         15.0     41.0      surf   \n",
       "9     1003     12  1104.0           149.0         27.0     50.0      surf   \n",
       "\n",
       "   total_cost  \n",
       "0       70.00  \n",
       "1       20.00  \n",
       "2       20.00  \n",
       "3       90.09  \n",
       "4       60.00  \n",
       "5       60.00  \n",
       "6       20.00  \n",
       "7       60.00  \n",
       "8       20.00  \n",
       "9      158.12  "
      ]
     },
     "execution_count": 49,
     "metadata": {},
     "output_type": "execute_result"
    }
   ],
   "source": [
    "totall.head(10)"
   ]
  },
  {
   "cell_type": "markdown",
   "metadata": {},
   "source": [
    "Now there is all the information about total cost for every user, including calls, internet and messages"
   ]
  },
  {
   "cell_type": "code",
   "execution_count": 50,
   "metadata": {},
   "outputs": [
    {
     "data": {
      "text/html": [
       "<div>\n",
       "<style scoped>\n",
       "    .dataframe tbody tr th:only-of-type {\n",
       "        vertical-align: middle;\n",
       "    }\n",
       "\n",
       "    .dataframe tbody tr th {\n",
       "        vertical-align: top;\n",
       "    }\n",
       "\n",
       "    .dataframe thead th {\n",
       "        text-align: right;\n",
       "    }\n",
       "</style>\n",
       "<table border=\"1\" class=\"dataframe\">\n",
       "  <thead>\n",
       "    <tr style=\"text-align: right;\">\n",
       "      <th></th>\n",
       "      <th>user_id</th>\n",
       "      <th>month</th>\n",
       "      <th>calls</th>\n",
       "      <th>calls_quantity</th>\n",
       "      <th>gb_internet</th>\n",
       "      <th>message</th>\n",
       "      <th>total_cost</th>\n",
       "    </tr>\n",
       "  </thead>\n",
       "  <tbody>\n",
       "    <tr>\n",
       "      <th>count</th>\n",
       "      <td>2293.000000</td>\n",
       "      <td>2293.000000</td>\n",
       "      <td>2293.000000</td>\n",
       "      <td>2293.000000</td>\n",
       "      <td>2293.000000</td>\n",
       "      <td>2293.000000</td>\n",
       "      <td>2293.000000</td>\n",
       "    </tr>\n",
       "    <tr>\n",
       "      <th>mean</th>\n",
       "      <td>1246.075883</td>\n",
       "      <td>9.172700</td>\n",
       "      <td>429.283471</td>\n",
       "      <td>60.067597</td>\n",
       "      <td>16.870475</td>\n",
       "      <td>33.166594</td>\n",
       "      <td>64.351147</td>\n",
       "    </tr>\n",
       "    <tr>\n",
       "      <th>std</th>\n",
       "      <td>143.051927</td>\n",
       "      <td>2.496386</td>\n",
       "      <td>236.320077</td>\n",
       "      <td>32.402563</td>\n",
       "      <td>7.796174</td>\n",
       "      <td>34.070085</td>\n",
       "      <td>46.624945</td>\n",
       "    </tr>\n",
       "    <tr>\n",
       "      <th>min</th>\n",
       "      <td>1000.000000</td>\n",
       "      <td>1.000000</td>\n",
       "      <td>0.000000</td>\n",
       "      <td>0.000000</td>\n",
       "      <td>0.000000</td>\n",
       "      <td>0.000000</td>\n",
       "      <td>20.000000</td>\n",
       "    </tr>\n",
       "    <tr>\n",
       "      <th>25%</th>\n",
       "      <td>1122.000000</td>\n",
       "      <td>8.000000</td>\n",
       "      <td>265.000000</td>\n",
       "      <td>38.000000</td>\n",
       "      <td>12.000000</td>\n",
       "      <td>3.000000</td>\n",
       "      <td>23.480000</td>\n",
       "    </tr>\n",
       "    <tr>\n",
       "      <th>50%</th>\n",
       "      <td>1245.000000</td>\n",
       "      <td>10.000000</td>\n",
       "      <td>425.000000</td>\n",
       "      <td>60.000000</td>\n",
       "      <td>17.000000</td>\n",
       "      <td>26.000000</td>\n",
       "      <td>70.000000</td>\n",
       "    </tr>\n",
       "    <tr>\n",
       "      <th>75%</th>\n",
       "      <td>1368.000000</td>\n",
       "      <td>11.000000</td>\n",
       "      <td>572.000000</td>\n",
       "      <td>79.000000</td>\n",
       "      <td>21.000000</td>\n",
       "      <td>51.000000</td>\n",
       "      <td>70.000000</td>\n",
       "    </tr>\n",
       "    <tr>\n",
       "      <th>max</th>\n",
       "      <td>1499.000000</td>\n",
       "      <td>12.000000</td>\n",
       "      <td>1510.000000</td>\n",
       "      <td>205.000000</td>\n",
       "      <td>70.000000</td>\n",
       "      <td>266.000000</td>\n",
       "      <td>590.370000</td>\n",
       "    </tr>\n",
       "  </tbody>\n",
       "</table>\n",
       "</div>"
      ],
      "text/plain": [
       "           user_id        month        calls  calls_quantity  gb_internet  \\\n",
       "count  2293.000000  2293.000000  2293.000000     2293.000000  2293.000000   \n",
       "mean   1246.075883     9.172700   429.283471       60.067597    16.870475   \n",
       "std     143.051927     2.496386   236.320077       32.402563     7.796174   \n",
       "min    1000.000000     1.000000     0.000000        0.000000     0.000000   \n",
       "25%    1122.000000     8.000000   265.000000       38.000000    12.000000   \n",
       "50%    1245.000000    10.000000   425.000000       60.000000    17.000000   \n",
       "75%    1368.000000    11.000000   572.000000       79.000000    21.000000   \n",
       "max    1499.000000    12.000000  1510.000000      205.000000    70.000000   \n",
       "\n",
       "           message   total_cost  \n",
       "count  2293.000000  2293.000000  \n",
       "mean     33.166594    64.351147  \n",
       "std      34.070085    46.624945  \n",
       "min       0.000000    20.000000  \n",
       "25%       3.000000    23.480000  \n",
       "50%      26.000000    70.000000  \n",
       "75%      51.000000    70.000000  \n",
       "max     266.000000   590.370000  "
      ]
     },
     "execution_count": 50,
     "metadata": {},
     "output_type": "execute_result"
    }
   ],
   "source": [
    "totall.describe()"
   ]
  },
  {
   "cell_type": "code",
   "execution_count": 51,
   "metadata": {},
   "outputs": [],
   "source": [
    "final_total = totall.pivot_table(totall, index=['plan','user_id','month']).reset_index(drop=False)"
   ]
  },
  {
   "cell_type": "code",
   "execution_count": 52,
   "metadata": {},
   "outputs": [
    {
     "data": {
      "text/html": [
       "<div>\n",
       "<style scoped>\n",
       "    .dataframe tbody tr th:only-of-type {\n",
       "        vertical-align: middle;\n",
       "    }\n",
       "\n",
       "    .dataframe tbody tr th {\n",
       "        vertical-align: top;\n",
       "    }\n",
       "\n",
       "    .dataframe thead th {\n",
       "        text-align: right;\n",
       "    }\n",
       "</style>\n",
       "<table border=\"1\" class=\"dataframe\">\n",
       "  <thead>\n",
       "    <tr style=\"text-align: right;\">\n",
       "      <th></th>\n",
       "      <th>plan</th>\n",
       "      <th>user_id</th>\n",
       "      <th>month</th>\n",
       "      <th>calls</th>\n",
       "      <th>calls_quantity</th>\n",
       "      <th>gb_internet</th>\n",
       "      <th>message</th>\n",
       "      <th>total_cost</th>\n",
       "    </tr>\n",
       "  </thead>\n",
       "  <tbody>\n",
       "    <tr>\n",
       "      <th>1169</th>\n",
       "      <td>surf</td>\n",
       "      <td>1357</td>\n",
       "      <td>6</td>\n",
       "      <td>545.0</td>\n",
       "      <td>80.0</td>\n",
       "      <td>8.0</td>\n",
       "      <td>35.0</td>\n",
       "      <td>21.35</td>\n",
       "    </tr>\n",
       "    <tr>\n",
       "      <th>1242</th>\n",
       "      <td>surf</td>\n",
       "      <td>1371</td>\n",
       "      <td>12</td>\n",
       "      <td>439.0</td>\n",
       "      <td>61.0</td>\n",
       "      <td>23.0</td>\n",
       "      <td>30.0</td>\n",
       "      <td>100.00</td>\n",
       "    </tr>\n",
       "    <tr>\n",
       "      <th>1860</th>\n",
       "      <td>ultimate</td>\n",
       "      <td>1196</td>\n",
       "      <td>4</td>\n",
       "      <td>493.0</td>\n",
       "      <td>73.0</td>\n",
       "      <td>24.0</td>\n",
       "      <td>30.0</td>\n",
       "      <td>70.00</td>\n",
       "    </tr>\n",
       "    <tr>\n",
       "      <th>1773</th>\n",
       "      <td>ultimate</td>\n",
       "      <td>1133</td>\n",
       "      <td>9</td>\n",
       "      <td>313.0</td>\n",
       "      <td>39.0</td>\n",
       "      <td>17.0</td>\n",
       "      <td>90.0</td>\n",
       "      <td>70.00</td>\n",
       "    </tr>\n",
       "    <tr>\n",
       "      <th>1948</th>\n",
       "      <td>ultimate</td>\n",
       "      <td>1249</td>\n",
       "      <td>6</td>\n",
       "      <td>510.0</td>\n",
       "      <td>81.0</td>\n",
       "      <td>17.0</td>\n",
       "      <td>32.0</td>\n",
       "      <td>70.00</td>\n",
       "    </tr>\n",
       "  </tbody>\n",
       "</table>\n",
       "</div>"
      ],
      "text/plain": [
       "          plan  user_id  month  calls  calls_quantity  gb_internet  message  \\\n",
       "1169      surf     1357      6  545.0            80.0          8.0     35.0   \n",
       "1242      surf     1371     12  439.0            61.0         23.0     30.0   \n",
       "1860  ultimate     1196      4  493.0            73.0         24.0     30.0   \n",
       "1773  ultimate     1133      9  313.0            39.0         17.0     90.0   \n",
       "1948  ultimate     1249      6  510.0            81.0         17.0     32.0   \n",
       "\n",
       "      total_cost  \n",
       "1169       21.35  \n",
       "1242      100.00  \n",
       "1860       70.00  \n",
       "1773       70.00  \n",
       "1948       70.00  "
      ]
     },
     "execution_count": 52,
     "metadata": {},
     "output_type": "execute_result"
    }
   ],
   "source": [
    "final_total.sample(5)"
   ]
  },
  {
   "cell_type": "code",
   "execution_count": 53,
   "metadata": {},
   "outputs": [
    {
     "data": {
      "text/html": [
       "<div>\n",
       "<style scoped>\n",
       "    .dataframe tbody tr th:only-of-type {\n",
       "        vertical-align: middle;\n",
       "    }\n",
       "\n",
       "    .dataframe tbody tr th {\n",
       "        vertical-align: top;\n",
       "    }\n",
       "\n",
       "    .dataframe thead th {\n",
       "        text-align: right;\n",
       "    }\n",
       "</style>\n",
       "<table border=\"1\" class=\"dataframe\">\n",
       "  <thead>\n",
       "    <tr style=\"text-align: right;\">\n",
       "      <th></th>\n",
       "      <th>count</th>\n",
       "      <th>mean</th>\n",
       "      <th>std</th>\n",
       "      <th>min</th>\n",
       "      <th>25%</th>\n",
       "      <th>50%</th>\n",
       "      <th>75%</th>\n",
       "      <th>max</th>\n",
       "    </tr>\n",
       "  </thead>\n",
       "  <tbody>\n",
       "    <tr>\n",
       "      <th>user_id</th>\n",
       "      <td>2293</td>\n",
       "      <td>1246</td>\n",
       "      <td>143</td>\n",
       "      <td>1000</td>\n",
       "      <td>1122</td>\n",
       "      <td>1245</td>\n",
       "      <td>1368</td>\n",
       "      <td>1499</td>\n",
       "    </tr>\n",
       "    <tr>\n",
       "      <th>month</th>\n",
       "      <td>2293</td>\n",
       "      <td>9</td>\n",
       "      <td>2</td>\n",
       "      <td>1</td>\n",
       "      <td>8</td>\n",
       "      <td>10</td>\n",
       "      <td>11</td>\n",
       "      <td>12</td>\n",
       "    </tr>\n",
       "    <tr>\n",
       "      <th>calls</th>\n",
       "      <td>2293</td>\n",
       "      <td>429</td>\n",
       "      <td>236</td>\n",
       "      <td>0</td>\n",
       "      <td>265</td>\n",
       "      <td>425</td>\n",
       "      <td>572</td>\n",
       "      <td>1510</td>\n",
       "    </tr>\n",
       "    <tr>\n",
       "      <th>calls_quantity</th>\n",
       "      <td>2293</td>\n",
       "      <td>60</td>\n",
       "      <td>32</td>\n",
       "      <td>0</td>\n",
       "      <td>38</td>\n",
       "      <td>60</td>\n",
       "      <td>79</td>\n",
       "      <td>205</td>\n",
       "    </tr>\n",
       "    <tr>\n",
       "      <th>gb_internet</th>\n",
       "      <td>2293</td>\n",
       "      <td>16</td>\n",
       "      <td>7</td>\n",
       "      <td>0</td>\n",
       "      <td>12</td>\n",
       "      <td>17</td>\n",
       "      <td>21</td>\n",
       "      <td>70</td>\n",
       "    </tr>\n",
       "    <tr>\n",
       "      <th>message</th>\n",
       "      <td>2293</td>\n",
       "      <td>33</td>\n",
       "      <td>34</td>\n",
       "      <td>0</td>\n",
       "      <td>3</td>\n",
       "      <td>26</td>\n",
       "      <td>51</td>\n",
       "      <td>266</td>\n",
       "    </tr>\n",
       "    <tr>\n",
       "      <th>total_cost</th>\n",
       "      <td>2293</td>\n",
       "      <td>64</td>\n",
       "      <td>46</td>\n",
       "      <td>20</td>\n",
       "      <td>23</td>\n",
       "      <td>70</td>\n",
       "      <td>70</td>\n",
       "      <td>590</td>\n",
       "    </tr>\n",
       "  </tbody>\n",
       "</table>\n",
       "</div>"
      ],
      "text/plain": [
       "                count  mean  std   min   25%   50%   75%   max\n",
       "user_id          2293  1246  143  1000  1122  1245  1368  1499\n",
       "month            2293     9    2     1     8    10    11    12\n",
       "calls            2293   429  236     0   265   425   572  1510\n",
       "calls_quantity   2293    60   32     0    38    60    79   205\n",
       "gb_internet      2293    16    7     0    12    17    21    70\n",
       "message          2293    33   34     0     3    26    51   266\n",
       "total_cost       2293    64   46    20    23    70    70   590"
      ]
     },
     "execution_count": 53,
     "metadata": {},
     "output_type": "execute_result"
    }
   ],
   "source": [
    "final_total.describe().T.astype(int)"
   ]
  },
  {
   "cell_type": "markdown",
   "metadata": {},
   "source": [
    "#### So we are moving to step 3. It is time to check what are the mean and the median of calls, messages and interten usage grouping by plan"
   ]
  },
  {
   "cell_type": "code",
   "execution_count": 54,
   "metadata": {},
   "outputs": [
    {
     "data": {
      "text/html": [
       "<div>\n",
       "<style scoped>\n",
       "    .dataframe tbody tr th:only-of-type {\n",
       "        vertical-align: middle;\n",
       "    }\n",
       "\n",
       "    .dataframe tbody tr th {\n",
       "        vertical-align: top;\n",
       "    }\n",
       "\n",
       "    .dataframe thead th {\n",
       "        text-align: right;\n",
       "    }\n",
       "</style>\n",
       "<table border=\"1\" class=\"dataframe\">\n",
       "  <thead>\n",
       "    <tr style=\"text-align: right;\">\n",
       "      <th></th>\n",
       "      <th>plan</th>\n",
       "      <th>mean</th>\n",
       "      <th>median</th>\n",
       "      <th>std</th>\n",
       "      <th>var</th>\n",
       "    </tr>\n",
       "  </thead>\n",
       "  <tbody>\n",
       "    <tr>\n",
       "      <th>0</th>\n",
       "      <td>surf</td>\n",
       "      <td>428.749523</td>\n",
       "      <td>425.0</td>\n",
       "      <td>234.453150</td>\n",
       "      <td>54968.279461</td>\n",
       "    </tr>\n",
       "    <tr>\n",
       "      <th>1</th>\n",
       "      <td>ultimate</td>\n",
       "      <td>430.450000</td>\n",
       "      <td>424.0</td>\n",
       "      <td>240.508762</td>\n",
       "      <td>57844.464812</td>\n",
       "    </tr>\n",
       "  </tbody>\n",
       "</table>\n",
       "</div>"
      ],
      "text/plain": [
       "       plan        mean  median         std           var\n",
       "0      surf  428.749523   425.0  234.453150  54968.279461\n",
       "1  ultimate  430.450000   424.0  240.508762  57844.464812"
      ]
     },
     "execution_count": 54,
     "metadata": {},
     "output_type": "execute_result"
    }
   ],
   "source": [
    "final_total.groupby(['plan'])['calls'].agg(['mean', 'median', 'std', 'var']).reset_index()"
   ]
  },
  {
   "cell_type": "markdown",
   "metadata": {},
   "source": [
    "We notice that as for calls the mean and the median are very close to each other in different plans. The histogram also shows us that, the distribution is close to normal."
   ]
  },
  {
   "cell_type": "code",
   "execution_count": 55,
   "metadata": {},
   "outputs": [
    {
     "data": {
      "image/png": "[encoded data removed]",
      "text/plain": [
       "<Figure size 432x288 with 2 Axes>"
      ]
     },
     "metadata": {
      "needs_background": "light"
     },
     "output_type": "display_data"
    }
   ],
   "source": [
    "final_total.calls.hist(by=final_total['plan'], color='orange', label='calls')\n",
    "plt.legend();"
   ]
  },
  {
   "cell_type": "code",
   "execution_count": 56,
   "metadata": {},
   "outputs": [
    {
     "data": {
      "image/png": "[encoded data removed]",
      "text/plain": [
       "<Figure size 720x576 with 1 Axes>"
      ]
     },
     "metadata": {},
     "output_type": "display_data"
    }
   ],
   "source": [
    "plt.style.use('ggplot') \n",
    "\n",
    "final_total.groupby('plan')['calls'].plot.hist(alpha=0.5, legend=True, bins=25, figsize=(10,8))\n",
    "\n",
    "plt.legend(['Surf', 'Ultimate'])\n",
    "plt.title('Title')\n",
    "plt.xlabel('x')\n",
    "plt.ylabel('y')\n",
    "\n",
    "plt.show()"
   ]
  },
  {
   "cell_type": "code",
   "execution_count": 57,
   "metadata": {},
   "outputs": [
    {
     "data": {
      "text/html": [
       "<div>\n",
       "<style scoped>\n",
       "    .dataframe tbody tr th:only-of-type {\n",
       "        vertical-align: middle;\n",
       "    }\n",
       "\n",
       "    .dataframe tbody tr th {\n",
       "        vertical-align: top;\n",
       "    }\n",
       "\n",
       "    .dataframe thead th {\n",
       "        text-align: right;\n",
       "    }\n",
       "</style>\n",
       "<table border=\"1\" class=\"dataframe\">\n",
       "  <thead>\n",
       "    <tr style=\"text-align: right;\">\n",
       "      <th></th>\n",
       "      <th>plan</th>\n",
       "      <th>mean</th>\n",
       "      <th>median</th>\n",
       "      <th>std</th>\n",
       "      <th>var</th>\n",
       "    </tr>\n",
       "  </thead>\n",
       "  <tbody>\n",
       "    <tr>\n",
       "      <th>0</th>\n",
       "      <td>surf</td>\n",
       "      <td>16.670693</td>\n",
       "      <td>17.0</td>\n",
       "      <td>7.847522</td>\n",
       "      <td>61.58360</td>\n",
       "    </tr>\n",
       "    <tr>\n",
       "      <th>1</th>\n",
       "      <td>ultimate</td>\n",
       "      <td>17.306944</td>\n",
       "      <td>17.0</td>\n",
       "      <td>7.670108</td>\n",
       "      <td>58.83055</td>\n",
       "    </tr>\n",
       "  </tbody>\n",
       "</table>\n",
       "</div>"
      ],
      "text/plain": [
       "       plan       mean  median       std       var\n",
       "0      surf  16.670693    17.0  7.847522  61.58360\n",
       "1  ultimate  17.306944    17.0  7.670108  58.83055"
      ]
     },
     "execution_count": 57,
     "metadata": {},
     "output_type": "execute_result"
    }
   ],
   "source": [
    "final_total.groupby(['plan'])['gb_internet'].agg(['mean', 'median', 'std', 'var']).reset_index()"
   ]
  },
  {
   "cell_type": "markdown",
   "metadata": {},
   "source": [
    "As for internet,the histogram shows us that the mean and the median is also almost equall for 2 plans."
   ]
  },
  {
   "cell_type": "code",
   "execution_count": 58,
   "metadata": {},
   "outputs": [
    {
     "data": {
      "image/png": "[encoded data removed]",
      "text/plain": [
       "<Figure size 432x288 with 2 Axes>"
      ]
     },
     "metadata": {},
     "output_type": "display_data"
    }
   ],
   "source": [
    "final_total.gb_internet.hist(by=final_total['plan'], color='green', label='internet')\n",
    "plt.legend();"
   ]
  },
  {
   "cell_type": "markdown",
   "metadata": {},
   "source": [
    "Reguarding to messages, the mean and the median are different for 2 plans. The histogram is skewed to the right, it has positive skew, mean is more than median"
   ]
  },
  {
   "cell_type": "code",
   "execution_count": 59,
   "metadata": {},
   "outputs": [
    {
     "data": {
      "text/html": [
       "<div>\n",
       "<style scoped>\n",
       "    .dataframe tbody tr th:only-of-type {\n",
       "        vertical-align: middle;\n",
       "    }\n",
       "\n",
       "    .dataframe tbody tr th {\n",
       "        vertical-align: top;\n",
       "    }\n",
       "\n",
       "    .dataframe thead th {\n",
       "        text-align: right;\n",
       "    }\n",
       "</style>\n",
       "<table border=\"1\" class=\"dataframe\">\n",
       "  <thead>\n",
       "    <tr style=\"text-align: right;\">\n",
       "      <th></th>\n",
       "      <th>plan</th>\n",
       "      <th>mean</th>\n",
       "      <th>median</th>\n",
       "      <th>std</th>\n",
       "      <th>var</th>\n",
       "    </tr>\n",
       "  </thead>\n",
       "  <tbody>\n",
       "    <tr>\n",
       "      <th>0</th>\n",
       "      <td>surf</td>\n",
       "      <td>31.159568</td>\n",
       "      <td>24.0</td>\n",
       "      <td>33.566717</td>\n",
       "      <td>1126.724522</td>\n",
       "    </tr>\n",
       "    <tr>\n",
       "      <th>1</th>\n",
       "      <td>ultimate</td>\n",
       "      <td>37.551389</td>\n",
       "      <td>30.0</td>\n",
       "      <td>34.767179</td>\n",
       "      <td>1208.756744</td>\n",
       "    </tr>\n",
       "  </tbody>\n",
       "</table>\n",
       "</div>"
      ],
      "text/plain": [
       "       plan       mean  median        std          var\n",
       "0      surf  31.159568    24.0  33.566717  1126.724522\n",
       "1  ultimate  37.551389    30.0  34.767179  1208.756744"
      ]
     },
     "execution_count": 59,
     "metadata": {},
     "output_type": "execute_result"
    }
   ],
   "source": [
    "final_total.groupby(['plan'])['message'].agg(['mean', 'median', 'std', 'var']).reset_index()"
   ]
  },
  {
   "cell_type": "code",
   "execution_count": 60,
   "metadata": {},
   "outputs": [
    {
     "data": {
      "image/png": "[encoded data removed]",
      "text/plain": [
       "<Figure size 432x288 with 2 Axes>"
      ]
     },
     "metadata": {},
     "output_type": "display_data"
    }
   ],
   "source": [
    "final_total.message.hist(by=final_total['plan'],color='red', label = 'messages')\n",
    "plt.legend();"
   ]
  },
  {
   "cell_type": "code",
   "execution_count": 61,
   "metadata": {},
   "outputs": [
    {
     "data": {
      "text/html": [
       "<div>\n",
       "<style scoped>\n",
       "    .dataframe tbody tr th:only-of-type {\n",
       "        vertical-align: middle;\n",
       "    }\n",
       "\n",
       "    .dataframe tbody tr th {\n",
       "        vertical-align: top;\n",
       "    }\n",
       "\n",
       "    .dataframe thead tr th {\n",
       "        text-align: left;\n",
       "    }\n",
       "\n",
       "    .dataframe thead tr:last-of-type th {\n",
       "        text-align: right;\n",
       "    }\n",
       "</style>\n",
       "<table border=\"1\" class=\"dataframe\">\n",
       "  <thead>\n",
       "    <tr>\n",
       "      <th></th>\n",
       "      <th colspan=\"3\" halign=\"left\">mean</th>\n",
       "      <th colspan=\"3\" halign=\"left\">std</th>\n",
       "      <th colspan=\"3\" halign=\"left\">var</th>\n",
       "    </tr>\n",
       "    <tr>\n",
       "      <th></th>\n",
       "      <th>calls</th>\n",
       "      <th>gb_internet</th>\n",
       "      <th>message</th>\n",
       "      <th>calls</th>\n",
       "      <th>gb_internet</th>\n",
       "      <th>message</th>\n",
       "      <th>calls</th>\n",
       "      <th>gb_internet</th>\n",
       "      <th>message</th>\n",
       "    </tr>\n",
       "    <tr>\n",
       "      <th>plan</th>\n",
       "      <th></th>\n",
       "      <th></th>\n",
       "      <th></th>\n",
       "      <th></th>\n",
       "      <th></th>\n",
       "      <th></th>\n",
       "      <th></th>\n",
       "      <th></th>\n",
       "      <th></th>\n",
       "    </tr>\n",
       "  </thead>\n",
       "  <tbody>\n",
       "    <tr>\n",
       "      <th>surf</th>\n",
       "      <td>428.749523</td>\n",
       "      <td>16.670693</td>\n",
       "      <td>31.159568</td>\n",
       "      <td>234.453150</td>\n",
       "      <td>7.847522</td>\n",
       "      <td>33.566717</td>\n",
       "      <td>54968.279461</td>\n",
       "      <td>61.58360</td>\n",
       "      <td>1126.724522</td>\n",
       "    </tr>\n",
       "    <tr>\n",
       "      <th>ultimate</th>\n",
       "      <td>430.450000</td>\n",
       "      <td>17.306944</td>\n",
       "      <td>37.551389</td>\n",
       "      <td>240.508762</td>\n",
       "      <td>7.670108</td>\n",
       "      <td>34.767179</td>\n",
       "      <td>57844.464812</td>\n",
       "      <td>58.83055</td>\n",
       "      <td>1208.756744</td>\n",
       "    </tr>\n",
       "  </tbody>\n",
       "</table>\n",
       "</div>"
      ],
      "text/plain": [
       "                mean                                std              \\\n",
       "               calls gb_internet    message       calls gb_internet   \n",
       "plan                                                                  \n",
       "surf      428.749523   16.670693  31.159568  234.453150    7.847522   \n",
       "ultimate  430.450000   17.306944  37.551389  240.508762    7.670108   \n",
       "\n",
       "                              var                           \n",
       "            message         calls gb_internet      message  \n",
       "plan                                                        \n",
       "surf      33.566717  54968.279461    61.58360  1126.724522  \n",
       "ultimate  34.767179  57844.464812    58.83055  1208.756744  "
      ]
     },
     "execution_count": 61,
     "metadata": {},
     "output_type": "execute_result"
    }
   ],
   "source": [
    "final_total.pivot_table(index='plan', values=['calls', 'message', 'gb_internet'],\n",
    "                       aggfunc=['mean', 'std', 'var'])"
   ]
  },
  {
   "cell_type": "code",
   "execution_count": 62,
   "metadata": {
    "scrolled": false
   },
   "outputs": [
    {
     "name": "stdout",
     "output_type": "stream",
     "text": [
      "MultiIndex([(      'calls', 'mean'),\n",
      "            (      'calls',  'var'),\n",
      "            (      'calls',  'std'),\n",
      "            (    'message', 'mean'),\n",
      "            (    'message',  'var'),\n",
      "            (    'message',  'std'),\n",
      "            ('gb_internet', 'mean'),\n",
      "            ('gb_internet',  'var'),\n",
      "            ('gb_internet',  'std')],\n",
      "           )\n",
      "\n",
      "\n",
      "\n",
      "Index:  ('calls', 'mean') 1st:  calls 2nd:  mean\n"
     ]
    },
    {
     "data": {
      "text/html": [
       "<div>\n",
       "<style scoped>\n",
       "    .dataframe tbody tr th:only-of-type {\n",
       "        vertical-align: middle;\n",
       "    }\n",
       "\n",
       "    .dataframe tbody tr th {\n",
       "        vertical-align: top;\n",
       "    }\n",
       "\n",
       "    .dataframe thead tr th {\n",
       "        text-align: left;\n",
       "    }\n",
       "</style>\n",
       "<table border=\"1\" class=\"dataframe\">\n",
       "  <thead>\n",
       "    <tr>\n",
       "      <th></th>\n",
       "      <th colspan=\"3\" halign=\"left\">calls</th>\n",
       "      <th colspan=\"3\" halign=\"left\">message</th>\n",
       "      <th colspan=\"3\" halign=\"left\">gb_internet</th>\n",
       "    </tr>\n",
       "    <tr>\n",
       "      <th></th>\n",
       "      <th>mean</th>\n",
       "      <th>var</th>\n",
       "      <th>std</th>\n",
       "      <th>mean</th>\n",
       "      <th>var</th>\n",
       "      <th>std</th>\n",
       "      <th>mean</th>\n",
       "      <th>var</th>\n",
       "      <th>std</th>\n",
       "    </tr>\n",
       "  </thead>\n",
       "  <tbody>\n",
       "    <tr>\n",
       "      <th>surf</th>\n",
       "      <td>428.75</td>\n",
       "      <td>54968.28</td>\n",
       "      <td>234.45</td>\n",
       "      <td>31.16</td>\n",
       "      <td>1126.72</td>\n",
       "      <td>33.57</td>\n",
       "      <td>16.67</td>\n",
       "      <td>61.58</td>\n",
       "      <td>7.85</td>\n",
       "    </tr>\n",
       "    <tr>\n",
       "      <th>ultimate</th>\n",
       "      <td>430.45</td>\n",
       "      <td>57844.46</td>\n",
       "      <td>240.51</td>\n",
       "      <td>37.55</td>\n",
       "      <td>1208.76</td>\n",
       "      <td>34.77</td>\n",
       "      <td>17.31</td>\n",
       "      <td>58.83</td>\n",
       "      <td>7.67</td>\n",
       "    </tr>\n",
       "  </tbody>\n",
       "</table>\n",
       "</div>"
      ],
      "text/plain": [
       "           calls                   message                 gb_internet         \\\n",
       "            mean       var     std    mean      var    std        mean    var   \n",
       "surf      428.75  54968.28  234.45   31.16  1126.72  33.57       16.67  61.58   \n",
       "ultimate  430.45  57844.46  240.51   37.55  1208.76  34.77       17.31  58.83   \n",
       "\n",
       "                \n",
       "           std  \n",
       "surf      7.85  \n",
       "ultimate  7.67  "
      ]
     },
     "execution_count": 62,
     "metadata": {},
     "output_type": "execute_result"
    }
   ],
   "source": [
    "l1 = ['calls', 'message', 'gb_internet']\n",
    "l2 = ['mean', 'var', 'std']\n",
    "idx = pd.MultiIndex.from_product([l1, l2])\n",
    "\n",
    "\n",
    "print(idx)\n",
    "\n",
    "print('\\n\\n\\nIndex: ', idx[0], '1st: ', idx[0][0], '2nd: ', idx[0][1])\n",
    "\n",
    "df = pd.DataFrame(index=['surf', 'ultimate'], columns=idx)\n",
    "\n",
    "for i in df.columns:\n",
    "    #  Slice on 1st index, agregate - on 2nd. \n",
    "    df.loc['surf',i] = np.round(final_total.query('plan==\"surf\"')[i[0]].agg(i[1]),2)\n",
    "    df.loc['ultimate',i] = np.round(final_total.query('plan==\"ultimate\"')[i[0]].agg(i[1]),2)\n",
    "    \n",
    "df    "
   ]
  },
  {
   "cell_type": "markdown",
   "metadata": {},
   "source": [
    "It will be more convenient to see the behaviour of users of 2 different plans on one histogram. "
   ]
  },
  {
   "cell_type": "markdown",
   "metadata": {},
   "source": [
    "So here we also see that as for calls the distribution is normal, but there quantity of calls in surf plan is much higher"
   ]
  },
  {
   "cell_type": "code",
   "execution_count": 63,
   "metadata": {},
   "outputs": [
    {
     "data": {
      "image/png": "[encoded data removed]",
      "text/plain": [
       "<Figure size 432x288 with 1 Axes>"
      ]
     },
     "metadata": {},
     "output_type": "display_data"
    }
   ],
   "source": [
    "sns.histplot(final_total,x='calls', hue='plan');"
   ]
  },
  {
   "cell_type": "markdown",
   "metadata": {},
   "source": [
    "The same situation is in internet group, we see the normal distribution, but the users of 20 gb internet are much hiegher in surf plan"
   ]
  },
  {
   "cell_type": "code",
   "execution_count": 64,
   "metadata": {},
   "outputs": [
    {
     "data": {
      "image/png": "[encoded data removed]",
      "text/plain": [
       "<Figure size 432x288 with 1 Axes>"
      ]
     },
     "metadata": {},
     "output_type": "display_data"
    }
   ],
   "source": [
    "sns.histplot(final_total,x='gb_internet', hue='plan');"
   ]
  },
  {
   "cell_type": "code",
   "execution_count": 65,
   "metadata": {},
   "outputs": [
    {
     "data": {
      "image/png": "[encoded data removed]",
      "text/plain": [
       "<Figure size 432x288 with 1 Axes>"
      ]
     },
     "metadata": {},
     "output_type": "display_data"
    }
   ],
   "source": [
    "sns.histplot(final_total,x='message', hue='plan');"
   ]
  },
  {
   "cell_type": "markdown",
   "metadata": {},
   "source": [
    "Now lets see the statistical data. We will calculate the mean, dispersion, and standard deviation and plot it on histograms for calls, messages and internet"
   ]
  },
  {
   "cell_type": "code",
   "execution_count": 66,
   "metadata": {},
   "outputs": [
    {
     "name": "stderr",
     "output_type": "stream",
     "text": [
      "/tmp/ipykernel_64/1224858000.py:1: FutureWarning: Indexing with multiple keys (implicitly converted to a tuple of keys) will be deprecated, use a list instead.\n",
      "  package= final_total.groupby(['user_id','plan'])['calls', 'gb_internet','message'].mean().reset_index()\n"
     ]
    },
    {
     "data": {
      "text/html": [
       "<div>\n",
       "<style scoped>\n",
       "    .dataframe tbody tr th:only-of-type {\n",
       "        vertical-align: middle;\n",
       "    }\n",
       "\n",
       "    .dataframe tbody tr th {\n",
       "        vertical-align: top;\n",
       "    }\n",
       "\n",
       "    .dataframe thead th {\n",
       "        text-align: right;\n",
       "    }\n",
       "</style>\n",
       "<table border=\"1\" class=\"dataframe\">\n",
       "  <thead>\n",
       "    <tr style=\"text-align: right;\">\n",
       "      <th></th>\n",
       "      <th>user_id</th>\n",
       "      <th>plan</th>\n",
       "      <th>calls</th>\n",
       "      <th>gb_internet</th>\n",
       "      <th>message</th>\n",
       "    </tr>\n",
       "  </thead>\n",
       "  <tbody>\n",
       "    <tr>\n",
       "      <th>0</th>\n",
       "      <td>1000</td>\n",
       "      <td>ultimate</td>\n",
       "      <td>124.000000</td>\n",
       "      <td>2.000000</td>\n",
       "      <td>11.000000</td>\n",
       "    </tr>\n",
       "    <tr>\n",
       "      <th>1</th>\n",
       "      <td>1001</td>\n",
       "      <td>surf</td>\n",
       "      <td>345.600000</td>\n",
       "      <td>16.200000</td>\n",
       "      <td>41.400000</td>\n",
       "    </tr>\n",
       "    <tr>\n",
       "      <th>2</th>\n",
       "      <td>1002</td>\n",
       "      <td>surf</td>\n",
       "      <td>276.333333</td>\n",
       "      <td>13.666667</td>\n",
       "      <td>29.333333</td>\n",
       "    </tr>\n",
       "    <tr>\n",
       "      <th>3</th>\n",
       "      <td>1003</td>\n",
       "      <td>surf</td>\n",
       "      <td>1104.000000</td>\n",
       "      <td>27.000000</td>\n",
       "      <td>50.000000</td>\n",
       "    </tr>\n",
       "    <tr>\n",
       "      <th>4</th>\n",
       "      <td>1004</td>\n",
       "      <td>surf</td>\n",
       "      <td>346.500000</td>\n",
       "      <td>19.625000</td>\n",
       "      <td>22.125000</td>\n",
       "    </tr>\n",
       "    <tr>\n",
       "      <th>...</th>\n",
       "      <td>...</td>\n",
       "      <td>...</td>\n",
       "      <td>...</td>\n",
       "      <td>...</td>\n",
       "      <td>...</td>\n",
       "    </tr>\n",
       "    <tr>\n",
       "      <th>485</th>\n",
       "      <td>1495</td>\n",
       "      <td>surf</td>\n",
       "      <td>441.250000</td>\n",
       "      <td>24.750000</td>\n",
       "      <td>0.000000</td>\n",
       "    </tr>\n",
       "    <tr>\n",
       "      <th>486</th>\n",
       "      <td>1496</td>\n",
       "      <td>surf</td>\n",
       "      <td>291.000000</td>\n",
       "      <td>13.200000</td>\n",
       "      <td>13.000000</td>\n",
       "    </tr>\n",
       "    <tr>\n",
       "      <th>487</th>\n",
       "      <td>1497</td>\n",
       "      <td>ultimate</td>\n",
       "      <td>300.000000</td>\n",
       "      <td>11.000000</td>\n",
       "      <td>50.000000</td>\n",
       "    </tr>\n",
       "    <tr>\n",
       "      <th>488</th>\n",
       "      <td>1498</td>\n",
       "      <td>surf</td>\n",
       "      <td>291.909091</td>\n",
       "      <td>20.727273</td>\n",
       "      <td>0.000000</td>\n",
       "    </tr>\n",
       "    <tr>\n",
       "      <th>489</th>\n",
       "      <td>1499</td>\n",
       "      <td>surf</td>\n",
       "      <td>383.750000</td>\n",
       "      <td>18.000000</td>\n",
       "      <td>0.000000</td>\n",
       "    </tr>\n",
       "  </tbody>\n",
       "</table>\n",
       "<p>490 rows × 5 columns</p>\n",
       "</div>"
      ],
      "text/plain": [
       "     user_id      plan        calls  gb_internet    message\n",
       "0       1000  ultimate   124.000000     2.000000  11.000000\n",
       "1       1001      surf   345.600000    16.200000  41.400000\n",
       "2       1002      surf   276.333333    13.666667  29.333333\n",
       "3       1003      surf  1104.000000    27.000000  50.000000\n",
       "4       1004      surf   346.500000    19.625000  22.125000\n",
       "..       ...       ...          ...          ...        ...\n",
       "485     1495      surf   441.250000    24.750000   0.000000\n",
       "486     1496      surf   291.000000    13.200000  13.000000\n",
       "487     1497  ultimate   300.000000    11.000000  50.000000\n",
       "488     1498      surf   291.909091    20.727273   0.000000\n",
       "489     1499      surf   383.750000    18.000000   0.000000\n",
       "\n",
       "[490 rows x 5 columns]"
      ]
     },
     "execution_count": 66,
     "metadata": {},
     "output_type": "execute_result"
    }
   ],
   "source": [
    "package= final_total.groupby(['user_id','plan'])['calls', 'gb_internet','message'].mean().reset_index()\n",
    "package"
   ]
  },
  {
   "cell_type": "code",
   "execution_count": 67,
   "metadata": {},
   "outputs": [],
   "source": [
    "def package_stat(usage):\n",
    "    fig, ax = plt.subplots(figsize=(7,6))\n",
    "    ax = sns.histplot(package, x=usage, hue='plan')\n",
    "    mean=package[usage].mean()\n",
    "    std=package[usage].std()\n",
    "    var=package[usage].var()\n",
    "    cv=std/mean\n",
    "    plt.show()\n",
    "    print('Average is',mean)\n",
    "    print(package.groupby(['plan'])[usage].mean())\n",
    "    if cv>1:\n",
    "            print('varies a lot')\n",
    "    else:\n",
    "         print('Centered around mean')"
   ]
  },
  {
   "cell_type": "code",
   "execution_count": 68,
   "metadata": {},
   "outputs": [
    {
     "data": {
      "image/png": "[encoded data removed]",
      "text/plain": [
       "<Figure size 504x432 with 1 Axes>"
      ]
     },
     "metadata": {},
     "output_type": "display_data"
    },
    {
     "name": "stdout",
     "output_type": "stream",
     "text": [
      "Average is 408.48802912506994\n",
      "plan\n",
      "surf        408.737038\n",
      "ultimate    407.959877\n",
      "Name: calls, dtype: float64\n",
      "Centered around mean\n"
     ]
    }
   ],
   "source": [
    "package_stat('calls')"
   ]
  },
  {
   "cell_type": "code",
   "execution_count": 69,
   "metadata": {},
   "outputs": [
    {
     "data": {
      "image/png": "[encoded data removed]",
      "text/plain": [
       "<Figure size 504x432 with 1 Axes>"
      ]
     },
     "metadata": {},
     "output_type": "display_data"
    },
    {
     "name": "stdout",
     "output_type": "stream",
     "text": [
      "Average is 16.047551609388343\n",
      "plan\n",
      "surf        15.996965\n",
      "ultimate    16.154847\n",
      "Name: gb_internet, dtype: float64\n",
      "Centered around mean\n"
     ]
    }
   ],
   "source": [
    "package_stat('gb_internet')"
   ]
  },
  {
   "cell_type": "code",
   "execution_count": 70,
   "metadata": {},
   "outputs": [
    {
     "data": {
      "image/png": "[encoded data removed]",
      "text/plain": [
       "<Figure size 504x432 with 1 Axes>"
      ]
     },
     "metadata": {},
     "output_type": "display_data"
    },
    {
     "name": "stdout",
     "output_type": "stream",
     "text": [
      "Average is 34.3514377742439\n",
      "plan\n",
      "surf        32.408931\n",
      "ultimate    38.471532\n",
      "Name: message, dtype: float64\n",
      "Centered around mean\n"
     ]
    }
   ],
   "source": [
    "package_stat('message')"
   ]
  },
  {
   "cell_type": "markdown",
   "metadata": {},
   "source": [
    "I also want to check what is going on with total_cost in different plans for megaline users"
   ]
  },
  {
   "cell_type": "code",
   "execution_count": 71,
   "metadata": {},
   "outputs": [
    {
     "data": {
      "text/plain": [
       "46.62494533721031"
      ]
     },
     "execution_count": 71,
     "metadata": {},
     "output_type": "execute_result"
    }
   ],
   "source": [
    "final_total['total_cost'].std()"
   ]
  },
  {
   "cell_type": "code",
   "execution_count": 72,
   "metadata": {},
   "outputs": [
    {
     "data": {
      "text/html": [
       "<div>\n",
       "<style scoped>\n",
       "    .dataframe tbody tr th:only-of-type {\n",
       "        vertical-align: middle;\n",
       "    }\n",
       "\n",
       "    .dataframe tbody tr th {\n",
       "        vertical-align: top;\n",
       "    }\n",
       "\n",
       "    .dataframe thead th {\n",
       "        text-align: right;\n",
       "    }\n",
       "</style>\n",
       "<table border=\"1\" class=\"dataframe\">\n",
       "  <thead>\n",
       "    <tr style=\"text-align: right;\">\n",
       "      <th></th>\n",
       "      <th>count</th>\n",
       "      <th>mean</th>\n",
       "      <th>std</th>\n",
       "      <th>min</th>\n",
       "      <th>25%</th>\n",
       "      <th>50%</th>\n",
       "      <th>75%</th>\n",
       "      <th>max</th>\n",
       "    </tr>\n",
       "    <tr>\n",
       "      <th>plan</th>\n",
       "      <th></th>\n",
       "      <th></th>\n",
       "      <th></th>\n",
       "      <th></th>\n",
       "      <th></th>\n",
       "      <th></th>\n",
       "      <th></th>\n",
       "      <th></th>\n",
       "    </tr>\n",
       "  </thead>\n",
       "  <tbody>\n",
       "    <tr>\n",
       "      <th>surf</th>\n",
       "      <td>1573.0</td>\n",
       "      <td>60.706408</td>\n",
       "      <td>55.388042</td>\n",
       "      <td>20.0</td>\n",
       "      <td>20.0</td>\n",
       "      <td>40.36</td>\n",
       "      <td>80.36</td>\n",
       "      <td>590.37</td>\n",
       "    </tr>\n",
       "    <tr>\n",
       "      <th>ultimate</th>\n",
       "      <td>720.0</td>\n",
       "      <td>72.313889</td>\n",
       "      <td>11.395108</td>\n",
       "      <td>70.0</td>\n",
       "      <td>70.0</td>\n",
       "      <td>70.00</td>\n",
       "      <td>70.00</td>\n",
       "      <td>182.00</td>\n",
       "    </tr>\n",
       "  </tbody>\n",
       "</table>\n",
       "</div>"
      ],
      "text/plain": [
       "           count       mean        std   min   25%    50%    75%     max\n",
       "plan                                                                    \n",
       "surf      1573.0  60.706408  55.388042  20.0  20.0  40.36  80.36  590.37\n",
       "ultimate   720.0  72.313889  11.395108  70.0  70.0  70.00  70.00  182.00"
      ]
     },
     "execution_count": 72,
     "metadata": {},
     "output_type": "execute_result"
    }
   ],
   "source": [
    "final_total.groupby(['plan'])['total_cost'].describe()"
   ]
  },
  {
   "cell_type": "markdown",
   "metadata": {},
   "source": [
    "From the table above we see that the standart deviation for surf is higher than for ultimate. 50% of surf users pay about 40 usd for their megaline package, that is twice more than it is neccesarry for their tarif (20USD). Also we see that there are twice more users in the surf plan than in the ultimate."
   ]
  },
  {
   "cell_type": "code",
   "execution_count": 73,
   "metadata": {},
   "outputs": [
    {
     "data": {
      "text/plain": [
       "0.7245394609616642"
      ]
     },
     "execution_count": 73,
     "metadata": {},
     "output_type": "execute_result"
    }
   ],
   "source": [
    "cv=final_total['total_cost'].std()/final_total['total_cost'].mean()\n",
    "cv"
   ]
  },
  {
   "cell_type": "code",
   "execution_count": 74,
   "metadata": {},
   "outputs": [
    {
     "data": {
      "text/plain": [
       "plan\n",
       "surf        0.912392\n",
       "ultimate    0.157578\n",
       "Name: total_cost, dtype: float64"
      ]
     },
     "execution_count": 74,
     "metadata": {},
     "output_type": "execute_result"
    }
   ],
   "source": [
    "final_total.groupby(['plan'])['total_cost'].std()/final_total.groupby(['plan'])['total_cost'].mean()"
   ]
  },
  {
   "cell_type": "markdown",
   "metadata": {},
   "source": [
    "As we grouped the data by plan and total cost, we see the the variation for surf plan is much more higher than the variation for ultimate plan."
   ]
  },
  {
   "cell_type": "code",
   "execution_count": 75,
   "metadata": {},
   "outputs": [
    {
     "data": {
      "image/png": "[encoded data removed]",
      "text/plain": [
       "<Figure size 504x432 with 1 Axes>"
      ]
     },
     "metadata": {},
     "output_type": "display_data"
    }
   ],
   "source": [
    "fig, ax = plt.subplots(figsize=(7,6))\n",
    "ax = sns.boxplot(x='plan', y='total_cost', data=final_total)"
   ]
  },
  {
   "cell_type": "markdown",
   "metadata": {},
   "source": [
    "As we see in the boxplot there are much more outliers in the surf plan that in the ultimate and the total cost for the plan surf is really higher then the tarif they actually should pay..."
   ]
  },
  {
   "cell_type": "markdown",
   "metadata": {},
   "source": [
    "#### Now let's move to the last step and test the hypotheses:\n",
    " \n",
    "\tThe average revenue from users of Ultimate and Surf calling plans differs.\n",
    "\tThe average revenue from users in NY-NJ area is different from that of the users from other regions.\n",
    "    \n",
    "    We consider that the null hypothesis is effectively stating that a difference between comparing situation is equal to zero, that the 2 parameteres that we are comparing are equal. That's how I chose the H0 and the H1"
   ]
  },
  {
   "cell_type": "markdown",
   "metadata": {},
   "source": [
    "##### We are going to check our hypothese\n",
    "**H0 = the average revenue from users of Ultimate ans Surf calling plans are the same.\\\n",
    "H1 = the average revenue from users of Ultimate and Surf calling plans differs**"
   ]
  },
  {
   "cell_type": "code",
   "execution_count": 76,
   "metadata": {},
   "outputs": [
    {
     "data": {
      "text/html": [
       "<div>\n",
       "<style scoped>\n",
       "    .dataframe tbody tr th:only-of-type {\n",
       "        vertical-align: middle;\n",
       "    }\n",
       "\n",
       "    .dataframe tbody tr th {\n",
       "        vertical-align: top;\n",
       "    }\n",
       "\n",
       "    .dataframe thead th {\n",
       "        text-align: right;\n",
       "    }\n",
       "</style>\n",
       "<table border=\"1\" class=\"dataframe\">\n",
       "  <thead>\n",
       "    <tr style=\"text-align: right;\">\n",
       "      <th></th>\n",
       "      <th>user_id</th>\n",
       "      <th>plan</th>\n",
       "      <th>month</th>\n",
       "      <th>total_cost</th>\n",
       "    </tr>\n",
       "  </thead>\n",
       "  <tbody>\n",
       "    <tr>\n",
       "      <th>0</th>\n",
       "      <td>1001</td>\n",
       "      <td>surf</td>\n",
       "      <td>8</td>\n",
       "      <td>20.00</td>\n",
       "    </tr>\n",
       "    <tr>\n",
       "      <th>1</th>\n",
       "      <td>1001</td>\n",
       "      <td>surf</td>\n",
       "      <td>9</td>\n",
       "      <td>20.00</td>\n",
       "    </tr>\n",
       "    <tr>\n",
       "      <th>2</th>\n",
       "      <td>1001</td>\n",
       "      <td>surf</td>\n",
       "      <td>10</td>\n",
       "      <td>90.09</td>\n",
       "    </tr>\n",
       "    <tr>\n",
       "      <th>3</th>\n",
       "      <td>1001</td>\n",
       "      <td>surf</td>\n",
       "      <td>11</td>\n",
       "      <td>60.00</td>\n",
       "    </tr>\n",
       "    <tr>\n",
       "      <th>4</th>\n",
       "      <td>1001</td>\n",
       "      <td>surf</td>\n",
       "      <td>12</td>\n",
       "      <td>60.00</td>\n",
       "    </tr>\n",
       "  </tbody>\n",
       "</table>\n",
       "</div>"
      ],
      "text/plain": [
       "   user_id  plan  month  total_cost\n",
       "0     1001  surf      8       20.00\n",
       "1     1001  surf      9       20.00\n",
       "2     1001  surf     10       90.09\n",
       "3     1001  surf     11       60.00\n",
       "4     1001  surf     12       60.00"
      ]
     },
     "execution_count": 76,
     "metadata": {},
     "output_type": "execute_result"
    }
   ],
   "source": [
    "plans_costs = final_total[['user_id','plan', 'month', 'total_cost']]\n",
    "plans_costs.head()"
   ]
  },
  {
   "cell_type": "code",
   "execution_count": 77,
   "metadata": {},
   "outputs": [
    {
     "data": {
      "image/png": "[encoded data removed]",
      "text/plain": [
       "<Figure size 504x432 with 1 Axes>"
      ]
     },
     "metadata": {},
     "output_type": "display_data"
    }
   ],
   "source": [
    "fig, ax = plt.subplots(figsize=(7,6))\n",
    "ax = sns.histplot(plans_costs, x= 'total_cost', hue='plan')"
   ]
  },
  {
   "cell_type": "markdown",
   "metadata": {},
   "source": [
    "We see that the histogram is skewed to the right and that the majority of users in ultimate plan pay their 70 USD as it costs in a tarif, and the surf users pay more than there is in the tarif. There are also more customers in the surf tarif"
   ]
  },
  {
   "cell_type": "code",
   "execution_count": 78,
   "metadata": {},
   "outputs": [
    {
     "data": {
      "text/plain": [
       "plan\n",
       "surf        40.36\n",
       "ultimate    70.00\n",
       "Name: total_cost, dtype: float64"
      ]
     },
     "execution_count": 78,
     "metadata": {},
     "output_type": "execute_result"
    }
   ],
   "source": [
    "plans_costs.groupby(['plan'])['total_cost'].median()"
   ]
  },
  {
   "cell_type": "code",
   "execution_count": 79,
   "metadata": {},
   "outputs": [],
   "source": [
    "surf_plan=plans_costs.query('plan==\"surf\"')"
   ]
  },
  {
   "cell_type": "code",
   "execution_count": 80,
   "metadata": {},
   "outputs": [],
   "source": [
    "ultimate_plan=plans_costs.query('plan==\"ultimate\"')"
   ]
  },
  {
   "cell_type": "code",
   "execution_count": 81,
   "metadata": {},
   "outputs": [],
   "source": [
    "sample1=surf_plan['total_cost']"
   ]
  },
  {
   "cell_type": "code",
   "execution_count": 82,
   "metadata": {},
   "outputs": [],
   "source": [
    "sample2=ultimate_plan['total_cost']"
   ]
  },
  {
   "cell_type": "code",
   "execution_count": 83,
   "metadata": {},
   "outputs": [
    {
     "data": {
      "text/plain": [
       "Ttest_indResult(statistic=-5.568949166552807, pvalue=2.862674510698644e-08)"
      ]
     },
     "execution_count": 83,
     "metadata": {},
     "output_type": "execute_result"
    }
   ],
   "source": [
    "p_value = stats.ttest_ind(sample1, sample2)\n",
    "p_value"
   ]
  },
  {
   "cell_type": "code",
   "execution_count": 84,
   "metadata": {},
   "outputs": [
    {
     "data": {
      "text/plain": [
       "2.862674510698644e-08"
      ]
     },
     "execution_count": 84,
     "metadata": {},
     "output_type": "execute_result"
    }
   ],
   "source": [
    "p_value = stats.ttest_ind(sample1, sample2).pvalue\n",
    "p_value"
   ]
  },
  {
   "cell_type": "code",
   "execution_count": 85,
   "metadata": {},
   "outputs": [
    {
     "name": "stdout",
     "output_type": "stream",
     "text": [
      "Reject H0: average of sample 1 is not equal to average of sample 2\n"
     ]
    }
   ],
   "source": [
    "p_value = p_value.astype(int)\n",
    "alpha=0.05\n",
    "if p_value<alpha:\n",
    "    print('Reject H0: average of sample 1 is not equal to average of sample 2')\n",
    "else:\n",
    "    print('Fail to reject H0: We do not have enough evidences to say the average sample 1 and sample 2 are not the same')"
   ]
  },
  {
   "cell_type": "markdown",
   "metadata": {},
   "source": [
    "##### Finally let's take a look at our users from NY and NJ region. Are they really differ from the others. \n",
    "\n",
    "**H0 = The average revenue from users in NY-NJ area is equal from that of the users from other regions\\\n",
    "H1 = The average revenue from users in NY-NJ area from that of the users from other regions differ**"
   ]
  },
  {
   "cell_type": "code",
   "execution_count": 86,
   "metadata": {},
   "outputs": [
    {
     "data": {
      "text/html": [
       "<div>\n",
       "<style scoped>\n",
       "    .dataframe tbody tr th:only-of-type {\n",
       "        vertical-align: middle;\n",
       "    }\n",
       "\n",
       "    .dataframe tbody tr th {\n",
       "        vertical-align: top;\n",
       "    }\n",
       "\n",
       "    .dataframe thead th {\n",
       "        text-align: right;\n",
       "    }\n",
       "</style>\n",
       "<table border=\"1\" class=\"dataframe\">\n",
       "  <thead>\n",
       "    <tr style=\"text-align: right;\">\n",
       "      <th></th>\n",
       "      <th>user_id</th>\n",
       "      <th>first_name</th>\n",
       "      <th>last_name</th>\n",
       "      <th>age</th>\n",
       "      <th>city</th>\n",
       "      <th>reg_date</th>\n",
       "      <th>plan</th>\n",
       "      <th>churn_date</th>\n",
       "    </tr>\n",
       "  </thead>\n",
       "  <tbody>\n",
       "    <tr>\n",
       "      <th>50</th>\n",
       "      <td>1050</td>\n",
       "      <td>Jone</td>\n",
       "      <td>Owen</td>\n",
       "      <td>23</td>\n",
       "      <td>Miami-Fort Lauderdale-West Palm Beach, FL MSA</td>\n",
       "      <td>2018-03-20</td>\n",
       "      <td>ultimate</td>\n",
       "      <td>2018-10-07</td>\n",
       "    </tr>\n",
       "    <tr>\n",
       "      <th>5</th>\n",
       "      <td>1005</td>\n",
       "      <td>Livia</td>\n",
       "      <td>Shields</td>\n",
       "      <td>31</td>\n",
       "      <td>Dallas-Fort Worth-Arlington, TX MSA</td>\n",
       "      <td>2018-11-29</td>\n",
       "      <td>surf</td>\n",
       "      <td>NaN</td>\n",
       "    </tr>\n",
       "    <tr>\n",
       "      <th>372</th>\n",
       "      <td>1372</td>\n",
       "      <td>Patria</td>\n",
       "      <td>Kim</td>\n",
       "      <td>26</td>\n",
       "      <td>New York-Newark-Jersey City, NY-NJ-PA MSA</td>\n",
       "      <td>2018-10-08</td>\n",
       "      <td>surf</td>\n",
       "      <td>NaN</td>\n",
       "    </tr>\n",
       "    <tr>\n",
       "      <th>41</th>\n",
       "      <td>1041</td>\n",
       "      <td>Drucilla</td>\n",
       "      <td>Lynn</td>\n",
       "      <td>58</td>\n",
       "      <td>Las Vegas-Henderson-Paradise, NV MSA</td>\n",
       "      <td>2018-03-17</td>\n",
       "      <td>ultimate</td>\n",
       "      <td>NaN</td>\n",
       "    </tr>\n",
       "    <tr>\n",
       "      <th>358</th>\n",
       "      <td>1358</td>\n",
       "      <td>Vaughn</td>\n",
       "      <td>Maldonado</td>\n",
       "      <td>20</td>\n",
       "      <td>New York-Newark-Jersey City, NY-NJ-PA MSA</td>\n",
       "      <td>2018-04-26</td>\n",
       "      <td>surf</td>\n",
       "      <td>2018-10-22</td>\n",
       "    </tr>\n",
       "  </tbody>\n",
       "</table>\n",
       "</div>"
      ],
      "text/plain": [
       "     user_id first_name  last_name  age  \\\n",
       "50      1050       Jone       Owen   23   \n",
       "5       1005      Livia    Shields   31   \n",
       "372     1372     Patria        Kim   26   \n",
       "41      1041   Drucilla       Lynn   58   \n",
       "358     1358     Vaughn  Maldonado   20   \n",
       "\n",
       "                                              city    reg_date      plan  \\\n",
       "50   Miami-Fort Lauderdale-West Palm Beach, FL MSA  2018-03-20  ultimate   \n",
       "5              Dallas-Fort Worth-Arlington, TX MSA  2018-11-29      surf   \n",
       "372      New York-Newark-Jersey City, NY-NJ-PA MSA  2018-10-08      surf   \n",
       "41            Las Vegas-Henderson-Paradise, NV MSA  2018-03-17  ultimate   \n",
       "358      New York-Newark-Jersey City, NY-NJ-PA MSA  2018-04-26      surf   \n",
       "\n",
       "     churn_date  \n",
       "50   2018-10-07  \n",
       "5           NaN  \n",
       "372         NaN  \n",
       "41          NaN  \n",
       "358  2018-10-22  "
      ]
     },
     "execution_count": 86,
     "metadata": {},
     "output_type": "execute_result"
    }
   ],
   "source": [
    "megaline_users.sample(5)"
   ]
  },
  {
   "cell_type": "code",
   "execution_count": 87,
   "metadata": {},
   "outputs": [],
   "source": [
    "region_totall = (pd.merge(plans_costs, megaline_users[['user_id','city']], how = 'left', on=['user_id'])).fillna('other')"
   ]
  },
  {
   "cell_type": "code",
   "execution_count": 88,
   "metadata": {},
   "outputs": [],
   "source": [
    "region_totall = plans_costs.join(megaline_users.set_index('user_id')['city'], on='user_id')"
   ]
  },
  {
   "cell_type": "code",
   "execution_count": 89,
   "metadata": {},
   "outputs": [
    {
     "data": {
      "text/html": [
       "<div>\n",
       "<style scoped>\n",
       "    .dataframe tbody tr th:only-of-type {\n",
       "        vertical-align: middle;\n",
       "    }\n",
       "\n",
       "    .dataframe tbody tr th {\n",
       "        vertical-align: top;\n",
       "    }\n",
       "\n",
       "    .dataframe thead th {\n",
       "        text-align: right;\n",
       "    }\n",
       "</style>\n",
       "<table border=\"1\" class=\"dataframe\">\n",
       "  <thead>\n",
       "    <tr style=\"text-align: right;\">\n",
       "      <th></th>\n",
       "      <th>user_id</th>\n",
       "      <th>plan</th>\n",
       "      <th>month</th>\n",
       "      <th>total_cost</th>\n",
       "      <th>city</th>\n",
       "    </tr>\n",
       "  </thead>\n",
       "  <tbody>\n",
       "    <tr>\n",
       "      <th>0</th>\n",
       "      <td>1001</td>\n",
       "      <td>surf</td>\n",
       "      <td>8</td>\n",
       "      <td>20.00</td>\n",
       "      <td>Seattle-Tacoma-Bellevue, WA MSA</td>\n",
       "    </tr>\n",
       "    <tr>\n",
       "      <th>1</th>\n",
       "      <td>1001</td>\n",
       "      <td>surf</td>\n",
       "      <td>9</td>\n",
       "      <td>20.00</td>\n",
       "      <td>Seattle-Tacoma-Bellevue, WA MSA</td>\n",
       "    </tr>\n",
       "    <tr>\n",
       "      <th>2</th>\n",
       "      <td>1001</td>\n",
       "      <td>surf</td>\n",
       "      <td>10</td>\n",
       "      <td>90.09</td>\n",
       "      <td>Seattle-Tacoma-Bellevue, WA MSA</td>\n",
       "    </tr>\n",
       "    <tr>\n",
       "      <th>3</th>\n",
       "      <td>1001</td>\n",
       "      <td>surf</td>\n",
       "      <td>11</td>\n",
       "      <td>60.00</td>\n",
       "      <td>Seattle-Tacoma-Bellevue, WA MSA</td>\n",
       "    </tr>\n",
       "    <tr>\n",
       "      <th>4</th>\n",
       "      <td>1001</td>\n",
       "      <td>surf</td>\n",
       "      <td>12</td>\n",
       "      <td>60.00</td>\n",
       "      <td>Seattle-Tacoma-Bellevue, WA MSA</td>\n",
       "    </tr>\n",
       "  </tbody>\n",
       "</table>\n",
       "</div>"
      ],
      "text/plain": [
       "   user_id  plan  month  total_cost                             city\n",
       "0     1001  surf      8       20.00  Seattle-Tacoma-Bellevue, WA MSA\n",
       "1     1001  surf      9       20.00  Seattle-Tacoma-Bellevue, WA MSA\n",
       "2     1001  surf     10       90.09  Seattle-Tacoma-Bellevue, WA MSA\n",
       "3     1001  surf     11       60.00  Seattle-Tacoma-Bellevue, WA MSA\n",
       "4     1001  surf     12       60.00  Seattle-Tacoma-Bellevue, WA MSA"
      ]
     },
     "execution_count": 89,
     "metadata": {},
     "output_type": "execute_result"
    }
   ],
   "source": [
    "region_totall.head()"
   ]
  },
  {
   "cell_type": "code",
   "execution_count": 90,
   "metadata": {},
   "outputs": [
    {
     "data": {
      "text/html": [
       "<div>\n",
       "<style scoped>\n",
       "    .dataframe tbody tr th:only-of-type {\n",
       "        vertical-align: middle;\n",
       "    }\n",
       "\n",
       "    .dataframe tbody tr th {\n",
       "        vertical-align: top;\n",
       "    }\n",
       "\n",
       "    .dataframe thead th {\n",
       "        text-align: right;\n",
       "    }\n",
       "</style>\n",
       "<table border=\"1\" class=\"dataframe\">\n",
       "  <thead>\n",
       "    <tr style=\"text-align: right;\">\n",
       "      <th></th>\n",
       "      <th>user_id</th>\n",
       "      <th>plan</th>\n",
       "      <th>month</th>\n",
       "      <th>total_cost</th>\n",
       "      <th>city</th>\n",
       "    </tr>\n",
       "  </thead>\n",
       "  <tbody>\n",
       "    <tr>\n",
       "      <th>42</th>\n",
       "      <td>1014</td>\n",
       "      <td>surf</td>\n",
       "      <td>11</td>\n",
       "      <td>20.00</td>\n",
       "      <td>New York-Newark-Jersey City, NY-NJ-PA MSA</td>\n",
       "    </tr>\n",
       "    <tr>\n",
       "      <th>43</th>\n",
       "      <td>1014</td>\n",
       "      <td>surf</td>\n",
       "      <td>12</td>\n",
       "      <td>38.84</td>\n",
       "      <td>New York-Newark-Jersey City, NY-NJ-PA MSA</td>\n",
       "    </tr>\n",
       "    <tr>\n",
       "      <th>61</th>\n",
       "      <td>1022</td>\n",
       "      <td>surf</td>\n",
       "      <td>5</td>\n",
       "      <td>20.00</td>\n",
       "      <td>New York-Newark-Jersey City, NY-NJ-PA MSA</td>\n",
       "    </tr>\n",
       "    <tr>\n",
       "      <th>62</th>\n",
       "      <td>1022</td>\n",
       "      <td>surf</td>\n",
       "      <td>6</td>\n",
       "      <td>100.00</td>\n",
       "      <td>New York-Newark-Jersey City, NY-NJ-PA MSA</td>\n",
       "    </tr>\n",
       "    <tr>\n",
       "      <th>63</th>\n",
       "      <td>1022</td>\n",
       "      <td>surf</td>\n",
       "      <td>7</td>\n",
       "      <td>20.00</td>\n",
       "      <td>New York-Newark-Jersey City, NY-NJ-PA MSA</td>\n",
       "    </tr>\n",
       "  </tbody>\n",
       "</table>\n",
       "</div>"
      ],
      "text/plain": [
       "    user_id  plan  month  total_cost  \\\n",
       "42     1014  surf     11       20.00   \n",
       "43     1014  surf     12       38.84   \n",
       "61     1022  surf      5       20.00   \n",
       "62     1022  surf      6      100.00   \n",
       "63     1022  surf      7       20.00   \n",
       "\n",
       "                                         city  \n",
       "42  New York-Newark-Jersey City, NY-NJ-PA MSA  \n",
       "43  New York-Newark-Jersey City, NY-NJ-PA MSA  \n",
       "61  New York-Newark-Jersey City, NY-NJ-PA MSA  \n",
       "62  New York-Newark-Jersey City, NY-NJ-PA MSA  \n",
       "63  New York-Newark-Jersey City, NY-NJ-PA MSA  "
      ]
     },
     "execution_count": 90,
     "metadata": {},
     "output_type": "execute_result"
    }
   ],
   "source": [
    "ny_nj_users = region_totall[region_totall['city'].str.contains(\"NY-NJ\")]\n",
    "ny_nj_users.head()"
   ]
  },
  {
   "cell_type": "code",
   "execution_count": 91,
   "metadata": {},
   "outputs": [
    {
     "data": {
      "text/html": [
       "<div>\n",
       "<style scoped>\n",
       "    .dataframe tbody tr th:only-of-type {\n",
       "        vertical-align: middle;\n",
       "    }\n",
       "\n",
       "    .dataframe tbody tr th {\n",
       "        vertical-align: top;\n",
       "    }\n",
       "\n",
       "    .dataframe thead th {\n",
       "        text-align: right;\n",
       "    }\n",
       "</style>\n",
       "<table border=\"1\" class=\"dataframe\">\n",
       "  <thead>\n",
       "    <tr style=\"text-align: right;\">\n",
       "      <th></th>\n",
       "      <th>user_id</th>\n",
       "      <th>plan</th>\n",
       "      <th>month</th>\n",
       "      <th>total_cost</th>\n",
       "      <th>city</th>\n",
       "    </tr>\n",
       "  </thead>\n",
       "  <tbody>\n",
       "    <tr>\n",
       "      <th>0</th>\n",
       "      <td>1001</td>\n",
       "      <td>surf</td>\n",
       "      <td>8</td>\n",
       "      <td>20.00</td>\n",
       "      <td>Seattle-Tacoma-Bellevue, WA MSA</td>\n",
       "    </tr>\n",
       "    <tr>\n",
       "      <th>1</th>\n",
       "      <td>1001</td>\n",
       "      <td>surf</td>\n",
       "      <td>9</td>\n",
       "      <td>20.00</td>\n",
       "      <td>Seattle-Tacoma-Bellevue, WA MSA</td>\n",
       "    </tr>\n",
       "    <tr>\n",
       "      <th>2</th>\n",
       "      <td>1001</td>\n",
       "      <td>surf</td>\n",
       "      <td>10</td>\n",
       "      <td>90.09</td>\n",
       "      <td>Seattle-Tacoma-Bellevue, WA MSA</td>\n",
       "    </tr>\n",
       "    <tr>\n",
       "      <th>3</th>\n",
       "      <td>1001</td>\n",
       "      <td>surf</td>\n",
       "      <td>11</td>\n",
       "      <td>60.00</td>\n",
       "      <td>Seattle-Tacoma-Bellevue, WA MSA</td>\n",
       "    </tr>\n",
       "    <tr>\n",
       "      <th>4</th>\n",
       "      <td>1001</td>\n",
       "      <td>surf</td>\n",
       "      <td>12</td>\n",
       "      <td>60.00</td>\n",
       "      <td>Seattle-Tacoma-Bellevue, WA MSA</td>\n",
       "    </tr>\n",
       "  </tbody>\n",
       "</table>\n",
       "</div>"
      ],
      "text/plain": [
       "   user_id  plan  month  total_cost                             city\n",
       "0     1001  surf      8       20.00  Seattle-Tacoma-Bellevue, WA MSA\n",
       "1     1001  surf      9       20.00  Seattle-Tacoma-Bellevue, WA MSA\n",
       "2     1001  surf     10       90.09  Seattle-Tacoma-Bellevue, WA MSA\n",
       "3     1001  surf     11       60.00  Seattle-Tacoma-Bellevue, WA MSA\n",
       "4     1001  surf     12       60.00  Seattle-Tacoma-Bellevue, WA MSA"
      ]
     },
     "execution_count": 91,
     "metadata": {},
     "output_type": "execute_result"
    }
   ],
   "source": [
    "not_ny_nj_users = region_totall[~region_totall['city'].str.contains(\"NY-NJ\")]\n",
    "not_ny_nj_users.head()"
   ]
  },
  {
   "cell_type": "code",
   "execution_count": 92,
   "metadata": {},
   "outputs": [],
   "source": [
    "ny_nj_sample = ny_nj_users['total_cost']"
   ]
  },
  {
   "cell_type": "code",
   "execution_count": 93,
   "metadata": {},
   "outputs": [],
   "source": [
    "other_regions_sample = not_ny_nj_users['total_cost']"
   ]
  },
  {
   "cell_type": "code",
   "execution_count": 94,
   "metadata": {},
   "outputs": [
    {
     "data": {
      "text/plain": [
       "Ttest_indResult(statistic=-2.0194429818968103, pvalue=0.043557431621342436)"
      ]
     },
     "execution_count": 94,
     "metadata": {},
     "output_type": "execute_result"
    }
   ],
   "source": [
    "p_value = stats.ttest_ind(ny_nj_sample, other_regions_sample)\n",
    "p_value"
   ]
  },
  {
   "cell_type": "code",
   "execution_count": 95,
   "metadata": {},
   "outputs": [
    {
     "data": {
      "text/plain": [
       "0.043557431621342436"
      ]
     },
     "execution_count": 95,
     "metadata": {},
     "output_type": "execute_result"
    }
   ],
   "source": [
    "p_value = stats.ttest_ind(ny_nj_sample, other_regions_sample).pvalue\n",
    "p_value"
   ]
  },
  {
   "cell_type": "code",
   "execution_count": 96,
   "metadata": {},
   "outputs": [
    {
     "data": {
      "text/plain": [
       "0"
      ]
     },
     "execution_count": 96,
     "metadata": {},
     "output_type": "execute_result"
    }
   ],
   "source": [
    "# Reviewer's code\n",
    "\n",
    "int(0.043557431621342436)"
   ]
  },
  {
   "cell_type": "code",
   "execution_count": 97,
   "metadata": {},
   "outputs": [
    {
     "name": "stdout",
     "output_type": "stream",
     "text": [
      "Reject H0: average of sample 1 is not equal to average of sample 2\n"
     ]
    }
   ],
   "source": [
    "p_value = p_value.astype(int)\n",
    "alpha=0.05\n",
    "if p_value<alpha:\n",
    "    print('Reject H0: average of sample 1 is not equal to average of sample 2')\n",
    "else:\n",
    "    print('Fail to reject H0: We do not have enough evidences to say the average sample 1 and sample 2 are not the same')"
   ]
  },
  {
   "cell_type": "markdown",
   "metadata": {},
   "source": [
    "# Conclusion\n",
    "\n",
    "\n",
    "We've studied the data of the megaline company, their users, their plan differences, the differences between customers behaviour within surf and ultimate plans. What we found out that there are more users that are in the surf plan than in the ultimate. The surf users write more messages that the ultimate. There is difference between revenue from the surf and the ultimate , the surf is more profitable. The users from NY and NJ brings different revenue to company than the customers from the different regions.\n"
   ]
  },
  {
   "cell_type": "markdown",
   "metadata": {},
   "source": [
    "There is difference between the first and the fixed version, the mean revenue in the surf plan decreased to 40USD( 43 was in the 1 version) But, I still think we should promote this plan as it brings more that the ultimate plan."
   ]
  }
 ],
 "metadata": {
  "ExecuteTimeLog": [
   {
    "duration": 974,
    "start_time": "2021-11-06T17:05:18.238Z"
   },
   {
    "duration": 124,
    "start_time": "2021-11-06T17:05:19.215Z"
   },
   {
    "duration": 91,
    "start_time": "2021-11-06T17:05:19.791Z"
   },
   {
    "duration": 77,
    "start_time": "2021-11-06T17:05:20.001Z"
   },
   {
    "duration": 16,
    "start_time": "2021-11-06T17:05:20.175Z"
   },
   {
    "duration": 35,
    "start_time": "2021-11-06T17:05:20.358Z"
   },
   {
    "duration": 13,
    "start_time": "2021-11-06T17:05:20.543Z"
   },
   {
    "duration": 10,
    "start_time": "2021-11-06T17:05:20.745Z"
   },
   {
    "duration": 8,
    "start_time": "2021-11-06T17:05:22.013Z"
   },
   {
    "duration": 17,
    "start_time": "2021-11-06T17:05:22.186Z"
   },
   {
    "duration": 12,
    "start_time": "2021-11-06T17:05:22.378Z"
   },
   {
    "duration": 14,
    "start_time": "2021-11-06T17:05:22.592Z"
   },
   {
    "duration": 8,
    "start_time": "2021-11-06T17:05:23.352Z"
   },
   {
    "duration": 12,
    "start_time": "2021-11-06T17:05:24.280Z"
   },
   {
    "duration": 7,
    "start_time": "2021-11-06T17:06:36.666Z"
   },
   {
    "duration": 11,
    "start_time": "2021-11-06T17:07:53.302Z"
   },
   {
    "duration": 39,
    "start_time": "2021-11-06T17:13:40.709Z"
   },
   {
    "duration": 9,
    "start_time": "2021-11-06T17:13:56.465Z"
   },
   {
    "duration": 9,
    "start_time": "2021-11-06T17:14:57.407Z"
   },
   {
    "duration": 29,
    "start_time": "2021-11-06T17:14:57.902Z"
   },
   {
    "duration": 9,
    "start_time": "2021-11-06T17:14:58.399Z"
   },
   {
    "duration": 23,
    "start_time": "2021-11-06T17:15:56.993Z"
   },
   {
    "duration": 8,
    "start_time": "2021-11-06T17:15:57.449Z"
   },
   {
    "duration": 424,
    "start_time": "2021-11-06T17:21:06.660Z"
   },
   {
    "duration": 1497,
    "start_time": "2021-11-06T17:21:15.344Z"
   },
   {
    "duration": 407,
    "start_time": "2021-11-06T17:21:29.907Z"
   },
   {
    "duration": 384,
    "start_time": "2021-11-06T17:22:27.926Z"
   },
   {
    "duration": 123,
    "start_time": "2021-11-06T17:24:29.158Z"
   },
   {
    "duration": 337,
    "start_time": "2021-11-06T17:24:38.733Z"
   },
   {
    "duration": 328,
    "start_time": "2021-11-06T17:24:54.767Z"
   },
   {
    "duration": 360,
    "start_time": "2021-11-06T17:26:04.812Z"
   },
   {
    "duration": 705,
    "start_time": "2021-11-06T18:06:44.944Z"
   },
   {
    "duration": 116,
    "start_time": "2021-11-06T18:06:45.650Z"
   },
   {
    "duration": 88,
    "start_time": "2021-11-06T18:06:45.768Z"
   },
   {
    "duration": 60,
    "start_time": "2021-11-06T18:06:45.858Z"
   },
   {
    "duration": 16,
    "start_time": "2021-11-06T18:06:45.919Z"
   },
   {
    "duration": 44,
    "start_time": "2021-11-06T18:06:45.937Z"
   },
   {
    "duration": 12,
    "start_time": "2021-11-06T18:06:45.983Z"
   },
   {
    "duration": 11,
    "start_time": "2021-11-06T18:06:45.997Z"
   },
   {
    "duration": 7,
    "start_time": "2021-11-06T18:06:46.011Z"
   },
   {
    "duration": 11,
    "start_time": "2021-11-06T18:06:46.020Z"
   },
   {
    "duration": 25,
    "start_time": "2021-11-06T18:06:46.033Z"
   },
   {
    "duration": 11,
    "start_time": "2021-11-06T18:06:46.061Z"
   },
   {
    "duration": 49,
    "start_time": "2021-11-06T18:06:46.074Z"
   },
   {
    "duration": 14,
    "start_time": "2021-11-06T18:06:46.125Z"
   },
   {
    "duration": 23,
    "start_time": "2021-11-06T18:06:46.142Z"
   },
   {
    "duration": 51,
    "start_time": "2021-11-06T18:06:46.167Z"
   },
   {
    "duration": 9,
    "start_time": "2021-11-06T18:06:46.220Z"
   },
   {
    "duration": 34,
    "start_time": "2021-11-06T18:06:46.231Z"
   },
   {
    "duration": 9,
    "start_time": "2021-11-06T18:06:46.267Z"
   },
   {
    "duration": 44,
    "start_time": "2021-11-06T18:06:46.278Z"
   },
   {
    "duration": 8,
    "start_time": "2021-11-06T18:06:46.323Z"
   },
   {
    "duration": 9,
    "start_time": "2021-11-06T18:06:46.333Z"
   },
   {
    "duration": 11,
    "start_time": "2021-11-06T18:14:23.055Z"
   },
   {
    "duration": 8,
    "start_time": "2021-11-06T18:55:31.177Z"
   },
   {
    "duration": 457,
    "start_time": "2021-11-06T18:57:44.448Z"
   },
   {
    "duration": 31,
    "start_time": "2021-11-06T18:57:55.272Z"
   },
   {
    "duration": 8,
    "start_time": "2021-11-06T18:58:36.624Z"
   },
   {
    "duration": 7,
    "start_time": "2021-11-06T18:58:43.905Z"
   },
   {
    "duration": 8,
    "start_time": "2021-11-06T18:58:54.605Z"
   },
   {
    "duration": 374,
    "start_time": "2021-11-06T18:59:45.990Z"
   },
   {
    "duration": 388,
    "start_time": "2021-11-06T19:00:02.617Z"
   },
   {
    "duration": 348,
    "start_time": "2021-11-06T19:00:11.142Z"
   },
   {
    "duration": 973,
    "start_time": "2021-11-07T17:50:58.696Z"
   },
   {
    "duration": 183,
    "start_time": "2021-11-07T17:51:02.909Z"
   },
   {
    "duration": 113,
    "start_time": "2021-11-07T17:51:05.024Z"
   },
   {
    "duration": 91,
    "start_time": "2021-11-07T17:51:05.863Z"
   },
   {
    "duration": 17,
    "start_time": "2021-11-07T17:51:06.532Z"
   },
   {
    "duration": 27,
    "start_time": "2021-11-07T17:51:07.148Z"
   },
   {
    "duration": 19,
    "start_time": "2021-11-07T17:51:07.448Z"
   },
   {
    "duration": 15,
    "start_time": "2021-11-07T17:51:07.756Z"
   },
   {
    "duration": 9,
    "start_time": "2021-11-07T17:51:08.207Z"
   },
   {
    "duration": 12,
    "start_time": "2021-11-07T17:51:09.188Z"
   },
   {
    "duration": 24,
    "start_time": "2021-11-07T17:51:12.874Z"
   },
   {
    "duration": 12,
    "start_time": "2021-11-07T17:51:13.752Z"
   },
   {
    "duration": 19,
    "start_time": "2021-11-07T17:51:14.387Z"
   },
   {
    "duration": 10,
    "start_time": "2021-11-07T17:51:15.023Z"
   },
   {
    "duration": 14,
    "start_time": "2021-11-07T17:51:22.424Z"
   },
   {
    "duration": 51,
    "start_time": "2021-11-07T17:51:29.941Z"
   },
   {
    "duration": 13,
    "start_time": "2021-11-07T17:51:30.783Z"
   },
   {
    "duration": 39,
    "start_time": "2021-11-07T17:51:47.069Z"
   },
   {
    "duration": 12,
    "start_time": "2021-11-07T17:51:50.542Z"
   },
   {
    "duration": 29,
    "start_time": "2021-11-07T17:51:51.269Z"
   },
   {
    "duration": 12,
    "start_time": "2021-11-07T17:51:52.094Z"
   },
   {
    "duration": 6,
    "start_time": "2021-11-07T17:51:52.896Z"
   },
   {
    "duration": 46,
    "start_time": "2021-11-07T17:51:55.559Z"
   },
   {
    "duration": 11,
    "start_time": "2021-11-07T17:51:56.237Z"
   },
   {
    "duration": 10,
    "start_time": "2021-11-07T17:51:56.807Z"
   },
   {
    "duration": 11,
    "start_time": "2021-11-07T17:51:57.440Z"
   },
   {
    "duration": 467,
    "start_time": "2021-11-07T17:52:01.189Z"
   },
   {
    "duration": 10,
    "start_time": "2021-11-07T18:03:09.099Z"
   },
   {
    "duration": 14,
    "start_time": "2021-11-07T18:03:49.154Z"
   },
   {
    "duration": 26,
    "start_time": "2021-11-07T18:04:21.628Z"
   },
   {
    "duration": 14,
    "start_time": "2021-11-07T18:04:59.552Z"
   },
   {
    "duration": 15,
    "start_time": "2021-11-07T18:05:09.726Z"
   },
   {
    "duration": 266,
    "start_time": "2021-11-07T18:06:08.741Z"
   },
   {
    "duration": 260,
    "start_time": "2021-11-07T18:06:29.754Z"
   },
   {
    "duration": 261,
    "start_time": "2021-11-07T18:06:42.337Z"
   },
   {
    "duration": 16,
    "start_time": "2021-11-07T18:07:27.804Z"
   },
   {
    "duration": 14,
    "start_time": "2021-11-07T18:12:42.960Z"
   },
   {
    "duration": 15,
    "start_time": "2021-11-07T18:13:16.444Z"
   },
   {
    "duration": 14,
    "start_time": "2021-11-07T18:13:37.619Z"
   },
   {
    "duration": 877,
    "start_time": "2021-11-07T18:13:55.727Z"
   },
   {
    "duration": 169,
    "start_time": "2021-11-07T18:13:56.607Z"
   },
   {
    "duration": 122,
    "start_time": "2021-11-07T18:13:56.779Z"
   },
   {
    "duration": 181,
    "start_time": "2021-11-07T18:13:56.904Z"
   },
   {
    "duration": 17,
    "start_time": "2021-11-07T18:13:57.087Z"
   },
   {
    "duration": 29,
    "start_time": "2021-11-07T18:13:57.106Z"
   },
   {
    "duration": 38,
    "start_time": "2021-11-07T18:13:57.137Z"
   },
   {
    "duration": 14,
    "start_time": "2021-11-07T18:13:57.179Z"
   },
   {
    "duration": 11,
    "start_time": "2021-11-07T18:13:57.195Z"
   },
   {
    "duration": 31,
    "start_time": "2021-11-07T18:13:57.209Z"
   },
   {
    "duration": 28,
    "start_time": "2021-11-07T18:13:57.243Z"
   },
   {
    "duration": 13,
    "start_time": "2021-11-07T18:13:57.273Z"
   },
   {
    "duration": 50,
    "start_time": "2021-11-07T18:13:57.288Z"
   },
   {
    "duration": 11,
    "start_time": "2021-11-07T18:13:57.341Z"
   },
   {
    "duration": 15,
    "start_time": "2021-11-07T18:13:57.355Z"
   },
   {
    "duration": 79,
    "start_time": "2021-11-07T18:13:57.372Z"
   },
   {
    "duration": 12,
    "start_time": "2021-11-07T18:13:57.454Z"
   },
   {
    "duration": 65,
    "start_time": "2021-11-07T18:13:57.468Z"
   },
   {
    "duration": 13,
    "start_time": "2021-11-07T18:13:57.535Z"
   },
   {
    "duration": 32,
    "start_time": "2021-11-07T18:13:57.551Z"
   },
   {
    "duration": 11,
    "start_time": "2021-11-07T18:13:57.586Z"
   },
   {
    "duration": 8,
    "start_time": "2021-11-07T18:13:57.628Z"
   },
   {
    "duration": 88,
    "start_time": "2021-11-07T18:13:57.643Z"
   },
   {
    "duration": 12,
    "start_time": "2021-11-07T18:13:57.734Z"
   },
   {
    "duration": 30,
    "start_time": "2021-11-07T18:13:57.749Z"
   },
   {
    "duration": 11,
    "start_time": "2021-11-07T18:13:57.782Z"
   },
   {
    "duration": 46,
    "start_time": "2021-11-07T18:13:57.796Z"
   },
   {
    "duration": 10,
    "start_time": "2021-11-07T18:14:41.222Z"
   },
   {
    "duration": 351,
    "start_time": "2021-11-07T18:30:06.404Z"
   },
   {
    "duration": 8,
    "start_time": "2021-11-07T18:30:19.234Z"
   },
   {
    "duration": 5,
    "start_time": "2021-11-07T18:30:32.565Z"
   },
   {
    "duration": 4,
    "start_time": "2021-11-07T18:30:40.443Z"
   },
   {
    "duration": 904,
    "start_time": "2021-11-07T18:49:53.505Z"
   },
   {
    "duration": 151,
    "start_time": "2021-11-07T18:49:54.412Z"
   },
   {
    "duration": 120,
    "start_time": "2021-11-07T18:49:54.566Z"
   },
   {
    "duration": 83,
    "start_time": "2021-11-07T18:49:54.690Z"
   },
   {
    "duration": 17,
    "start_time": "2021-11-07T18:49:54.775Z"
   },
   {
    "duration": 38,
    "start_time": "2021-11-07T18:49:54.795Z"
   },
   {
    "duration": 17,
    "start_time": "2021-11-07T18:49:54.835Z"
   },
   {
    "duration": 14,
    "start_time": "2021-11-07T18:49:54.856Z"
   },
   {
    "duration": 11,
    "start_time": "2021-11-07T18:49:54.873Z"
   },
   {
    "duration": 43,
    "start_time": "2021-11-07T18:49:54.886Z"
   },
   {
    "duration": 9,
    "start_time": "2021-11-07T18:49:54.931Z"
   },
   {
    "duration": 21,
    "start_time": "2021-11-07T18:49:54.942Z"
   },
   {
    "duration": 13,
    "start_time": "2021-11-07T18:49:54.965Z"
   },
   {
    "duration": 55,
    "start_time": "2021-11-07T18:49:54.980Z"
   },
   {
    "duration": 11,
    "start_time": "2021-11-07T18:49:55.037Z"
   },
   {
    "duration": 22,
    "start_time": "2021-11-07T18:49:55.051Z"
   },
   {
    "duration": 73,
    "start_time": "2021-11-07T18:49:55.076Z"
   },
   {
    "duration": 13,
    "start_time": "2021-11-07T18:49:55.152Z"
   },
   {
    "duration": 46,
    "start_time": "2021-11-07T18:49:55.168Z"
   },
   {
    "duration": 13,
    "start_time": "2021-11-07T18:49:55.228Z"
   },
   {
    "duration": 39,
    "start_time": "2021-11-07T18:49:55.243Z"
   },
   {
    "duration": 11,
    "start_time": "2021-11-07T18:49:55.285Z"
   },
   {
    "duration": 30,
    "start_time": "2021-11-07T18:49:55.299Z"
   },
   {
    "duration": 51,
    "start_time": "2021-11-07T18:49:55.332Z"
   },
   {
    "duration": 11,
    "start_time": "2021-11-07T18:49:55.385Z"
   },
   {
    "duration": 39,
    "start_time": "2021-11-07T18:49:55.398Z"
   },
   {
    "duration": 18,
    "start_time": "2021-11-07T18:49:55.439Z"
   },
   {
    "duration": 23,
    "start_time": "2021-11-07T18:49:55.460Z"
   },
   {
    "duration": 3,
    "start_time": "2021-11-07T18:50:02.822Z"
   },
   {
    "duration": 149,
    "start_time": "2021-11-07T18:50:03.360Z"
   },
   {
    "duration": 115,
    "start_time": "2021-11-07T18:50:03.846Z"
   },
   {
    "duration": 74,
    "start_time": "2021-11-07T18:50:04.262Z"
   },
   {
    "duration": 18,
    "start_time": "2021-11-07T18:50:04.616Z"
   },
   {
    "duration": 28,
    "start_time": "2021-11-07T18:50:05.085Z"
   },
   {
    "duration": 13,
    "start_time": "2021-11-07T18:50:05.548Z"
   },
   {
    "duration": 15,
    "start_time": "2021-11-07T18:50:05.915Z"
   },
   {
    "duration": 9,
    "start_time": "2021-11-07T18:50:06.245Z"
   },
   {
    "duration": 13,
    "start_time": "2021-11-07T18:50:06.565Z"
   },
   {
    "duration": 7,
    "start_time": "2021-11-07T18:50:06.901Z"
   },
   {
    "duration": 23,
    "start_time": "2021-11-07T18:50:07.364Z"
   },
   {
    "duration": 11,
    "start_time": "2021-11-07T18:50:07.769Z"
   },
   {
    "duration": 21,
    "start_time": "2021-11-07T18:50:08.089Z"
   },
   {
    "duration": 11,
    "start_time": "2021-11-07T18:50:08.927Z"
   },
   {
    "duration": 16,
    "start_time": "2021-11-07T18:50:09.151Z"
   },
   {
    "duration": 59,
    "start_time": "2021-11-07T18:50:09.365Z"
   },
   {
    "duration": 13,
    "start_time": "2021-11-07T18:50:09.583Z"
   },
   {
    "duration": 39,
    "start_time": "2021-11-07T18:50:09.783Z"
   },
   {
    "duration": 13,
    "start_time": "2021-11-07T18:50:09.983Z"
   },
   {
    "duration": 30,
    "start_time": "2021-11-07T18:50:10.202Z"
   },
   {
    "duration": 14,
    "start_time": "2021-11-07T18:50:10.395Z"
   },
   {
    "duration": 6,
    "start_time": "2021-11-07T18:50:10.608Z"
   },
   {
    "duration": 47,
    "start_time": "2021-11-07T18:50:10.858Z"
   },
   {
    "duration": 12,
    "start_time": "2021-11-07T18:50:11.016Z"
   },
   {
    "duration": 11,
    "start_time": "2021-11-07T18:50:11.212Z"
   },
   {
    "duration": 12,
    "start_time": "2021-11-07T18:50:11.441Z"
   },
   {
    "duration": 11,
    "start_time": "2021-11-07T18:50:11.629Z"
   },
   {
    "duration": 7,
    "start_time": "2021-11-07T18:51:07.841Z"
   },
   {
    "duration": 6,
    "start_time": "2021-11-07T18:51:30.061Z"
   },
   {
    "duration": 6,
    "start_time": "2021-11-07T18:52:14.305Z"
   },
   {
    "duration": 8,
    "start_time": "2021-11-07T18:52:58.594Z"
   },
   {
    "duration": 3,
    "start_time": "2021-11-07T18:56:21.588Z"
   },
   {
    "duration": 147,
    "start_time": "2021-11-07T18:56:23.297Z"
   },
   {
    "duration": 110,
    "start_time": "2021-11-07T18:56:23.778Z"
   },
   {
    "duration": 73,
    "start_time": "2021-11-07T18:56:24.110Z"
   },
   {
    "duration": 17,
    "start_time": "2021-11-07T18:56:24.329Z"
   },
   {
    "duration": 26,
    "start_time": "2021-11-07T18:56:24.481Z"
   },
   {
    "duration": 13,
    "start_time": "2021-11-07T18:56:24.658Z"
   },
   {
    "duration": 15,
    "start_time": "2021-11-07T18:56:24.846Z"
   },
   {
    "duration": 9,
    "start_time": "2021-11-07T18:56:25.020Z"
   },
   {
    "duration": 11,
    "start_time": "2021-11-07T18:56:25.214Z"
   },
   {
    "duration": 7,
    "start_time": "2021-11-07T18:56:25.398Z"
   },
   {
    "duration": 22,
    "start_time": "2021-11-07T18:56:25.584Z"
   },
   {
    "duration": 11,
    "start_time": "2021-11-07T18:56:25.756Z"
   },
   {
    "duration": 18,
    "start_time": "2021-11-07T18:56:25.944Z"
   },
   {
    "duration": 10,
    "start_time": "2021-11-07T18:56:26.136Z"
   },
   {
    "duration": 16,
    "start_time": "2021-11-07T18:56:26.338Z"
   },
   {
    "duration": 51,
    "start_time": "2021-11-07T18:56:26.547Z"
   },
   {
    "duration": 12,
    "start_time": "2021-11-07T18:56:26.740Z"
   },
   {
    "duration": 38,
    "start_time": "2021-11-07T18:56:26.932Z"
   },
   {
    "duration": 12,
    "start_time": "2021-11-07T18:56:27.120Z"
   },
   {
    "duration": 29,
    "start_time": "2021-11-07T18:56:27.338Z"
   },
   {
    "duration": 11,
    "start_time": "2021-11-07T18:56:27.654Z"
   },
   {
    "duration": 5,
    "start_time": "2021-11-07T18:56:28.009Z"
   },
   {
    "duration": 40,
    "start_time": "2021-11-07T18:56:28.358Z"
   },
   {
    "duration": 10,
    "start_time": "2021-11-07T18:56:28.856Z"
   },
   {
    "duration": 10,
    "start_time": "2021-11-07T18:56:29.425Z"
   },
   {
    "duration": 11,
    "start_time": "2021-11-07T18:56:32.753Z"
   },
   {
    "duration": 14,
    "start_time": "2021-11-07T18:56:33.425Z"
   },
   {
    "duration": 25,
    "start_time": "2021-11-07T19:00:37.935Z"
   },
   {
    "duration": 369,
    "start_time": "2021-11-07T19:00:52.740Z"
   },
   {
    "duration": 15,
    "start_time": "2021-11-07T19:01:03.628Z"
   },
   {
    "duration": 16,
    "start_time": "2021-11-07T19:01:33.777Z"
   },
   {
    "duration": 17,
    "start_time": "2021-11-07T19:01:45.233Z"
   },
   {
    "duration": 26,
    "start_time": "2021-11-07T19:06:14.832Z"
   },
   {
    "duration": 17,
    "start_time": "2021-11-07T19:06:15.646Z"
   },
   {
    "duration": 12,
    "start_time": "2021-11-07T19:06:21.431Z"
   },
   {
    "duration": 23,
    "start_time": "2021-11-07T19:06:22.259Z"
   },
   {
    "duration": 17,
    "start_time": "2021-11-07T19:06:23.159Z"
   },
   {
    "duration": 1503,
    "start_time": "2021-11-07T19:06:24.810Z"
   },
   {
    "duration": 4,
    "start_time": "2021-11-07T19:06:38.200Z"
   },
   {
    "duration": 141,
    "start_time": "2021-11-07T19:06:38.532Z"
   },
   {
    "duration": 112,
    "start_time": "2021-11-07T19:06:38.872Z"
   },
   {
    "duration": 75,
    "start_time": "2021-11-07T19:06:39.132Z"
   },
   {
    "duration": 18,
    "start_time": "2021-11-07T19:06:39.341Z"
   },
   {
    "duration": 26,
    "start_time": "2021-11-07T19:06:39.506Z"
   },
   {
    "duration": 14,
    "start_time": "2021-11-07T19:06:39.685Z"
   },
   {
    "duration": 14,
    "start_time": "2021-11-07T19:06:39.870Z"
   },
   {
    "duration": 9,
    "start_time": "2021-11-07T19:06:40.072Z"
   },
   {
    "duration": 12,
    "start_time": "2021-11-07T19:06:40.274Z"
   },
   {
    "duration": 7,
    "start_time": "2021-11-07T19:06:40.478Z"
   },
   {
    "duration": 22,
    "start_time": "2021-11-07T19:06:40.686Z"
   },
   {
    "duration": 12,
    "start_time": "2021-11-07T19:06:40.880Z"
   },
   {
    "duration": 20,
    "start_time": "2021-11-07T19:06:41.078Z"
   },
   {
    "duration": 11,
    "start_time": "2021-11-07T19:06:41.290Z"
   },
   {
    "duration": 15,
    "start_time": "2021-11-07T19:06:41.482Z"
   },
   {
    "duration": 50,
    "start_time": "2021-11-07T19:06:41.734Z"
   },
   {
    "duration": 13,
    "start_time": "2021-11-07T19:06:42.070Z"
   },
   {
    "duration": 40,
    "start_time": "2021-11-07T19:06:42.284Z"
   },
   {
    "duration": 13,
    "start_time": "2021-11-07T19:06:42.532Z"
   },
   {
    "duration": 31,
    "start_time": "2021-11-07T19:06:42.722Z"
   },
   {
    "duration": 12,
    "start_time": "2021-11-07T19:06:42.924Z"
   },
   {
    "duration": 6,
    "start_time": "2021-11-07T19:06:43.130Z"
   },
   {
    "duration": 40,
    "start_time": "2021-11-07T19:06:43.335Z"
   },
   {
    "duration": 13,
    "start_time": "2021-11-07T19:06:43.546Z"
   },
   {
    "duration": 11,
    "start_time": "2021-11-07T19:06:43.811Z"
   },
   {
    "duration": 11,
    "start_time": "2021-11-07T19:06:44.337Z"
   },
   {
    "duration": 29,
    "start_time": "2021-11-07T19:06:44.762Z"
   },
   {
    "duration": 16,
    "start_time": "2021-11-07T19:06:45.213Z"
   },
   {
    "duration": 6,
    "start_time": "2021-11-07T19:08:13.922Z"
   },
   {
    "duration": 14,
    "start_time": "2021-11-07T19:08:40.261Z"
   },
   {
    "duration": 4,
    "start_time": "2021-11-07T19:09:04.062Z"
   },
   {
    "duration": 13,
    "start_time": "2021-11-07T19:09:24.030Z"
   },
   {
    "duration": 312,
    "start_time": "2021-11-07T19:20:20.550Z"
   },
   {
    "duration": 6,
    "start_time": "2021-11-07T19:20:39.030Z"
   },
   {
    "duration": 15,
    "start_time": "2021-11-07T19:20:45.096Z"
   },
   {
    "duration": 6,
    "start_time": "2021-11-07T19:20:45.788Z"
   },
   {
    "duration": 10,
    "start_time": "2021-11-07T19:21:02.030Z"
   },
   {
    "duration": 249,
    "start_time": "2021-11-07T19:21:24.988Z"
   },
   {
    "duration": 269,
    "start_time": "2021-11-07T19:21:42.017Z"
   },
   {
    "duration": 7,
    "start_time": "2021-11-07T19:21:54.697Z"
   },
   {
    "duration": 259,
    "start_time": "2021-11-07T19:22:29.019Z"
   },
   {
    "duration": 322,
    "start_time": "2021-11-07T19:22:48.866Z"
   },
   {
    "duration": 857,
    "start_time": "2021-11-07T19:49:37.030Z"
   },
   {
    "duration": 154,
    "start_time": "2021-11-07T19:49:37.890Z"
   },
   {
    "duration": 115,
    "start_time": "2021-11-07T19:49:38.047Z"
   },
   {
    "duration": 77,
    "start_time": "2021-11-07T19:49:38.165Z"
   },
   {
    "duration": 17,
    "start_time": "2021-11-07T19:49:38.244Z"
   },
   {
    "duration": 36,
    "start_time": "2021-11-07T19:49:38.264Z"
   },
   {
    "duration": 17,
    "start_time": "2021-11-07T19:49:38.302Z"
   },
   {
    "duration": 14,
    "start_time": "2021-11-07T19:49:38.323Z"
   },
   {
    "duration": 364,
    "start_time": "2021-11-07T19:49:38.340Z"
   },
   {
    "duration": -26623,
    "start_time": "2021-11-07T19:50:05.330Z"
   },
   {
    "duration": -26625,
    "start_time": "2021-11-07T19:50:05.333Z"
   },
   {
    "duration": -26628,
    "start_time": "2021-11-07T19:50:05.337Z"
   },
   {
    "duration": -26628,
    "start_time": "2021-11-07T19:50:05.339Z"
   },
   {
    "duration": -26630,
    "start_time": "2021-11-07T19:50:05.342Z"
   },
   {
    "duration": -26632,
    "start_time": "2021-11-07T19:50:05.345Z"
   },
   {
    "duration": -26633,
    "start_time": "2021-11-07T19:50:05.347Z"
   },
   {
    "duration": -26632,
    "start_time": "2021-11-07T19:50:05.349Z"
   },
   {
    "duration": -26633,
    "start_time": "2021-11-07T19:50:05.351Z"
   },
   {
    "duration": -26740,
    "start_time": "2021-11-07T19:50:05.459Z"
   },
   {
    "duration": -26852,
    "start_time": "2021-11-07T19:50:05.573Z"
   },
   {
    "duration": -26853,
    "start_time": "2021-11-07T19:50:05.575Z"
   },
   {
    "duration": -26855,
    "start_time": "2021-11-07T19:50:05.578Z"
   },
   {
    "duration": -26855,
    "start_time": "2021-11-07T19:50:05.579Z"
   },
   {
    "duration": -26855,
    "start_time": "2021-11-07T19:50:05.581Z"
   },
   {
    "duration": -26856,
    "start_time": "2021-11-07T19:50:05.583Z"
   },
   {
    "duration": -26960,
    "start_time": "2021-11-07T19:50:05.689Z"
   },
   {
    "duration": -26964,
    "start_time": "2021-11-07T19:50:05.694Z"
   },
   {
    "duration": -26970,
    "start_time": "2021-11-07T19:50:05.702Z"
   },
   {
    "duration": -26971,
    "start_time": "2021-11-07T19:50:05.704Z"
   },
   {
    "duration": -26972,
    "start_time": "2021-11-07T19:50:05.706Z"
   },
   {
    "duration": -26972,
    "start_time": "2021-11-07T19:50:05.708Z"
   },
   {
    "duration": -26973,
    "start_time": "2021-11-07T19:50:05.710Z"
   },
   {
    "duration": -27066,
    "start_time": "2021-11-07T19:50:05.805Z"
   },
   {
    "duration": -27086,
    "start_time": "2021-11-07T19:50:05.826Z"
   },
   {
    "duration": -27091,
    "start_time": "2021-11-07T19:50:05.833Z"
   },
   {
    "duration": -27094,
    "start_time": "2021-11-07T19:50:05.837Z"
   },
   {
    "duration": 4,
    "start_time": "2021-11-07T19:50:02.534Z"
   },
   {
    "duration": 165,
    "start_time": "2021-11-07T19:50:02.910Z"
   },
   {
    "duration": 121,
    "start_time": "2021-11-07T19:50:03.295Z"
   },
   {
    "duration": 77,
    "start_time": "2021-11-07T19:50:03.616Z"
   },
   {
    "duration": 17,
    "start_time": "2021-11-07T19:50:04.152Z"
   },
   {
    "duration": 27,
    "start_time": "2021-11-07T19:50:04.877Z"
   },
   {
    "duration": 12,
    "start_time": "2021-11-07T19:50:05.446Z"
   },
   {
    "duration": 14,
    "start_time": "2021-11-07T19:50:06.761Z"
   },
   {
    "duration": 353,
    "start_time": "2021-11-07T19:50:07.581Z"
   },
   {
    "duration": 604,
    "start_time": "2021-11-07T19:50:17.274Z"
   },
   {
    "duration": 9,
    "start_time": "2021-11-07T19:50:18.934Z"
   },
   {
    "duration": 4,
    "start_time": "2021-11-07T19:50:34.612Z"
   },
   {
    "duration": 143,
    "start_time": "2021-11-07T19:50:34.881Z"
   },
   {
    "duration": 119,
    "start_time": "2021-11-07T19:50:35.103Z"
   },
   {
    "duration": 77,
    "start_time": "2021-11-07T19:50:35.333Z"
   },
   {
    "duration": 17,
    "start_time": "2021-11-07T19:50:35.532Z"
   },
   {
    "duration": 26,
    "start_time": "2021-11-07T19:50:35.762Z"
   },
   {
    "duration": 13,
    "start_time": "2021-11-07T19:50:36.945Z"
   },
   {
    "duration": 16,
    "start_time": "2021-11-07T19:50:38.596Z"
   },
   {
    "duration": 264,
    "start_time": "2021-11-07T19:50:40.422Z"
   },
   {
    "duration": 9,
    "start_time": "2021-11-07T19:50:46.067Z"
   },
   {
    "duration": 12,
    "start_time": "2021-11-07T19:50:46.658Z"
   },
   {
    "duration": 6,
    "start_time": "2021-11-07T19:50:47.146Z"
   },
   {
    "duration": 21,
    "start_time": "2021-11-07T19:50:47.558Z"
   },
   {
    "duration": 12,
    "start_time": "2021-11-07T19:50:48.494Z"
   },
   {
    "duration": 20,
    "start_time": "2021-11-07T19:50:48.508Z"
   },
   {
    "duration": 11,
    "start_time": "2021-11-07T19:50:48.748Z"
   },
   {
    "duration": 15,
    "start_time": "2021-11-07T19:50:49.088Z"
   },
   {
    "duration": 48,
    "start_time": "2021-11-07T19:50:49.572Z"
   },
   {
    "duration": 13,
    "start_time": "2021-11-07T19:50:49.867Z"
   },
   {
    "duration": 38,
    "start_time": "2021-11-07T19:50:50.598Z"
   },
   {
    "duration": 13,
    "start_time": "2021-11-07T19:50:51.177Z"
   },
   {
    "duration": 29,
    "start_time": "2021-11-07T19:50:51.881Z"
   },
   {
    "duration": 12,
    "start_time": "2021-11-07T19:50:52.311Z"
   },
   {
    "duration": 6,
    "start_time": "2021-11-07T19:50:52.620Z"
   },
   {
    "duration": 40,
    "start_time": "2021-11-07T19:50:52.945Z"
   },
   {
    "duration": 11,
    "start_time": "2021-11-07T19:50:53.249Z"
   },
   {
    "duration": 11,
    "start_time": "2021-11-07T19:50:53.901Z"
   },
   {
    "duration": 11,
    "start_time": "2021-11-07T19:50:53.915Z"
   },
   {
    "duration": 285,
    "start_time": "2021-11-07T19:50:54.089Z"
   },
   {
    "duration": 245,
    "start_time": "2021-11-07T19:50:54.382Z"
   },
   {
    "duration": 23,
    "start_time": "2021-11-07T19:51:36.081Z"
   },
   {
    "duration": 18,
    "start_time": "2021-11-07T19:51:38.392Z"
   },
   {
    "duration": 10,
    "start_time": "2021-11-07T19:51:44.480Z"
   },
   {
    "duration": 13,
    "start_time": "2021-11-07T19:51:44.565Z"
   },
   {
    "duration": 13,
    "start_time": "2021-11-07T19:51:52.516Z"
   },
   {
    "duration": 4,
    "start_time": "2021-11-07T19:51:53.482Z"
   },
   {
    "duration": 13,
    "start_time": "2021-11-07T19:51:54.297Z"
   },
   {
    "duration": 140,
    "start_time": "2021-11-07T19:51:55.026Z"
   },
   {
    "duration": 270,
    "start_time": "2021-11-07T19:52:05.964Z"
   },
   {
    "duration": 15,
    "start_time": "2021-11-07T19:53:40.562Z"
   },
   {
    "duration": 20,
    "start_time": "2021-11-07T19:53:59.727Z"
   },
   {
    "duration": 19,
    "start_time": "2021-11-07T19:54:27.936Z"
   },
   {
    "duration": 11,
    "start_time": "2021-11-07T19:58:38.404Z"
   },
   {
    "duration": 12,
    "start_time": "2021-11-07T19:58:50.176Z"
   },
   {
    "duration": 4,
    "start_time": "2021-11-07T19:59:36.155Z"
   },
   {
    "duration": 825,
    "start_time": "2021-11-08T17:19:49.955Z"
   },
   {
    "duration": 153,
    "start_time": "2021-11-08T17:19:50.783Z"
   },
   {
    "duration": 120,
    "start_time": "2021-11-08T17:19:50.939Z"
   },
   {
    "duration": 75,
    "start_time": "2021-11-08T17:19:51.061Z"
   },
   {
    "duration": 16,
    "start_time": "2021-11-08T17:19:51.138Z"
   },
   {
    "duration": 33,
    "start_time": "2021-11-08T17:19:51.157Z"
   },
   {
    "duration": 18,
    "start_time": "2021-11-08T17:19:51.347Z"
   },
   {
    "duration": 13,
    "start_time": "2021-11-08T17:19:51.569Z"
   },
   {
    "duration": 10,
    "start_time": "2021-11-08T17:19:51.763Z"
   },
   {
    "duration": 12,
    "start_time": "2021-11-08T17:19:51.969Z"
   },
   {
    "duration": 7,
    "start_time": "2021-11-08T17:19:52.170Z"
   },
   {
    "duration": 21,
    "start_time": "2021-11-08T17:19:52.369Z"
   },
   {
    "duration": 13,
    "start_time": "2021-11-08T17:19:52.555Z"
   },
   {
    "duration": 19,
    "start_time": "2021-11-08T17:19:52.761Z"
   },
   {
    "duration": 11,
    "start_time": "2021-11-08T17:19:53.108Z"
   },
   {
    "duration": 16,
    "start_time": "2021-11-08T17:19:53.323Z"
   },
   {
    "duration": 51,
    "start_time": "2021-11-08T17:19:53.508Z"
   },
   {
    "duration": 12,
    "start_time": "2021-11-08T17:19:53.702Z"
   },
   {
    "duration": 40,
    "start_time": "2021-11-08T17:19:53.889Z"
   },
   {
    "duration": 13,
    "start_time": "2021-11-08T17:19:54.086Z"
   },
   {
    "duration": 29,
    "start_time": "2021-11-08T17:19:54.278Z"
   },
   {
    "duration": 11,
    "start_time": "2021-11-08T17:19:54.488Z"
   },
   {
    "duration": 6,
    "start_time": "2021-11-08T17:19:54.664Z"
   },
   {
    "duration": 44,
    "start_time": "2021-11-08T17:19:54.869Z"
   },
   {
    "duration": 10,
    "start_time": "2021-11-08T17:19:55.088Z"
   },
   {
    "duration": 10,
    "start_time": "2021-11-08T17:19:55.260Z"
   },
   {
    "duration": 11,
    "start_time": "2021-11-08T17:19:55.460Z"
   },
   {
    "duration": 23,
    "start_time": "2021-11-08T17:19:55.651Z"
   },
   {
    "duration": 14,
    "start_time": "2021-11-08T17:19:55.840Z"
   },
   {
    "duration": 10,
    "start_time": "2021-11-08T17:19:56.046Z"
   },
   {
    "duration": 12,
    "start_time": "2021-11-08T17:19:56.234Z"
   },
   {
    "duration": 4,
    "start_time": "2021-11-08T17:19:56.430Z"
   },
   {
    "duration": 21,
    "start_time": "2021-11-08T17:19:56.852Z"
   },
   {
    "duration": 13,
    "start_time": "2021-11-08T17:19:57.346Z"
   },
   {
    "duration": 12,
    "start_time": "2021-11-08T17:19:57.780Z"
   },
   {
    "duration": 5,
    "start_time": "2021-11-08T17:19:58.056Z"
   },
   {
    "duration": 391,
    "start_time": "2021-11-08T17:20:08.082Z"
   },
   {
    "duration": 340,
    "start_time": "2021-11-08T17:20:32.055Z"
   },
   {
    "duration": 12,
    "start_time": "2021-11-08T17:20:42.549Z"
   },
   {
    "duration": 13,
    "start_time": "2021-11-08T17:20:46.457Z"
   },
   {
    "duration": 4,
    "start_time": "2021-11-08T17:20:49.638Z"
   },
   {
    "duration": 18,
    "start_time": "2021-11-08T17:21:08.633Z"
   },
   {
    "duration": 4,
    "start_time": "2021-11-08T17:21:35.867Z"
   },
   {
    "duration": 14,
    "start_time": "2021-11-08T17:21:43.317Z"
   },
   {
    "duration": 414,
    "start_time": "2021-11-08T20:01:11.199Z"
   },
   {
    "duration": 368,
    "start_time": "2021-11-08T20:01:50.121Z"
   },
   {
    "duration": 8,
    "start_time": "2021-11-08T20:02:44.294Z"
   },
   {
    "duration": 130,
    "start_time": "2021-11-08T20:02:58.207Z"
   },
   {
    "duration": 7,
    "start_time": "2021-11-08T20:03:18.190Z"
   },
   {
    "duration": 451,
    "start_time": "2021-11-08T20:04:15.673Z"
   },
   {
    "duration": 913,
    "start_time": "2021-11-08T20:04:30.907Z"
   },
   {
    "duration": 165,
    "start_time": "2021-11-08T20:04:31.822Z"
   },
   {
    "duration": 124,
    "start_time": "2021-11-08T20:04:31.991Z"
   },
   {
    "duration": 83,
    "start_time": "2021-11-08T20:04:32.118Z"
   },
   {
    "duration": 19,
    "start_time": "2021-11-08T20:04:32.204Z"
   },
   {
    "duration": 71,
    "start_time": "2021-11-08T20:04:32.226Z"
   },
   {
    "duration": 20,
    "start_time": "2021-11-08T20:04:32.319Z"
   },
   {
    "duration": 15,
    "start_time": "2021-11-08T20:04:32.504Z"
   },
   {
    "duration": 10,
    "start_time": "2021-11-08T20:04:32.689Z"
   },
   {
    "duration": 12,
    "start_time": "2021-11-08T20:04:32.892Z"
   },
   {
    "duration": 7,
    "start_time": "2021-11-08T20:04:33.064Z"
   },
   {
    "duration": 22,
    "start_time": "2021-11-08T20:04:33.251Z"
   },
   {
    "duration": 12,
    "start_time": "2021-11-08T20:04:33.419Z"
   },
   {
    "duration": 25,
    "start_time": "2021-11-08T20:04:33.758Z"
   },
   {
    "duration": 11,
    "start_time": "2021-11-08T20:04:33.962Z"
   },
   {
    "duration": 16,
    "start_time": "2021-11-08T20:04:34.131Z"
   },
   {
    "duration": 51,
    "start_time": "2021-11-08T20:04:34.325Z"
   },
   {
    "duration": 14,
    "start_time": "2021-11-08T20:04:34.510Z"
   },
   {
    "duration": 40,
    "start_time": "2021-11-08T20:04:34.676Z"
   },
   {
    "duration": 14,
    "start_time": "2021-11-08T20:04:34.864Z"
   },
   {
    "duration": 30,
    "start_time": "2021-11-08T20:04:35.036Z"
   },
   {
    "duration": 12,
    "start_time": "2021-11-08T20:04:35.395Z"
   },
   {
    "duration": 6,
    "start_time": "2021-11-08T20:04:35.592Z"
   },
   {
    "duration": 50,
    "start_time": "2021-11-08T20:04:35.794Z"
   },
   {
    "duration": 11,
    "start_time": "2021-11-08T20:04:35.974Z"
   },
   {
    "duration": 11,
    "start_time": "2021-11-08T20:04:36.174Z"
   },
   {
    "duration": 12,
    "start_time": "2021-11-08T20:04:36.539Z"
   },
   {
    "duration": 25,
    "start_time": "2021-11-08T20:04:36.720Z"
   },
   {
    "duration": 16,
    "start_time": "2021-11-08T20:04:36.892Z"
   },
   {
    "duration": 11,
    "start_time": "2021-11-08T20:04:37.084Z"
   },
   {
    "duration": 13,
    "start_time": "2021-11-08T20:04:37.296Z"
   },
   {
    "duration": 3,
    "start_time": "2021-11-08T20:04:37.473Z"
   },
   {
    "duration": 19,
    "start_time": "2021-11-08T20:04:37.668Z"
   },
   {
    "duration": 13,
    "start_time": "2021-11-08T20:04:37.859Z"
   },
   {
    "duration": 14,
    "start_time": "2021-11-08T20:04:38.059Z"
   },
   {
    "duration": 4,
    "start_time": "2021-11-08T20:04:38.242Z"
   },
   {
    "duration": 8,
    "start_time": "2021-11-08T20:04:38.471Z"
   },
   {
    "duration": 9218,
    "start_time": "2021-11-08T20:04:38.639Z"
   },
   {
    "duration": 11466,
    "start_time": "2021-11-08T20:05:44.018Z"
   },
   {
    "duration": 1907,
    "start_time": "2021-11-08T20:07:10.034Z"
   },
   {
    "duration": 8,
    "start_time": "2021-11-08T20:07:49.041Z"
   },
   {
    "duration": 774,
    "start_time": "2021-11-08T20:07:50.547Z"
   },
   {
    "duration": 1127,
    "start_time": "2021-11-08T20:08:16.710Z"
   },
   {
    "duration": 746,
    "start_time": "2021-11-08T20:09:09.765Z"
   },
   {
    "duration": 753,
    "start_time": "2021-11-08T20:09:35.449Z"
   },
   {
    "duration": 962,
    "start_time": "2021-11-08T20:09:48.371Z"
   },
   {
    "duration": 152,
    "start_time": "2021-11-08T20:09:49.336Z"
   },
   {
    "duration": 118,
    "start_time": "2021-11-08T20:09:49.491Z"
   },
   {
    "duration": 77,
    "start_time": "2021-11-08T20:09:49.612Z"
   },
   {
    "duration": 19,
    "start_time": "2021-11-08T20:09:49.691Z"
   },
   {
    "duration": 30,
    "start_time": "2021-11-08T20:09:49.713Z"
   },
   {
    "duration": 18,
    "start_time": "2021-11-08T20:09:49.746Z"
   },
   {
    "duration": 14,
    "start_time": "2021-11-08T20:09:49.768Z"
   },
   {
    "duration": 18,
    "start_time": "2021-11-08T20:09:49.785Z"
   },
   {
    "duration": 22,
    "start_time": "2021-11-08T20:09:49.806Z"
   },
   {
    "duration": 8,
    "start_time": "2021-11-08T20:09:49.830Z"
   },
   {
    "duration": 24,
    "start_time": "2021-11-08T20:09:49.840Z"
   },
   {
    "duration": 44,
    "start_time": "2021-11-08T20:09:49.866Z"
   },
   {
    "duration": 29,
    "start_time": "2021-11-08T20:09:49.912Z"
   },
   {
    "duration": 14,
    "start_time": "2021-11-08T20:09:49.944Z"
   },
   {
    "duration": 48,
    "start_time": "2021-11-08T20:09:49.962Z"
   },
   {
    "duration": 53,
    "start_time": "2021-11-08T20:09:50.012Z"
   },
   {
    "duration": 40,
    "start_time": "2021-11-08T20:09:50.067Z"
   },
   {
    "duration": 44,
    "start_time": "2021-11-08T20:09:50.109Z"
   },
   {
    "duration": 12,
    "start_time": "2021-11-08T20:09:50.155Z"
   },
   {
    "duration": 58,
    "start_time": "2021-11-08T20:09:50.169Z"
   },
   {
    "duration": 22,
    "start_time": "2021-11-08T20:09:50.229Z"
   },
   {
    "duration": 6,
    "start_time": "2021-11-08T20:09:50.255Z"
   },
   {
    "duration": 73,
    "start_time": "2021-11-08T20:09:50.264Z"
   },
   {
    "duration": 11,
    "start_time": "2021-11-08T20:09:50.339Z"
   },
   {
    "duration": 14,
    "start_time": "2021-11-08T20:09:50.353Z"
   },
   {
    "duration": 41,
    "start_time": "2021-11-08T20:09:50.370Z"
   },
   {
    "duration": 28,
    "start_time": "2021-11-08T20:09:50.413Z"
   },
   {
    "duration": 16,
    "start_time": "2021-11-08T20:09:50.444Z"
   },
   {
    "duration": 11,
    "start_time": "2021-11-08T20:09:50.462Z"
   },
   {
    "duration": 13,
    "start_time": "2021-11-08T20:09:50.501Z"
   },
   {
    "duration": 6,
    "start_time": "2021-11-08T20:09:50.516Z"
   },
   {
    "duration": 25,
    "start_time": "2021-11-08T20:09:50.524Z"
   },
   {
    "duration": 11,
    "start_time": "2021-11-08T20:09:50.551Z"
   },
   {
    "duration": 42,
    "start_time": "2021-11-08T20:09:50.565Z"
   },
   {
    "duration": 6,
    "start_time": "2021-11-08T20:09:50.610Z"
   },
   {
    "duration": 8,
    "start_time": "2021-11-08T20:09:50.619Z"
   },
   {
    "duration": 854,
    "start_time": "2021-11-08T20:09:50.630Z"
   },
   {
    "duration": 748,
    "start_time": "2021-11-08T20:10:32.948Z"
   },
   {
    "duration": 943,
    "start_time": "2021-11-08T20:11:01.061Z"
   },
   {
    "duration": 161,
    "start_time": "2021-11-08T20:11:02.007Z"
   },
   {
    "duration": 118,
    "start_time": "2021-11-08T20:11:02.171Z"
   },
   {
    "duration": 76,
    "start_time": "2021-11-08T20:11:02.292Z"
   },
   {
    "duration": 18,
    "start_time": "2021-11-08T20:11:02.370Z"
   },
   {
    "duration": 44,
    "start_time": "2021-11-08T20:11:02.391Z"
   },
   {
    "duration": 34,
    "start_time": "2021-11-08T20:11:02.437Z"
   },
   {
    "duration": 14,
    "start_time": "2021-11-08T20:11:02.476Z"
   },
   {
    "duration": 21,
    "start_time": "2021-11-08T20:11:02.493Z"
   },
   {
    "duration": 18,
    "start_time": "2021-11-08T20:11:02.516Z"
   },
   {
    "duration": 15,
    "start_time": "2021-11-08T20:11:02.536Z"
   },
   {
    "duration": 31,
    "start_time": "2021-11-08T20:11:02.554Z"
   },
   {
    "duration": 16,
    "start_time": "2021-11-08T20:11:02.588Z"
   },
   {
    "duration": 21,
    "start_time": "2021-11-08T20:11:02.607Z"
   },
   {
    "duration": 11,
    "start_time": "2021-11-08T20:11:02.631Z"
   },
   {
    "duration": 18,
    "start_time": "2021-11-08T20:11:02.645Z"
   },
   {
    "duration": 51,
    "start_time": "2021-11-08T20:11:02.701Z"
   },
   {
    "duration": 12,
    "start_time": "2021-11-08T20:11:02.754Z"
   },
   {
    "duration": 83,
    "start_time": "2021-11-08T20:11:02.769Z"
   },
   {
    "duration": 15,
    "start_time": "2021-11-08T20:11:02.856Z"
   },
   {
    "duration": 50,
    "start_time": "2021-11-08T20:11:02.873Z"
   },
   {
    "duration": 11,
    "start_time": "2021-11-08T20:11:02.925Z"
   },
   {
    "duration": 13,
    "start_time": "2021-11-08T20:11:02.941Z"
   },
   {
    "duration": 75,
    "start_time": "2021-11-08T20:11:02.957Z"
   },
   {
    "duration": 12,
    "start_time": "2021-11-08T20:11:03.034Z"
   },
   {
    "duration": 16,
    "start_time": "2021-11-08T20:11:03.049Z"
   },
   {
    "duration": 37,
    "start_time": "2021-11-08T20:11:03.068Z"
   },
   {
    "duration": 26,
    "start_time": "2021-11-08T20:11:03.108Z"
   },
   {
    "duration": 16,
    "start_time": "2021-11-08T20:11:03.136Z"
   },
   {
    "duration": 14,
    "start_time": "2021-11-08T20:11:03.154Z"
   },
   {
    "duration": 36,
    "start_time": "2021-11-08T20:11:03.171Z"
   },
   {
    "duration": 5,
    "start_time": "2021-11-08T20:11:03.210Z"
   },
   {
    "duration": 24,
    "start_time": "2021-11-08T20:11:03.217Z"
   },
   {
    "duration": 12,
    "start_time": "2021-11-08T20:11:03.243Z"
   },
   {
    "duration": 51,
    "start_time": "2021-11-08T20:11:03.257Z"
   },
   {
    "duration": 7,
    "start_time": "2021-11-08T20:11:03.311Z"
   },
   {
    "duration": 11,
    "start_time": "2021-11-08T20:11:03.321Z"
   },
   {
    "duration": 147,
    "start_time": "2021-11-08T20:11:03.335Z"
   },
   {
    "duration": 15,
    "start_time": "2021-11-08T20:11:15.915Z"
   },
   {
    "duration": 6,
    "start_time": "2021-11-08T20:14:02.922Z"
   },
   {
    "duration": 4,
    "start_time": "2021-11-08T20:17:07.764Z"
   },
   {
    "duration": 153,
    "start_time": "2021-11-08T20:17:08.453Z"
   },
   {
    "duration": 120,
    "start_time": "2021-11-08T20:17:09.006Z"
   },
   {
    "duration": 78,
    "start_time": "2021-11-08T20:17:09.546Z"
   },
   {
    "duration": 18,
    "start_time": "2021-11-08T20:17:10.106Z"
   },
   {
    "duration": 30,
    "start_time": "2021-11-08T20:17:10.613Z"
   },
   {
    "duration": 13,
    "start_time": "2021-11-08T20:17:11.140Z"
   },
   {
    "duration": 15,
    "start_time": "2021-11-08T20:17:12.598Z"
   },
   {
    "duration": 6,
    "start_time": "2021-11-08T20:17:13.240Z"
   },
   {
    "duration": 9,
    "start_time": "2021-11-08T20:17:14.181Z"
   },
   {
    "duration": 13,
    "start_time": "2021-11-08T20:17:14.758Z"
   },
   {
    "duration": 7,
    "start_time": "2021-11-08T20:17:15.579Z"
   },
   {
    "duration": 23,
    "start_time": "2021-11-08T20:17:16.302Z"
   },
   {
    "duration": 12,
    "start_time": "2021-11-08T20:17:16.904Z"
   },
   {
    "duration": 19,
    "start_time": "2021-11-08T20:17:17.469Z"
   },
   {
    "duration": 13,
    "start_time": "2021-11-08T20:17:17.935Z"
   },
   {
    "duration": 17,
    "start_time": "2021-11-08T20:17:18.383Z"
   },
   {
    "duration": 51,
    "start_time": "2021-11-08T20:17:18.891Z"
   },
   {
    "duration": 14,
    "start_time": "2021-11-08T20:17:19.425Z"
   },
   {
    "duration": 40,
    "start_time": "2021-11-08T20:17:19.906Z"
   },
   {
    "duration": 13,
    "start_time": "2021-11-08T20:17:20.355Z"
   },
   {
    "duration": 31,
    "start_time": "2021-11-08T20:17:20.676Z"
   },
   {
    "duration": 13,
    "start_time": "2021-11-08T20:17:20.979Z"
   },
   {
    "duration": 6,
    "start_time": "2021-11-08T20:17:21.260Z"
   },
   {
    "duration": 45,
    "start_time": "2021-11-08T20:17:21.564Z"
   },
   {
    "duration": 11,
    "start_time": "2021-11-08T20:17:21.804Z"
   },
   {
    "duration": 11,
    "start_time": "2021-11-08T20:17:22.053Z"
   },
   {
    "duration": 12,
    "start_time": "2021-11-08T20:17:22.515Z"
   },
   {
    "duration": 28,
    "start_time": "2021-11-08T20:17:23.006Z"
   },
   {
    "duration": 18,
    "start_time": "2021-11-08T20:17:23.456Z"
   },
   {
    "duration": 5,
    "start_time": "2021-11-08T20:17:23.888Z"
   },
   {
    "duration": 14,
    "start_time": "2021-11-08T20:17:24.248Z"
   },
   {
    "duration": 4,
    "start_time": "2021-11-08T20:17:24.667Z"
   },
   {
    "duration": 20,
    "start_time": "2021-11-08T20:17:25.042Z"
   },
   {
    "duration": 14,
    "start_time": "2021-11-08T20:17:25.410Z"
   },
   {
    "duration": 13,
    "start_time": "2021-11-08T20:17:25.802Z"
   },
   {
    "duration": 5,
    "start_time": "2021-11-08T20:17:26.349Z"
   },
   {
    "duration": 8,
    "start_time": "2021-11-08T20:17:26.679Z"
   },
   {
    "duration": 121,
    "start_time": "2021-11-08T20:17:26.964Z"
   },
   {
    "duration": 14,
    "start_time": "2021-11-08T20:17:28.099Z"
   },
   {
    "duration": 467,
    "start_time": "2021-11-08T20:28:35.888Z"
   },
   {
    "duration": 35,
    "start_time": "2021-11-08T20:28:42.432Z"
   },
   {
    "duration": 125,
    "start_time": "2021-11-08T20:33:07.674Z"
   },
   {
    "duration": 15,
    "start_time": "2021-11-08T20:33:16.757Z"
   },
   {
    "duration": 13,
    "start_time": "2021-11-08T20:33:21.197Z"
   },
   {
    "duration": 14,
    "start_time": "2021-11-08T20:33:48.500Z"
   },
   {
    "duration": 22,
    "start_time": "2021-11-08T20:33:50.444Z"
   },
   {
    "duration": 16707,
    "start_time": "2021-11-08T20:37:40.496Z"
   },
   {
    "duration": 391,
    "start_time": "2021-11-08T20:39:28.012Z"
   },
   {
    "duration": 404,
    "start_time": "2021-11-08T20:39:39.805Z"
   },
   {
    "duration": 326,
    "start_time": "2021-11-08T20:39:49.912Z"
   },
   {
    "duration": 819,
    "start_time": "2021-11-08T20:40:37.219Z"
   },
   {
    "duration": 861,
    "start_time": "2021-11-09T14:44:06.440Z"
   },
   {
    "duration": 3,
    "start_time": "2021-11-09T14:44:15.764Z"
   },
   {
    "duration": 152,
    "start_time": "2021-11-09T14:44:16.244Z"
   },
   {
    "duration": 117,
    "start_time": "2021-11-09T14:44:19.952Z"
   },
   {
    "duration": 76,
    "start_time": "2021-11-09T14:44:20.724Z"
   },
   {
    "duration": 18,
    "start_time": "2021-11-09T14:44:21.686Z"
   },
   {
    "duration": 28,
    "start_time": "2021-11-09T14:44:22.453Z"
   },
   {
    "duration": 18,
    "start_time": "2021-11-09T14:44:24.770Z"
   },
   {
    "duration": 14,
    "start_time": "2021-11-09T14:48:11.064Z"
   },
   {
    "duration": 6,
    "start_time": "2021-11-09T14:48:11.858Z"
   },
   {
    "duration": 10,
    "start_time": "2021-11-09T14:48:12.564Z"
   },
   {
    "duration": 12,
    "start_time": "2021-11-09T14:48:13.272Z"
   },
   {
    "duration": 8,
    "start_time": "2021-11-09T14:48:20.460Z"
   },
   {
    "duration": 22,
    "start_time": "2021-11-09T14:48:21.163Z"
   },
   {
    "duration": 13,
    "start_time": "2021-11-09T14:48:21.822Z"
   },
   {
    "duration": 20,
    "start_time": "2021-11-09T14:48:22.277Z"
   },
   {
    "duration": 11,
    "start_time": "2021-11-09T14:48:22.541Z"
   },
   {
    "duration": 17,
    "start_time": "2021-11-09T14:48:22.766Z"
   },
   {
    "duration": 50,
    "start_time": "2021-11-09T14:48:22.966Z"
   },
   {
    "duration": 12,
    "start_time": "2021-11-09T14:48:23.847Z"
   },
   {
    "duration": 39,
    "start_time": "2021-11-09T14:48:24.490Z"
   },
   {
    "duration": 13,
    "start_time": "2021-11-09T14:48:25.053Z"
   },
   {
    "duration": 30,
    "start_time": "2021-11-09T14:48:26.178Z"
   },
   {
    "duration": 12,
    "start_time": "2021-11-09T14:48:26.503Z"
   },
   {
    "duration": 6,
    "start_time": "2021-11-09T14:48:27.158Z"
   },
   {
    "duration": 47,
    "start_time": "2021-11-09T14:48:30.459Z"
   },
   {
    "duration": 11,
    "start_time": "2021-11-09T14:48:50.420Z"
   },
   {
    "duration": 11,
    "start_time": "2021-11-09T14:48:56.716Z"
   },
   {
    "duration": 12,
    "start_time": "2021-11-09T14:48:57.402Z"
   },
   {
    "duration": 26,
    "start_time": "2021-11-09T14:49:01.866Z"
   },
   {
    "duration": 17,
    "start_time": "2021-11-09T14:49:03.622Z"
   },
   {
    "duration": 10,
    "start_time": "2021-11-09T14:49:44.573Z"
   },
   {
    "duration": 13,
    "start_time": "2021-11-09T14:49:45.365Z"
   },
   {
    "duration": 3,
    "start_time": "2021-11-09T14:49:46.232Z"
   },
   {
    "duration": 19,
    "start_time": "2021-11-09T14:49:47.112Z"
   },
   {
    "duration": 13,
    "start_time": "2021-11-09T14:49:48.140Z"
   },
   {
    "duration": 12,
    "start_time": "2021-11-09T14:49:48.974Z"
   },
   {
    "duration": 5,
    "start_time": "2021-11-09T14:49:49.502Z"
   },
   {
    "duration": 8,
    "start_time": "2021-11-09T14:49:49.850Z"
   },
   {
    "duration": 114,
    "start_time": "2021-11-09T14:49:50.064Z"
   },
   {
    "duration": 15,
    "start_time": "2021-11-09T14:49:50.237Z"
   },
   {
    "duration": 37,
    "start_time": "2021-11-09T14:49:50.480Z"
   },
   {
    "duration": 15,
    "start_time": "2021-11-09T14:49:50.614Z"
   },
   {
    "duration": 23,
    "start_time": "2021-11-09T14:49:50.790Z"
   },
   {
    "duration": 723,
    "start_time": "2021-11-09T14:49:50.990Z"
   },
   {
    "duration": 218,
    "start_time": "2021-11-09T18:38:48.471Z"
   },
   {
    "duration": 632,
    "start_time": "2021-11-09T18:38:59.408Z"
   },
   {
    "duration": 116,
    "start_time": "2021-11-09T18:39:00.042Z"
   },
   {
    "duration": 90,
    "start_time": "2021-11-09T18:39:00.161Z"
   },
   {
    "duration": 59,
    "start_time": "2021-11-09T18:39:00.253Z"
   },
   {
    "duration": 18,
    "start_time": "2021-11-09T18:39:00.313Z"
   },
   {
    "duration": 41,
    "start_time": "2021-11-09T18:39:00.355Z"
   },
   {
    "duration": 12,
    "start_time": "2021-11-09T18:39:00.555Z"
   },
   {
    "duration": 10,
    "start_time": "2021-11-09T18:39:00.789Z"
   },
   {
    "duration": 5,
    "start_time": "2021-11-09T18:39:00.947Z"
   },
   {
    "duration": 7,
    "start_time": "2021-11-09T18:39:01.144Z"
   },
   {
    "duration": 9,
    "start_time": "2021-11-09T18:39:01.340Z"
   },
   {
    "duration": 5,
    "start_time": "2021-11-09T18:39:01.527Z"
   },
   {
    "duration": 16,
    "start_time": "2021-11-09T18:39:01.728Z"
   },
   {
    "duration": 8,
    "start_time": "2021-11-09T18:39:01.906Z"
   },
   {
    "duration": 13,
    "start_time": "2021-11-09T18:39:02.105Z"
   },
   {
    "duration": 8,
    "start_time": "2021-11-09T18:39:02.308Z"
   },
   {
    "duration": 12,
    "start_time": "2021-11-09T18:39:02.501Z"
   },
   {
    "duration": 35,
    "start_time": "2021-11-09T18:39:02.677Z"
   },
   {
    "duration": 8,
    "start_time": "2021-11-09T18:39:02.870Z"
   },
   {
    "duration": 26,
    "start_time": "2021-11-09T18:39:03.256Z"
   },
   {
    "duration": 8,
    "start_time": "2021-11-09T18:39:03.471Z"
   },
   {
    "duration": 21,
    "start_time": "2021-11-09T18:39:03.637Z"
   },
   {
    "duration": 8,
    "start_time": "2021-11-09T18:39:03.825Z"
   },
   {
    "duration": 5,
    "start_time": "2021-11-09T18:39:04.392Z"
   },
   {
    "duration": 35,
    "start_time": "2021-11-09T18:39:04.661Z"
   },
   {
    "duration": 8,
    "start_time": "2021-11-09T18:39:04.889Z"
   },
   {
    "duration": 9,
    "start_time": "2021-11-09T18:39:05.082Z"
   },
   {
    "duration": 9,
    "start_time": "2021-11-09T18:39:05.301Z"
   },
   {
    "duration": 16,
    "start_time": "2021-11-09T18:39:05.511Z"
   },
   {
    "duration": 11,
    "start_time": "2021-11-09T18:39:05.725Z"
   },
   {
    "duration": 5,
    "start_time": "2021-11-09T18:39:05.938Z"
   },
   {
    "duration": 9,
    "start_time": "2021-11-09T18:39:06.148Z"
   },
   {
    "duration": 3,
    "start_time": "2021-11-09T18:39:06.363Z"
   },
   {
    "duration": 12,
    "start_time": "2021-11-09T18:39:06.588Z"
   },
   {
    "duration": 9,
    "start_time": "2021-11-09T18:39:06.791Z"
   },
   {
    "duration": 8,
    "start_time": "2021-11-09T18:39:07.020Z"
   },
   {
    "duration": 3,
    "start_time": "2021-11-09T18:39:07.227Z"
   },
   {
    "duration": 5,
    "start_time": "2021-11-09T18:39:07.463Z"
   },
   {
    "duration": 67,
    "start_time": "2021-11-09T18:39:07.667Z"
   },
   {
    "duration": 9,
    "start_time": "2021-11-09T18:39:07.900Z"
   },
   {
    "duration": 23,
    "start_time": "2021-11-09T18:39:08.127Z"
   },
   {
    "duration": 10,
    "start_time": "2021-11-09T18:39:08.323Z"
   },
   {
    "duration": 15,
    "start_time": "2021-11-09T18:39:08.570Z"
   },
   {
    "duration": 582,
    "start_time": "2021-11-09T18:39:08.948Z"
   },
   {
    "duration": 193,
    "start_time": "2021-11-09T18:47:06.470Z"
   },
   {
    "duration": 539,
    "start_time": "2021-11-09T18:47:41.276Z"
   },
   {
    "duration": 186,
    "start_time": "2021-11-09T18:47:55.492Z"
   },
   {
    "duration": 188,
    "start_time": "2021-11-09T18:48:24.759Z"
   },
   {
    "duration": 15,
    "start_time": "2021-11-09T18:48:30.080Z"
   },
   {
    "duration": 196,
    "start_time": "2021-11-09T18:48:30.546Z"
   },
   {
    "duration": 5,
    "start_time": "2021-11-09T18:52:49.323Z"
   },
   {
    "duration": 5,
    "start_time": "2021-11-09T18:53:14.392Z"
   },
   {
    "duration": 3,
    "start_time": "2021-11-09T18:53:24.032Z"
   },
   {
    "duration": 3,
    "start_time": "2021-11-09T18:53:46.677Z"
   },
   {
    "duration": 111,
    "start_time": "2021-11-09T18:53:47.333Z"
   },
   {
    "duration": 98,
    "start_time": "2021-11-09T18:53:48.080Z"
   },
   {
    "duration": 60,
    "start_time": "2021-11-09T18:53:48.648Z"
   },
   {
    "duration": 19,
    "start_time": "2021-11-09T18:53:49.224Z"
   },
   {
    "duration": 41,
    "start_time": "2021-11-09T18:53:49.714Z"
   },
   {
    "duration": 10,
    "start_time": "2021-11-09T18:53:50.276Z"
   },
   {
    "duration": 9,
    "start_time": "2021-11-09T18:53:51.204Z"
   },
   {
    "duration": 7,
    "start_time": "2021-11-09T18:53:52.197Z"
   },
   {
    "duration": 7,
    "start_time": "2021-11-09T18:53:54.027Z"
   },
   {
    "duration": 9,
    "start_time": "2021-11-09T18:53:55.847Z"
   },
   {
    "duration": 5,
    "start_time": "2021-11-09T18:53:58.538Z"
   },
   {
    "duration": 595,
    "start_time": "2021-11-09T18:54:24.724Z"
   },
   {
    "duration": 117,
    "start_time": "2021-11-09T18:54:25.321Z"
   },
   {
    "duration": 89,
    "start_time": "2021-11-09T18:54:25.440Z"
   },
   {
    "duration": 57,
    "start_time": "2021-11-09T18:54:25.531Z"
   },
   {
    "duration": 17,
    "start_time": "2021-11-09T18:54:25.590Z"
   },
   {
    "duration": 47,
    "start_time": "2021-11-09T18:54:25.609Z"
   },
   {
    "duration": 13,
    "start_time": "2021-11-09T18:54:25.657Z"
   },
   {
    "duration": 10,
    "start_time": "2021-11-09T18:54:25.673Z"
   },
   {
    "duration": 10,
    "start_time": "2021-11-09T18:54:25.685Z"
   },
   {
    "duration": 18,
    "start_time": "2021-11-09T18:54:25.696Z"
   },
   {
    "duration": 11,
    "start_time": "2021-11-09T18:54:25.716Z"
   },
   {
    "duration": 23,
    "start_time": "2021-11-09T18:54:25.728Z"
   },
   {
    "duration": 30,
    "start_time": "2021-11-09T18:54:25.753Z"
   },
   {
    "duration": 8,
    "start_time": "2021-11-09T18:54:25.784Z"
   },
   {
    "duration": 15,
    "start_time": "2021-11-09T18:54:25.793Z"
   },
   {
    "duration": 7,
    "start_time": "2021-11-09T18:54:25.809Z"
   },
   {
    "duration": 16,
    "start_time": "2021-11-09T18:54:25.817Z"
   },
   {
    "duration": 36,
    "start_time": "2021-11-09T18:54:25.834Z"
   },
   {
    "duration": 25,
    "start_time": "2021-11-09T18:54:25.872Z"
   },
   {
    "duration": 36,
    "start_time": "2021-11-09T18:54:25.899Z"
   },
   {
    "duration": 10,
    "start_time": "2021-11-09T18:54:25.937Z"
   },
   {
    "duration": 24,
    "start_time": "2021-11-09T18:54:25.948Z"
   },
   {
    "duration": 9,
    "start_time": "2021-11-09T18:54:25.992Z"
   },
   {
    "duration": 8,
    "start_time": "2021-11-09T18:54:26.003Z"
   },
   {
    "duration": 40,
    "start_time": "2021-11-09T18:54:26.013Z"
   },
   {
    "duration": 8,
    "start_time": "2021-11-09T18:54:26.056Z"
   },
   {
    "duration": 28,
    "start_time": "2021-11-09T18:54:26.065Z"
   },
   {
    "duration": 13,
    "start_time": "2021-11-09T18:54:26.095Z"
   },
   {
    "duration": 27,
    "start_time": "2021-11-09T18:54:26.110Z"
   },
   {
    "duration": 11,
    "start_time": "2021-11-09T18:54:26.139Z"
   },
   {
    "duration": 6,
    "start_time": "2021-11-09T18:54:26.152Z"
   },
   {
    "duration": 19,
    "start_time": "2021-11-09T18:54:26.160Z"
   },
   {
    "duration": 5,
    "start_time": "2021-11-09T18:54:26.180Z"
   },
   {
    "duration": 22,
    "start_time": "2021-11-09T18:54:26.186Z"
   },
   {
    "duration": 13,
    "start_time": "2021-11-09T18:54:26.209Z"
   },
   {
    "duration": 24,
    "start_time": "2021-11-09T18:54:26.224Z"
   },
   {
    "duration": 10,
    "start_time": "2021-11-09T18:54:26.250Z"
   },
   {
    "duration": 11,
    "start_time": "2021-11-09T18:54:26.262Z"
   },
   {
    "duration": 70,
    "start_time": "2021-11-09T18:54:26.275Z"
   },
   {
    "duration": 10,
    "start_time": "2021-11-09T18:54:26.347Z"
   },
   {
    "duration": 26,
    "start_time": "2021-11-09T18:54:26.358Z"
   },
   {
    "duration": 11,
    "start_time": "2021-11-09T18:54:26.385Z"
   },
   {
    "duration": 24,
    "start_time": "2021-11-09T18:54:26.397Z"
   },
   {
    "duration": 373,
    "start_time": "2021-11-09T18:54:26.422Z"
   },
   {
    "duration": 2,
    "start_time": "2021-11-09T18:54:34.834Z"
   },
   {
    "duration": 107,
    "start_time": "2021-11-09T18:54:35.556Z"
   },
   {
    "duration": 87,
    "start_time": "2021-11-09T18:54:36.435Z"
   },
   {
    "duration": 57,
    "start_time": "2021-11-09T18:54:37.342Z"
   },
   {
    "duration": 17,
    "start_time": "2021-11-09T18:54:37.958Z"
   },
   {
    "duration": 41,
    "start_time": "2021-11-09T18:54:38.302Z"
   },
   {
    "duration": 9,
    "start_time": "2021-11-09T18:54:38.534Z"
   },
   {
    "duration": 10,
    "start_time": "2021-11-09T18:54:39.405Z"
   },
   {
    "duration": 5,
    "start_time": "2021-11-09T18:54:40.863Z"
   },
   {
    "duration": 7,
    "start_time": "2021-11-09T18:54:41.948Z"
   },
   {
    "duration": 7,
    "start_time": "2021-11-09T18:54:42.679Z"
   },
   {
    "duration": 5,
    "start_time": "2021-11-09T18:54:44.499Z"
   },
   {
    "duration": 16,
    "start_time": "2021-11-09T18:54:45.398Z"
   },
   {
    "duration": 9,
    "start_time": "2021-11-09T18:54:46.227Z"
   },
   {
    "duration": 14,
    "start_time": "2021-11-09T18:54:47.545Z"
   },
   {
    "duration": 8,
    "start_time": "2021-11-09T18:54:48.522Z"
   },
   {
    "duration": 3,
    "start_time": "2021-11-09T18:55:10.302Z"
   },
   {
    "duration": 106,
    "start_time": "2021-11-09T18:55:10.903Z"
   },
   {
    "duration": 92,
    "start_time": "2021-11-09T18:55:11.446Z"
   },
   {
    "duration": 57,
    "start_time": "2021-11-09T18:55:11.967Z"
   },
   {
    "duration": 20,
    "start_time": "2021-11-09T18:55:12.216Z"
   },
   {
    "duration": 43,
    "start_time": "2021-11-09T18:55:12.432Z"
   },
   {
    "duration": 10,
    "start_time": "2021-11-09T18:55:12.640Z"
   },
   {
    "duration": 10,
    "start_time": "2021-11-09T18:55:12.840Z"
   },
   {
    "duration": 4,
    "start_time": "2021-11-09T18:55:17.098Z"
   },
   {
    "duration": 7,
    "start_time": "2021-11-09T18:55:18.155Z"
   },
   {
    "duration": 8,
    "start_time": "2021-11-09T18:55:19.115Z"
   },
   {
    "duration": 177,
    "start_time": "2021-11-09T18:55:47.344Z"
   },
   {
    "duration": 185,
    "start_time": "2021-11-09T18:55:56.252Z"
   },
   {
    "duration": 6,
    "start_time": "2021-11-09T18:56:02.828Z"
   },
   {
    "duration": 8,
    "start_time": "2021-11-09T18:56:23.208Z"
   },
   {
    "duration": 957,
    "start_time": "2021-11-09T18:56:36.419Z"
   },
   {
    "duration": 117,
    "start_time": "2021-11-09T18:56:37.377Z"
   },
   {
    "duration": 87,
    "start_time": "2021-11-09T18:56:37.496Z"
   },
   {
    "duration": 57,
    "start_time": "2021-11-09T18:56:37.585Z"
   },
   {
    "duration": 18,
    "start_time": "2021-11-09T18:56:37.644Z"
   },
   {
    "duration": 42,
    "start_time": "2021-11-09T18:56:37.664Z"
   },
   {
    "duration": 11,
    "start_time": "2021-11-09T18:56:37.708Z"
   },
   {
    "duration": 8,
    "start_time": "2021-11-09T18:56:37.720Z"
   },
   {
    "duration": 5,
    "start_time": "2021-11-09T18:56:37.730Z"
   },
   {
    "duration": 11,
    "start_time": "2021-11-09T18:56:37.737Z"
   },
   {
    "duration": 9,
    "start_time": "2021-11-09T18:56:37.749Z"
   },
   {
    "duration": 6,
    "start_time": "2021-11-09T18:56:37.759Z"
   },
   {
    "duration": 34,
    "start_time": "2021-11-09T18:56:37.766Z"
   },
   {
    "duration": 8,
    "start_time": "2021-11-09T18:56:37.801Z"
   },
   {
    "duration": 18,
    "start_time": "2021-11-09T18:56:37.810Z"
   },
   {
    "duration": 7,
    "start_time": "2021-11-09T18:56:37.830Z"
   },
   {
    "duration": 14,
    "start_time": "2021-11-09T18:56:37.838Z"
   },
   {
    "duration": 55,
    "start_time": "2021-11-09T18:56:37.854Z"
   },
   {
    "duration": 9,
    "start_time": "2021-11-09T18:56:37.910Z"
   },
   {
    "duration": 28,
    "start_time": "2021-11-09T18:56:37.921Z"
   },
   {
    "duration": 9,
    "start_time": "2021-11-09T18:56:37.951Z"
   },
   {
    "duration": 37,
    "start_time": "2021-11-09T18:56:37.962Z"
   },
   {
    "duration": 8,
    "start_time": "2021-11-09T18:56:38.001Z"
   },
   {
    "duration": 7,
    "start_time": "2021-11-09T18:56:38.010Z"
   },
   {
    "duration": 34,
    "start_time": "2021-11-09T18:56:38.019Z"
   },
   {
    "duration": 7,
    "start_time": "2021-11-09T18:56:38.055Z"
   },
   {
    "duration": 31,
    "start_time": "2021-11-09T18:56:38.066Z"
   },
   {
    "duration": 9,
    "start_time": "2021-11-09T18:56:38.099Z"
   },
   {
    "duration": 16,
    "start_time": "2021-11-09T18:56:38.109Z"
   },
   {
    "duration": 10,
    "start_time": "2021-11-09T18:56:38.126Z"
   },
   {
    "duration": 7,
    "start_time": "2021-11-09T18:56:38.137Z"
   },
   {
    "duration": 9,
    "start_time": "2021-11-09T18:56:38.146Z"
   },
   {
    "duration": 5,
    "start_time": "2021-11-09T18:56:38.156Z"
   },
   {
    "duration": 41,
    "start_time": "2021-11-09T18:56:38.162Z"
   },
   {
    "duration": 7,
    "start_time": "2021-11-09T18:56:38.205Z"
   },
   {
    "duration": 8,
    "start_time": "2021-11-09T18:56:38.214Z"
   },
   {
    "duration": 4,
    "start_time": "2021-11-09T18:56:38.224Z"
   },
   {
    "duration": 6,
    "start_time": "2021-11-09T18:56:38.229Z"
   },
   {
    "duration": 96,
    "start_time": "2021-11-09T18:56:38.236Z"
   },
   {
    "duration": 10,
    "start_time": "2021-11-09T18:56:38.334Z"
   },
   {
    "duration": 22,
    "start_time": "2021-11-09T18:56:38.346Z"
   },
   {
    "duration": 26,
    "start_time": "2021-11-09T18:56:38.370Z"
   },
   {
    "duration": 13,
    "start_time": "2021-11-09T18:56:38.398Z"
   },
   {
    "duration": 234,
    "start_time": "2021-11-09T18:56:38.413Z"
   },
   {
    "duration": 3,
    "start_time": "2021-11-09T18:56:52.348Z"
   },
   {
    "duration": 110,
    "start_time": "2021-11-09T18:56:52.981Z"
   },
   {
    "duration": 82,
    "start_time": "2021-11-09T18:56:53.739Z"
   },
   {
    "duration": 59,
    "start_time": "2021-11-09T18:56:54.262Z"
   },
   {
    "duration": 18,
    "start_time": "2021-11-09T18:56:54.774Z"
   },
   {
    "duration": 41,
    "start_time": "2021-11-09T18:56:55.271Z"
   },
   {
    "duration": 9,
    "start_time": "2021-11-09T18:56:55.775Z"
   },
   {
    "duration": 9,
    "start_time": "2021-11-09T18:56:56.588Z"
   },
   {
    "duration": 5,
    "start_time": "2021-11-09T18:56:58.004Z"
   },
   {
    "duration": 6,
    "start_time": "2021-11-09T18:56:58.905Z"
   },
   {
    "duration": 7,
    "start_time": "2021-11-09T18:56:59.709Z"
   },
   {
    "duration": 11,
    "start_time": "2021-11-09T18:57:09.035Z"
   },
   {
    "duration": 11,
    "start_time": "2021-11-09T18:57:14.151Z"
   },
   {
    "duration": 6,
    "start_time": "2021-11-09T18:57:22.200Z"
   },
   {
    "duration": 17,
    "start_time": "2021-11-09T18:57:22.918Z"
   },
   {
    "duration": 8,
    "start_time": "2021-11-09T18:57:23.312Z"
   },
   {
    "duration": 14,
    "start_time": "2021-11-09T18:57:23.488Z"
   },
   {
    "duration": 10,
    "start_time": "2021-11-09T18:57:23.646Z"
   },
   {
    "duration": 12,
    "start_time": "2021-11-09T18:57:23.973Z"
   },
   {
    "duration": 35,
    "start_time": "2021-11-09T18:57:24.186Z"
   },
   {
    "duration": 9,
    "start_time": "2021-11-09T18:57:24.767Z"
   },
   {
    "duration": 27,
    "start_time": "2021-11-09T18:57:25.385Z"
   },
   {
    "duration": 9,
    "start_time": "2021-11-09T18:57:26.024Z"
   },
   {
    "duration": 22,
    "start_time": "2021-11-09T18:57:26.255Z"
   },
   {
    "duration": 9,
    "start_time": "2021-11-09T18:57:26.454Z"
   },
   {
    "duration": 4,
    "start_time": "2021-11-09T18:57:26.627Z"
   },
   {
    "duration": 35,
    "start_time": "2021-11-09T18:57:26.798Z"
   },
   {
    "duration": 38,
    "start_time": "2021-11-09T18:59:56.090Z"
   },
   {
    "duration": 22,
    "start_time": "2021-11-09T18:59:57.513Z"
   },
   {
    "duration": 8,
    "start_time": "2021-11-09T19:00:00.759Z"
   },
   {
    "duration": 9,
    "start_time": "2021-11-09T19:00:02.153Z"
   },
   {
    "duration": 8,
    "start_time": "2021-11-09T19:00:19.645Z"
   },
   {
    "duration": 3,
    "start_time": "2021-11-09T19:01:58.631Z"
   },
   {
    "duration": 8,
    "start_time": "2021-11-09T19:02:07.527Z"
   },
   {
    "duration": 22,
    "start_time": "2021-11-09T19:02:40.007Z"
   },
   {
    "duration": 13,
    "start_time": "2021-11-09T19:02:40.744Z"
   },
   {
    "duration": 9,
    "start_time": "2021-11-09T19:02:46.833Z"
   },
   {
    "duration": 8,
    "start_time": "2021-11-09T19:02:47.063Z"
   },
   {
    "duration": 3,
    "start_time": "2021-11-09T19:02:47.451Z"
   },
   {
    "duration": 9,
    "start_time": "2021-11-09T19:02:47.647Z"
   },
   {
    "duration": 7,
    "start_time": "2021-11-09T19:02:47.954Z"
   },
   {
    "duration": 8,
    "start_time": "2021-11-09T19:02:48.317Z"
   },
   {
    "duration": 22,
    "start_time": "2021-11-09T19:02:49.103Z"
   },
   {
    "duration": 12,
    "start_time": "2021-11-09T19:02:50.629Z"
   },
   {
    "duration": 4,
    "start_time": "2021-11-09T19:02:51.666Z"
   },
   {
    "duration": 10,
    "start_time": "2021-11-09T19:02:54.210Z"
   },
   {
    "duration": 925,
    "start_time": "2021-11-09T19:02:54.517Z"
   },
   {
    "duration": -227,
    "start_time": "2021-11-09T19:02:55.671Z"
   },
   {
    "duration": -230,
    "start_time": "2021-11-09T19:02:55.675Z"
   },
   {
    "duration": 3,
    "start_time": "2021-11-09T19:03:39.459Z"
   },
   {
    "duration": 15,
    "start_time": "2021-11-09T19:03:40.796Z"
   },
   {
    "duration": 15,
    "start_time": "2021-11-09T19:03:52.261Z"
   },
   {
    "duration": 9,
    "start_time": "2021-11-09T19:03:53.287Z"
   },
   {
    "duration": 10,
    "start_time": "2021-11-09T19:03:54.319Z"
   },
   {
    "duration": 3,
    "start_time": "2021-11-09T19:04:03.220Z"
   },
   {
    "duration": 6,
    "start_time": "2021-11-09T19:04:04.390Z"
   },
   {
    "duration": 67,
    "start_time": "2021-11-09T19:04:05.902Z"
   },
   {
    "duration": 12,
    "start_time": "2021-11-09T19:04:06.189Z"
   },
   {
    "duration": 24,
    "start_time": "2021-11-09T19:04:07.038Z"
   },
   {
    "duration": 10,
    "start_time": "2021-11-09T19:04:09.757Z"
   },
   {
    "duration": 24,
    "start_time": "2021-11-09T19:04:23.210Z"
   },
   {
    "duration": 10,
    "start_time": "2021-11-09T19:04:24.067Z"
   },
   {
    "duration": 15,
    "start_time": "2021-11-09T19:04:24.943Z"
   },
   {
    "duration": 212,
    "start_time": "2021-11-09T19:04:27.614Z"
   },
   {
    "duration": 15,
    "start_time": "2021-11-09T19:14:59.477Z"
   },
   {
    "duration": 188,
    "start_time": "2021-11-09T19:16:34.520Z"
   },
   {
    "duration": 15,
    "start_time": "2021-11-09T19:18:57.263Z"
   },
   {
    "duration": 9,
    "start_time": "2021-11-09T19:18:57.923Z"
   },
   {
    "duration": 10,
    "start_time": "2021-11-09T19:18:59.025Z"
   },
   {
    "duration": 194,
    "start_time": "2021-11-09T19:20:57.351Z"
   },
   {
    "duration": 10,
    "start_time": "2021-11-09T19:21:12.229Z"
   },
   {
    "duration": 10,
    "start_time": "2021-11-09T19:21:16.500Z"
   },
   {
    "duration": 192,
    "start_time": "2021-11-09T19:25:16.381Z"
   },
   {
    "duration": 9,
    "start_time": "2021-11-09T19:26:10.375Z"
   },
   {
    "duration": 10,
    "start_time": "2021-11-09T19:26:14.619Z"
   },
   {
    "duration": 10,
    "start_time": "2021-11-09T19:26:32.016Z"
   },
   {
    "duration": 8,
    "start_time": "2021-11-09T19:26:43.204Z"
   },
   {
    "duration": 10,
    "start_time": "2021-11-09T19:26:43.818Z"
   },
   {
    "duration": 8,
    "start_time": "2021-11-09T19:27:16.136Z"
   },
   {
    "duration": 651,
    "start_time": "2021-11-09T19:27:40.473Z"
   },
   {
    "duration": 115,
    "start_time": "2021-11-09T19:27:41.125Z"
   },
   {
    "duration": 85,
    "start_time": "2021-11-09T19:27:41.242Z"
   },
   {
    "duration": 58,
    "start_time": "2021-11-09T19:27:41.328Z"
   },
   {
    "duration": 17,
    "start_time": "2021-11-09T19:27:41.387Z"
   },
   {
    "duration": 32,
    "start_time": "2021-11-09T19:27:41.406Z"
   },
   {
    "duration": 13,
    "start_time": "2021-11-09T19:27:41.439Z"
   },
   {
    "duration": 9,
    "start_time": "2021-11-09T19:27:41.454Z"
   },
   {
    "duration": 6,
    "start_time": "2021-11-09T19:27:41.464Z"
   },
   {
    "duration": 8,
    "start_time": "2021-11-09T19:27:41.472Z"
   },
   {
    "duration": 13,
    "start_time": "2021-11-09T19:27:41.481Z"
   },
   {
    "duration": 4,
    "start_time": "2021-11-09T19:27:41.495Z"
   },
   {
    "duration": 18,
    "start_time": "2021-11-09T19:27:41.501Z"
   },
   {
    "duration": 7,
    "start_time": "2021-11-09T19:27:41.520Z"
   },
   {
    "duration": 14,
    "start_time": "2021-11-09T19:27:41.529Z"
   },
   {
    "duration": 7,
    "start_time": "2021-11-09T19:27:41.544Z"
   },
   {
    "duration": 44,
    "start_time": "2021-11-09T19:27:41.552Z"
   },
   {
    "duration": 34,
    "start_time": "2021-11-09T19:27:41.598Z"
   },
   {
    "duration": 8,
    "start_time": "2021-11-09T19:27:41.634Z"
   },
   {
    "duration": 49,
    "start_time": "2021-11-09T19:27:41.644Z"
   },
   {
    "duration": 8,
    "start_time": "2021-11-09T19:27:41.694Z"
   },
   {
    "duration": 22,
    "start_time": "2021-11-09T19:27:41.704Z"
   },
   {
    "duration": 7,
    "start_time": "2021-11-09T19:27:41.730Z"
   },
   {
    "duration": 12,
    "start_time": "2021-11-09T19:27:41.739Z"
   },
   {
    "duration": 66,
    "start_time": "2021-11-09T19:27:41.753Z"
   },
   {
    "duration": 7,
    "start_time": "2021-11-09T19:27:41.821Z"
   },
   {
    "duration": 12,
    "start_time": "2021-11-09T19:27:41.829Z"
   },
   {
    "duration": 7,
    "start_time": "2021-11-09T19:27:41.842Z"
   },
   {
    "duration": 12,
    "start_time": "2021-11-09T19:27:41.851Z"
   },
   {
    "duration": 10,
    "start_time": "2021-11-09T19:27:41.865Z"
   },
   {
    "duration": 20,
    "start_time": "2021-11-09T19:27:41.877Z"
   },
   {
    "duration": 20,
    "start_time": "2021-11-09T19:27:41.898Z"
   },
   {
    "duration": 10,
    "start_time": "2021-11-09T19:27:41.920Z"
   },
   {
    "duration": 5,
    "start_time": "2021-11-09T19:27:41.931Z"
   },
   {
    "duration": 10,
    "start_time": "2021-11-09T19:27:41.938Z"
   },
   {
    "duration": 3,
    "start_time": "2021-11-09T19:27:41.949Z"
   },
   {
    "duration": 50,
    "start_time": "2021-11-09T19:27:41.953Z"
   },
   {
    "duration": 8,
    "start_time": "2021-11-09T19:27:42.005Z"
   },
   {
    "duration": 12,
    "start_time": "2021-11-09T19:27:42.015Z"
   },
   {
    "duration": 5,
    "start_time": "2021-11-09T19:27:42.029Z"
   },
   {
    "duration": 95,
    "start_time": "2021-11-09T19:27:42.035Z"
   },
   {
    "duration": 10,
    "start_time": "2021-11-09T19:27:42.132Z"
   },
   {
    "duration": 28,
    "start_time": "2021-11-09T19:27:42.144Z"
   },
   {
    "duration": 24,
    "start_time": "2021-11-09T19:27:42.173Z"
   },
   {
    "duration": 13,
    "start_time": "2021-11-09T19:27:42.199Z"
   },
   {
    "duration": 250,
    "start_time": "2021-11-09T19:27:42.214Z"
   },
   {
    "duration": 3,
    "start_time": "2021-11-09T19:27:57.849Z"
   },
   {
    "duration": 109,
    "start_time": "2021-11-09T19:27:58.281Z"
   },
   {
    "duration": 84,
    "start_time": "2021-11-09T19:27:58.668Z"
   },
   {
    "duration": 58,
    "start_time": "2021-11-09T19:27:58.961Z"
   },
   {
    "duration": 18,
    "start_time": "2021-11-09T19:27:59.211Z"
   },
   {
    "duration": 31,
    "start_time": "2021-11-09T19:27:59.433Z"
   },
   {
    "duration": 11,
    "start_time": "2021-11-09T19:27:59.627Z"
   },
   {
    "duration": 10,
    "start_time": "2021-11-09T19:27:59.846Z"
   },
   {
    "duration": 4,
    "start_time": "2021-11-09T19:28:00.076Z"
   },
   {
    "duration": 17,
    "start_time": "2021-11-09T19:28:00.281Z"
   },
   {
    "duration": 14,
    "start_time": "2021-11-09T19:28:00.482Z"
   },
   {
    "duration": 6,
    "start_time": "2021-11-09T19:28:00.721Z"
   },
   {
    "duration": 17,
    "start_time": "2021-11-09T19:28:00.896Z"
   },
   {
    "duration": 8,
    "start_time": "2021-11-09T19:28:01.286Z"
   },
   {
    "duration": 14,
    "start_time": "2021-11-09T19:28:01.840Z"
   },
   {
    "duration": 8,
    "start_time": "2021-11-09T19:28:02.460Z"
   },
   {
    "duration": 11,
    "start_time": "2021-11-09T19:28:02.898Z"
   },
   {
    "duration": 34,
    "start_time": "2021-11-09T19:28:03.151Z"
   },
   {
    "duration": 10,
    "start_time": "2021-11-09T19:28:03.370Z"
   },
   {
    "duration": 29,
    "start_time": "2021-11-09T19:28:03.802Z"
   },
   {
    "duration": 9,
    "start_time": "2021-11-09T19:28:04.003Z"
   },
   {
    "duration": 21,
    "start_time": "2021-11-09T19:28:04.277Z"
   },
   {
    "duration": 8,
    "start_time": "2021-11-09T19:28:04.511Z"
   },
   {
    "duration": 6,
    "start_time": "2021-11-09T19:28:04.698Z"
   },
   {
    "duration": 38,
    "start_time": "2021-11-09T19:28:04.923Z"
   },
   {
    "duration": 9,
    "start_time": "2021-11-09T19:28:05.135Z"
   },
   {
    "duration": 7,
    "start_time": "2021-11-09T19:28:05.369Z"
   },
   {
    "duration": 3,
    "start_time": "2021-11-09T19:28:05.583Z"
   },
   {
    "duration": 7,
    "start_time": "2021-11-09T19:28:05.791Z"
   },
   {
    "duration": 7,
    "start_time": "2021-11-09T19:28:06.033Z"
   },
   {
    "duration": 8,
    "start_time": "2021-11-09T19:28:06.311Z"
   },
   {
    "duration": 21,
    "start_time": "2021-11-09T19:28:06.713Z"
   },
   {
    "duration": 13,
    "start_time": "2021-11-09T19:28:07.301Z"
   },
   {
    "duration": 6,
    "start_time": "2021-11-09T19:28:07.691Z"
   },
   {
    "duration": 10,
    "start_time": "2021-11-09T19:28:08.173Z"
   },
   {
    "duration": 3,
    "start_time": "2021-11-09T19:28:08.941Z"
   },
   {
    "duration": 14,
    "start_time": "2021-11-09T19:28:09.703Z"
   },
   {
    "duration": 9,
    "start_time": "2021-11-09T19:28:10.325Z"
   },
   {
    "duration": 10,
    "start_time": "2021-11-09T19:28:11.209Z"
   },
   {
    "duration": 4,
    "start_time": "2021-11-09T19:28:22.261Z"
   },
   {
    "duration": 5,
    "start_time": "2021-11-09T19:28:28.675Z"
   },
   {
    "duration": 9,
    "start_time": "2021-11-09T19:31:51.920Z"
   },
   {
    "duration": 10,
    "start_time": "2021-11-09T19:31:53.268Z"
   },
   {
    "duration": 8,
    "start_time": "2021-11-09T19:32:04.440Z"
   },
   {
    "duration": 10,
    "start_time": "2021-11-09T19:32:06.108Z"
   },
   {
    "duration": 11,
    "start_time": "2021-11-09T19:33:16.446Z"
   },
   {
    "duration": 13,
    "start_time": "2021-11-09T19:33:17.369Z"
   },
   {
    "duration": 7,
    "start_time": "2021-11-09T19:34:13.617Z"
   },
   {
    "duration": 663,
    "start_time": "2021-11-09T19:35:14.793Z"
   },
   {
    "duration": 113,
    "start_time": "2021-11-09T19:35:15.457Z"
   },
   {
    "duration": 87,
    "start_time": "2021-11-09T19:35:15.572Z"
   },
   {
    "duration": 56,
    "start_time": "2021-11-09T19:35:15.661Z"
   },
   {
    "duration": 17,
    "start_time": "2021-11-09T19:35:15.719Z"
   },
   {
    "duration": 33,
    "start_time": "2021-11-09T19:35:15.737Z"
   },
   {
    "duration": 26,
    "start_time": "2021-11-09T19:35:15.772Z"
   },
   {
    "duration": 8,
    "start_time": "2021-11-09T19:35:15.800Z"
   },
   {
    "duration": 18,
    "start_time": "2021-11-09T19:35:15.810Z"
   },
   {
    "duration": 9,
    "start_time": "2021-11-09T19:35:15.830Z"
   },
   {
    "duration": 15,
    "start_time": "2021-11-09T19:35:15.840Z"
   },
   {
    "duration": 4,
    "start_time": "2021-11-09T19:35:15.857Z"
   },
   {
    "duration": 30,
    "start_time": "2021-11-09T19:35:15.862Z"
   },
   {
    "duration": 8,
    "start_time": "2021-11-09T19:35:15.893Z"
   },
   {
    "duration": 16,
    "start_time": "2021-11-09T19:35:15.902Z"
   },
   {
    "duration": 7,
    "start_time": "2021-11-09T19:35:15.920Z"
   },
   {
    "duration": 18,
    "start_time": "2021-11-09T19:35:15.929Z"
   },
   {
    "duration": 75,
    "start_time": "2021-11-09T19:35:15.949Z"
   },
   {
    "duration": 9,
    "start_time": "2021-11-09T19:35:16.025Z"
   },
   {
    "duration": 29,
    "start_time": "2021-11-09T19:35:16.036Z"
   },
   {
    "duration": 28,
    "start_time": "2021-11-09T19:35:16.067Z"
   },
   {
    "duration": 36,
    "start_time": "2021-11-09T19:35:16.097Z"
   },
   {
    "duration": 8,
    "start_time": "2021-11-09T19:35:16.136Z"
   },
   {
    "duration": 7,
    "start_time": "2021-11-09T19:35:16.146Z"
   },
   {
    "duration": 52,
    "start_time": "2021-11-09T19:35:16.155Z"
   },
   {
    "duration": 7,
    "start_time": "2021-11-09T19:35:16.209Z"
   },
   {
    "duration": 15,
    "start_time": "2021-11-09T19:35:16.218Z"
   },
   {
    "duration": 8,
    "start_time": "2021-11-09T19:35:16.234Z"
   },
   {
    "duration": 12,
    "start_time": "2021-11-09T19:35:16.244Z"
   },
   {
    "duration": 8,
    "start_time": "2021-11-09T19:35:16.258Z"
   },
   {
    "duration": 27,
    "start_time": "2021-11-09T19:35:16.268Z"
   },
   {
    "duration": 26,
    "start_time": "2021-11-09T19:35:16.297Z"
   },
   {
    "duration": 11,
    "start_time": "2021-11-09T19:35:16.324Z"
   },
   {
    "duration": 4,
    "start_time": "2021-11-09T19:35:16.337Z"
   },
   {
    "duration": 13,
    "start_time": "2021-11-09T19:35:16.343Z"
   },
   {
    "duration": 7,
    "start_time": "2021-11-09T19:35:16.358Z"
   },
   {
    "duration": 14,
    "start_time": "2021-11-09T19:35:16.392Z"
   },
   {
    "duration": 2,
    "start_time": "2021-11-09T19:35:16.407Z"
   },
   {
    "duration": 7,
    "start_time": "2021-11-09T19:35:16.411Z"
   },
   {
    "duration": 252,
    "start_time": "2021-11-09T19:35:16.420Z"
   },
   {
    "duration": -96,
    "start_time": "2021-11-09T19:35:16.770Z"
   },
   {
    "duration": -98,
    "start_time": "2021-11-09T19:35:16.773Z"
   },
   {
    "duration": -100,
    "start_time": "2021-11-09T19:35:16.776Z"
   },
   {
    "duration": -101,
    "start_time": "2021-11-09T19:35:16.778Z"
   },
   {
    "duration": -102,
    "start_time": "2021-11-09T19:35:16.780Z"
   },
   {
    "duration": -102,
    "start_time": "2021-11-09T19:35:16.782Z"
   },
   {
    "duration": -105,
    "start_time": "2021-11-09T19:35:16.786Z"
   },
   {
    "duration": -108,
    "start_time": "2021-11-09T19:35:16.790Z"
   },
   {
    "duration": 6,
    "start_time": "2021-11-09T19:35:37.598Z"
   },
   {
    "duration": 205,
    "start_time": "2021-11-09T19:35:38.155Z"
   },
   {
    "duration": 186,
    "start_time": "2021-11-09T19:35:38.591Z"
   },
   {
    "duration": 182,
    "start_time": "2021-11-09T19:35:38.897Z"
   },
   {
    "duration": 12,
    "start_time": "2021-11-09T19:37:22.801Z"
   },
   {
    "duration": 14,
    "start_time": "2021-11-09T19:37:43.222Z"
   },
   {
    "duration": 21,
    "start_time": "2021-11-09T19:39:43.095Z"
   },
   {
    "duration": 11,
    "start_time": "2021-11-09T19:39:45.285Z"
   },
   {
    "duration": 8,
    "start_time": "2021-11-09T19:40:04.063Z"
   },
   {
    "duration": 10,
    "start_time": "2021-11-09T19:40:25.270Z"
   },
   {
    "duration": 13,
    "start_time": "2021-11-09T19:40:48.118Z"
   },
   {
    "duration": 9,
    "start_time": "2021-11-09T19:40:55.783Z"
   },
   {
    "duration": 4,
    "start_time": "2021-11-09T19:41:00.605Z"
   },
   {
    "duration": 9,
    "start_time": "2021-11-09T19:41:02.328Z"
   },
   {
    "duration": 3,
    "start_time": "2021-11-09T19:42:06.266Z"
   },
   {
    "duration": 3,
    "start_time": "2021-11-09T19:42:27.226Z"
   },
   {
    "duration": 9,
    "start_time": "2021-11-09T19:42:43.252Z"
   },
   {
    "duration": 6,
    "start_time": "2021-11-09T19:42:44.521Z"
   },
   {
    "duration": 11,
    "start_time": "2021-11-09T19:43:06.768Z"
   },
   {
    "duration": 4,
    "start_time": "2021-11-09T19:43:19.252Z"
   },
   {
    "duration": 65,
    "start_time": "2021-11-09T19:43:48.770Z"
   },
   {
    "duration": 11,
    "start_time": "2021-11-09T19:43:50.402Z"
   },
   {
    "duration": 27,
    "start_time": "2021-11-09T19:44:01.692Z"
   },
   {
    "duration": 12,
    "start_time": "2021-11-09T19:44:38.421Z"
   },
   {
    "duration": 14,
    "start_time": "2021-11-09T19:44:38.909Z"
   },
   {
    "duration": 5,
    "start_time": "2021-11-09T19:44:39.355Z"
   },
   {
    "duration": 11,
    "start_time": "2021-11-09T19:46:16.812Z"
   },
   {
    "duration": 16,
    "start_time": "2021-11-09T19:46:17.476Z"
   },
   {
    "duration": 6,
    "start_time": "2021-11-09T19:46:23.681Z"
   },
   {
    "duration": 202,
    "start_time": "2021-11-09T19:46:44.886Z"
   },
   {
    "duration": 6,
    "start_time": "2021-11-09T19:47:11.514Z"
   },
   {
    "duration": 5,
    "start_time": "2021-11-09T19:47:19.169Z"
   },
   {
    "duration": 6,
    "start_time": "2021-11-09T19:49:20.790Z"
   },
   {
    "duration": 10,
    "start_time": "2021-11-09T19:49:22.396Z"
   },
   {
    "duration": 6,
    "start_time": "2021-11-09T19:50:36.194Z"
   },
   {
    "duration": 6,
    "start_time": "2021-11-09T19:50:39.004Z"
   },
   {
    "duration": 235,
    "start_time": "2021-11-09T20:05:51.059Z"
   },
   {
    "duration": 7,
    "start_time": "2021-11-09T20:06:47.010Z"
   },
   {
    "duration": 6,
    "start_time": "2021-11-09T20:08:21.017Z"
   },
   {
    "duration": 196,
    "start_time": "2021-11-09T20:10:03.773Z"
   },
   {
    "duration": 671,
    "start_time": "2021-11-09T20:11:05.511Z"
   },
   {
    "duration": 7,
    "start_time": "2021-11-09T20:11:06.424Z"
   },
   {
    "duration": 184,
    "start_time": "2021-11-09T20:12:31.022Z"
   },
   {
    "duration": 12,
    "start_time": "2021-11-09T20:12:54.554Z"
   },
   {
    "duration": 8,
    "start_time": "2021-11-09T20:13:16.822Z"
   },
   {
    "duration": 12,
    "start_time": "2021-11-09T20:13:46.402Z"
   },
   {
    "duration": 6,
    "start_time": "2021-11-09T20:14:06.502Z"
   },
   {
    "duration": 7,
    "start_time": "2021-11-09T20:14:22.781Z"
   },
   {
    "duration": 5,
    "start_time": "2021-11-09T20:14:23.853Z"
   },
   {
    "duration": 187,
    "start_time": "2021-11-09T20:14:33.530Z"
   },
   {
    "duration": 7,
    "start_time": "2021-11-09T20:14:58.687Z"
   },
   {
    "duration": 188,
    "start_time": "2021-11-09T20:16:46.147Z"
   },
   {
    "duration": 7,
    "start_time": "2021-11-09T20:16:57.295Z"
   },
   {
    "duration": 211,
    "start_time": "2021-11-09T20:18:00.912Z"
   },
   {
    "duration": 8,
    "start_time": "2021-11-09T20:19:59.192Z"
   },
   {
    "duration": 174,
    "start_time": "2021-11-09T20:20:55.712Z"
   },
   {
    "duration": 1300,
    "start_time": "2021-11-09T20:21:15.271Z"
   },
   {
    "duration": 9,
    "start_time": "2021-11-09T20:22:03.279Z"
   },
   {
    "duration": 6,
    "start_time": "2021-11-09T20:22:28.074Z"
   },
   {
    "duration": 176,
    "start_time": "2021-11-09T20:22:36.020Z"
   },
   {
    "duration": 6,
    "start_time": "2021-11-09T20:22:40.243Z"
   },
   {
    "duration": 200,
    "start_time": "2021-11-09T20:23:56.463Z"
   },
   {
    "duration": 10,
    "start_time": "2021-11-09T20:24:34.256Z"
   },
   {
    "duration": 3,
    "start_time": "2021-11-09T20:25:14.199Z"
   },
   {
    "duration": 198,
    "start_time": "2021-11-09T20:25:35.559Z"
   },
   {
    "duration": 6,
    "start_time": "2021-11-09T20:26:05.029Z"
   },
   {
    "duration": 7,
    "start_time": "2021-11-09T20:26:14.461Z"
   },
   {
    "duration": 6,
    "start_time": "2021-11-09T21:17:18.118Z"
   },
   {
    "duration": 179,
    "start_time": "2021-11-09T21:21:19.690Z"
   },
   {
    "duration": 187,
    "start_time": "2021-11-09T21:21:55.901Z"
   },
   {
    "duration": 224,
    "start_time": "2021-11-09T21:22:46.990Z"
   },
   {
    "duration": 225,
    "start_time": "2021-11-09T21:23:06.803Z"
   },
   {
    "duration": 4461,
    "start_time": "2021-11-09T21:24:46.549Z"
   },
   {
    "duration": 5247,
    "start_time": "2021-11-09T21:24:58.608Z"
   },
   {
    "duration": 838,
    "start_time": "2021-11-10T10:37:22.050Z"
   },
   {
    "duration": 156,
    "start_time": "2021-11-10T10:37:22.890Z"
   },
   {
    "duration": 117,
    "start_time": "2021-11-10T10:37:23.049Z"
   },
   {
    "duration": 73,
    "start_time": "2021-11-10T10:37:23.169Z"
   },
   {
    "duration": 16,
    "start_time": "2021-11-10T10:37:23.245Z"
   },
   {
    "duration": 35,
    "start_time": "2021-11-10T10:37:23.263Z"
   },
   {
    "duration": 23,
    "start_time": "2021-11-10T10:37:23.300Z"
   },
   {
    "duration": 28,
    "start_time": "2021-11-10T10:37:23.327Z"
   },
   {
    "duration": 25,
    "start_time": "2021-11-10T10:37:23.358Z"
   },
   {
    "duration": 10,
    "start_time": "2021-11-10T10:37:23.437Z"
   },
   {
    "duration": 17,
    "start_time": "2021-11-10T10:37:23.658Z"
   },
   {
    "duration": 7,
    "start_time": "2021-11-10T10:37:23.812Z"
   },
   {
    "duration": 21,
    "start_time": "2021-11-10T10:37:23.946Z"
   },
   {
    "duration": 12,
    "start_time": "2021-11-10T10:37:24.134Z"
   },
   {
    "duration": 18,
    "start_time": "2021-11-10T10:37:24.292Z"
   },
   {
    "duration": 11,
    "start_time": "2021-11-10T10:37:24.487Z"
   },
   {
    "duration": 15,
    "start_time": "2021-11-10T10:37:24.656Z"
   },
   {
    "duration": 51,
    "start_time": "2021-11-10T10:37:24.842Z"
   },
   {
    "duration": 12,
    "start_time": "2021-11-10T10:37:25.002Z"
   },
   {
    "duration": 39,
    "start_time": "2021-11-10T10:37:25.190Z"
   },
   {
    "duration": 12,
    "start_time": "2021-11-10T10:37:25.367Z"
   },
   {
    "duration": 29,
    "start_time": "2021-11-10T10:37:25.559Z"
   },
   {
    "duration": 11,
    "start_time": "2021-11-10T10:37:25.725Z"
   },
   {
    "duration": 6,
    "start_time": "2021-11-10T10:37:25.911Z"
   },
   {
    "duration": 51,
    "start_time": "2021-11-10T10:37:26.111Z"
   },
   {
    "duration": 12,
    "start_time": "2021-11-10T10:37:26.286Z"
   },
   {
    "duration": 10,
    "start_time": "2021-11-10T10:37:26.478Z"
   },
   {
    "duration": 4,
    "start_time": "2021-11-10T10:37:26.660Z"
   },
   {
    "duration": 10,
    "start_time": "2021-11-10T10:37:26.835Z"
   },
   {
    "duration": 11,
    "start_time": "2021-11-10T10:37:27.041Z"
   },
   {
    "duration": 12,
    "start_time": "2021-11-10T10:37:27.235Z"
   },
   {
    "duration": 37,
    "start_time": "2021-11-10T10:37:27.407Z"
   },
   {
    "duration": 16,
    "start_time": "2021-11-10T10:37:27.576Z"
   },
   {
    "duration": 10,
    "start_time": "2021-11-10T10:37:27.765Z"
   },
   {
    "duration": 13,
    "start_time": "2021-11-10T10:37:27.982Z"
   },
   {
    "duration": 4,
    "start_time": "2021-11-10T10:37:28.180Z"
   },
   {
    "duration": 12,
    "start_time": "2021-11-10T10:37:28.371Z"
   },
   {
    "duration": 14,
    "start_time": "2021-11-10T10:37:28.546Z"
   },
   {
    "duration": 5,
    "start_time": "2021-11-10T10:37:28.742Z"
   },
   {
    "duration": 8,
    "start_time": "2021-11-10T10:37:28.916Z"
   },
   {
    "duration": 116,
    "start_time": "2021-11-10T10:37:29.110Z"
   },
   {
    "duration": 16,
    "start_time": "2021-11-10T10:37:29.306Z"
   },
   {
    "duration": 42,
    "start_time": "2021-11-10T10:37:29.523Z"
   },
   {
    "duration": 20,
    "start_time": "2021-11-10T10:37:29.730Z"
   },
   {
    "duration": 17,
    "start_time": "2021-11-10T10:37:29.940Z"
   },
   {
    "duration": 8,
    "start_time": "2021-11-10T10:37:30.139Z"
   },
   {
    "duration": 8,
    "start_time": "2021-11-10T10:37:30.340Z"
   },
   {
    "duration": 6,
    "start_time": "2021-11-10T10:37:30.563Z"
   },
   {
    "duration": 7,
    "start_time": "2021-11-10T10:37:30.755Z"
   },
   {
    "duration": 8,
    "start_time": "2021-11-10T10:37:31.188Z"
   },
   {
    "duration": 7,
    "start_time": "2021-11-10T10:37:31.575Z"
   },
   {
    "duration": 383,
    "start_time": "2021-11-10T10:37:31.906Z"
   },
   {
    "duration": 105,
    "start_time": "2021-11-10T10:50:20.736Z"
   },
   {
    "duration": 755,
    "start_time": "2021-11-10T10:50:40.774Z"
   },
   {
    "duration": 290,
    "start_time": "2021-11-10T10:58:35.793Z"
   },
   {
    "duration": 286,
    "start_time": "2021-11-10T10:58:47.702Z"
   },
   {
    "duration": 331,
    "start_time": "2021-11-10T10:58:59.917Z"
   },
   {
    "duration": 747,
    "start_time": "2021-11-10T10:59:16.574Z"
   },
   {
    "duration": 5678,
    "start_time": "2021-11-10T10:59:26.104Z"
   },
   {
    "duration": 99,
    "start_time": "2021-11-10T11:00:06.616Z"
   },
   {
    "duration": 5798,
    "start_time": "2021-11-10T11:00:08.668Z"
   },
   {
    "duration": 328,
    "start_time": "2021-11-10T11:00:31.398Z"
   },
   {
    "duration": 890,
    "start_time": "2021-11-10T18:21:27.148Z"
   },
   {
    "duration": 155,
    "start_time": "2021-11-10T18:21:28.041Z"
   },
   {
    "duration": 115,
    "start_time": "2021-11-10T18:21:28.199Z"
   },
   {
    "duration": 73,
    "start_time": "2021-11-10T18:21:28.317Z"
   },
   {
    "duration": 16,
    "start_time": "2021-11-10T18:21:28.393Z"
   },
   {
    "duration": 52,
    "start_time": "2021-11-10T18:21:28.412Z"
   },
   {
    "duration": 18,
    "start_time": "2021-11-10T18:21:28.514Z"
   },
   {
    "duration": 15,
    "start_time": "2021-11-10T18:21:28.721Z"
   },
   {
    "duration": 7,
    "start_time": "2021-11-10T18:21:28.908Z"
   },
   {
    "duration": 9,
    "start_time": "2021-11-10T18:21:29.098Z"
   },
   {
    "duration": 17,
    "start_time": "2021-11-10T18:21:29.291Z"
   },
   {
    "duration": 8,
    "start_time": "2021-11-10T18:21:29.489Z"
   },
   {
    "duration": 23,
    "start_time": "2021-11-10T18:21:29.698Z"
   },
   {
    "duration": 13,
    "start_time": "2021-11-10T18:21:29.888Z"
   },
   {
    "duration": 19,
    "start_time": "2021-11-10T18:21:30.104Z"
   },
   {
    "duration": 11,
    "start_time": "2021-11-10T18:21:30.295Z"
   },
   {
    "duration": 16,
    "start_time": "2021-11-10T18:21:30.487Z"
   },
   {
    "duration": 53,
    "start_time": "2021-11-10T18:21:30.716Z"
   },
   {
    "duration": 14,
    "start_time": "2021-11-10T18:21:30.921Z"
   },
   {
    "duration": 41,
    "start_time": "2021-11-10T18:21:31.129Z"
   },
   {
    "duration": 12,
    "start_time": "2021-11-10T18:21:31.327Z"
   },
   {
    "duration": 30,
    "start_time": "2021-11-10T18:21:31.536Z"
   },
   {
    "duration": 10,
    "start_time": "2021-11-10T18:21:31.753Z"
   },
   {
    "duration": 6,
    "start_time": "2021-11-10T18:21:31.989Z"
   },
   {
    "duration": 53,
    "start_time": "2021-11-10T18:21:32.195Z"
   },
   {
    "duration": 11,
    "start_time": "2021-11-10T18:21:32.387Z"
   },
   {
    "duration": 11,
    "start_time": "2021-11-10T18:21:32.781Z"
   },
   {
    "duration": 4,
    "start_time": "2021-11-10T18:21:33.034Z"
   },
   {
    "duration": 12,
    "start_time": "2021-11-10T18:21:33.493Z"
   },
   {
    "duration": 10,
    "start_time": "2021-11-10T18:21:33.901Z"
   },
   {
    "duration": 11,
    "start_time": "2021-11-10T18:21:34.246Z"
   },
   {
    "duration": 37,
    "start_time": "2021-11-10T18:21:34.582Z"
   },
   {
    "duration": 15,
    "start_time": "2021-11-10T18:21:34.861Z"
   },
   {
    "duration": 10,
    "start_time": "2021-11-10T18:21:35.169Z"
   },
   {
    "duration": 14,
    "start_time": "2021-11-10T18:21:35.660Z"
   },
   {
    "duration": 5,
    "start_time": "2021-11-10T18:21:36.150Z"
   },
   {
    "duration": 11,
    "start_time": "2021-11-10T18:21:36.581Z"
   },
   {
    "duration": 14,
    "start_time": "2021-11-10T18:21:36.890Z"
   },
   {
    "duration": 6,
    "start_time": "2021-11-10T18:21:37.153Z"
   },
   {
    "duration": 8,
    "start_time": "2021-11-10T18:21:37.409Z"
   },
   {
    "duration": 121,
    "start_time": "2021-11-10T18:21:37.650Z"
   },
   {
    "duration": 17,
    "start_time": "2021-11-10T18:21:37.910Z"
   },
   {
    "duration": 44,
    "start_time": "2021-11-10T18:21:38.318Z"
   },
   {
    "duration": 20,
    "start_time": "2021-11-10T18:21:38.522Z"
   },
   {
    "duration": 18,
    "start_time": "2021-11-10T18:21:38.748Z"
   },
   {
    "duration": 10,
    "start_time": "2021-11-10T18:21:39.189Z"
   },
   {
    "duration": 10,
    "start_time": "2021-11-10T18:21:39.430Z"
   },
   {
    "duration": 9,
    "start_time": "2021-11-10T18:21:39.646Z"
   },
   {
    "duration": 10,
    "start_time": "2021-11-10T18:21:39.884Z"
   },
   {
    "duration": 10,
    "start_time": "2021-11-10T18:21:40.137Z"
   },
   {
    "duration": 7,
    "start_time": "2021-11-10T18:21:40.350Z"
   },
   {
    "duration": 95,
    "start_time": "2021-11-10T18:21:40.602Z"
   },
   {
    "duration": 405,
    "start_time": "2021-11-10T18:21:40.758Z"
   },
   {
    "duration": 894,
    "start_time": "2021-11-10T18:55:07.268Z"
   },
   {
    "duration": 160,
    "start_time": "2021-11-10T18:55:08.165Z"
   },
   {
    "duration": 122,
    "start_time": "2021-11-10T18:55:08.328Z"
   },
   {
    "duration": 78,
    "start_time": "2021-11-10T18:55:08.453Z"
   },
   {
    "duration": 17,
    "start_time": "2021-11-10T18:55:08.533Z"
   },
   {
    "duration": 59,
    "start_time": "2021-11-10T18:55:08.552Z"
   },
   {
    "duration": 19,
    "start_time": "2021-11-10T18:55:08.614Z"
   },
   {
    "duration": 15,
    "start_time": "2021-11-10T18:55:08.639Z"
   },
   {
    "duration": 14,
    "start_time": "2021-11-10T18:55:08.658Z"
   },
   {
    "duration": 16,
    "start_time": "2021-11-10T18:55:08.674Z"
   },
   {
    "duration": 20,
    "start_time": "2021-11-10T18:55:08.693Z"
   },
   {
    "duration": 9,
    "start_time": "2021-11-10T18:55:08.715Z"
   },
   {
    "duration": 57,
    "start_time": "2021-11-10T18:55:08.727Z"
   },
   {
    "duration": 12,
    "start_time": "2021-11-10T18:55:08.787Z"
   },
   {
    "duration": 37,
    "start_time": "2021-11-10T18:55:08.802Z"
   },
   {
    "duration": 30,
    "start_time": "2021-11-10T18:55:08.842Z"
   },
   {
    "duration": 17,
    "start_time": "2021-11-10T18:55:08.876Z"
   },
   {
    "duration": 78,
    "start_time": "2021-11-10T18:55:08.897Z"
   },
   {
    "duration": 14,
    "start_time": "2021-11-10T18:55:08.977Z"
   },
   {
    "duration": 45,
    "start_time": "2021-11-10T18:55:08.994Z"
   },
   {
    "duration": 35,
    "start_time": "2021-11-10T18:55:09.041Z"
   },
   {
    "duration": 43,
    "start_time": "2021-11-10T18:55:09.078Z"
   },
   {
    "duration": 11,
    "start_time": "2021-11-10T18:55:09.126Z"
   },
   {
    "duration": 27,
    "start_time": "2021-11-10T18:55:09.140Z"
   },
   {
    "duration": 60,
    "start_time": "2021-11-10T18:55:09.169Z"
   },
   {
    "duration": 36,
    "start_time": "2021-11-10T18:55:09.232Z"
   },
   {
    "duration": 11,
    "start_time": "2021-11-10T18:55:09.271Z"
   },
   {
    "duration": 6,
    "start_time": "2021-11-10T18:55:09.285Z"
   },
   {
    "duration": 14,
    "start_time": "2021-11-10T18:55:09.293Z"
   },
   {
    "duration": 13,
    "start_time": "2021-11-10T18:55:09.309Z"
   },
   {
    "duration": 52,
    "start_time": "2021-11-10T18:55:09.324Z"
   },
   {
    "duration": 38,
    "start_time": "2021-11-10T18:55:09.378Z"
   },
   {
    "duration": 14,
    "start_time": "2021-11-10T18:55:09.418Z"
   },
   {
    "duration": 34,
    "start_time": "2021-11-10T18:55:09.435Z"
   },
   {
    "duration": 18,
    "start_time": "2021-11-10T18:55:09.472Z"
   },
   {
    "duration": 11,
    "start_time": "2021-11-10T18:55:09.492Z"
   },
   {
    "duration": 14,
    "start_time": "2021-11-10T18:55:09.506Z"
   },
   {
    "duration": 14,
    "start_time": "2021-11-10T18:55:09.522Z"
   },
   {
    "duration": 5,
    "start_time": "2021-11-10T18:55:09.567Z"
   },
   {
    "duration": 8,
    "start_time": "2021-11-10T18:55:09.575Z"
   },
   {
    "duration": 151,
    "start_time": "2021-11-10T18:55:09.585Z"
   },
   {
    "duration": 16,
    "start_time": "2021-11-10T18:55:09.738Z"
   },
   {
    "duration": 44,
    "start_time": "2021-11-10T18:55:09.767Z"
   },
   {
    "duration": 19,
    "start_time": "2021-11-10T18:55:09.814Z"
   },
   {
    "duration": 41,
    "start_time": "2021-11-10T18:55:09.836Z"
   },
   {
    "duration": 7,
    "start_time": "2021-11-10T18:55:09.880Z"
   },
   {
    "duration": 19,
    "start_time": "2021-11-10T18:55:09.890Z"
   },
   {
    "duration": 22,
    "start_time": "2021-11-10T18:55:09.912Z"
   },
   {
    "duration": 18,
    "start_time": "2021-11-10T18:55:09.937Z"
   },
   {
    "duration": 10,
    "start_time": "2021-11-10T18:55:09.957Z"
   },
   {
    "duration": 14,
    "start_time": "2021-11-10T18:55:09.970Z"
   },
   {
    "duration": 103,
    "start_time": "2021-11-10T18:55:09.986Z"
   },
   {
    "duration": -27445,
    "start_time": "2021-11-10T18:55:37.536Z"
   },
   {
    "duration": 4,
    "start_time": "2021-11-10T18:55:16.908Z"
   },
   {
    "duration": 152,
    "start_time": "2021-11-10T18:55:17.432Z"
   },
   {
    "duration": 112,
    "start_time": "2021-11-10T18:55:17.780Z"
   },
   {
    "duration": 77,
    "start_time": "2021-11-10T18:55:18.040Z"
   },
   {
    "duration": 16,
    "start_time": "2021-11-10T18:55:18.270Z"
   },
   {
    "duration": 42,
    "start_time": "2021-11-10T18:55:18.487Z"
   },
   {
    "duration": 13,
    "start_time": "2021-11-10T18:55:18.672Z"
   },
   {
    "duration": 15,
    "start_time": "2021-11-10T18:55:18.868Z"
   },
   {
    "duration": 6,
    "start_time": "2021-11-10T18:55:19.078Z"
   },
   {
    "duration": 9,
    "start_time": "2021-11-10T18:55:19.260Z"
   },
   {
    "duration": 17,
    "start_time": "2021-11-10T18:55:19.445Z"
   },
   {
    "duration": 7,
    "start_time": "2021-11-10T18:55:19.638Z"
   },
   {
    "duration": 28,
    "start_time": "2021-11-10T18:55:19.837Z"
   },
   {
    "duration": 11,
    "start_time": "2021-11-10T18:55:20.196Z"
   },
   {
    "duration": 17,
    "start_time": "2021-11-10T18:55:20.498Z"
   },
   {
    "duration": 11,
    "start_time": "2021-11-10T18:55:20.738Z"
   },
   {
    "duration": 16,
    "start_time": "2021-11-10T18:55:20.936Z"
   },
   {
    "duration": 51,
    "start_time": "2021-11-10T18:55:21.184Z"
   },
   {
    "duration": 13,
    "start_time": "2021-11-10T18:55:21.378Z"
   },
   {
    "duration": 41,
    "start_time": "2021-11-10T18:55:21.614Z"
   },
   {
    "duration": 13,
    "start_time": "2021-11-10T18:55:21.828Z"
   },
   {
    "duration": 31,
    "start_time": "2021-11-10T18:55:22.028Z"
   },
   {
    "duration": 12,
    "start_time": "2021-11-10T18:55:22.242Z"
   },
   {
    "duration": 6,
    "start_time": "2021-11-10T18:55:22.474Z"
   },
   {
    "duration": 55,
    "start_time": "2021-11-10T18:55:23.173Z"
   },
   {
    "duration": 11,
    "start_time": "2021-11-10T18:55:23.695Z"
   },
   {
    "duration": 11,
    "start_time": "2021-11-10T18:55:24.168Z"
   },
   {
    "duration": 4,
    "start_time": "2021-11-10T18:55:24.541Z"
   },
   {
    "duration": 10,
    "start_time": "2021-11-10T18:55:24.887Z"
   },
   {
    "duration": 11,
    "start_time": "2021-11-10T18:55:25.426Z"
   },
   {
    "duration": 11,
    "start_time": "2021-11-10T18:55:25.847Z"
   },
   {
    "duration": 38,
    "start_time": "2021-11-10T18:55:26.378Z"
   },
   {
    "duration": 16,
    "start_time": "2021-11-10T18:55:26.725Z"
   },
   {
    "duration": 5,
    "start_time": "2021-11-10T18:55:27.001Z"
   },
   {
    "duration": 14,
    "start_time": "2021-11-10T18:55:27.267Z"
   },
   {
    "duration": 4,
    "start_time": "2021-11-10T18:55:27.769Z"
   },
   {
    "duration": 13,
    "start_time": "2021-11-10T18:55:28.009Z"
   },
   {
    "duration": 14,
    "start_time": "2021-11-10T18:55:28.271Z"
   },
   {
    "duration": 5,
    "start_time": "2021-11-10T18:55:28.516Z"
   },
   {
    "duration": 8,
    "start_time": "2021-11-10T18:55:28.758Z"
   },
   {
    "duration": 120,
    "start_time": "2021-11-10T18:55:29.005Z"
   },
   {
    "duration": 16,
    "start_time": "2021-11-10T18:55:29.613Z"
   },
   {
    "duration": 43,
    "start_time": "2021-11-10T18:55:29.869Z"
   },
   {
    "duration": 20,
    "start_time": "2021-11-10T18:55:30.087Z"
   },
   {
    "duration": 18,
    "start_time": "2021-11-10T18:55:30.329Z"
   },
   {
    "duration": 8,
    "start_time": "2021-11-10T18:55:30.557Z"
   },
   {
    "duration": 8,
    "start_time": "2021-11-10T18:55:30.795Z"
   },
   {
    "duration": 7,
    "start_time": "2021-11-10T18:55:31.380Z"
   },
   {
    "duration": 7,
    "start_time": "2021-11-10T18:55:31.890Z"
   },
   {
    "duration": 7,
    "start_time": "2021-11-10T18:55:32.426Z"
   },
   {
    "duration": 7,
    "start_time": "2021-11-10T18:55:33.892Z"
   },
   {
    "duration": 86,
    "start_time": "2021-11-10T18:55:34.178Z"
   },
   {
    "duration": 675,
    "start_time": "2021-11-10T18:55:34.392Z"
   },
   {
    "duration": 647,
    "start_time": "2021-11-10T18:56:17.206Z"
   },
   {
    "duration": 153,
    "start_time": "2021-11-10T18:56:17.855Z"
   },
   {
    "duration": 128,
    "start_time": "2021-11-10T18:56:18.011Z"
   },
   {
    "duration": 76,
    "start_time": "2021-11-10T18:56:18.142Z"
   },
   {
    "duration": 16,
    "start_time": "2021-11-10T18:56:18.220Z"
   },
   {
    "duration": 37,
    "start_time": "2021-11-10T18:56:18.239Z"
   },
   {
    "duration": 14,
    "start_time": "2021-11-10T18:56:18.372Z"
   },
   {
    "duration": 16,
    "start_time": "2021-11-10T18:56:18.564Z"
   },
   {
    "duration": 7,
    "start_time": "2021-11-10T18:56:18.696Z"
   },
   {
    "duration": 9,
    "start_time": "2021-11-10T18:56:18.868Z"
   },
   {
    "duration": 18,
    "start_time": "2021-11-10T18:56:19.024Z"
   },
   {
    "duration": 8,
    "start_time": "2021-11-10T18:56:19.170Z"
   },
   {
    "duration": 21,
    "start_time": "2021-11-10T18:56:19.359Z"
   },
   {
    "duration": 12,
    "start_time": "2021-11-10T18:56:19.485Z"
   },
   {
    "duration": 19,
    "start_time": "2021-11-10T18:56:19.612Z"
   },
   {
    "duration": 12,
    "start_time": "2021-11-10T18:56:19.758Z"
   },
   {
    "duration": 16,
    "start_time": "2021-11-10T18:56:19.896Z"
   },
   {
    "duration": 51,
    "start_time": "2021-11-10T18:56:20.009Z"
   },
   {
    "duration": 13,
    "start_time": "2021-11-10T18:56:20.138Z"
   },
   {
    "duration": 41,
    "start_time": "2021-11-10T18:56:20.236Z"
   },
   {
    "duration": 13,
    "start_time": "2021-11-10T18:56:20.371Z"
   },
   {
    "duration": 30,
    "start_time": "2021-11-10T18:56:20.485Z"
   },
   {
    "duration": 12,
    "start_time": "2021-11-10T18:56:20.620Z"
   },
   {
    "duration": 5,
    "start_time": "2021-11-10T18:56:20.779Z"
   },
   {
    "duration": 52,
    "start_time": "2021-11-10T18:56:21.116Z"
   },
   {
    "duration": 11,
    "start_time": "2021-11-10T18:56:21.285Z"
   },
   {
    "duration": 11,
    "start_time": "2021-11-10T18:56:21.464Z"
   },
   {
    "duration": 4,
    "start_time": "2021-11-10T18:56:21.625Z"
   },
   {
    "duration": 11,
    "start_time": "2021-11-10T18:56:21.785Z"
   },
   {
    "duration": 11,
    "start_time": "2021-11-10T18:56:21.975Z"
   },
   {
    "duration": 13,
    "start_time": "2021-11-10T18:56:22.158Z"
   },
   {
    "duration": 36,
    "start_time": "2021-11-10T18:56:22.304Z"
   },
   {
    "duration": 17,
    "start_time": "2021-11-10T18:56:22.487Z"
   },
   {
    "duration": 5,
    "start_time": "2021-11-10T18:56:22.707Z"
   },
   {
    "duration": 13,
    "start_time": "2021-11-10T18:56:22.851Z"
   },
   {
    "duration": 4,
    "start_time": "2021-11-10T18:56:23.051Z"
   },
   {
    "duration": 13,
    "start_time": "2021-11-10T18:56:23.219Z"
   },
   {
    "duration": 15,
    "start_time": "2021-11-10T18:56:23.418Z"
   },
   {
    "duration": 5,
    "start_time": "2021-11-10T18:56:23.615Z"
   },
   {
    "duration": 9,
    "start_time": "2021-11-10T18:56:23.816Z"
   },
   {
    "duration": 122,
    "start_time": "2021-11-10T18:56:24.001Z"
   },
   {
    "duration": 17,
    "start_time": "2021-11-10T18:56:24.171Z"
   },
   {
    "duration": 43,
    "start_time": "2021-11-10T18:56:24.380Z"
   },
   {
    "duration": 20,
    "start_time": "2021-11-10T18:56:24.733Z"
   },
   {
    "duration": 17,
    "start_time": "2021-11-10T18:56:25.104Z"
   },
   {
    "duration": 9,
    "start_time": "2021-11-10T18:56:25.397Z"
   },
   {
    "duration": 9,
    "start_time": "2021-11-10T18:56:25.655Z"
   },
   {
    "duration": 9,
    "start_time": "2021-11-10T18:56:25.856Z"
   },
   {
    "duration": 9,
    "start_time": "2021-11-10T18:56:26.049Z"
   },
   {
    "duration": 7,
    "start_time": "2021-11-10T18:56:26.238Z"
   },
   {
    "duration": 8,
    "start_time": "2021-11-10T18:56:26.444Z"
   },
   {
    "duration": 592,
    "start_time": "2021-11-10T18:56:26.640Z"
   },
   {
    "duration": 1496,
    "start_time": "2021-11-10T19:01:07.157Z"
   },
   {
    "duration": 166,
    "start_time": "2021-11-10T19:01:08.656Z"
   },
   {
    "duration": 129,
    "start_time": "2021-11-10T19:01:08.825Z"
   },
   {
    "duration": 76,
    "start_time": "2021-11-10T19:01:08.956Z"
   },
   {
    "duration": 16,
    "start_time": "2021-11-10T19:01:09.034Z"
   },
   {
    "duration": 35,
    "start_time": "2021-11-10T19:01:09.052Z"
   },
   {
    "duration": 20,
    "start_time": "2021-11-10T19:01:09.090Z"
   },
   {
    "duration": 15,
    "start_time": "2021-11-10T19:01:09.115Z"
   },
   {
    "duration": 12,
    "start_time": "2021-11-10T19:01:09.134Z"
   },
   {
    "duration": 9,
    "start_time": "2021-11-10T19:01:09.167Z"
   },
   {
    "duration": 18,
    "start_time": "2021-11-10T19:01:09.178Z"
   },
   {
    "duration": 6,
    "start_time": "2021-11-10T19:01:09.199Z"
   },
   {
    "duration": 22,
    "start_time": "2021-11-10T19:01:09.207Z"
   },
   {
    "duration": 45,
    "start_time": "2021-11-10T19:01:09.231Z"
   },
   {
    "duration": 19,
    "start_time": "2021-11-10T19:01:09.278Z"
   },
   {
    "duration": 11,
    "start_time": "2021-11-10T19:01:09.299Z"
   },
   {
    "duration": 16,
    "start_time": "2021-11-10T19:01:09.312Z"
   },
   {
    "duration": 54,
    "start_time": "2021-11-10T19:01:09.368Z"
   },
   {
    "duration": 12,
    "start_time": "2021-11-10T19:01:09.424Z"
   },
   {
    "duration": 65,
    "start_time": "2021-11-10T19:01:09.438Z"
   },
   {
    "duration": 14,
    "start_time": "2021-11-10T19:01:09.506Z"
   },
   {
    "duration": 53,
    "start_time": "2021-11-10T19:01:09.523Z"
   },
   {
    "duration": 12,
    "start_time": "2021-11-10T19:01:09.584Z"
   },
   {
    "duration": 9,
    "start_time": "2021-11-10T19:01:09.599Z"
   },
   {
    "duration": 84,
    "start_time": "2021-11-10T19:01:09.610Z"
   },
   {
    "duration": 11,
    "start_time": "2021-11-10T19:01:09.696Z"
   },
   {
    "duration": 13,
    "start_time": "2021-11-10T19:01:09.710Z"
   },
   {
    "duration": 7,
    "start_time": "2021-11-10T19:01:09.725Z"
   },
   {
    "duration": 39,
    "start_time": "2021-11-10T19:01:09.734Z"
   },
   {
    "duration": 20,
    "start_time": "2021-11-10T19:01:09.775Z"
   },
   {
    "duration": 20,
    "start_time": "2021-11-10T19:01:09.797Z"
   },
   {
    "duration": 53,
    "start_time": "2021-11-10T19:01:09.820Z"
   },
   {
    "duration": 15,
    "start_time": "2021-11-10T19:01:09.876Z"
   },
   {
    "duration": 12,
    "start_time": "2021-11-10T19:01:09.894Z"
   },
   {
    "duration": 13,
    "start_time": "2021-11-10T19:01:09.909Z"
   },
   {
    "duration": 11,
    "start_time": "2021-11-10T19:01:09.924Z"
   },
   {
    "duration": 37,
    "start_time": "2021-11-10T19:01:09.937Z"
   },
   {
    "duration": 14,
    "start_time": "2021-11-10T19:01:09.976Z"
   },
   {
    "duration": 6,
    "start_time": "2021-11-10T19:01:09.993Z"
   },
   {
    "duration": 11,
    "start_time": "2021-11-10T19:01:10.001Z"
   },
   {
    "duration": 159,
    "start_time": "2021-11-10T19:01:10.014Z"
   },
   {
    "duration": 16,
    "start_time": "2021-11-10T19:01:10.176Z"
   },
   {
    "duration": 44,
    "start_time": "2021-11-10T19:01:10.194Z"
   },
   {
    "duration": 41,
    "start_time": "2021-11-10T19:01:10.240Z"
   },
   {
    "duration": 17,
    "start_time": "2021-11-10T19:01:10.283Z"
   },
   {
    "duration": 9,
    "start_time": "2021-11-10T19:01:10.303Z"
   },
   {
    "duration": 10,
    "start_time": "2021-11-10T19:01:10.314Z"
   },
   {
    "duration": 43,
    "start_time": "2021-11-10T19:01:10.327Z"
   },
   {
    "duration": 7,
    "start_time": "2021-11-10T19:01:10.373Z"
   },
   {
    "duration": 9,
    "start_time": "2021-11-10T19:01:10.382Z"
   },
   {
    "duration": 7,
    "start_time": "2021-11-10T19:01:10.393Z"
   },
   {
    "duration": 730,
    "start_time": "2021-11-10T19:01:10.403Z"
   },
   {
    "duration": 593,
    "start_time": "2021-11-10T19:01:45.446Z"
   },
   {
    "duration": 486,
    "start_time": "2021-11-10T19:03:16.668Z"
   },
   {
    "duration": 287,
    "start_time": "2021-11-10T19:03:27.876Z"
   },
   {
    "duration": 51,
    "start_time": "2021-11-10T19:04:33.215Z"
   },
   {
    "duration": 10,
    "start_time": "2021-11-10T19:06:12.211Z"
   },
   {
    "duration": 263,
    "start_time": "2021-11-10T19:09:18.588Z"
   },
   {
    "duration": 308,
    "start_time": "2021-11-10T19:09:28.915Z"
   },
   {
    "duration": 6970,
    "start_time": "2021-11-10T19:10:20.296Z"
   },
   {
    "duration": 541,
    "start_time": "2021-11-10T19:11:31.178Z"
   },
   {
    "duration": 306,
    "start_time": "2021-11-10T19:11:57.372Z"
   },
   {
    "duration": 268,
    "start_time": "2021-11-10T19:14:56.582Z"
   },
   {
    "duration": 319,
    "start_time": "2021-11-10T19:15:37.712Z"
   },
   {
    "duration": 323,
    "start_time": "2021-11-10T19:16:14.203Z"
   },
   {
    "duration": 328,
    "start_time": "2021-11-10T19:16:27.084Z"
   },
   {
    "duration": 272,
    "start_time": "2021-11-10T19:16:53.742Z"
   },
   {
    "duration": 4993,
    "start_time": "2021-11-10T19:31:12.382Z"
   },
   {
    "duration": 1551,
    "start_time": "2021-11-10T19:31:17.378Z"
   },
   {
    "duration": 153,
    "start_time": "2021-11-10T19:31:18.932Z"
   },
   {
    "duration": 126,
    "start_time": "2021-11-10T19:31:19.088Z"
   },
   {
    "duration": 81,
    "start_time": "2021-11-10T19:31:19.216Z"
   },
   {
    "duration": 15,
    "start_time": "2021-11-10T19:31:19.300Z"
   },
   {
    "duration": 65,
    "start_time": "2021-11-10T19:31:19.317Z"
   },
   {
    "duration": 18,
    "start_time": "2021-11-10T19:31:19.386Z"
   },
   {
    "duration": 16,
    "start_time": "2021-11-10T19:31:19.407Z"
   },
   {
    "duration": 12,
    "start_time": "2021-11-10T19:31:19.425Z"
   },
   {
    "duration": 30,
    "start_time": "2021-11-10T19:31:19.439Z"
   },
   {
    "duration": 20,
    "start_time": "2021-11-10T19:31:19.472Z"
   },
   {
    "duration": 7,
    "start_time": "2021-11-10T19:31:19.495Z"
   },
   {
    "duration": 25,
    "start_time": "2021-11-10T19:31:19.504Z"
   },
   {
    "duration": 65,
    "start_time": "2021-11-10T19:31:19.531Z"
   },
   {
    "duration": 13,
    "start_time": "2021-11-10T19:31:19.598Z"
   },
   {
    "duration": 27,
    "start_time": "2021-11-10T19:31:19.613Z"
   },
   {
    "duration": 11,
    "start_time": "2021-11-10T19:31:19.667Z"
   },
   {
    "duration": 19,
    "start_time": "2021-11-10T19:31:19.681Z"
   },
   {
    "duration": 73,
    "start_time": "2021-11-10T19:31:19.703Z"
   },
   {
    "duration": 15,
    "start_time": "2021-11-10T19:31:19.778Z"
   },
   {
    "duration": 45,
    "start_time": "2021-11-10T19:31:19.795Z"
   },
   {
    "duration": 33,
    "start_time": "2021-11-10T19:31:19.845Z"
   },
   {
    "duration": 34,
    "start_time": "2021-11-10T19:31:19.881Z"
   },
   {
    "duration": 12,
    "start_time": "2021-11-10T19:31:19.917Z"
   },
   {
    "duration": 36,
    "start_time": "2021-11-10T19:31:19.931Z"
   },
   {
    "duration": 58,
    "start_time": "2021-11-10T19:31:19.970Z"
   },
   {
    "duration": 11,
    "start_time": "2021-11-10T19:31:20.030Z"
   },
   {
    "duration": 11,
    "start_time": "2021-11-10T19:31:20.067Z"
   },
   {
    "duration": 11,
    "start_time": "2021-11-10T19:31:20.081Z"
   },
   {
    "duration": 19,
    "start_time": "2021-11-10T19:31:20.095Z"
   },
   {
    "duration": 25,
    "start_time": "2021-11-10T19:31:20.117Z"
   },
   {
    "duration": 29,
    "start_time": "2021-11-10T19:31:20.145Z"
   },
   {
    "duration": 45,
    "start_time": "2021-11-10T19:31:20.177Z"
   },
   {
    "duration": 16,
    "start_time": "2021-11-10T19:31:20.225Z"
   },
   {
    "duration": 9,
    "start_time": "2021-11-10T19:31:20.268Z"
   },
   {
    "duration": 13,
    "start_time": "2021-11-10T19:31:20.280Z"
   },
   {
    "duration": 20,
    "start_time": "2021-11-10T19:31:20.295Z"
   },
   {
    "duration": 21,
    "start_time": "2021-11-10T19:31:20.317Z"
   },
   {
    "duration": 26,
    "start_time": "2021-11-10T19:31:20.341Z"
   },
   {
    "duration": 18,
    "start_time": "2021-11-10T19:31:20.369Z"
   },
   {
    "duration": 9,
    "start_time": "2021-11-10T19:31:20.389Z"
   },
   {
    "duration": 138,
    "start_time": "2021-11-10T19:31:20.400Z"
   },
   {
    "duration": 16,
    "start_time": "2021-11-10T19:31:20.541Z"
   },
   {
    "duration": 45,
    "start_time": "2021-11-10T19:31:20.567Z"
   },
   {
    "duration": 18,
    "start_time": "2021-11-10T19:31:20.614Z"
   },
   {
    "duration": 42,
    "start_time": "2021-11-10T19:31:20.634Z"
   },
   {
    "duration": 7,
    "start_time": "2021-11-10T19:31:20.678Z"
   },
   {
    "duration": 17,
    "start_time": "2021-11-10T19:31:20.689Z"
   },
   {
    "duration": 13,
    "start_time": "2021-11-10T19:31:20.708Z"
   },
   {
    "duration": 12,
    "start_time": "2021-11-10T19:31:20.723Z"
   },
   {
    "duration": 36,
    "start_time": "2021-11-10T19:31:20.737Z"
   },
   {
    "duration": 19,
    "start_time": "2021-11-10T19:31:20.775Z"
   },
   {
    "duration": 9,
    "start_time": "2021-11-10T19:31:20.796Z"
   },
   {
    "duration": 470,
    "start_time": "2021-11-10T19:31:20.807Z"
   },
   {
    "duration": -28667,
    "start_time": "2021-11-10T19:31:49.947Z"
   },
   {
    "duration": 4,
    "start_time": "2021-11-10T19:31:40.710Z"
   },
   {
    "duration": 146,
    "start_time": "2021-11-10T19:31:41.063Z"
   },
   {
    "duration": 117,
    "start_time": "2021-11-10T19:31:41.329Z"
   },
   {
    "duration": 77,
    "start_time": "2021-11-10T19:31:41.536Z"
   },
   {
    "duration": 17,
    "start_time": "2021-11-10T19:31:41.754Z"
   },
   {
    "duration": 48,
    "start_time": "2021-11-10T19:31:41.959Z"
   },
   {
    "duration": 13,
    "start_time": "2021-11-10T19:31:42.169Z"
   },
   {
    "duration": 15,
    "start_time": "2021-11-10T19:31:42.367Z"
   },
   {
    "duration": 7,
    "start_time": "2021-11-10T19:31:42.589Z"
   },
   {
    "duration": 9,
    "start_time": "2021-11-10T19:31:42.793Z"
   },
   {
    "duration": 17,
    "start_time": "2021-11-10T19:31:43.011Z"
   },
   {
    "duration": 7,
    "start_time": "2021-11-10T19:31:43.219Z"
   },
   {
    "duration": 21,
    "start_time": "2021-11-10T19:31:43.425Z"
   },
   {
    "duration": 34,
    "start_time": "2021-11-10T19:31:43.621Z"
   },
   {
    "duration": 12,
    "start_time": "2021-11-10T19:31:43.857Z"
   },
   {
    "duration": 19,
    "start_time": "2021-11-10T19:31:44.251Z"
   },
   {
    "duration": 11,
    "start_time": "2021-11-10T19:31:44.449Z"
   },
   {
    "duration": 24,
    "start_time": "2021-11-10T19:31:44.671Z"
   },
   {
    "duration": 54,
    "start_time": "2021-11-10T19:31:44.865Z"
   },
   {
    "duration": 13,
    "start_time": "2021-11-10T19:31:45.055Z"
   },
   {
    "duration": 41,
    "start_time": "2021-11-10T19:31:45.281Z"
   },
   {
    "duration": 13,
    "start_time": "2021-11-10T19:31:45.487Z"
   },
   {
    "duration": 31,
    "start_time": "2021-11-10T19:31:45.687Z"
   },
   {
    "duration": 12,
    "start_time": "2021-11-10T19:31:45.921Z"
   },
   {
    "duration": 6,
    "start_time": "2021-11-10T19:31:46.107Z"
   },
   {
    "duration": 54,
    "start_time": "2021-11-10T19:31:46.304Z"
   },
   {
    "duration": 12,
    "start_time": "2021-11-10T19:31:46.527Z"
   },
   {
    "duration": 11,
    "start_time": "2021-11-10T19:31:46.759Z"
   },
   {
    "duration": 4,
    "start_time": "2021-11-10T19:31:46.967Z"
   },
   {
    "duration": 12,
    "start_time": "2021-11-10T19:31:47.187Z"
   },
   {
    "duration": 11,
    "start_time": "2021-11-10T19:31:47.383Z"
   },
   {
    "duration": 12,
    "start_time": "2021-11-10T19:31:47.657Z"
   },
   {
    "duration": 49,
    "start_time": "2021-11-10T19:31:47.878Z"
   },
   {
    "duration": 16,
    "start_time": "2021-11-10T19:31:48.098Z"
   },
   {
    "duration": 5,
    "start_time": "2021-11-10T19:31:48.314Z"
   },
   {
    "duration": 14,
    "start_time": "2021-11-10T19:31:48.545Z"
   },
   {
    "duration": 5,
    "start_time": "2021-11-10T19:31:48.756Z"
   },
   {
    "duration": 15,
    "start_time": "2021-11-10T19:31:48.970Z"
   },
   {
    "duration": 15,
    "start_time": "2021-11-10T19:31:49.204Z"
   },
   {
    "duration": 6,
    "start_time": "2021-11-10T19:31:49.445Z"
   },
   {
    "duration": 8,
    "start_time": "2021-11-10T19:31:49.670Z"
   },
   {
    "duration": 119,
    "start_time": "2021-11-10T19:31:49.890Z"
   },
   {
    "duration": 17,
    "start_time": "2021-11-10T19:31:50.174Z"
   },
   {
    "duration": 45,
    "start_time": "2021-11-10T19:31:50.428Z"
   },
   {
    "duration": 19,
    "start_time": "2021-11-10T19:31:50.653Z"
   },
   {
    "duration": 18,
    "start_time": "2021-11-10T19:31:50.894Z"
   },
   {
    "duration": 8,
    "start_time": "2021-11-10T19:31:51.124Z"
   },
   {
    "duration": 12,
    "start_time": "2021-11-10T19:31:51.363Z"
   },
   {
    "duration": 8,
    "start_time": "2021-11-10T19:31:51.606Z"
   },
   {
    "duration": 9,
    "start_time": "2021-11-10T19:31:51.817Z"
   },
   {
    "duration": 9,
    "start_time": "2021-11-10T19:31:52.046Z"
   },
   {
    "duration": 9,
    "start_time": "2021-11-10T19:31:52.376Z"
   },
   {
    "duration": 8,
    "start_time": "2021-11-10T19:31:53.065Z"
   },
   {
    "duration": 281,
    "start_time": "2021-11-10T19:32:01.520Z"
   },
   {
    "duration": 353,
    "start_time": "2021-11-10T19:33:53.426Z"
   },
   {
    "duration": 1051,
    "start_time": "2021-11-10T19:36:29.052Z"
   },
   {
    "duration": 317,
    "start_time": "2021-11-10T19:38:05.388Z"
   },
   {
    "duration": 299,
    "start_time": "2021-11-10T19:38:22.658Z"
   },
   {
    "duration": 287,
    "start_time": "2021-11-10T19:40:22.903Z"
   },
   {
    "duration": 274,
    "start_time": "2021-11-10T19:41:05.663Z"
   },
   {
    "duration": 259,
    "start_time": "2021-11-10T19:41:20.412Z"
   },
   {
    "duration": 6,
    "start_time": "2021-11-10T19:41:30.318Z"
   },
   {
    "duration": 16,
    "start_time": "2021-11-10T19:41:43.341Z"
   },
   {
    "duration": 87,
    "start_time": "2021-11-10T19:42:10.284Z"
   },
   {
    "duration": 6,
    "start_time": "2021-11-10T19:42:54.159Z"
   },
   {
    "duration": 274,
    "start_time": "2021-11-10T19:44:06.961Z"
   },
   {
    "duration": 361,
    "start_time": "2021-11-10T19:46:25.549Z"
   },
   {
    "duration": 342,
    "start_time": "2021-11-10T19:48:46.952Z"
   },
   {
    "duration": 277,
    "start_time": "2021-11-10T19:50:05.067Z"
   },
   {
    "duration": 346,
    "start_time": "2021-11-10T19:50:54.575Z"
   },
   {
    "duration": 537,
    "start_time": "2021-11-10T19:51:18.797Z"
   },
   {
    "duration": 341,
    "start_time": "2021-11-10T19:52:06.022Z"
   },
   {
    "duration": 348,
    "start_time": "2021-11-10T19:52:58.396Z"
   },
   {
    "duration": 422,
    "start_time": "2021-11-10T19:53:10.571Z"
   },
   {
    "duration": 21,
    "start_time": "2021-11-10T19:56:15.828Z"
   },
   {
    "duration": 22,
    "start_time": "2021-11-10T19:56:35.874Z"
   },
   {
    "duration": 5,
    "start_time": "2021-11-10T20:01:24.477Z"
   },
   {
    "duration": 6,
    "start_time": "2021-11-10T20:03:47.131Z"
   },
   {
    "duration": 533,
    "start_time": "2021-11-10T20:06:35.161Z"
   },
   {
    "duration": 6,
    "start_time": "2021-11-10T20:06:49.401Z"
   },
   {
    "duration": 1186,
    "start_time": "2021-11-10T20:06:50.781Z"
   },
   {
    "duration": 283,
    "start_time": "2021-11-10T20:09:56.784Z"
   },
   {
    "duration": 309,
    "start_time": "2021-11-10T20:10:06.516Z"
   },
   {
    "duration": 9,
    "start_time": "2021-11-10T20:10:49.128Z"
   },
   {
    "duration": 6,
    "start_time": "2021-11-10T20:10:59.612Z"
   },
   {
    "duration": 8,
    "start_time": "2021-11-10T20:11:00.196Z"
   },
   {
    "duration": 304,
    "start_time": "2021-11-10T20:11:23.404Z"
   },
   {
    "duration": 9,
    "start_time": "2021-11-10T20:11:31.611Z"
   },
   {
    "duration": 9,
    "start_time": "2021-11-10T20:11:46.329Z"
   },
   {
    "duration": 15,
    "start_time": "2021-11-10T20:12:45.554Z"
   },
   {
    "duration": 271,
    "start_time": "2021-11-10T20:13:07.203Z"
   },
   {
    "duration": 11,
    "start_time": "2021-11-10T20:13:31.966Z"
   },
   {
    "duration": 79,
    "start_time": "2021-11-10T20:27:13.512Z"
   },
   {
    "duration": 82,
    "start_time": "2021-11-10T20:27:22.281Z"
   },
   {
    "duration": 91,
    "start_time": "2021-11-10T20:27:41.432Z"
   },
   {
    "duration": 94,
    "start_time": "2021-11-10T20:28:40.850Z"
   },
   {
    "duration": 108,
    "start_time": "2021-11-10T20:28:47.099Z"
   },
   {
    "duration": 96,
    "start_time": "2021-11-10T20:28:59.984Z"
   },
   {
    "duration": 354,
    "start_time": "2021-11-10T20:29:14.765Z"
   },
   {
    "duration": 460,
    "start_time": "2021-11-10T20:29:23.954Z"
   },
   {
    "duration": 345,
    "start_time": "2021-11-10T20:29:31.790Z"
   },
   {
    "duration": 676,
    "start_time": "2021-11-10T20:29:55.809Z"
   },
   {
    "duration": 346,
    "start_time": "2021-11-10T20:30:05.183Z"
   },
   {
    "duration": 343,
    "start_time": "2021-11-10T20:30:17.812Z"
   },
   {
    "duration": 4814,
    "start_time": "2021-11-11T06:22:07.337Z"
   },
   {
    "duration": 1469,
    "start_time": "2021-11-11T06:22:12.155Z"
   },
   {
    "duration": 150,
    "start_time": "2021-11-11T06:22:13.628Z"
   },
   {
    "duration": 129,
    "start_time": "2021-11-11T06:22:13.781Z"
   },
   {
    "duration": 91,
    "start_time": "2021-11-11T06:22:13.913Z"
   },
   {
    "duration": 19,
    "start_time": "2021-11-11T06:22:14.007Z"
   },
   {
    "duration": 57,
    "start_time": "2021-11-11T06:22:14.028Z"
   },
   {
    "duration": 17,
    "start_time": "2021-11-11T06:22:14.088Z"
   },
   {
    "duration": 21,
    "start_time": "2021-11-11T06:22:14.108Z"
   },
   {
    "duration": 11,
    "start_time": "2021-11-11T06:22:14.132Z"
   },
   {
    "duration": 15,
    "start_time": "2021-11-11T06:22:14.145Z"
   },
   {
    "duration": 28,
    "start_time": "2021-11-11T06:22:14.163Z"
   },
   {
    "duration": 7,
    "start_time": "2021-11-11T06:22:14.194Z"
   },
   {
    "duration": 21,
    "start_time": "2021-11-11T06:22:14.761Z"
   },
   {
    "duration": 33,
    "start_time": "2021-11-11T06:22:15.225Z"
   },
   {
    "duration": 12,
    "start_time": "2021-11-11T06:22:15.661Z"
   },
   {
    "duration": 22,
    "start_time": "2021-11-11T06:22:15.981Z"
   },
   {
    "duration": 10,
    "start_time": "2021-11-11T06:22:16.556Z"
   },
   {
    "duration": 15,
    "start_time": "2021-11-11T06:22:16.888Z"
   },
   {
    "duration": 49,
    "start_time": "2021-11-11T06:22:17.231Z"
   },
   {
    "duration": 11,
    "start_time": "2021-11-11T06:22:17.495Z"
   },
   {
    "duration": 39,
    "start_time": "2021-11-11T06:22:17.736Z"
   },
   {
    "duration": 13,
    "start_time": "2021-11-11T06:22:18.051Z"
   },
   {
    "duration": 31,
    "start_time": "2021-11-11T06:22:18.367Z"
   },
   {
    "duration": 12,
    "start_time": "2021-11-11T06:22:18.594Z"
   },
   {
    "duration": 6,
    "start_time": "2021-11-11T06:22:19.209Z"
   },
   {
    "duration": 73,
    "start_time": "2021-11-11T06:22:20.497Z"
   },
   {
    "duration": 12,
    "start_time": "2021-11-11T06:22:20.814Z"
   },
   {
    "duration": 11,
    "start_time": "2021-11-11T06:22:21.197Z"
   },
   {
    "duration": 4,
    "start_time": "2021-11-11T06:22:21.521Z"
   },
   {
    "duration": 11,
    "start_time": "2021-11-11T06:22:23.014Z"
   },
   {
    "duration": 10,
    "start_time": "2021-11-11T06:22:23.269Z"
   },
   {
    "duration": 11,
    "start_time": "2021-11-11T06:22:23.613Z"
   },
   {
    "duration": 34,
    "start_time": "2021-11-11T06:22:23.944Z"
   },
   {
    "duration": 15,
    "start_time": "2021-11-11T06:22:24.225Z"
   },
   {
    "duration": 12,
    "start_time": "2021-11-11T06:22:24.946Z"
   },
   {
    "duration": 13,
    "start_time": "2021-11-11T06:22:25.254Z"
   },
   {
    "duration": 4,
    "start_time": "2021-11-11T06:22:25.519Z"
   },
   {
    "duration": 11,
    "start_time": "2021-11-11T06:22:26.696Z"
   },
   {
    "duration": 14,
    "start_time": "2021-11-11T06:22:26.988Z"
   },
   {
    "duration": 6,
    "start_time": "2021-11-11T06:22:27.654Z"
   },
   {
    "duration": 8,
    "start_time": "2021-11-11T06:22:31.683Z"
   },
   {
    "duration": 112,
    "start_time": "2021-11-11T06:22:32.328Z"
   },
   {
    "duration": 18,
    "start_time": "2021-11-11T06:22:32.653Z"
   },
   {
    "duration": 44,
    "start_time": "2021-11-11T06:22:33.069Z"
   },
   {
    "duration": 20,
    "start_time": "2021-11-11T06:22:36.309Z"
   },
   {
    "duration": 17,
    "start_time": "2021-11-11T06:22:36.791Z"
   },
   {
    "duration": 8,
    "start_time": "2021-11-11T06:22:37.117Z"
   },
   {
    "duration": 11,
    "start_time": "2021-11-11T06:22:37.402Z"
   },
   {
    "duration": 10,
    "start_time": "2021-11-11T06:22:37.668Z"
   },
   {
    "duration": 10,
    "start_time": "2021-11-11T06:22:37.929Z"
   },
   {
    "duration": 10,
    "start_time": "2021-11-11T06:22:38.188Z"
   },
   {
    "duration": 10,
    "start_time": "2021-11-11T06:22:38.448Z"
   },
   {
    "duration": 9,
    "start_time": "2021-11-11T06:22:38.714Z"
   },
   {
    "duration": 5,
    "start_time": "2021-11-11T06:22:39.334Z"
   },
   {
    "duration": 6,
    "start_time": "2021-11-11T06:22:39.862Z"
   },
   {
    "duration": 325,
    "start_time": "2021-11-11T06:22:40.339Z"
   },
   {
    "duration": 6,
    "start_time": "2021-11-11T06:22:46.722Z"
   },
   {
    "duration": 298,
    "start_time": "2021-11-11T06:22:47.784Z"
   },
   {
    "duration": 13,
    "start_time": "2021-11-11T06:22:48.827Z"
   },
   {
    "duration": 9,
    "start_time": "2021-11-11T06:22:49.478Z"
   },
   {
    "duration": 486,
    "start_time": "2021-11-11T06:24:32.284Z"
   },
   {
    "duration": 3634,
    "start_time": "2021-11-11T06:24:44.579Z"
   },
   {
    "duration": 4,
    "start_time": "2021-11-11T06:24:48.216Z"
   },
   {
    "duration": 152,
    "start_time": "2021-11-11T06:24:48.223Z"
   },
   {
    "duration": 114,
    "start_time": "2021-11-11T06:24:48.378Z"
   },
   {
    "duration": 72,
    "start_time": "2021-11-11T06:24:48.494Z"
   },
   {
    "duration": 18,
    "start_time": "2021-11-11T06:24:48.569Z"
   },
   {
    "duration": 40,
    "start_time": "2021-11-11T06:24:48.590Z"
   },
   {
    "duration": 14,
    "start_time": "2021-11-11T06:24:48.634Z"
   },
   {
    "duration": 16,
    "start_time": "2021-11-11T06:24:48.652Z"
   },
   {
    "duration": 14,
    "start_time": "2021-11-11T06:24:48.670Z"
   },
   {
    "duration": 18,
    "start_time": "2021-11-11T06:24:48.688Z"
   },
   {
    "duration": 24,
    "start_time": "2021-11-11T06:24:48.709Z"
   },
   {
    "duration": 9,
    "start_time": "2021-11-11T06:24:48.760Z"
   },
   {
    "duration": 28,
    "start_time": "2021-11-11T06:24:48.772Z"
   },
   {
    "duration": 32,
    "start_time": "2021-11-11T06:24:48.959Z"
   },
   {
    "duration": 12,
    "start_time": "2021-11-11T06:24:49.451Z"
   },
   {
    "duration": 18,
    "start_time": "2021-11-11T06:24:49.732Z"
   },
   {
    "duration": 11,
    "start_time": "2021-11-11T06:24:49.989Z"
   },
   {
    "duration": 14,
    "start_time": "2021-11-11T06:24:50.151Z"
   },
   {
    "duration": 50,
    "start_time": "2021-11-11T06:24:50.641Z"
   },
   {
    "duration": 13,
    "start_time": "2021-11-11T06:24:50.987Z"
   },
   {
    "duration": 41,
    "start_time": "2021-11-11T06:24:51.335Z"
   },
   {
    "duration": 13,
    "start_time": "2021-11-11T06:24:51.701Z"
   },
   {
    "duration": 30,
    "start_time": "2021-11-11T06:24:52.040Z"
   },
   {
    "duration": 13,
    "start_time": "2021-11-11T06:24:52.595Z"
   },
   {
    "duration": 5,
    "start_time": "2021-11-11T06:24:53.335Z"
   },
   {
    "duration": 52,
    "start_time": "2021-11-11T06:24:54.054Z"
   },
   {
    "duration": 12,
    "start_time": "2021-11-11T06:24:54.393Z"
   },
   {
    "duration": 10,
    "start_time": "2021-11-11T06:24:54.792Z"
   },
   {
    "duration": 7,
    "start_time": "2021-11-11T06:24:55.182Z"
   },
   {
    "duration": 11,
    "start_time": "2021-11-11T06:24:55.584Z"
   },
   {
    "duration": 13,
    "start_time": "2021-11-11T06:24:55.969Z"
   },
   {
    "duration": 14,
    "start_time": "2021-11-11T06:24:56.371Z"
   },
   {
    "duration": 36,
    "start_time": "2021-11-11T06:24:56.736Z"
   },
   {
    "duration": 15,
    "start_time": "2021-11-11T06:24:57.183Z"
   },
   {
    "duration": 5,
    "start_time": "2021-11-11T06:24:57.969Z"
   },
   {
    "duration": 18,
    "start_time": "2021-11-11T06:24:58.353Z"
   },
   {
    "duration": 4,
    "start_time": "2021-11-11T06:24:58.599Z"
   },
   {
    "duration": 11,
    "start_time": "2021-11-11T06:24:59.675Z"
   },
   {
    "duration": 14,
    "start_time": "2021-11-11T06:24:59.913Z"
   },
   {
    "duration": 6,
    "start_time": "2021-11-11T06:25:00.329Z"
   },
   {
    "duration": 840,
    "start_time": "2021-11-11T06:25:01.028Z"
   },
   {
    "duration": 9,
    "start_time": "2021-11-11T06:26:54.357Z"
   },
   {
    "duration": 41,
    "start_time": "2021-11-11T06:30:10.267Z"
   },
   {
    "duration": 42,
    "start_time": "2021-11-11T06:31:11.604Z"
   },
   {
    "duration": 16,
    "start_time": "2021-11-11T06:31:41.129Z"
   },
   {
    "duration": 466,
    "start_time": "2021-11-11T06:31:55.325Z"
   },
   {
    "duration": 40,
    "start_time": "2021-11-11T06:32:11.366Z"
   },
   {
    "duration": 448,
    "start_time": "2021-11-11T06:39:04.420Z"
   },
   {
    "duration": 110,
    "start_time": "2021-11-11T06:39:17.076Z"
   },
   {
    "duration": 16,
    "start_time": "2021-11-11T06:39:17.719Z"
   },
   {
    "duration": 43,
    "start_time": "2021-11-11T06:39:18.371Z"
   },
   {
    "duration": 19,
    "start_time": "2021-11-11T06:39:19.005Z"
   },
   {
    "duration": 16,
    "start_time": "2021-11-11T06:39:19.754Z"
   },
   {
    "duration": 41,
    "start_time": "2021-11-11T06:39:20.378Z"
   },
   {
    "duration": 18,
    "start_time": "2021-11-11T06:39:21.564Z"
   },
   {
    "duration": 305,
    "start_time": "2021-11-11T06:40:22.491Z"
   },
   {
    "duration": 3652,
    "start_time": "2021-11-11T06:55:41.772Z"
   },
   {
    "duration": 1767,
    "start_time": "2021-11-11T06:55:45.427Z"
   },
   {
    "duration": 158,
    "start_time": "2021-11-11T06:55:47.198Z"
   },
   {
    "duration": 123,
    "start_time": "2021-11-11T06:55:47.358Z"
   },
   {
    "duration": 76,
    "start_time": "2021-11-11T06:55:47.483Z"
   },
   {
    "duration": 18,
    "start_time": "2021-11-11T06:55:47.561Z"
   },
   {
    "duration": 45,
    "start_time": "2021-11-11T06:55:47.581Z"
   },
   {
    "duration": 17,
    "start_time": "2021-11-11T06:55:47.630Z"
   },
   {
    "duration": 16,
    "start_time": "2021-11-11T06:55:47.650Z"
   },
   {
    "duration": 6,
    "start_time": "2021-11-11T06:55:47.668Z"
   },
   {
    "duration": 20,
    "start_time": "2021-11-11T06:55:47.677Z"
   },
   {
    "duration": 19,
    "start_time": "2021-11-11T06:55:47.699Z"
   },
   {
    "duration": 7,
    "start_time": "2021-11-11T06:55:47.722Z"
   },
   {
    "duration": 45,
    "start_time": "2021-11-11T06:55:47.731Z"
   },
   {
    "duration": 33,
    "start_time": "2021-11-11T06:55:47.778Z"
   },
   {
    "duration": 11,
    "start_time": "2021-11-11T06:55:47.814Z"
   },
   {
    "duration": 47,
    "start_time": "2021-11-11T06:55:47.827Z"
   },
   {
    "duration": 11,
    "start_time": "2021-11-11T06:55:47.876Z"
   },
   {
    "duration": 18,
    "start_time": "2021-11-11T06:55:47.890Z"
   },
   {
    "duration": 83,
    "start_time": "2021-11-11T06:55:47.911Z"
   },
   {
    "duration": 13,
    "start_time": "2021-11-11T06:55:47.996Z"
   },
   {
    "duration": 64,
    "start_time": "2021-11-11T06:55:48.013Z"
   },
   {
    "duration": 13,
    "start_time": "2021-11-11T06:55:48.086Z"
   },
   {
    "duration": 35,
    "start_time": "2021-11-11T06:55:48.103Z"
   },
   {
    "duration": 11,
    "start_time": "2021-11-11T06:55:48.160Z"
   },
   {
    "duration": 8,
    "start_time": "2021-11-11T06:55:48.173Z"
   },
   {
    "duration": 49,
    "start_time": "2021-11-11T06:55:48.183Z"
   },
   {
    "duration": 11,
    "start_time": "2021-11-11T06:55:48.259Z"
   },
   {
    "duration": 12,
    "start_time": "2021-11-11T06:55:48.273Z"
   },
   {
    "duration": 6,
    "start_time": "2021-11-11T06:55:48.288Z"
   },
   {
    "duration": 12,
    "start_time": "2021-11-11T06:55:48.297Z"
   },
   {
    "duration": 49,
    "start_time": "2021-11-11T06:55:48.311Z"
   },
   {
    "duration": 10,
    "start_time": "2021-11-11T06:55:48.362Z"
   },
   {
    "duration": 34,
    "start_time": "2021-11-11T06:55:48.375Z"
   },
   {
    "duration": 13,
    "start_time": "2021-11-11T06:55:48.412Z"
   },
   {
    "duration": 41,
    "start_time": "2021-11-11T06:55:48.427Z"
   },
   {
    "duration": 12,
    "start_time": "2021-11-11T06:55:48.470Z"
   },
   {
    "duration": 4,
    "start_time": "2021-11-11T06:55:48.485Z"
   },
   {
    "duration": 14,
    "start_time": "2021-11-11T06:55:48.492Z"
   },
   {
    "duration": 14,
    "start_time": "2021-11-11T06:55:48.508Z"
   },
   {
    "duration": 37,
    "start_time": "2021-11-11T06:55:48.524Z"
   },
   {
    "duration": 8,
    "start_time": "2021-11-11T06:55:48.563Z"
   },
   {
    "duration": 9,
    "start_time": "2021-11-11T06:55:48.574Z"
   },
   {
    "duration": 146,
    "start_time": "2021-11-11T06:55:48.586Z"
   },
   {
    "duration": 30,
    "start_time": "2021-11-11T06:55:48.735Z"
   },
   {
    "duration": 45,
    "start_time": "2021-11-11T06:55:48.768Z"
   },
   {
    "duration": 48,
    "start_time": "2021-11-11T06:55:48.815Z"
   },
   {
    "duration": 17,
    "start_time": "2021-11-11T06:55:48.865Z"
   },
   {
    "duration": 44,
    "start_time": "2021-11-11T06:55:48.884Z"
   },
   {
    "duration": 542,
    "start_time": "2021-11-11T06:55:48.930Z"
   },
   {
    "duration": 20,
    "start_time": "2021-11-11T06:55:49.475Z"
   },
   {
    "duration": 502,
    "start_time": "2021-11-11T06:55:49.497Z"
   },
   {
    "duration": -30853,
    "start_time": "2021-11-11T06:56:20.854Z"
   },
   {
    "duration": -30855,
    "start_time": "2021-11-11T06:56:20.858Z"
   },
   {
    "duration": -30857,
    "start_time": "2021-11-11T06:56:20.861Z"
   },
   {
    "duration": -30858,
    "start_time": "2021-11-11T06:56:20.864Z"
   },
   {
    "duration": -30861,
    "start_time": "2021-11-11T06:56:20.868Z"
   },
   {
    "duration": -30946,
    "start_time": "2021-11-11T06:56:20.955Z"
   },
   {
    "duration": -30952,
    "start_time": "2021-11-11T06:56:20.962Z"
   },
   {
    "duration": -31002,
    "start_time": "2021-11-11T06:56:21.014Z"
   },
   {
    "duration": -31004,
    "start_time": "2021-11-11T06:56:21.018Z"
   },
   {
    "duration": -31006,
    "start_time": "2021-11-11T06:56:21.021Z"
   },
   {
    "duration": -31007,
    "start_time": "2021-11-11T06:56:21.024Z"
   },
   {
    "duration": -31010,
    "start_time": "2021-11-11T06:56:21.028Z"
   },
   {
    "duration": 3579,
    "start_time": "2021-11-11T06:55:56.818Z"
   },
   {
    "duration": 5,
    "start_time": "2021-11-11T06:56:00.401Z"
   },
   {
    "duration": 150,
    "start_time": "2021-11-11T06:56:00.410Z"
   },
   {
    "duration": 116,
    "start_time": "2021-11-11T06:56:00.564Z"
   },
   {
    "duration": 75,
    "start_time": "2021-11-11T06:56:00.683Z"
   },
   {
    "duration": 20,
    "start_time": "2021-11-11T06:56:00.760Z"
   },
   {
    "duration": 72,
    "start_time": "2021-11-11T06:56:00.783Z"
   },
   {
    "duration": 19,
    "start_time": "2021-11-11T06:56:00.859Z"
   },
   {
    "duration": 15,
    "start_time": "2021-11-11T06:56:02.090Z"
   },
   {
    "duration": 6,
    "start_time": "2021-11-11T06:56:03.035Z"
   },
   {
    "duration": 10,
    "start_time": "2021-11-11T06:56:04.124Z"
   },
   {
    "duration": 17,
    "start_time": "2021-11-11T06:56:04.384Z"
   },
   {
    "duration": 8,
    "start_time": "2021-11-11T06:56:04.668Z"
   },
   {
    "duration": 21,
    "start_time": "2021-11-11T06:56:05.202Z"
   },
   {
    "duration": 33,
    "start_time": "2021-11-11T06:56:05.629Z"
   },
   {
    "duration": 11,
    "start_time": "2021-11-11T06:56:05.927Z"
   },
   {
    "duration": 18,
    "start_time": "2021-11-11T06:56:06.197Z"
   },
   {
    "duration": 12,
    "start_time": "2021-11-11T06:56:06.546Z"
   },
   {
    "duration": 15,
    "start_time": "2021-11-11T06:56:06.813Z"
   },
   {
    "duration": 48,
    "start_time": "2021-11-11T06:56:07.058Z"
   },
   {
    "duration": 12,
    "start_time": "2021-11-11T06:56:07.337Z"
   },
   {
    "duration": 67,
    "start_time": "2021-11-11T06:56:07.624Z"
   },
   {
    "duration": 13,
    "start_time": "2021-11-11T06:56:07.890Z"
   },
   {
    "duration": 28,
    "start_time": "2021-11-11T06:56:08.191Z"
   },
   {
    "duration": 11,
    "start_time": "2021-11-11T06:56:08.724Z"
   },
   {
    "duration": 5,
    "start_time": "2021-11-11T06:56:11.829Z"
   },
   {
    "duration": 49,
    "start_time": "2021-11-11T06:56:12.387Z"
   },
   {
    "duration": 11,
    "start_time": "2021-11-11T06:56:12.649Z"
   },
   {
    "duration": 10,
    "start_time": "2021-11-11T06:56:13.137Z"
   },
   {
    "duration": 4,
    "start_time": "2021-11-11T06:56:13.461Z"
   },
   {
    "duration": 11,
    "start_time": "2021-11-11T06:56:14.092Z"
   },
   {
    "duration": 10,
    "start_time": "2021-11-11T06:56:15.109Z"
   },
   {
    "duration": 11,
    "start_time": "2021-11-11T06:56:15.359Z"
   },
   {
    "duration": 35,
    "start_time": "2021-11-11T06:56:15.630Z"
   },
   {
    "duration": 15,
    "start_time": "2021-11-11T06:56:16.132Z"
   },
   {
    "duration": 5,
    "start_time": "2021-11-11T06:56:16.976Z"
   },
   {
    "duration": 13,
    "start_time": "2021-11-11T06:56:17.226Z"
   },
   {
    "duration": 4,
    "start_time": "2021-11-11T06:56:17.469Z"
   },
   {
    "duration": 12,
    "start_time": "2021-11-11T06:56:17.963Z"
   },
   {
    "duration": 14,
    "start_time": "2021-11-11T06:56:18.254Z"
   },
   {
    "duration": 5,
    "start_time": "2021-11-11T06:56:18.487Z"
   },
   {
    "duration": 10,
    "start_time": "2021-11-11T06:56:18.779Z"
   },
   {
    "duration": 9,
    "start_time": "2021-11-11T06:56:20.309Z"
   },
   {
    "duration": 123,
    "start_time": "2021-11-11T06:56:20.852Z"
   },
   {
    "duration": 16,
    "start_time": "2021-11-11T06:56:21.352Z"
   },
   {
    "duration": 43,
    "start_time": "2021-11-11T06:56:21.714Z"
   },
   {
    "duration": 19,
    "start_time": "2021-11-11T06:56:22.265Z"
   },
   {
    "duration": 18,
    "start_time": "2021-11-11T06:56:22.760Z"
   },
   {
    "duration": 46,
    "start_time": "2021-11-11T06:56:23.064Z"
   },
   {
    "duration": 601,
    "start_time": "2021-11-11T06:56:24.154Z"
   },
   {
    "duration": 19,
    "start_time": "2021-11-11T06:59:17.443Z"
   },
   {
    "duration": 19,
    "start_time": "2021-11-11T06:59:18.820Z"
   },
   {
    "duration": 592,
    "start_time": "2021-11-11T07:00:18.391Z"
   },
   {
    "duration": 469,
    "start_time": "2021-11-11T07:01:17.579Z"
   },
   {
    "duration": 18,
    "start_time": "2021-11-11T07:01:39.651Z"
   },
   {
    "duration": 563,
    "start_time": "2021-11-11T07:02:25.995Z"
   },
   {
    "duration": 899,
    "start_time": "2021-11-11T07:03:24.726Z"
   },
   {
    "duration": 482,
    "start_time": "2021-11-11T07:05:46.725Z"
   },
   {
    "duration": 504,
    "start_time": "2021-11-11T07:05:58.818Z"
   },
   {
    "duration": 473,
    "start_time": "2021-11-11T07:06:07.738Z"
   },
   {
    "duration": 476,
    "start_time": "2021-11-11T07:06:16.240Z"
   },
   {
    "duration": 484,
    "start_time": "2021-11-11T07:06:24.961Z"
   },
   {
    "duration": 136,
    "start_time": "2021-11-11T07:07:14.916Z"
   },
   {
    "duration": 563,
    "start_time": "2021-11-11T07:07:24.915Z"
   },
   {
    "duration": 17,
    "start_time": "2021-11-11T07:07:35.243Z"
   },
   {
    "duration": 464,
    "start_time": "2021-11-11T07:09:57.978Z"
   },
   {
    "duration": 459,
    "start_time": "2021-11-11T07:10:18.339Z"
   },
   {
    "duration": 3600,
    "start_time": "2021-11-11T08:23:30.679Z"
   },
   {
    "duration": 1397,
    "start_time": "2021-11-11T08:23:34.281Z"
   },
   {
    "duration": 143,
    "start_time": "2021-11-11T08:23:35.681Z"
   },
   {
    "duration": 121,
    "start_time": "2021-11-11T08:23:35.827Z"
   },
   {
    "duration": 81,
    "start_time": "2021-11-11T08:23:35.951Z"
   },
   {
    "duration": 18,
    "start_time": "2021-11-11T08:23:36.035Z"
   },
   {
    "duration": 49,
    "start_time": "2021-11-11T08:23:36.056Z"
   },
   {
    "duration": 18,
    "start_time": "2021-11-11T08:23:36.109Z"
   },
   {
    "duration": 18,
    "start_time": "2021-11-11T08:23:36.131Z"
   },
   {
    "duration": 14,
    "start_time": "2021-11-11T08:23:36.152Z"
   },
   {
    "duration": 23,
    "start_time": "2021-11-11T08:23:36.169Z"
   },
   {
    "duration": 28,
    "start_time": "2021-11-11T08:23:36.195Z"
   },
   {
    "duration": 7,
    "start_time": "2021-11-11T08:23:36.226Z"
   },
   {
    "duration": 63,
    "start_time": "2021-11-11T08:23:36.235Z"
   },
   {
    "duration": 32,
    "start_time": "2021-11-11T08:23:36.301Z"
   },
   {
    "duration": 11,
    "start_time": "2021-11-11T08:23:36.336Z"
   },
   {
    "duration": 31,
    "start_time": "2021-11-11T08:23:36.350Z"
   },
   {
    "duration": 10,
    "start_time": "2021-11-11T08:23:36.383Z"
   },
   {
    "duration": 18,
    "start_time": "2021-11-11T08:23:36.396Z"
   },
   {
    "duration": 80,
    "start_time": "2021-11-11T08:23:36.417Z"
   },
   {
    "duration": 14,
    "start_time": "2021-11-11T08:23:36.499Z"
   },
   {
    "duration": 64,
    "start_time": "2021-11-11T08:23:36.515Z"
   },
   {
    "duration": 12,
    "start_time": "2021-11-11T08:23:36.585Z"
   },
   {
    "duration": 29,
    "start_time": "2021-11-11T08:23:36.600Z"
   },
   {
    "duration": 34,
    "start_time": "2021-11-11T08:23:36.631Z"
   },
   {
    "duration": 11,
    "start_time": "2021-11-11T08:23:36.667Z"
   },
   {
    "duration": 57,
    "start_time": "2021-11-11T08:23:36.680Z"
   },
   {
    "duration": 33,
    "start_time": "2021-11-11T08:23:36.739Z"
   },
   {
    "duration": 23,
    "start_time": "2021-11-11T08:23:36.774Z"
   },
   {
    "duration": 9,
    "start_time": "2021-11-11T08:23:36.799Z"
   },
   {
    "duration": 15,
    "start_time": "2021-11-11T08:23:36.810Z"
   },
   {
    "duration": 17,
    "start_time": "2021-11-11T08:23:36.827Z"
   },
   {
    "duration": 22,
    "start_time": "2021-11-11T08:23:36.846Z"
   },
   {
    "duration": 43,
    "start_time": "2021-11-11T08:23:36.870Z"
   },
   {
    "duration": 14,
    "start_time": "2021-11-11T08:23:36.916Z"
   },
   {
    "duration": 11,
    "start_time": "2021-11-11T08:23:36.933Z"
   },
   {
    "duration": 26,
    "start_time": "2021-11-11T08:23:36.946Z"
   },
   {
    "duration": 8,
    "start_time": "2021-11-11T08:23:36.974Z"
   },
   {
    "duration": 14,
    "start_time": "2021-11-11T08:23:36.984Z"
   },
   {
    "duration": 15,
    "start_time": "2021-11-11T08:23:37.000Z"
   },
   {
    "duration": 6,
    "start_time": "2021-11-11T08:23:37.017Z"
   },
   {
    "duration": 18,
    "start_time": "2021-11-11T08:23:37.058Z"
   },
   {
    "duration": 12,
    "start_time": "2021-11-11T08:23:37.078Z"
   },
   {
    "duration": 129,
    "start_time": "2021-11-11T08:23:37.093Z"
   },
   {
    "duration": 16,
    "start_time": "2021-11-11T08:23:37.224Z"
   },
   {
    "duration": 54,
    "start_time": "2021-11-11T08:23:37.242Z"
   },
   {
    "duration": 18,
    "start_time": "2021-11-11T08:23:37.298Z"
   },
   {
    "duration": 16,
    "start_time": "2021-11-11T08:23:37.318Z"
   },
   {
    "duration": 39,
    "start_time": "2021-11-11T08:23:37.368Z"
   },
   {
    "duration": 16,
    "start_time": "2021-11-11T08:23:37.409Z"
   },
   {
    "duration": 534,
    "start_time": "2021-11-11T08:23:37.427Z"
   },
   {
    "duration": 19,
    "start_time": "2021-11-11T08:23:37.968Z"
   },
   {
    "duration": 609,
    "start_time": "2021-11-11T08:23:37.990Z"
   },
   {
    "duration": 18,
    "start_time": "2021-11-11T08:23:38.601Z"
   },
   {
    "duration": 503,
    "start_time": "2021-11-11T08:23:38.621Z"
   },
   {
    "duration": 592,
    "start_time": "2021-11-11T08:23:39.127Z"
   },
   {
    "duration": 501,
    "start_time": "2021-11-11T08:23:39.722Z"
   },
   {
    "duration": -28279,
    "start_time": "2021-11-11T08:24:08.506Z"
   },
   {
    "duration": -28281,
    "start_time": "2021-11-11T08:24:08.510Z"
   },
   {
    "duration": -28282,
    "start_time": "2021-11-11T08:24:08.513Z"
   },
   {
    "duration": 4025,
    "start_time": "2021-11-11T08:23:44.009Z"
   },
   {
    "duration": 4,
    "start_time": "2021-11-11T08:23:48.037Z"
   },
   {
    "duration": 171,
    "start_time": "2021-11-11T08:23:48.044Z"
   },
   {
    "duration": 114,
    "start_time": "2021-11-11T08:23:48.217Z"
   },
   {
    "duration": 80,
    "start_time": "2021-11-11T08:23:48.334Z"
   },
   {
    "duration": 18,
    "start_time": "2021-11-11T08:23:48.417Z"
   },
   {
    "duration": 47,
    "start_time": "2021-11-11T08:23:48.439Z"
   },
   {
    "duration": 14,
    "start_time": "2021-11-11T08:23:48.491Z"
   },
   {
    "duration": 17,
    "start_time": "2021-11-11T08:23:48.508Z"
   },
   {
    "duration": 9,
    "start_time": "2021-11-11T08:23:48.528Z"
   },
   {
    "duration": 18,
    "start_time": "2021-11-11T08:23:48.559Z"
   },
   {
    "duration": 23,
    "start_time": "2021-11-11T08:23:48.580Z"
   },
   {
    "duration": 6,
    "start_time": "2021-11-11T08:23:48.920Z"
   },
   {
    "duration": 25,
    "start_time": "2021-11-11T08:23:49.607Z"
   },
   {
    "duration": 32,
    "start_time": "2021-11-11T08:23:49.917Z"
   },
   {
    "duration": 12,
    "start_time": "2021-11-11T08:23:50.204Z"
   },
   {
    "duration": 20,
    "start_time": "2021-11-11T08:23:50.525Z"
   },
   {
    "duration": 95,
    "start_time": "2021-11-11T08:23:51.822Z"
   },
   {
    "duration": 16,
    "start_time": "2021-11-11T08:23:52.493Z"
   },
   {
    "duration": 67,
    "start_time": "2021-11-11T08:23:53.453Z"
   },
   {
    "duration": 15,
    "start_time": "2021-11-11T08:23:54.255Z"
   },
   {
    "duration": 69,
    "start_time": "2021-11-11T08:23:55.197Z"
   },
   {
    "duration": 14,
    "start_time": "2021-11-11T08:23:56.084Z"
   },
   {
    "duration": 30,
    "start_time": "2021-11-11T08:23:56.932Z"
   },
   {
    "duration": 12,
    "start_time": "2021-11-11T08:23:57.782Z"
   },
   {
    "duration": 15,
    "start_time": "2021-11-11T08:24:00.741Z"
   },
   {
    "duration": 50,
    "start_time": "2021-11-11T08:24:03.522Z"
   },
   {
    "duration": 11,
    "start_time": "2021-11-11T08:24:04.481Z"
   },
   {
    "duration": 10,
    "start_time": "2021-11-11T08:24:05.219Z"
   },
   {
    "duration": 5,
    "start_time": "2021-11-11T08:24:05.783Z"
   },
   {
    "duration": 14,
    "start_time": "2021-11-11T08:24:06.336Z"
   },
   {
    "duration": 11,
    "start_time": "2021-11-11T08:24:06.800Z"
   },
   {
    "duration": 11,
    "start_time": "2021-11-11T08:24:07.189Z"
   },
   {
    "duration": 42,
    "start_time": "2021-11-11T08:24:07.453Z"
   },
   {
    "duration": 19,
    "start_time": "2021-11-11T08:24:07.728Z"
   },
   {
    "duration": 5,
    "start_time": "2021-11-11T08:24:08.836Z"
   },
   {
    "duration": 14,
    "start_time": "2021-11-11T08:24:09.202Z"
   },
   {
    "duration": 4,
    "start_time": "2021-11-11T08:24:09.577Z"
   },
   {
    "duration": 17,
    "start_time": "2021-11-11T08:24:10.063Z"
   },
   {
    "duration": 16,
    "start_time": "2021-11-11T08:24:10.349Z"
   },
   {
    "duration": 5,
    "start_time": "2021-11-11T08:24:10.638Z"
   },
   {
    "duration": 14,
    "start_time": "2021-11-11T08:24:11.050Z"
   },
   {
    "duration": 9,
    "start_time": "2021-11-11T08:24:12.047Z"
   },
   {
    "duration": 126,
    "start_time": "2021-11-11T08:24:12.444Z"
   },
   {
    "duration": 16,
    "start_time": "2021-11-11T08:24:12.805Z"
   },
   {
    "duration": 42,
    "start_time": "2021-11-11T08:24:13.313Z"
   },
   {
    "duration": 19,
    "start_time": "2021-11-11T08:24:13.900Z"
   },
   {
    "duration": 17,
    "start_time": "2021-11-11T08:24:14.488Z"
   },
   {
    "duration": 41,
    "start_time": "2021-11-11T08:24:14.902Z"
   },
   {
    "duration": 20,
    "start_time": "2021-11-11T08:24:15.435Z"
   },
   {
    "duration": 698,
    "start_time": "2021-11-11T08:24:15.872Z"
   },
   {
    "duration": 26,
    "start_time": "2021-11-11T08:24:16.575Z"
   },
   {
    "duration": 516,
    "start_time": "2021-11-11T08:24:16.812Z"
   },
   {
    "duration": 31,
    "start_time": "2021-11-11T08:24:17.331Z"
   },
   {
    "duration": 592,
    "start_time": "2021-11-11T08:24:17.770Z"
   },
   {
    "duration": 618,
    "start_time": "2021-11-11T08:24:18.765Z"
   },
   {
    "duration": 797,
    "start_time": "2021-11-11T08:24:46.234Z"
   },
   {
    "duration": 683,
    "start_time": "2021-11-11T08:25:09.325Z"
   },
   {
    "duration": 4604,
    "start_time": "2021-11-11T15:54:11.744Z"
   },
   {
    "duration": 1460,
    "start_time": "2021-11-11T15:54:16.351Z"
   },
   {
    "duration": 141,
    "start_time": "2021-11-11T15:54:17.814Z"
   },
   {
    "duration": 119,
    "start_time": "2021-11-11T15:54:17.958Z"
   },
   {
    "duration": 72,
    "start_time": "2021-11-11T15:54:18.082Z"
   },
   {
    "duration": 17,
    "start_time": "2021-11-11T15:54:18.156Z"
   },
   {
    "duration": 51,
    "start_time": "2021-11-11T15:54:18.175Z"
   },
   {
    "duration": 17,
    "start_time": "2021-11-11T15:54:18.230Z"
   },
   {
    "duration": 14,
    "start_time": "2021-11-11T15:54:18.250Z"
   },
   {
    "duration": 6,
    "start_time": "2021-11-11T15:54:18.267Z"
   },
   {
    "duration": 9,
    "start_time": "2021-11-11T15:54:18.276Z"
   },
   {
    "duration": 16,
    "start_time": "2021-11-11T15:54:18.287Z"
   },
   {
    "duration": 6,
    "start_time": "2021-11-11T15:54:18.305Z"
   },
   {
    "duration": 21,
    "start_time": "2021-11-11T15:54:18.313Z"
   },
   {
    "duration": 66,
    "start_time": "2021-11-11T15:54:18.336Z"
   },
   {
    "duration": 10,
    "start_time": "2021-11-11T15:54:18.405Z"
   },
   {
    "duration": 20,
    "start_time": "2021-11-11T15:54:18.418Z"
   },
   {
    "duration": 10,
    "start_time": "2021-11-11T15:54:18.441Z"
   },
   {
    "duration": 41,
    "start_time": "2021-11-11T15:54:18.454Z"
   },
   {
    "duration": 51,
    "start_time": "2021-11-11T15:54:18.497Z"
   },
   {
    "duration": 38,
    "start_time": "2021-11-11T15:54:18.551Z"
   },
   {
    "duration": 42,
    "start_time": "2021-11-11T15:54:18.591Z"
   },
   {
    "duration": 12,
    "start_time": "2021-11-11T15:54:18.637Z"
   },
   {
    "duration": 52,
    "start_time": "2021-11-11T15:54:18.651Z"
   },
   {
    "duration": 11,
    "start_time": "2021-11-11T15:54:18.706Z"
   },
   {
    "duration": 6,
    "start_time": "2021-11-11T15:54:19.130Z"
   },
   {
    "duration": 52,
    "start_time": "2021-11-11T15:54:19.634Z"
   },
   {
    "duration": 11,
    "start_time": "2021-11-11T15:54:19.955Z"
   },
   {
    "duration": 11,
    "start_time": "2021-11-11T15:54:20.646Z"
   },
   {
    "duration": 4,
    "start_time": "2021-11-11T15:54:21.186Z"
   },
   {
    "duration": 11,
    "start_time": "2021-11-11T15:54:21.482Z"
   },
   {
    "duration": 10,
    "start_time": "2021-11-11T15:54:21.705Z"
   },
   {
    "duration": 11,
    "start_time": "2021-11-11T15:54:21.919Z"
   },
   {
    "duration": 34,
    "start_time": "2021-11-11T15:54:22.160Z"
   },
   {
    "duration": 14,
    "start_time": "2021-11-11T15:54:22.395Z"
   },
   {
    "duration": 11,
    "start_time": "2021-11-11T15:54:23.175Z"
   },
   {
    "duration": 13,
    "start_time": "2021-11-11T15:54:23.720Z"
   },
   {
    "duration": 4,
    "start_time": "2021-11-11T15:54:24.785Z"
   },
   {
    "duration": 11,
    "start_time": "2021-11-11T15:54:26.469Z"
   },
   {
    "duration": 15,
    "start_time": "2021-11-11T15:54:27.755Z"
   },
   {
    "duration": 5,
    "start_time": "2021-11-11T15:54:28.406Z"
   },
   {
    "duration": 8,
    "start_time": "2021-11-11T15:54:28.942Z"
   },
   {
    "duration": 8,
    "start_time": "2021-11-11T15:54:30.545Z"
   },
   {
    "duration": 116,
    "start_time": "2021-11-11T15:54:31.333Z"
   },
   {
    "duration": 17,
    "start_time": "2021-11-11T15:54:31.756Z"
   },
   {
    "duration": 45,
    "start_time": "2021-11-11T15:54:32.480Z"
   },
   {
    "duration": 18,
    "start_time": "2021-11-11T15:54:33.061Z"
   },
   {
    "duration": 17,
    "start_time": "2021-11-11T15:54:33.606Z"
   },
   {
    "duration": 39,
    "start_time": "2021-11-11T15:54:33.880Z"
   },
   {
    "duration": 20,
    "start_time": "2021-11-11T15:54:34.115Z"
   },
   {
    "duration": 499,
    "start_time": "2021-11-11T15:54:35.079Z"
   },
   {
    "duration": 20,
    "start_time": "2021-11-11T15:54:36.024Z"
   },
   {
    "duration": 478,
    "start_time": "2021-11-11T15:54:36.663Z"
   },
   {
    "duration": 18,
    "start_time": "2021-11-11T15:54:37.143Z"
   },
   {
    "duration": 590,
    "start_time": "2021-11-11T15:54:37.192Z"
   },
   {
    "duration": 559,
    "start_time": "2021-11-11T15:54:41.102Z"
   },
   {
    "duration": 799,
    "start_time": "2021-11-11T15:55:13.064Z"
   },
   {
    "duration": 560,
    "start_time": "2021-11-11T15:55:14.060Z"
   },
   {
    "duration": 426,
    "start_time": "2021-11-11T15:55:17.481Z"
   },
   {
    "duration": 6,
    "start_time": "2021-11-11T15:55:45.257Z"
   },
   {
    "duration": 6,
    "start_time": "2021-11-11T15:55:58.983Z"
   },
   {
    "duration": 3634,
    "start_time": "2021-11-11T16:03:04.896Z"
   },
   {
    "duration": 1373,
    "start_time": "2021-11-11T16:03:08.533Z"
   },
   {
    "duration": 146,
    "start_time": "2021-11-11T16:03:09.908Z"
   },
   {
    "duration": 119,
    "start_time": "2021-11-11T16:03:10.056Z"
   },
   {
    "duration": 74,
    "start_time": "2021-11-11T16:03:10.178Z"
   },
   {
    "duration": 17,
    "start_time": "2021-11-11T16:03:10.254Z"
   },
   {
    "duration": 44,
    "start_time": "2021-11-11T16:03:10.273Z"
   },
   {
    "duration": 16,
    "start_time": "2021-11-11T16:03:10.321Z"
   },
   {
    "duration": 13,
    "start_time": "2021-11-11T16:03:10.340Z"
   },
   {
    "duration": 7,
    "start_time": "2021-11-11T16:03:10.356Z"
   },
   {
    "duration": 11,
    "start_time": "2021-11-11T16:03:10.365Z"
   },
   {
    "duration": 17,
    "start_time": "2021-11-11T16:03:10.382Z"
   },
   {
    "duration": 7,
    "start_time": "2021-11-11T16:03:10.401Z"
   },
   {
    "duration": 20,
    "start_time": "2021-11-11T16:03:10.411Z"
   },
   {
    "duration": 70,
    "start_time": "2021-11-11T16:03:10.434Z"
   },
   {
    "duration": 12,
    "start_time": "2021-11-11T16:03:10.507Z"
   },
   {
    "duration": 21,
    "start_time": "2021-11-11T16:03:10.522Z"
   },
   {
    "duration": 45,
    "start_time": "2021-11-11T16:03:10.546Z"
   },
   {
    "duration": 21,
    "start_time": "2021-11-11T16:03:10.594Z"
   },
   {
    "duration": 76,
    "start_time": "2021-11-11T16:03:10.618Z"
   },
   {
    "duration": 15,
    "start_time": "2021-11-11T16:03:10.696Z"
   },
   {
    "duration": 40,
    "start_time": "2021-11-11T16:03:10.714Z"
   },
   {
    "duration": 12,
    "start_time": "2021-11-11T16:03:10.786Z"
   },
   {
    "duration": 31,
    "start_time": "2021-11-11T16:03:10.803Z"
   },
   {
    "duration": 12,
    "start_time": "2021-11-11T16:03:10.836Z"
   },
   {
    "duration": 6,
    "start_time": "2021-11-11T16:03:10.883Z"
   },
   {
    "duration": 52,
    "start_time": "2021-11-11T16:03:10.892Z"
   },
   {
    "duration": 35,
    "start_time": "2021-11-11T16:03:10.947Z"
   },
   {
    "duration": 14,
    "start_time": "2021-11-11T16:03:10.984Z"
   },
   {
    "duration": 4,
    "start_time": "2021-11-11T16:03:11.000Z"
   },
   {
    "duration": 13,
    "start_time": "2021-11-11T16:03:11.006Z"
   },
   {
    "duration": 14,
    "start_time": "2021-11-11T16:03:11.021Z"
   },
   {
    "duration": 47,
    "start_time": "2021-11-11T16:03:11.037Z"
   },
   {
    "duration": 40,
    "start_time": "2021-11-11T16:03:11.086Z"
   },
   {
    "duration": 15,
    "start_time": "2021-11-11T16:03:11.128Z"
   },
   {
    "duration": 12,
    "start_time": "2021-11-11T16:03:11.145Z"
   },
   {
    "duration": 32,
    "start_time": "2021-11-11T16:03:11.160Z"
   },
   {
    "duration": 8,
    "start_time": "2021-11-11T16:03:11.194Z"
   },
   {
    "duration": 14,
    "start_time": "2021-11-11T16:03:11.204Z"
   },
   {
    "duration": 13,
    "start_time": "2021-11-11T16:03:11.221Z"
   },
   {
    "duration": 11,
    "start_time": "2021-11-11T16:03:11.237Z"
   },
   {
    "duration": 9,
    "start_time": "2021-11-11T16:03:11.283Z"
   },
   {
    "duration": 8,
    "start_time": "2021-11-11T16:03:11.294Z"
   },
   {
    "duration": 140,
    "start_time": "2021-11-11T16:03:11.304Z"
   },
   {
    "duration": 16,
    "start_time": "2021-11-11T16:03:11.446Z"
   },
   {
    "duration": 53,
    "start_time": "2021-11-11T16:03:11.464Z"
   },
   {
    "duration": 17,
    "start_time": "2021-11-11T16:03:11.520Z"
   },
   {
    "duration": 15,
    "start_time": "2021-11-11T16:03:11.540Z"
   },
   {
    "duration": 40,
    "start_time": "2021-11-11T16:03:11.582Z"
   },
   {
    "duration": 17,
    "start_time": "2021-11-11T16:03:11.624Z"
   },
   {
    "duration": 517,
    "start_time": "2021-11-11T16:03:11.644Z"
   },
   {
    "duration": 25,
    "start_time": "2021-11-11T16:03:12.164Z"
   },
   {
    "duration": 506,
    "start_time": "2021-11-11T16:03:12.191Z"
   },
   {
    "duration": 18,
    "start_time": "2021-11-11T16:03:12.700Z"
   },
   {
    "duration": 521,
    "start_time": "2021-11-11T16:03:12.720Z"
   },
   {
    "duration": 588,
    "start_time": "2021-11-11T16:03:13.243Z"
   },
   {
    "duration": 853,
    "start_time": "2021-11-11T16:03:13.834Z"
   },
   {
    "duration": 596,
    "start_time": "2021-11-11T16:03:14.689Z"
   },
   {
    "duration": 6,
    "start_time": "2021-11-11T16:03:15.288Z"
   },
   {
    "duration": 8,
    "start_time": "2021-11-11T16:03:15.296Z"
   },
   {
    "duration": 355,
    "start_time": "2021-11-11T16:03:15.306Z"
   },
   {
    "duration": 6,
    "start_time": "2021-11-11T16:03:15.663Z"
   },
   {
    "duration": 3527,
    "start_time": "2021-11-11T16:03:32.274Z"
   },
   {
    "duration": 4,
    "start_time": "2021-11-11T16:03:35.805Z"
   },
   {
    "duration": 159,
    "start_time": "2021-11-11T16:03:35.813Z"
   },
   {
    "duration": 114,
    "start_time": "2021-11-11T16:03:35.975Z"
   },
   {
    "duration": 76,
    "start_time": "2021-11-11T16:03:36.092Z"
   },
   {
    "duration": 17,
    "start_time": "2021-11-11T16:03:36.171Z"
   },
   {
    "duration": 42,
    "start_time": "2021-11-11T16:03:36.190Z"
   },
   {
    "duration": 13,
    "start_time": "2021-11-11T16:03:36.235Z"
   },
   {
    "duration": 16,
    "start_time": "2021-11-11T16:03:36.251Z"
   },
   {
    "duration": 9,
    "start_time": "2021-11-11T16:03:36.269Z"
   },
   {
    "duration": 10,
    "start_time": "2021-11-11T16:03:36.282Z"
   },
   {
    "duration": 19,
    "start_time": "2021-11-11T16:03:36.294Z"
   },
   {
    "duration": 7,
    "start_time": "2021-11-11T16:03:36.316Z"
   },
   {
    "duration": 56,
    "start_time": "2021-11-11T16:03:36.326Z"
   },
   {
    "duration": 31,
    "start_time": "2021-11-11T16:03:36.385Z"
   },
   {
    "duration": 11,
    "start_time": "2021-11-11T16:03:36.533Z"
   },
   {
    "duration": 18,
    "start_time": "2021-11-11T16:03:36.745Z"
   },
   {
    "duration": 13,
    "start_time": "2021-11-11T16:03:37.066Z"
   },
   {
    "duration": 15,
    "start_time": "2021-11-11T16:03:37.315Z"
   },
   {
    "duration": 51,
    "start_time": "2021-11-11T16:03:37.578Z"
   },
   {
    "duration": 13,
    "start_time": "2021-11-11T16:03:37.852Z"
   },
   {
    "duration": 40,
    "start_time": "2021-11-11T16:03:38.130Z"
   },
   {
    "duration": 14,
    "start_time": "2021-11-11T16:03:38.543Z"
   },
   {
    "duration": 30,
    "start_time": "2021-11-11T16:03:51.167Z"
   },
   {
    "duration": 12,
    "start_time": "2021-11-11T16:03:51.417Z"
   },
   {
    "duration": 7,
    "start_time": "2021-11-11T16:03:51.949Z"
   },
   {
    "duration": 53,
    "start_time": "2021-11-11T16:03:52.442Z"
   },
   {
    "duration": 13,
    "start_time": "2021-11-11T16:03:52.647Z"
   },
   {
    "duration": 12,
    "start_time": "2021-11-11T16:03:52.908Z"
   },
   {
    "duration": 4,
    "start_time": "2021-11-11T16:03:53.125Z"
   },
   {
    "duration": 10,
    "start_time": "2021-11-11T16:03:53.312Z"
   },
   {
    "duration": 10,
    "start_time": "2021-11-11T16:03:53.520Z"
   },
   {
    "duration": 11,
    "start_time": "2021-11-11T16:03:53.645Z"
   },
   {
    "duration": 35,
    "start_time": "2021-11-11T16:03:53.860Z"
   },
   {
    "duration": 16,
    "start_time": "2021-11-11T16:03:54.038Z"
   },
   {
    "duration": 5,
    "start_time": "2021-11-11T16:03:54.414Z"
   },
   {
    "duration": 13,
    "start_time": "2021-11-11T16:03:54.608Z"
   },
   {
    "duration": 4,
    "start_time": "2021-11-11T16:03:54.814Z"
   },
   {
    "duration": 11,
    "start_time": "2021-11-11T16:03:55.222Z"
   },
   {
    "duration": 15,
    "start_time": "2021-11-11T16:03:55.425Z"
   },
   {
    "duration": 5,
    "start_time": "2021-11-11T16:03:55.620Z"
   },
   {
    "duration": 9,
    "start_time": "2021-11-11T16:03:55.986Z"
   },
   {
    "duration": 8,
    "start_time": "2021-11-11T16:03:56.695Z"
   },
   {
    "duration": 116,
    "start_time": "2021-11-11T16:03:56.922Z"
   },
   {
    "duration": 17,
    "start_time": "2021-11-11T16:03:57.122Z"
   },
   {
    "duration": 43,
    "start_time": "2021-11-11T16:03:57.421Z"
   },
   {
    "duration": 19,
    "start_time": "2021-11-11T16:03:57.682Z"
   },
   {
    "duration": 17,
    "start_time": "2021-11-11T16:03:57.900Z"
   },
   {
    "duration": 41,
    "start_time": "2021-11-11T16:03:58.106Z"
   },
   {
    "duration": 19,
    "start_time": "2021-11-11T16:03:58.500Z"
   },
   {
    "duration": 518,
    "start_time": "2021-11-11T16:03:58.740Z"
   },
   {
    "duration": 31,
    "start_time": "2021-11-11T16:03:59.261Z"
   },
   {
    "duration": 502,
    "start_time": "2021-11-11T16:03:59.295Z"
   },
   {
    "duration": 18,
    "start_time": "2021-11-11T16:03:59.800Z"
   },
   {
    "duration": 531,
    "start_time": "2021-11-11T16:03:59.820Z"
   },
   {
    "duration": 709,
    "start_time": "2021-11-11T16:04:00.354Z"
   },
   {
    "duration": 775,
    "start_time": "2021-11-11T16:04:01.066Z"
   },
   {
    "duration": 605,
    "start_time": "2021-11-11T16:04:01.845Z"
   },
   {
    "duration": 6,
    "start_time": "2021-11-11T16:04:02.735Z"
   },
   {
    "duration": 6,
    "start_time": "2021-11-11T16:04:03.425Z"
   },
   {
    "duration": 435,
    "start_time": "2021-11-11T16:04:04.433Z"
   },
   {
    "duration": 7,
    "start_time": "2021-11-11T16:04:05.808Z"
   },
   {
    "duration": 4313,
    "start_time": "2021-11-11T16:23:18.947Z"
   },
   {
    "duration": 1439,
    "start_time": "2021-11-11T16:23:23.263Z"
   },
   {
    "duration": 153,
    "start_time": "2021-11-11T16:23:24.706Z"
   },
   {
    "duration": 125,
    "start_time": "2021-11-11T16:23:24.862Z"
   },
   {
    "duration": 78,
    "start_time": "2021-11-11T16:23:24.989Z"
   },
   {
    "duration": 18,
    "start_time": "2021-11-11T16:23:25.070Z"
   },
   {
    "duration": 38,
    "start_time": "2021-11-11T16:23:25.092Z"
   },
   {
    "duration": 20,
    "start_time": "2021-11-11T16:23:25.132Z"
   },
   {
    "duration": 23,
    "start_time": "2021-11-11T16:23:25.159Z"
   },
   {
    "duration": 7,
    "start_time": "2021-11-11T16:23:25.185Z"
   },
   {
    "duration": 11,
    "start_time": "2021-11-11T16:23:25.194Z"
   },
   {
    "duration": 16,
    "start_time": "2021-11-11T16:23:25.208Z"
   },
   {
    "duration": 6,
    "start_time": "2021-11-11T16:23:25.227Z"
   },
   {
    "duration": 61,
    "start_time": "2021-11-11T16:23:25.236Z"
   },
   {
    "duration": 33,
    "start_time": "2021-11-11T16:23:25.299Z"
   },
   {
    "duration": 11,
    "start_time": "2021-11-11T16:23:25.334Z"
   },
   {
    "duration": 47,
    "start_time": "2021-11-11T16:23:25.347Z"
   },
   {
    "duration": 11,
    "start_time": "2021-11-11T16:23:25.396Z"
   },
   {
    "duration": 28,
    "start_time": "2021-11-11T16:23:25.409Z"
   },
   {
    "duration": 78,
    "start_time": "2021-11-11T16:23:25.440Z"
   },
   {
    "duration": 13,
    "start_time": "2021-11-11T16:23:25.521Z"
   },
   {
    "duration": 60,
    "start_time": "2021-11-11T16:23:25.537Z"
   },
   {
    "duration": 13,
    "start_time": "2021-11-11T16:23:25.599Z"
   },
   {
    "duration": 40,
    "start_time": "2021-11-11T16:23:25.615Z"
   },
   {
    "duration": 25,
    "start_time": "2021-11-11T16:23:25.658Z"
   },
   {
    "duration": 6,
    "start_time": "2021-11-11T16:23:25.686Z"
   },
   {
    "duration": 99,
    "start_time": "2021-11-11T16:23:25.700Z"
   },
   {
    "duration": 14,
    "start_time": "2021-11-11T16:23:25.803Z"
   },
   {
    "duration": 13,
    "start_time": "2021-11-11T16:23:25.819Z"
   },
   {
    "duration": 4,
    "start_time": "2021-11-11T16:23:25.835Z"
   },
   {
    "duration": 50,
    "start_time": "2021-11-11T16:23:25.841Z"
   },
   {
    "duration": 12,
    "start_time": "2021-11-11T16:23:25.894Z"
   },
   {
    "duration": 14,
    "start_time": "2021-11-11T16:23:25.909Z"
   },
   {
    "duration": 77,
    "start_time": "2021-11-11T16:23:25.926Z"
   },
   {
    "duration": 14,
    "start_time": "2021-11-11T16:23:26.006Z"
   },
   {
    "duration": 27,
    "start_time": "2021-11-11T16:23:26.023Z"
   },
   {
    "duration": 14,
    "start_time": "2021-11-11T16:23:26.053Z"
   },
   {
    "duration": 5,
    "start_time": "2021-11-11T16:23:26.081Z"
   },
   {
    "duration": 12,
    "start_time": "2021-11-11T16:23:26.089Z"
   },
   {
    "duration": 15,
    "start_time": "2021-11-11T16:23:26.104Z"
   },
   {
    "duration": 6,
    "start_time": "2021-11-11T16:23:26.121Z"
   },
   {
    "duration": 51,
    "start_time": "2021-11-11T16:23:26.130Z"
   },
   {
    "duration": 10,
    "start_time": "2021-11-11T16:23:26.185Z"
   },
   {
    "duration": 144,
    "start_time": "2021-11-11T16:23:26.198Z"
   },
   {
    "duration": 17,
    "start_time": "2021-11-11T16:23:26.344Z"
   },
   {
    "duration": 58,
    "start_time": "2021-11-11T16:23:26.363Z"
   },
   {
    "duration": 18,
    "start_time": "2021-11-11T16:23:26.423Z"
   },
   {
    "duration": 41,
    "start_time": "2021-11-11T16:23:26.444Z"
   },
   {
    "duration": 44,
    "start_time": "2021-11-11T16:23:26.487Z"
   },
   {
    "duration": 49,
    "start_time": "2021-11-11T16:23:26.534Z"
   },
   {
    "duration": 511,
    "start_time": "2021-11-11T16:23:26.586Z"
   },
   {
    "duration": 18,
    "start_time": "2021-11-11T16:23:27.100Z"
   },
   {
    "duration": 505,
    "start_time": "2021-11-11T16:23:27.120Z"
   },
   {
    "duration": 18,
    "start_time": "2021-11-11T16:23:27.628Z"
   },
   {
    "duration": 499,
    "start_time": "2021-11-11T16:23:27.648Z"
   },
   {
    "duration": 569,
    "start_time": "2021-11-11T16:23:28.149Z"
   },
   {
    "duration": 828,
    "start_time": "2021-11-11T16:23:28.720Z"
   },
   {
    "duration": 589,
    "start_time": "2021-11-11T16:23:29.551Z"
   },
   {
    "duration": 6,
    "start_time": "2021-11-11T16:23:30.142Z"
   },
   {
    "duration": 3701,
    "start_time": "2021-11-11T16:23:30.617Z"
   },
   {
    "duration": 6,
    "start_time": "2021-11-11T16:23:34.322Z"
   },
   {
    "duration": 150,
    "start_time": "2021-11-11T16:23:34.333Z"
   },
   {
    "duration": 118,
    "start_time": "2021-11-11T16:23:34.486Z"
   },
   {
    "duration": 76,
    "start_time": "2021-11-11T16:23:34.607Z"
   },
   {
    "duration": 16,
    "start_time": "2021-11-11T16:23:34.686Z"
   },
   {
    "duration": 35,
    "start_time": "2021-11-11T16:23:34.705Z"
   },
   {
    "duration": 14,
    "start_time": "2021-11-11T16:23:34.743Z"
   },
   {
    "duration": 15,
    "start_time": "2021-11-11T16:23:34.759Z"
   },
   {
    "duration": 10,
    "start_time": "2021-11-11T16:23:34.776Z"
   },
   {
    "duration": 11,
    "start_time": "2021-11-11T16:23:34.789Z"
   },
   {
    "duration": 19,
    "start_time": "2021-11-11T16:23:34.803Z"
   },
   {
    "duration": 7,
    "start_time": "2021-11-11T16:23:34.991Z"
   },
   {
    "duration": 22,
    "start_time": "2021-11-11T16:23:35.980Z"
   },
   {
    "duration": 32,
    "start_time": "2021-11-11T16:23:36.391Z"
   },
   {
    "duration": 12,
    "start_time": "2021-11-11T16:23:36.595Z"
   },
   {
    "duration": 19,
    "start_time": "2021-11-11T16:23:36.833Z"
   },
   {
    "duration": 12,
    "start_time": "2021-11-11T16:23:37.079Z"
   },
   {
    "duration": 15,
    "start_time": "2021-11-11T16:23:37.274Z"
   },
   {
    "duration": 50,
    "start_time": "2021-11-11T16:23:37.491Z"
   },
   {
    "duration": 13,
    "start_time": "2021-11-11T16:23:37.950Z"
   },
   {
    "duration": 38,
    "start_time": "2021-11-11T16:23:38.513Z"
   },
   {
    "duration": 12,
    "start_time": "2021-11-11T16:23:38.977Z"
   },
   {
    "duration": 31,
    "start_time": "2021-11-11T16:23:39.595Z"
   },
   {
    "duration": 11,
    "start_time": "2021-11-11T16:23:40.052Z"
   },
   {
    "duration": 6,
    "start_time": "2021-11-11T16:23:40.865Z"
   },
   {
    "duration": 53,
    "start_time": "2021-11-11T16:23:41.398Z"
   },
   {
    "duration": 11,
    "start_time": "2021-11-11T16:23:41.863Z"
   },
   {
    "duration": 11,
    "start_time": "2021-11-11T16:23:42.286Z"
   },
   {
    "duration": 4,
    "start_time": "2021-11-11T16:23:42.607Z"
   },
   {
    "duration": 10,
    "start_time": "2021-11-11T16:23:42.830Z"
   },
   {
    "duration": 10,
    "start_time": "2021-11-11T16:23:43.259Z"
   },
   {
    "duration": 12,
    "start_time": "2021-11-11T16:23:43.856Z"
   },
   {
    "duration": 36,
    "start_time": "2021-11-11T16:23:44.320Z"
   },
   {
    "duration": 16,
    "start_time": "2021-11-11T16:23:44.730Z"
   },
   {
    "duration": 4,
    "start_time": "2021-11-11T16:23:45.385Z"
   },
   {
    "duration": 13,
    "start_time": "2021-11-11T16:23:45.738Z"
   },
   {
    "duration": 5,
    "start_time": "2021-11-11T16:23:46.318Z"
   },
   {
    "duration": 12,
    "start_time": "2021-11-11T16:23:47.301Z"
   },
   {
    "duration": 20,
    "start_time": "2021-11-11T16:23:47.605Z"
   },
   {
    "duration": 5,
    "start_time": "2021-11-11T16:23:48.168Z"
   },
   {
    "duration": 9,
    "start_time": "2021-11-11T16:23:48.760Z"
   },
   {
    "duration": 8,
    "start_time": "2021-11-11T16:23:50.612Z"
   },
   {
    "duration": 116,
    "start_time": "2021-11-11T16:23:51.403Z"
   },
   {
    "duration": 16,
    "start_time": "2021-11-11T16:23:52.235Z"
   },
   {
    "duration": 44,
    "start_time": "2021-11-11T16:23:52.819Z"
   },
   {
    "duration": 18,
    "start_time": "2021-11-11T16:23:53.510Z"
   },
   {
    "duration": 16,
    "start_time": "2021-11-11T16:23:54.081Z"
   },
   {
    "duration": 41,
    "start_time": "2021-11-11T16:23:54.666Z"
   },
   {
    "duration": 20,
    "start_time": "2021-11-11T16:23:55.315Z"
   },
   {
    "duration": 488,
    "start_time": "2021-11-11T16:23:56.098Z"
   },
   {
    "duration": 20,
    "start_time": "2021-11-11T16:23:56.810Z"
   },
   {
    "duration": 481,
    "start_time": "2021-11-11T16:23:57.580Z"
   },
   {
    "duration": 18,
    "start_time": "2021-11-11T16:23:58.146Z"
   },
   {
    "duration": 478,
    "start_time": "2021-11-11T16:23:58.404Z"
   },
   {
    "duration": 680,
    "start_time": "2021-11-11T16:23:58.884Z"
   },
   {
    "duration": 760,
    "start_time": "2021-11-11T16:23:59.567Z"
   },
   {
    "duration": 686,
    "start_time": "2021-11-11T16:24:00.330Z"
   },
   {
    "duration": 6,
    "start_time": "2021-11-11T16:24:01.019Z"
   },
   {
    "duration": 3551,
    "start_time": "2021-11-11T16:24:56.328Z"
   },
   {
    "duration": 5,
    "start_time": "2021-11-11T16:24:59.882Z"
   },
   {
    "duration": 158,
    "start_time": "2021-11-11T16:24:59.890Z"
   },
   {
    "duration": 114,
    "start_time": "2021-11-11T16:25:00.051Z"
   },
   {
    "duration": 76,
    "start_time": "2021-11-11T16:25:00.168Z"
   },
   {
    "duration": 16,
    "start_time": "2021-11-11T16:25:00.247Z"
   },
   {
    "duration": 47,
    "start_time": "2021-11-11T16:25:00.265Z"
   },
   {
    "duration": 16,
    "start_time": "2021-11-11T16:25:00.317Z"
   },
   {
    "duration": 26,
    "start_time": "2021-11-11T16:25:00.335Z"
   },
   {
    "duration": 19,
    "start_time": "2021-11-11T16:25:00.363Z"
   },
   {
    "duration": 17,
    "start_time": "2021-11-11T16:25:00.384Z"
   },
   {
    "duration": 22,
    "start_time": "2021-11-11T16:25:00.403Z"
   },
   {
    "duration": 7,
    "start_time": "2021-11-11T16:25:00.427Z"
   },
   {
    "duration": 61,
    "start_time": "2021-11-11T16:25:00.436Z"
   },
   {
    "duration": 35,
    "start_time": "2021-11-11T16:25:00.499Z"
   },
   {
    "duration": 11,
    "start_time": "2021-11-11T16:25:00.536Z"
   },
   {
    "duration": 47,
    "start_time": "2021-11-11T16:25:00.549Z"
   },
   {
    "duration": 12,
    "start_time": "2021-11-11T16:25:00.599Z"
   },
   {
    "duration": 22,
    "start_time": "2021-11-11T16:25:00.614Z"
   },
   {
    "duration": 86,
    "start_time": "2021-11-11T16:25:00.639Z"
   },
   {
    "duration": 12,
    "start_time": "2021-11-11T16:25:00.745Z"
   },
   {
    "duration": 39,
    "start_time": "2021-11-11T16:25:00.951Z"
   },
   {
    "duration": 13,
    "start_time": "2021-11-11T16:25:01.141Z"
   },
   {
    "duration": 29,
    "start_time": "2021-11-11T16:25:01.335Z"
   },
   {
    "duration": 11,
    "start_time": "2021-11-11T16:25:01.551Z"
   },
   {
    "duration": 5,
    "start_time": "2021-11-11T16:25:01.935Z"
   },
   {
    "duration": 50,
    "start_time": "2021-11-11T16:25:02.312Z"
   },
   {
    "duration": 15,
    "start_time": "2021-11-11T16:25:02.512Z"
   },
   {
    "duration": 12,
    "start_time": "2021-11-11T16:25:02.689Z"
   },
   {
    "duration": 4,
    "start_time": "2021-11-11T16:25:02.867Z"
   },
   {
    "duration": 11,
    "start_time": "2021-11-11T16:25:03.062Z"
   },
   {
    "duration": 11,
    "start_time": "2021-11-11T16:25:03.269Z"
   },
   {
    "duration": 11,
    "start_time": "2021-11-11T16:25:03.470Z"
   },
   {
    "duration": 36,
    "start_time": "2021-11-11T16:25:03.678Z"
   },
   {
    "duration": 15,
    "start_time": "2021-11-11T16:25:03.852Z"
   },
   {
    "duration": 6,
    "start_time": "2021-11-11T16:25:04.227Z"
   },
   {
    "duration": 14,
    "start_time": "2021-11-11T16:25:04.435Z"
   },
   {
    "duration": 4,
    "start_time": "2021-11-11T16:25:04.632Z"
   },
   {
    "duration": 12,
    "start_time": "2021-11-11T16:25:05.007Z"
   },
   {
    "duration": 15,
    "start_time": "2021-11-11T16:25:05.210Z"
   },
   {
    "duration": 5,
    "start_time": "2021-11-11T16:25:05.402Z"
   },
   {
    "duration": 9,
    "start_time": "2021-11-11T16:25:05.758Z"
   },
   {
    "duration": 9,
    "start_time": "2021-11-11T16:25:07.273Z"
   },
   {
    "duration": 114,
    "start_time": "2021-11-11T16:25:07.529Z"
   },
   {
    "duration": 18,
    "start_time": "2021-11-11T16:25:07.733Z"
   },
   {
    "duration": 43,
    "start_time": "2021-11-11T16:25:07.944Z"
   },
   {
    "duration": 20,
    "start_time": "2021-11-11T16:25:08.179Z"
   },
   {
    "duration": 17,
    "start_time": "2021-11-11T16:25:08.325Z"
   },
   {
    "duration": 40,
    "start_time": "2021-11-11T16:25:08.522Z"
   },
   {
    "duration": 21,
    "start_time": "2021-11-11T16:25:08.748Z"
   },
   {
    "duration": 490,
    "start_time": "2021-11-11T16:25:09.000Z"
   },
   {
    "duration": 19,
    "start_time": "2021-11-11T16:25:09.493Z"
   },
   {
    "duration": 504,
    "start_time": "2021-11-11T16:25:09.538Z"
   },
   {
    "duration": 18,
    "start_time": "2021-11-11T16:25:10.045Z"
   },
   {
    "duration": 480,
    "start_time": "2021-11-11T16:25:10.550Z"
   },
   {
    "duration": 739,
    "start_time": "2021-11-11T16:25:11.220Z"
   },
   {
    "duration": 759,
    "start_time": "2021-11-11T16:25:11.961Z"
   },
   {
    "duration": 583,
    "start_time": "2021-11-11T16:25:12.723Z"
   },
   {
    "duration": 6,
    "start_time": "2021-11-11T16:25:13.309Z"
   },
   {
    "duration": 18,
    "start_time": "2021-11-11T16:30:59.557Z"
   },
   {
    "duration": 953,
    "start_time": "2021-11-11T16:36:11.008Z"
   },
   {
    "duration": 517,
    "start_time": "2021-11-11T16:36:22.613Z"
   },
   {
    "duration": 3453,
    "start_time": "2021-11-11T16:54:07.534Z"
   },
   {
    "duration": 1424,
    "start_time": "2021-11-11T16:54:10.990Z"
   },
   {
    "duration": 146,
    "start_time": "2021-11-11T16:54:12.417Z"
   },
   {
    "duration": 127,
    "start_time": "2021-11-11T16:54:12.565Z"
   },
   {
    "duration": 73,
    "start_time": "2021-11-11T16:54:12.694Z"
   },
   {
    "duration": 16,
    "start_time": "2021-11-11T16:54:12.769Z"
   },
   {
    "duration": 36,
    "start_time": "2021-11-11T16:54:12.787Z"
   },
   {
    "duration": 16,
    "start_time": "2021-11-11T16:54:12.827Z"
   },
   {
    "duration": 16,
    "start_time": "2021-11-11T16:54:12.846Z"
   },
   {
    "duration": 9,
    "start_time": "2021-11-11T16:54:12.864Z"
   },
   {
    "duration": 10,
    "start_time": "2021-11-11T16:54:12.882Z"
   },
   {
    "duration": 21,
    "start_time": "2021-11-11T16:54:12.894Z"
   },
   {
    "duration": 8,
    "start_time": "2021-11-11T16:54:12.917Z"
   },
   {
    "duration": 21,
    "start_time": "2021-11-11T16:54:12.927Z"
   },
   {
    "duration": 34,
    "start_time": "2021-11-11T16:54:12.983Z"
   },
   {
    "duration": 11,
    "start_time": "2021-11-11T16:54:13.019Z"
   },
   {
    "duration": 50,
    "start_time": "2021-11-11T16:54:13.032Z"
   },
   {
    "duration": 11,
    "start_time": "2021-11-11T16:54:13.084Z"
   },
   {
    "duration": 17,
    "start_time": "2021-11-11T16:54:13.098Z"
   },
   {
    "duration": 75,
    "start_time": "2021-11-11T16:54:13.118Z"
   },
   {
    "duration": 13,
    "start_time": "2021-11-11T16:54:13.196Z"
   },
   {
    "duration": 44,
    "start_time": "2021-11-11T16:54:13.212Z"
   },
   {
    "duration": 33,
    "start_time": "2021-11-11T16:54:13.259Z"
   },
   {
    "duration": 31,
    "start_time": "2021-11-11T16:54:13.295Z"
   },
   {
    "duration": 12,
    "start_time": "2021-11-11T16:54:13.329Z"
   },
   {
    "duration": 6,
    "start_time": "2021-11-11T16:54:13.384Z"
   },
   {
    "duration": 53,
    "start_time": "2021-11-11T16:54:13.394Z"
   },
   {
    "duration": 37,
    "start_time": "2021-11-11T16:54:13.449Z"
   },
   {
    "duration": 13,
    "start_time": "2021-11-11T16:54:13.489Z"
   },
   {
    "duration": 4,
    "start_time": "2021-11-11T16:54:13.505Z"
   },
   {
    "duration": 16,
    "start_time": "2021-11-11T16:54:13.512Z"
   },
   {
    "duration": 52,
    "start_time": "2021-11-11T16:54:13.531Z"
   },
   {
    "duration": 13,
    "start_time": "2021-11-11T16:54:13.586Z"
   },
   {
    "duration": 34,
    "start_time": "2021-11-11T16:54:13.602Z"
   },
   {
    "duration": 48,
    "start_time": "2021-11-11T16:54:13.639Z"
   },
   {
    "duration": 14,
    "start_time": "2021-11-11T16:54:13.690Z"
   },
   {
    "duration": 13,
    "start_time": "2021-11-11T16:54:13.706Z"
   },
   {
    "duration": 5,
    "start_time": "2021-11-11T16:54:13.722Z"
   },
   {
    "duration": 18,
    "start_time": "2021-11-11T16:54:13.730Z"
   },
   {
    "duration": 44,
    "start_time": "2021-11-11T16:54:13.750Z"
   },
   {
    "duration": 6,
    "start_time": "2021-11-11T16:54:13.797Z"
   },
   {
    "duration": 10,
    "start_time": "2021-11-11T16:54:13.805Z"
   },
   {
    "duration": 8,
    "start_time": "2021-11-11T16:54:13.817Z"
   },
   {
    "duration": 146,
    "start_time": "2021-11-11T16:54:13.828Z"
   },
   {
    "duration": 15,
    "start_time": "2021-11-11T16:54:13.976Z"
   },
   {
    "duration": 45,
    "start_time": "2021-11-11T16:54:13.993Z"
   },
   {
    "duration": 51,
    "start_time": "2021-11-11T16:54:14.041Z"
   },
   {
    "duration": 15,
    "start_time": "2021-11-11T16:54:14.095Z"
   },
   {
    "duration": 43,
    "start_time": "2021-11-11T16:54:14.113Z"
   },
   {
    "duration": 92,
    "start_time": "2021-11-11T16:54:14.158Z"
   },
   {
    "duration": 39,
    "start_time": "2021-11-11T16:54:14.253Z"
   },
   {
    "duration": 508,
    "start_time": "2021-11-11T16:54:14.295Z"
   },
   {
    "duration": 17,
    "start_time": "2021-11-11T16:54:14.806Z"
   },
   {
    "duration": 516,
    "start_time": "2021-11-11T16:54:14.826Z"
   },
   {
    "duration": 17,
    "start_time": "2021-11-11T16:54:15.345Z"
   },
   {
    "duration": 503,
    "start_time": "2021-11-11T16:54:15.382Z"
   },
   {
    "duration": 578,
    "start_time": "2021-11-11T16:54:15.888Z"
   },
   {
    "duration": 848,
    "start_time": "2021-11-11T16:54:16.468Z"
   },
   {
    "duration": 621,
    "start_time": "2021-11-11T16:54:17.318Z"
   },
   {
    "duration": 6,
    "start_time": "2021-11-11T16:54:17.942Z"
   },
   {
    "duration": 3473,
    "start_time": "2021-11-11T16:54:44.525Z"
   },
   {
    "duration": 5,
    "start_time": "2021-11-11T16:54:48.002Z"
   },
   {
    "duration": 158,
    "start_time": "2021-11-11T16:54:48.011Z"
   },
   {
    "duration": 113,
    "start_time": "2021-11-11T16:54:48.172Z"
   },
   {
    "duration": 74,
    "start_time": "2021-11-11T16:54:48.288Z"
   },
   {
    "duration": 17,
    "start_time": "2021-11-11T16:54:48.365Z"
   },
   {
    "duration": 38,
    "start_time": "2021-11-11T16:54:48.385Z"
   },
   {
    "duration": 13,
    "start_time": "2021-11-11T16:54:48.426Z"
   },
   {
    "duration": 21,
    "start_time": "2021-11-11T16:54:48.442Z"
   },
   {
    "duration": 10,
    "start_time": "2021-11-11T16:54:48.466Z"
   },
   {
    "duration": 17,
    "start_time": "2021-11-11T16:54:48.478Z"
   },
   {
    "duration": 20,
    "start_time": "2021-11-11T16:54:48.497Z"
   },
   {
    "duration": 11,
    "start_time": "2021-11-11T16:54:48.520Z"
   },
   {
    "duration": 21,
    "start_time": "2021-11-11T16:54:48.878Z"
   },
   {
    "duration": 32,
    "start_time": "2021-11-11T16:54:49.133Z"
   },
   {
    "duration": 12,
    "start_time": "2021-11-11T16:54:49.404Z"
   },
   {
    "duration": 18,
    "start_time": "2021-11-11T16:54:49.686Z"
   },
   {
    "duration": 14,
    "start_time": "2021-11-11T16:54:50.002Z"
   },
   {
    "duration": 15,
    "start_time": "2021-11-11T16:54:50.267Z"
   },
   {
    "duration": 49,
    "start_time": "2021-11-11T16:54:50.575Z"
   },
   {
    "duration": 12,
    "start_time": "2021-11-11T16:54:50.821Z"
   },
   {
    "duration": 39,
    "start_time": "2021-11-11T16:54:51.225Z"
   },
   {
    "duration": 14,
    "start_time": "2021-11-11T16:54:51.509Z"
   },
   {
    "duration": 31,
    "start_time": "2021-11-11T16:54:51.663Z"
   },
   {
    "duration": 12,
    "start_time": "2021-11-11T16:54:51.838Z"
   },
   {
    "duration": 6,
    "start_time": "2021-11-11T16:54:52.467Z"
   },
   {
    "duration": 54,
    "start_time": "2021-11-11T16:54:52.976Z"
   },
   {
    "duration": 11,
    "start_time": "2021-11-11T16:54:53.308Z"
   },
   {
    "duration": 12,
    "start_time": "2021-11-11T16:54:53.620Z"
   },
   {
    "duration": 4,
    "start_time": "2021-11-11T16:54:54.117Z"
   },
   {
    "duration": 12,
    "start_time": "2021-11-11T16:54:54.646Z"
   },
   {
    "duration": 11,
    "start_time": "2021-11-11T16:54:55.328Z"
   },
   {
    "duration": 12,
    "start_time": "2021-11-11T16:54:55.924Z"
   },
   {
    "duration": 37,
    "start_time": "2021-11-11T16:54:56.464Z"
   },
   {
    "duration": 16,
    "start_time": "2021-11-11T16:54:56.780Z"
   },
   {
    "duration": 5,
    "start_time": "2021-11-11T16:54:57.326Z"
   },
   {
    "duration": 14,
    "start_time": "2021-11-11T16:54:57.605Z"
   },
   {
    "duration": 4,
    "start_time": "2021-11-11T16:54:57.872Z"
   },
   {
    "duration": 12,
    "start_time": "2021-11-11T16:54:58.407Z"
   },
   {
    "duration": 15,
    "start_time": "2021-11-11T16:54:58.678Z"
   },
   {
    "duration": 5,
    "start_time": "2021-11-11T16:54:58.943Z"
   },
   {
    "duration": 8,
    "start_time": "2021-11-11T16:54:59.210Z"
   },
   {
    "duration": 9,
    "start_time": "2021-11-11T16:55:00.053Z"
   },
   {
    "duration": 117,
    "start_time": "2021-11-11T16:55:00.294Z"
   },
   {
    "duration": 17,
    "start_time": "2021-11-11T16:55:00.798Z"
   },
   {
    "duration": 45,
    "start_time": "2021-11-11T16:55:01.784Z"
   },
   {
    "duration": 19,
    "start_time": "2021-11-11T16:55:02.221Z"
   },
   {
    "duration": 18,
    "start_time": "2021-11-11T16:55:02.621Z"
   },
   {
    "duration": 43,
    "start_time": "2021-11-11T16:55:02.971Z"
   },
   {
    "duration": 71,
    "start_time": "2021-11-11T16:55:03.571Z"
   },
   {
    "duration": 19,
    "start_time": "2021-11-11T16:55:03.875Z"
   },
   {
    "duration": 497,
    "start_time": "2021-11-11T16:55:04.461Z"
   },
   {
    "duration": 34,
    "start_time": "2021-11-11T16:55:04.961Z"
   },
   {
    "duration": 489,
    "start_time": "2021-11-11T16:55:05.429Z"
   },
   {
    "duration": 18,
    "start_time": "2021-11-11T16:55:05.947Z"
   },
   {
    "duration": 488,
    "start_time": "2021-11-11T16:55:06.752Z"
   },
   {
    "duration": 675,
    "start_time": "2021-11-11T16:55:08.348Z"
   },
   {
    "duration": 765,
    "start_time": "2021-11-11T16:55:09.025Z"
   },
   {
    "duration": 582,
    "start_time": "2021-11-11T16:55:09.794Z"
   },
   {
    "duration": 6,
    "start_time": "2021-11-11T16:55:10.382Z"
   },
   {
    "duration": 450,
    "start_time": "2021-11-11T16:56:21.699Z"
   },
   {
    "duration": 330,
    "start_time": "2021-11-11T16:56:37.370Z"
   },
   {
    "duration": 308,
    "start_time": "2021-11-11T16:56:55.145Z"
   },
   {
    "duration": 493,
    "start_time": "2021-11-11T17:04:48.618Z"
   },
   {
    "duration": 19,
    "start_time": "2021-11-11T17:04:56.006Z"
   },
   {
    "duration": 6,
    "start_time": "2021-11-11T17:06:49.551Z"
   },
   {
    "duration": 11,
    "start_time": "2021-11-11T17:07:06.891Z"
   },
   {
    "duration": 347,
    "start_time": "2021-11-11T17:07:36.638Z"
   },
   {
    "duration": 5,
    "start_time": "2021-11-11T17:08:02.137Z"
   },
   {
    "duration": 5,
    "start_time": "2021-11-11T17:08:08.924Z"
   },
   {
    "duration": 11,
    "start_time": "2021-11-11T17:09:46.871Z"
   },
   {
    "duration": 7,
    "start_time": "2021-11-11T17:12:39.653Z"
   },
   {
    "duration": 294,
    "start_time": "2021-11-11T17:18:45.779Z"
   },
   {
    "duration": 265,
    "start_time": "2021-11-11T17:23:48.670Z"
   },
   {
    "duration": 922,
    "start_time": "2021-11-11T17:27:17.587Z"
   },
   {
    "duration": 28,
    "start_time": "2021-11-11T17:30:52.480Z"
   },
   {
    "duration": 366,
    "start_time": "2021-11-11T17:42:11.302Z"
   },
   {
    "duration": 25,
    "start_time": "2021-11-11T17:42:37.858Z"
   },
   {
    "duration": 136,
    "start_time": "2021-11-11T17:52:16.261Z"
   },
   {
    "duration": 97,
    "start_time": "2021-11-11T17:52:29.237Z"
   },
   {
    "duration": 106,
    "start_time": "2021-11-11T17:52:44.297Z"
   },
   {
    "duration": 129,
    "start_time": "2021-11-11T17:53:02.878Z"
   },
   {
    "duration": 7,
    "start_time": "2021-11-11T17:53:31.861Z"
   },
   {
    "duration": 840,
    "start_time": "2021-11-11T17:53:55.198Z"
   },
   {
    "duration": 6,
    "start_time": "2021-11-11T17:54:36.791Z"
   },
   {
    "duration": 6,
    "start_time": "2021-11-11T17:54:41.206Z"
   },
   {
    "duration": 6,
    "start_time": "2021-11-11T17:55:47.866Z"
   },
   {
    "duration": 975,
    "start_time": "2021-11-11T17:55:48.249Z"
   },
   {
    "duration": 7,
    "start_time": "2021-11-11T17:56:36.420Z"
   },
   {
    "duration": 919,
    "start_time": "2021-11-11T17:56:37.244Z"
   },
   {
    "duration": 7,
    "start_time": "2021-11-11T18:02:46.658Z"
   },
   {
    "duration": 503,
    "start_time": "2021-11-11T18:02:47.409Z"
   },
   {
    "duration": 462,
    "start_time": "2021-11-11T18:03:52.692Z"
   },
   {
    "duration": 629,
    "start_time": "2021-11-11T18:03:55.719Z"
   },
   {
    "duration": 6,
    "start_time": "2021-11-11T18:07:12.537Z"
   },
   {
    "duration": 318,
    "start_time": "2021-11-11T18:09:21.693Z"
   },
   {
    "duration": 616,
    "start_time": "2021-11-11T18:10:00.484Z"
   },
   {
    "duration": 534,
    "start_time": "2021-11-11T18:10:24.954Z"
   },
   {
    "duration": 462,
    "start_time": "2021-11-11T18:11:03.063Z"
   },
   {
    "duration": 15,
    "start_time": "2021-11-11T18:25:19.476Z"
   },
   {
    "duration": 17,
    "start_time": "2021-11-11T18:25:31.744Z"
   },
   {
    "duration": 183,
    "start_time": "2021-11-11T18:35:33.985Z"
   },
   {
    "duration": 4,
    "start_time": "2021-11-11T18:35:42.991Z"
   },
   {
    "duration": 7,
    "start_time": "2021-11-11T18:35:51.636Z"
   },
   {
    "duration": 8,
    "start_time": "2021-11-11T18:35:59.215Z"
   },
   {
    "duration": 118,
    "start_time": "2021-11-11T18:36:21.022Z"
   },
   {
    "duration": 108,
    "start_time": "2021-11-11T18:36:30.151Z"
   },
   {
    "duration": 118,
    "start_time": "2021-11-11T18:36:37.529Z"
   },
   {
    "duration": 103,
    "start_time": "2021-11-11T18:36:48.536Z"
   },
   {
    "duration": 13,
    "start_time": "2021-11-11T18:37:30.657Z"
   },
   {
    "duration": 10,
    "start_time": "2021-11-11T18:37:32.080Z"
   },
   {
    "duration": 10,
    "start_time": "2021-11-11T18:37:56.676Z"
   },
   {
    "duration": 13,
    "start_time": "2021-11-11T18:38:14.842Z"
   },
   {
    "duration": 334,
    "start_time": "2021-11-11T18:42:47.640Z"
   },
   {
    "duration": 324,
    "start_time": "2021-11-11T18:45:14.509Z"
   },
   {
    "duration": 297,
    "start_time": "2021-11-11T18:45:28.298Z"
   },
   {
    "duration": 8400,
    "start_time": "2021-11-11T18:58:15.315Z"
   },
   {
    "duration": 4048,
    "start_time": "2021-11-11T18:59:18.253Z"
   },
   {
    "duration": 1402,
    "start_time": "2021-11-11T18:59:22.304Z"
   },
   {
    "duration": 146,
    "start_time": "2021-11-11T18:59:23.709Z"
   },
   {
    "duration": 125,
    "start_time": "2021-11-11T18:59:23.857Z"
   },
   {
    "duration": 73,
    "start_time": "2021-11-11T18:59:23.985Z"
   },
   {
    "duration": 16,
    "start_time": "2021-11-11T18:59:24.060Z"
   },
   {
    "duration": 72,
    "start_time": "2021-11-11T18:59:24.079Z"
   },
   {
    "duration": 17,
    "start_time": "2021-11-11T18:59:24.155Z"
   },
   {
    "duration": 14,
    "start_time": "2021-11-11T18:59:24.175Z"
   },
   {
    "duration": 8,
    "start_time": "2021-11-11T18:59:24.191Z"
   },
   {
    "duration": 11,
    "start_time": "2021-11-11T18:59:24.202Z"
   },
   {
    "duration": 21,
    "start_time": "2021-11-11T18:59:24.215Z"
   },
   {
    "duration": 7,
    "start_time": "2021-11-11T18:59:24.238Z"
   },
   {
    "duration": 53,
    "start_time": "2021-11-11T18:59:24.248Z"
   },
   {
    "duration": 33,
    "start_time": "2021-11-11T18:59:24.303Z"
   },
   {
    "duration": 11,
    "start_time": "2021-11-11T18:59:24.338Z"
   },
   {
    "duration": 18,
    "start_time": "2021-11-11T18:59:24.383Z"
   },
   {
    "duration": 14,
    "start_time": "2021-11-11T18:59:24.404Z"
   },
   {
    "duration": 14,
    "start_time": "2021-11-11T18:59:24.421Z"
   },
   {
    "duration": 77,
    "start_time": "2021-11-11T18:59:24.438Z"
   },
   {
    "duration": 14,
    "start_time": "2021-11-11T18:59:24.518Z"
   },
   {
    "duration": 63,
    "start_time": "2021-11-11T18:59:24.534Z"
   },
   {
    "duration": 14,
    "start_time": "2021-11-11T18:59:24.603Z"
   },
   {
    "duration": 29,
    "start_time": "2021-11-11T18:59:24.621Z"
   },
   {
    "duration": 32,
    "start_time": "2021-11-11T18:59:24.652Z"
   },
   {
    "duration": 8,
    "start_time": "2021-11-11T18:59:24.686Z"
   },
   {
    "duration": 63,
    "start_time": "2021-11-11T18:59:24.697Z"
   },
   {
    "duration": 24,
    "start_time": "2021-11-11T18:59:24.762Z"
   },
   {
    "duration": 28,
    "start_time": "2021-11-11T18:59:24.788Z"
   },
   {
    "duration": 7,
    "start_time": "2021-11-11T18:59:24.819Z"
   },
   {
    "duration": 16,
    "start_time": "2021-11-11T18:59:24.828Z"
   },
   {
    "duration": 11,
    "start_time": "2021-11-11T18:59:24.847Z"
   },
   {
    "duration": 31,
    "start_time": "2021-11-11T18:59:24.860Z"
   },
   {
    "duration": 35,
    "start_time": "2021-11-11T18:59:24.893Z"
   },
   {
    "duration": 14,
    "start_time": "2021-11-11T18:59:24.930Z"
   },
   {
    "duration": 36,
    "start_time": "2021-11-11T18:59:24.946Z"
   },
   {
    "duration": 13,
    "start_time": "2021-11-11T18:59:24.985Z"
   },
   {
    "duration": 10,
    "start_time": "2021-11-11T18:59:25.000Z"
   },
   {
    "duration": 13,
    "start_time": "2021-11-11T18:59:25.013Z"
   },
   {
    "duration": 14,
    "start_time": "2021-11-11T18:59:25.029Z"
   },
   {
    "duration": 38,
    "start_time": "2021-11-11T18:59:25.046Z"
   },
   {
    "duration": 9,
    "start_time": "2021-11-11T18:59:25.086Z"
   },
   {
    "duration": 10,
    "start_time": "2021-11-11T18:59:25.097Z"
   },
   {
    "duration": 136,
    "start_time": "2021-11-11T18:59:25.110Z"
   },
   {
    "duration": 15,
    "start_time": "2021-11-11T18:59:25.248Z"
   },
   {
    "duration": 50,
    "start_time": "2021-11-11T18:59:25.265Z"
   },
   {
    "duration": 17,
    "start_time": "2021-11-11T18:59:25.317Z"
   },
   {
    "duration": 15,
    "start_time": "2021-11-11T18:59:25.336Z"
   },
   {
    "duration": 64,
    "start_time": "2021-11-11T18:59:25.353Z"
   },
   {
    "duration": 17,
    "start_time": "2021-11-11T18:59:25.420Z"
   },
   {
    "duration": 510,
    "start_time": "2021-11-11T18:59:25.439Z"
   },
   {
    "duration": 32,
    "start_time": "2021-11-11T18:59:25.951Z"
   },
   {
    "duration": 491,
    "start_time": "2021-11-11T18:59:25.986Z"
   },
   {
    "duration": 19,
    "start_time": "2021-11-11T18:59:26.481Z"
   },
   {
    "duration": 494,
    "start_time": "2021-11-11T18:59:26.502Z"
   },
   {
    "duration": 578,
    "start_time": "2021-11-11T18:59:26.998Z"
   },
   {
    "duration": 822,
    "start_time": "2021-11-11T18:59:27.582Z"
   },
   {
    "duration": 576,
    "start_time": "2021-11-11T18:59:28.406Z"
   },
   {
    "duration": 24,
    "start_time": "2021-11-11T18:59:28.984Z"
   },
   {
    "duration": 116,
    "start_time": "2021-11-11T18:59:29.010Z"
   },
   {
    "duration": -148,
    "start_time": "2021-11-11T18:59:29.276Z"
   },
   {
    "duration": -153,
    "start_time": "2021-11-11T18:59:29.283Z"
   },
   {
    "duration": -157,
    "start_time": "2021-11-11T18:59:29.288Z"
   },
   {
    "duration": -161,
    "start_time": "2021-11-11T18:59:29.293Z"
   },
   {
    "duration": -165,
    "start_time": "2021-11-11T18:59:29.299Z"
   },
   {
    "duration": -169,
    "start_time": "2021-11-11T18:59:29.304Z"
   },
   {
    "duration": -173,
    "start_time": "2021-11-11T18:59:29.309Z"
   },
   {
    "duration": -175,
    "start_time": "2021-11-11T18:59:29.313Z"
   },
   {
    "duration": -179,
    "start_time": "2021-11-11T18:59:29.318Z"
   },
   {
    "duration": -182,
    "start_time": "2021-11-11T18:59:29.322Z"
   },
   {
    "duration": -186,
    "start_time": "2021-11-11T18:59:29.328Z"
   },
   {
    "duration": -189,
    "start_time": "2021-11-11T18:59:29.332Z"
   },
   {
    "duration": -193,
    "start_time": "2021-11-11T18:59:29.337Z"
   },
   {
    "duration": 5074,
    "start_time": "2021-11-11T18:59:47.485Z"
   },
   {
    "duration": 5,
    "start_time": "2021-11-11T18:59:52.562Z"
   },
   {
    "duration": 170,
    "start_time": "2021-11-11T18:59:52.569Z"
   },
   {
    "duration": 116,
    "start_time": "2021-11-11T18:59:52.741Z"
   },
   {
    "duration": 78,
    "start_time": "2021-11-11T18:59:52.860Z"
   },
   {
    "duration": 16,
    "start_time": "2021-11-11T18:59:52.941Z"
   },
   {
    "duration": 49,
    "start_time": "2021-11-11T18:59:52.960Z"
   },
   {
    "duration": 14,
    "start_time": "2021-11-11T18:59:53.012Z"
   },
   {
    "duration": 19,
    "start_time": "2021-11-11T18:59:53.028Z"
   },
   {
    "duration": 7,
    "start_time": "2021-11-11T18:59:54.031Z"
   },
   {
    "duration": 10,
    "start_time": "2021-11-11T18:59:54.565Z"
   },
   {
    "duration": 16,
    "start_time": "2021-11-11T18:59:54.757Z"
   },
   {
    "duration": 7,
    "start_time": "2021-11-11T18:59:54.896Z"
   },
   {
    "duration": 22,
    "start_time": "2021-11-11T18:59:55.226Z"
   },
   {
    "duration": 33,
    "start_time": "2021-11-11T18:59:55.423Z"
   },
   {
    "duration": 12,
    "start_time": "2021-11-11T18:59:55.558Z"
   },
   {
    "duration": 18,
    "start_time": "2021-11-11T18:59:55.775Z"
   },
   {
    "duration": 11,
    "start_time": "2021-11-11T18:59:55.906Z"
   },
   {
    "duration": 16,
    "start_time": "2021-11-11T18:59:56.093Z"
   },
   {
    "duration": 49,
    "start_time": "2021-11-11T18:59:56.274Z"
   },
   {
    "duration": 14,
    "start_time": "2021-11-11T18:59:56.455Z"
   },
   {
    "duration": 39,
    "start_time": "2021-11-11T18:59:56.804Z"
   },
   {
    "duration": 13,
    "start_time": "2021-11-11T18:59:56.981Z"
   },
   {
    "duration": 30,
    "start_time": "2021-11-11T18:59:57.175Z"
   },
   {
    "duration": 12,
    "start_time": "2021-11-11T18:59:57.331Z"
   },
   {
    "duration": 5,
    "start_time": "2021-11-11T18:59:57.865Z"
   },
   {
    "duration": 52,
    "start_time": "2021-11-11T18:59:58.234Z"
   },
   {
    "duration": 12,
    "start_time": "2021-11-11T18:59:58.566Z"
   },
   {
    "duration": 12,
    "start_time": "2021-11-11T18:59:58.801Z"
   },
   {
    "duration": 4,
    "start_time": "2021-11-11T18:59:59.194Z"
   },
   {
    "duration": 11,
    "start_time": "2021-11-11T18:59:59.390Z"
   },
   {
    "duration": 11,
    "start_time": "2021-11-11T18:59:59.782Z"
   },
   {
    "duration": 12,
    "start_time": "2021-11-11T18:59:59.989Z"
   },
   {
    "duration": 36,
    "start_time": "2021-11-11T19:00:00.184Z"
   },
   {
    "duration": 15,
    "start_time": "2021-11-11T19:00:00.381Z"
   },
   {
    "duration": 5,
    "start_time": "2021-11-11T19:00:00.747Z"
   },
   {
    "duration": 15,
    "start_time": "2021-11-11T19:00:00.966Z"
   },
   {
    "duration": 4,
    "start_time": "2021-11-11T19:00:01.173Z"
   },
   {
    "duration": 12,
    "start_time": "2021-11-11T19:00:01.536Z"
   },
   {
    "duration": 15,
    "start_time": "2021-11-11T19:00:01.742Z"
   },
   {
    "duration": 5,
    "start_time": "2021-11-11T19:00:01.941Z"
   },
   {
    "duration": 8,
    "start_time": "2021-11-11T19:00:02.125Z"
   },
   {
    "duration": 9,
    "start_time": "2021-11-11T19:00:02.692Z"
   },
   {
    "duration": 121,
    "start_time": "2021-11-11T19:00:02.871Z"
   },
   {
    "duration": 16,
    "start_time": "2021-11-11T19:00:03.063Z"
   },
   {
    "duration": 42,
    "start_time": "2021-11-11T19:00:03.433Z"
   },
   {
    "duration": 21,
    "start_time": "2021-11-11T19:00:03.658Z"
   },
   {
    "duration": 22,
    "start_time": "2021-11-11T19:00:03.823Z"
   },
   {
    "duration": 40,
    "start_time": "2021-11-11T19:00:04.247Z"
   },
   {
    "duration": 18,
    "start_time": "2021-11-11T19:00:04.849Z"
   },
   {
    "duration": 501,
    "start_time": "2021-11-11T19:00:05.453Z"
   },
   {
    "duration": 32,
    "start_time": "2021-11-11T19:00:05.957Z"
   },
   {
    "duration": 480,
    "start_time": "2021-11-11T19:00:06.305Z"
   },
   {
    "duration": 25,
    "start_time": "2021-11-11T19:00:06.848Z"
   },
   {
    "duration": 476,
    "start_time": "2021-11-11T19:00:07.107Z"
   },
   {
    "duration": 689,
    "start_time": "2021-11-11T19:00:07.834Z"
   },
   {
    "duration": 760,
    "start_time": "2021-11-11T19:00:08.526Z"
   },
   {
    "duration": 594,
    "start_time": "2021-11-11T19:00:09.290Z"
   },
   {
    "duration": 25,
    "start_time": "2021-11-11T19:00:09.888Z"
   },
   {
    "duration": 139,
    "start_time": "2021-11-11T19:00:09.916Z"
   },
   {
    "duration": -189,
    "start_time": "2021-11-11T19:00:10.248Z"
   },
   {
    "duration": -204,
    "start_time": "2021-11-11T19:00:10.264Z"
   },
   {
    "duration": -253,
    "start_time": "2021-11-11T19:00:10.316Z"
   },
   {
    "duration": 6,
    "start_time": "2021-11-11T19:00:10.116Z"
   },
   {
    "duration": 27,
    "start_time": "2021-11-11T19:00:10.346Z"
   },
   {
    "duration": 8,
    "start_time": "2021-11-11T19:00:11.304Z"
   },
   {
    "duration": 11,
    "start_time": "2021-11-11T19:00:11.766Z"
   },
   {
    "duration": 268,
    "start_time": "2021-11-11T19:00:12.407Z"
   },
   {
    "duration": 922,
    "start_time": "2021-11-11T19:00:13.187Z"
   },
   {
    "duration": 8055,
    "start_time": "2021-11-11T19:00:14.516Z"
   },
   {
    "duration": 7713,
    "start_time": "2021-11-11T19:00:23.006Z"
   },
   {
    "duration": 8139,
    "start_time": "2021-11-11T19:00:37.424Z"
   },
   {
    "duration": 323,
    "start_time": "2021-11-11T19:01:16.851Z"
   },
   {
    "duration": 19,
    "start_time": "2021-11-11T19:01:51.999Z"
   },
   {
    "duration": 14,
    "start_time": "2021-11-11T19:02:09.714Z"
   },
   {
    "duration": 1216,
    "start_time": "2021-11-11T19:04:03.682Z"
   },
   {
    "duration": 3606,
    "start_time": "2021-11-11T19:50:59.856Z"
   },
   {
    "duration": 1447,
    "start_time": "2021-11-11T19:51:03.464Z"
   },
   {
    "duration": 149,
    "start_time": "2021-11-11T19:51:04.914Z"
   },
   {
    "duration": 122,
    "start_time": "2021-11-11T19:51:05.066Z"
   },
   {
    "duration": 74,
    "start_time": "2021-11-11T19:51:05.191Z"
   },
   {
    "duration": 16,
    "start_time": "2021-11-11T19:51:05.267Z"
   },
   {
    "duration": 73,
    "start_time": "2021-11-11T19:51:05.285Z"
   },
   {
    "duration": 20,
    "start_time": "2021-11-11T19:51:05.362Z"
   },
   {
    "duration": 18,
    "start_time": "2021-11-11T19:51:05.385Z"
   },
   {
    "duration": 23,
    "start_time": "2021-11-11T19:51:05.406Z"
   },
   {
    "duration": 13,
    "start_time": "2021-11-11T19:51:05.432Z"
   },
   {
    "duration": 21,
    "start_time": "2021-11-11T19:51:05.448Z"
   },
   {
    "duration": 6,
    "start_time": "2021-11-11T19:51:05.483Z"
   },
   {
    "duration": 32,
    "start_time": "2021-11-11T19:51:05.491Z"
   },
   {
    "duration": 32,
    "start_time": "2021-11-11T19:51:05.525Z"
   },
   {
    "duration": 27,
    "start_time": "2021-11-11T19:51:05.560Z"
   },
   {
    "duration": 32,
    "start_time": "2021-11-11T19:51:05.589Z"
   },
   {
    "duration": 18,
    "start_time": "2021-11-11T19:51:05.624Z"
   },
   {
    "duration": 21,
    "start_time": "2021-11-11T19:51:05.645Z"
   },
   {
    "duration": 50,
    "start_time": "2021-11-11T19:51:05.681Z"
   },
   {
    "duration": 14,
    "start_time": "2021-11-11T19:51:05.733Z"
   },
   {
    "duration": 61,
    "start_time": "2021-11-11T19:51:05.749Z"
   },
   {
    "duration": 13,
    "start_time": "2021-11-11T19:51:05.815Z"
   },
   {
    "duration": 50,
    "start_time": "2021-11-11T19:51:05.832Z"
   },
   {
    "duration": 11,
    "start_time": "2021-11-11T19:51:05.884Z"
   },
   {
    "duration": 8,
    "start_time": "2021-11-11T19:51:05.897Z"
   },
   {
    "duration": 80,
    "start_time": "2021-11-11T19:51:05.907Z"
   },
   {
    "duration": 10,
    "start_time": "2021-11-11T19:51:05.989Z"
   },
   {
    "duration": 18,
    "start_time": "2021-11-11T19:51:06.002Z"
   },
   {
    "duration": 10,
    "start_time": "2021-11-11T19:51:06.022Z"
   },
   {
    "duration": 13,
    "start_time": "2021-11-11T19:51:06.035Z"
   },
   {
    "duration": 32,
    "start_time": "2021-11-11T19:51:06.050Z"
   },
   {
    "duration": 11,
    "start_time": "2021-11-11T19:51:06.085Z"
   },
   {
    "duration": 38,
    "start_time": "2021-11-11T19:51:06.099Z"
   },
   {
    "duration": 50,
    "start_time": "2021-11-11T19:51:06.139Z"
   },
   {
    "duration": 18,
    "start_time": "2021-11-11T19:51:06.191Z"
   },
   {
    "duration": 13,
    "start_time": "2021-11-11T19:51:06.212Z"
   },
   {
    "duration": 5,
    "start_time": "2021-11-11T19:51:06.227Z"
   },
   {
    "duration": 13,
    "start_time": "2021-11-11T19:51:06.234Z"
   },
   {
    "duration": 43,
    "start_time": "2021-11-11T19:51:06.249Z"
   },
   {
    "duration": 5,
    "start_time": "2021-11-11T19:51:06.294Z"
   },
   {
    "duration": 10,
    "start_time": "2021-11-11T19:51:06.302Z"
   },
   {
    "duration": 8,
    "start_time": "2021-11-11T19:51:06.314Z"
   },
   {
    "duration": 142,
    "start_time": "2021-11-11T19:51:06.324Z"
   },
   {
    "duration": 19,
    "start_time": "2021-11-11T19:51:06.469Z"
   },
   {
    "duration": 45,
    "start_time": "2021-11-11T19:51:06.491Z"
   },
   {
    "duration": 18,
    "start_time": "2021-11-11T19:51:06.538Z"
   },
   {
    "duration": 17,
    "start_time": "2021-11-11T19:51:06.583Z"
   },
   {
    "duration": 40,
    "start_time": "2021-11-11T19:51:06.602Z"
   },
   {
    "duration": 42,
    "start_time": "2021-11-11T19:51:06.644Z"
   },
   {
    "duration": 517,
    "start_time": "2021-11-11T19:51:06.689Z"
   },
   {
    "duration": 18,
    "start_time": "2021-11-11T19:51:07.208Z"
   },
   {
    "duration": 529,
    "start_time": "2021-11-11T19:51:07.229Z"
   },
   {
    "duration": 25,
    "start_time": "2021-11-11T19:51:07.761Z"
   },
   {
    "duration": 505,
    "start_time": "2021-11-11T19:51:07.789Z"
   },
   {
    "duration": 592,
    "start_time": "2021-11-11T19:51:08.296Z"
   },
   {
    "duration": 840,
    "start_time": "2021-11-11T19:51:08.891Z"
   },
   {
    "duration": 594,
    "start_time": "2021-11-11T19:51:09.733Z"
   },
   {
    "duration": 24,
    "start_time": "2021-11-11T19:51:10.329Z"
   },
   {
    "duration": 100,
    "start_time": "2021-11-11T19:51:10.356Z"
   },
   {
    "duration": -30610,
    "start_time": "2021-11-11T19:51:41.070Z"
   },
   {
    "duration": -30663,
    "start_time": "2021-11-11T19:51:41.125Z"
   },
   {
    "duration": -30666,
    "start_time": "2021-11-11T19:51:41.130Z"
   },
   {
    "duration": -30766,
    "start_time": "2021-11-11T19:51:41.233Z"
   },
   {
    "duration": -30770,
    "start_time": "2021-11-11T19:51:41.239Z"
   },
   {
    "duration": -30818,
    "start_time": "2021-11-11T19:51:41.289Z"
   },
   {
    "duration": -30820,
    "start_time": "2021-11-11T19:51:41.294Z"
   },
   {
    "duration": -30822,
    "start_time": "2021-11-11T19:51:41.298Z"
   },
   {
    "duration": -30825,
    "start_time": "2021-11-11T19:51:41.303Z"
   },
   {
    "duration": -30827,
    "start_time": "2021-11-11T19:51:41.307Z"
   },
   {
    "duration": 7,
    "start_time": "2021-11-11T19:52:02.041Z"
   },
   {
    "duration": 492,
    "start_time": "2021-11-11T19:52:08.866Z"
   },
   {
    "duration": 560,
    "start_time": "2021-11-11T19:52:09.393Z"
   },
   {
    "duration": 501,
    "start_time": "2021-11-11T19:52:09.956Z"
   },
   {
    "duration": 6,
    "start_time": "2021-11-11T19:52:13.431Z"
   },
   {
    "duration": 27,
    "start_time": "2021-11-11T19:52:14.765Z"
   },
   {
    "duration": 7,
    "start_time": "2021-11-11T19:52:15.615Z"
   },
   {
    "duration": 14,
    "start_time": "2021-11-11T19:52:15.849Z"
   },
   {
    "duration": 278,
    "start_time": "2021-11-11T19:52:16.311Z"
   },
   {
    "duration": 18,
    "start_time": "2021-11-11T19:52:17.580Z"
   },
   {
    "duration": 1048,
    "start_time": "2021-11-11T19:52:18.247Z"
   },
   {
    "duration": 7,
    "start_time": "2021-11-11T19:53:35.028Z"
   },
   {
    "duration": 478,
    "start_time": "2021-11-11T19:53:35.862Z"
   },
   {
    "duration": 548,
    "start_time": "2021-11-11T19:53:37.634Z"
   },
   {
    "duration": 467,
    "start_time": "2021-11-11T19:53:38.299Z"
   },
   {
    "duration": 7,
    "start_time": "2021-11-11T19:53:39.371Z"
   },
   {
    "duration": 28,
    "start_time": "2021-11-11T19:53:40.017Z"
   },
   {
    "duration": 9,
    "start_time": "2021-11-11T19:53:40.475Z"
   },
   {
    "duration": 12,
    "start_time": "2021-11-11T19:53:40.685Z"
   },
   {
    "duration": 269,
    "start_time": "2021-11-11T19:53:47.672Z"
   },
   {
    "duration": 15,
    "start_time": "2021-11-11T19:53:48.898Z"
   },
   {
    "duration": 954,
    "start_time": "2021-11-11T19:53:49.192Z"
   },
   {
    "duration": 633,
    "start_time": "2021-11-11T19:56:45.837Z"
   },
   {
    "duration": 3608,
    "start_time": "2021-11-11T19:57:32.270Z"
   },
   {
    "duration": 4,
    "start_time": "2021-11-11T19:57:35.881Z"
   },
   {
    "duration": 160,
    "start_time": "2021-11-11T19:57:35.888Z"
   },
   {
    "duration": 115,
    "start_time": "2021-11-11T19:57:36.051Z"
   },
   {
    "duration": 74,
    "start_time": "2021-11-11T19:57:36.168Z"
   },
   {
    "duration": 18,
    "start_time": "2021-11-11T19:57:36.244Z"
   },
   {
    "duration": 49,
    "start_time": "2021-11-11T19:57:36.264Z"
   },
   {
    "duration": 16,
    "start_time": "2021-11-11T19:57:36.317Z"
   },
   {
    "duration": 16,
    "start_time": "2021-11-11T19:57:36.336Z"
   },
   {
    "duration": 9,
    "start_time": "2021-11-11T19:57:36.354Z"
   },
   {
    "duration": 12,
    "start_time": "2021-11-11T19:57:36.365Z"
   },
   {
    "duration": 19,
    "start_time": "2021-11-11T19:57:36.380Z"
   },
   {
    "duration": 7,
    "start_time": "2021-11-11T19:57:36.401Z"
   },
   {
    "duration": 34,
    "start_time": "2021-11-11T19:57:36.411Z"
   },
   {
    "duration": 49,
    "start_time": "2021-11-11T19:57:36.447Z"
   },
   {
    "duration": 10,
    "start_time": "2021-11-11T19:57:36.498Z"
   },
   {
    "duration": 26,
    "start_time": "2021-11-11T19:57:36.511Z"
   },
   {
    "duration": 11,
    "start_time": "2021-11-11T19:57:36.666Z"
   },
   {
    "duration": 16,
    "start_time": "2021-11-11T19:57:37.385Z"
   },
   {
    "duration": 49,
    "start_time": "2021-11-11T19:57:37.643Z"
   },
   {
    "duration": 14,
    "start_time": "2021-11-11T19:57:40.736Z"
   },
   {
    "duration": 77,
    "start_time": "2021-11-11T19:57:41.185Z"
   },
   {
    "duration": 15,
    "start_time": "2021-11-11T19:57:41.443Z"
   },
   {
    "duration": 29,
    "start_time": "2021-11-11T19:57:41.717Z"
   },
   {
    "duration": 11,
    "start_time": "2021-11-11T19:57:41.990Z"
   },
   {
    "duration": 5,
    "start_time": "2021-11-11T19:57:42.501Z"
   },
   {
    "duration": 52,
    "start_time": "2021-11-11T19:57:42.932Z"
   },
   {
    "duration": 13,
    "start_time": "2021-11-11T19:57:43.157Z"
   },
   {
    "duration": 12,
    "start_time": "2021-11-11T19:57:43.321Z"
   },
   {
    "duration": 4,
    "start_time": "2021-11-11T19:57:43.568Z"
   },
   {
    "duration": 11,
    "start_time": "2021-11-11T19:57:43.730Z"
   },
   {
    "duration": 10,
    "start_time": "2021-11-11T19:57:43.952Z"
   },
   {
    "duration": 11,
    "start_time": "2021-11-11T19:57:44.172Z"
   },
   {
    "duration": 36,
    "start_time": "2021-11-11T19:57:44.386Z"
   },
   {
    "duration": 15,
    "start_time": "2021-11-11T19:57:44.598Z"
   },
   {
    "duration": 6,
    "start_time": "2021-11-11T19:57:45.031Z"
   },
   {
    "duration": 14,
    "start_time": "2021-11-11T19:57:45.273Z"
   },
   {
    "duration": 5,
    "start_time": "2021-11-11T19:57:45.503Z"
   },
   {
    "duration": 14,
    "start_time": "2021-11-11T19:57:45.962Z"
   },
   {
    "duration": 15,
    "start_time": "2021-11-11T19:57:46.200Z"
   },
   {
    "duration": 6,
    "start_time": "2021-11-11T19:57:46.440Z"
   },
   {
    "duration": 9,
    "start_time": "2021-11-11T19:57:46.692Z"
   },
   {
    "duration": 9,
    "start_time": "2021-11-11T19:57:47.370Z"
   },
   {
    "duration": 114,
    "start_time": "2021-11-11T19:57:47.638Z"
   },
   {
    "duration": 17,
    "start_time": "2021-11-11T19:57:47.900Z"
   },
   {
    "duration": 42,
    "start_time": "2021-11-11T19:57:48.366Z"
   },
   {
    "duration": 20,
    "start_time": "2021-11-11T19:57:48.620Z"
   },
   {
    "duration": 16,
    "start_time": "2021-11-11T19:57:48.855Z"
   },
   {
    "duration": 41,
    "start_time": "2021-11-11T19:57:49.126Z"
   },
   {
    "duration": 18,
    "start_time": "2021-11-11T19:57:49.600Z"
   },
   {
    "duration": 514,
    "start_time": "2021-11-11T19:57:50.748Z"
   },
   {
    "duration": 27,
    "start_time": "2021-11-11T19:57:51.265Z"
   },
   {
    "duration": 635,
    "start_time": "2021-11-11T19:57:51.651Z"
   },
   {
    "duration": 18,
    "start_time": "2021-11-11T19:57:52.289Z"
   },
   {
    "duration": 490,
    "start_time": "2021-11-11T19:57:52.387Z"
   },
   {
    "duration": 604,
    "start_time": "2021-11-11T19:57:53.193Z"
   },
   {
    "duration": 883,
    "start_time": "2021-11-11T19:57:54.450Z"
   },
   {
    "duration": 620,
    "start_time": "2021-11-11T19:57:55.336Z"
   },
   {
    "duration": 37,
    "start_time": "2021-11-11T19:57:55.958Z"
   },
   {
    "duration": 6,
    "start_time": "2021-11-11T19:57:56.474Z"
   },
   {
    "duration": 482,
    "start_time": "2021-11-11T19:57:56.949Z"
   },
   {
    "duration": 656,
    "start_time": "2021-11-11T19:57:57.470Z"
   },
   {
    "duration": 487,
    "start_time": "2021-11-11T19:57:58.129Z"
   },
   {
    "duration": 6,
    "start_time": "2021-11-11T19:57:59.636Z"
   },
   {
    "duration": 25,
    "start_time": "2021-11-11T19:58:00.037Z"
   },
   {
    "duration": 7,
    "start_time": "2021-11-11T19:58:00.638Z"
   },
   {
    "duration": 12,
    "start_time": "2021-11-11T19:58:00.936Z"
   },
   {
    "duration": 277,
    "start_time": "2021-11-11T19:58:02.119Z"
   },
   {
    "duration": 14,
    "start_time": "2021-11-11T19:58:03.751Z"
   },
   {
    "duration": 963,
    "start_time": "2021-11-11T19:58:04.059Z"
   },
   {
    "duration": 331,
    "start_time": "2021-11-11T19:58:05.024Z"
   },
   {
    "duration": 9,
    "start_time": "2021-11-11T19:58:44.672Z"
   },
   {
    "duration": 2000,
    "start_time": "2021-11-11T20:05:29.057Z"
   },
   {
    "duration": -30569,
    "start_time": "2021-11-11T20:06:01.629Z"
   },
   {
    "duration": -30622,
    "start_time": "2021-11-11T20:06:01.684Z"
   },
   {
    "duration": -30640,
    "start_time": "2021-11-11T20:06:01.703Z"
   },
   {
    "duration": 312,
    "start_time": "2021-11-11T20:05:31.075Z"
   },
   {
    "duration": 7,
    "start_time": "2021-11-11T20:05:51.692Z"
   },
   {
    "duration": 298,
    "start_time": "2021-11-11T20:05:52.943Z"
   },
   {
    "duration": 7,
    "start_time": "2021-11-11T20:06:00.289Z"
   },
   {
    "duration": 3,
    "start_time": "2021-11-11T20:06:01.254Z"
   },
   {
    "duration": 4,
    "start_time": "2021-11-11T20:06:01.615Z"
   },
   {
    "duration": 312,
    "start_time": "2021-11-11T20:06:02.419Z"
   },
   {
    "duration": 5,
    "start_time": "2021-11-11T20:07:20.711Z"
   },
   {
    "duration": 7,
    "start_time": "2021-11-11T20:07:44.302Z"
   },
   {
    "duration": 108,
    "start_time": "2021-11-11T20:16:08.377Z"
   },
   {
    "duration": 300,
    "start_time": "2021-11-11T20:16:14.658Z"
   },
   {
    "duration": 5,
    "start_time": "2021-11-11T20:16:55.819Z"
   },
   {
    "duration": 310,
    "start_time": "2021-11-11T20:16:56.420Z"
   },
   {
    "duration": 321,
    "start_time": "2021-11-11T20:17:06.608Z"
   },
   {
    "duration": 300,
    "start_time": "2021-11-11T20:17:40.133Z"
   },
   {
    "duration": 7,
    "start_time": "2021-11-11T20:18:00.109Z"
   },
   {
    "duration": 6,
    "start_time": "2021-11-11T20:18:01.724Z"
   },
   {
    "duration": 8,
    "start_time": "2021-11-11T20:28:31.634Z"
   },
   {
    "duration": 3,
    "start_time": "2021-11-11T20:30:07.047Z"
   },
   {
    "duration": 8,
    "start_time": "2021-11-11T20:30:07.525Z"
   },
   {
    "duration": 5,
    "start_time": "2021-11-11T20:30:08.398Z"
   },
   {
    "duration": 5,
    "start_time": "2021-11-11T20:31:03.916Z"
   },
   {
    "duration": 5,
    "start_time": "2021-11-11T20:33:22.476Z"
   },
   {
    "duration": 6,
    "start_time": "2021-11-11T20:33:32.871Z"
   },
   {
    "duration": 10,
    "start_time": "2021-11-11T20:34:03.050Z"
   },
   {
    "duration": 7,
    "start_time": "2021-11-11T20:34:03.454Z"
   },
   {
    "duration": 7,
    "start_time": "2021-11-11T20:34:04.076Z"
   },
   {
    "duration": 4,
    "start_time": "2021-11-11T20:34:04.490Z"
   },
   {
    "duration": 4,
    "start_time": "2021-11-11T20:34:05.276Z"
   },
   {
    "duration": 6,
    "start_time": "2021-11-11T20:34:07.666Z"
   },
   {
    "duration": 7,
    "start_time": "2021-11-11T20:34:09.032Z"
   },
   {
    "duration": 6,
    "start_time": "2021-11-11T20:34:10.053Z"
   },
   {
    "duration": 20,
    "start_time": "2021-11-11T20:35:23.540Z"
   },
   {
    "duration": 17,
    "start_time": "2021-11-11T20:35:36.016Z"
   },
   {
    "duration": 17,
    "start_time": "2021-11-11T20:35:44.607Z"
   },
   {
    "duration": 351,
    "start_time": "2021-11-11T20:42:33.983Z"
   },
   {
    "duration": 1157,
    "start_time": "2021-11-11T20:42:41.524Z"
   },
   {
    "duration": 306,
    "start_time": "2021-11-11T20:43:37.738Z"
   },
   {
    "duration": 302,
    "start_time": "2021-11-11T20:43:50.316Z"
   },
   {
    "duration": 25,
    "start_time": "2021-11-11T20:54:12.057Z"
   },
   {
    "duration": 35,
    "start_time": "2021-11-11T20:54:42.734Z"
   },
   {
    "duration": 35,
    "start_time": "2021-11-11T20:55:59.389Z"
   },
   {
    "duration": 347,
    "start_time": "2021-11-11T21:00:49.225Z"
   },
   {
    "duration": 13,
    "start_time": "2021-11-11T21:01:04.117Z"
   },
   {
    "duration": 22,
    "start_time": "2021-11-11T21:01:21.873Z"
   },
   {
    "duration": 21,
    "start_time": "2021-11-11T21:01:39.383Z"
   },
   {
    "duration": 18,
    "start_time": "2021-11-11T21:01:49.180Z"
   },
   {
    "duration": 35,
    "start_time": "2021-11-11T21:02:19.565Z"
   },
   {
    "duration": 27,
    "start_time": "2021-11-11T21:02:35.886Z"
   },
   {
    "duration": 394,
    "start_time": "2021-11-11T21:15:49.775Z"
   },
   {
    "duration": 25,
    "start_time": "2021-11-11T21:15:59.598Z"
   },
   {
    "duration": 4,
    "start_time": "2021-11-11T21:16:00.044Z"
   },
   {
    "duration": 3,
    "start_time": "2021-11-11T21:16:01.250Z"
   },
   {
    "duration": 7,
    "start_time": "2021-11-11T21:16:01.751Z"
   },
   {
    "duration": 7,
    "start_time": "2021-11-11T21:16:38.525Z"
   },
   {
    "duration": 5,
    "start_time": "2021-11-11T21:17:03.111Z"
   },
   {
    "duration": 5,
    "start_time": "2021-11-11T21:17:25.554Z"
   },
   {
    "duration": 15,
    "start_time": "2021-11-11T21:17:25.910Z"
   },
   {
    "duration": 15,
    "start_time": "2021-11-11T21:17:26.073Z"
   },
   {
    "duration": 12,
    "start_time": "2021-11-11T21:17:26.239Z"
   },
   {
    "duration": 24,
    "start_time": "2021-11-11T21:17:26.402Z"
   },
   {
    "duration": 24,
    "start_time": "2021-11-11T21:17:26.615Z"
   },
   {
    "duration": 4,
    "start_time": "2021-11-11T21:17:26.767Z"
   },
   {
    "duration": 4,
    "start_time": "2021-11-11T21:17:26.967Z"
   },
   {
    "duration": 8,
    "start_time": "2021-11-11T21:17:27.104Z"
   },
   {
    "duration": 7,
    "start_time": "2021-11-11T21:17:27.320Z"
   },
   {
    "duration": 5,
    "start_time": "2021-11-11T21:17:27.462Z"
   },
   {
    "duration": 593,
    "start_time": "2021-11-11T21:29:10.155Z"
   },
   {
    "duration": 303,
    "start_time": "2021-11-11T21:29:42.052Z"
   },
   {
    "duration": 768,
    "start_time": "2021-11-11T21:29:51.914Z"
   },
   {
    "duration": 529,
    "start_time": "2021-11-11T21:29:59.499Z"
   },
   {
    "duration": 482,
    "start_time": "2021-11-11T21:30:09.119Z"
   },
   {
    "duration": 726,
    "start_time": "2021-11-11T21:30:16.025Z"
   },
   {
    "duration": 518,
    "start_time": "2021-11-11T21:30:32.464Z"
   },
   {
    "duration": 570,
    "start_time": "2021-11-11T21:30:41.523Z"
   },
   {
    "duration": 772,
    "start_time": "2021-11-11T21:30:45.332Z"
   },
   {
    "duration": 475,
    "start_time": "2021-11-11T21:30:56.455Z"
   },
   {
    "duration": 3415,
    "start_time": "2021-11-11T21:32:02.616Z"
   },
   {
    "duration": 4,
    "start_time": "2021-11-11T21:32:06.034Z"
   },
   {
    "duration": 161,
    "start_time": "2021-11-11T21:32:06.042Z"
   },
   {
    "duration": 111,
    "start_time": "2021-11-11T21:32:06.206Z"
   },
   {
    "duration": 72,
    "start_time": "2021-11-11T21:32:06.319Z"
   },
   {
    "duration": 17,
    "start_time": "2021-11-11T21:32:06.393Z"
   },
   {
    "duration": 48,
    "start_time": "2021-11-11T21:32:06.412Z"
   },
   {
    "duration": 14,
    "start_time": "2021-11-11T21:32:06.463Z"
   },
   {
    "duration": 16,
    "start_time": "2021-11-11T21:32:06.479Z"
   },
   {
    "duration": 8,
    "start_time": "2021-11-11T21:32:06.497Z"
   },
   {
    "duration": 12,
    "start_time": "2021-11-11T21:32:06.507Z"
   },
   {
    "duration": 18,
    "start_time": "2021-11-11T21:32:06.521Z"
   },
   {
    "duration": 6,
    "start_time": "2021-11-11T21:32:07.813Z"
   },
   {
    "duration": 21,
    "start_time": "2021-11-11T21:32:08.951Z"
   },
   {
    "duration": 34,
    "start_time": "2021-11-11T21:32:09.192Z"
   },
   {
    "duration": 12,
    "start_time": "2021-11-11T21:32:09.443Z"
   },
   {
    "duration": 18,
    "start_time": "2021-11-11T21:32:09.645Z"
   },
   {
    "duration": 11,
    "start_time": "2021-11-11T21:32:09.841Z"
   },
   {
    "duration": 17,
    "start_time": "2021-11-11T21:32:10.587Z"
   },
   {
    "duration": 51,
    "start_time": "2021-11-11T21:32:10.825Z"
   },
   {
    "duration": 15,
    "start_time": "2021-11-11T21:32:10.967Z"
   },
   {
    "duration": 39,
    "start_time": "2021-11-11T21:32:11.250Z"
   },
   {
    "duration": 16,
    "start_time": "2021-11-11T21:32:12.011Z"
   },
   {
    "duration": 50,
    "start_time": "2021-11-11T21:32:12.358Z"
   },
   {
    "duration": 12,
    "start_time": "2021-11-11T21:32:12.598Z"
   },
   {
    "duration": 7,
    "start_time": "2021-11-11T21:32:13.020Z"
   },
   {
    "duration": 49,
    "start_time": "2021-11-11T21:32:13.411Z"
   },
   {
    "duration": 11,
    "start_time": "2021-11-11T21:32:13.642Z"
   },
   {
    "duration": 11,
    "start_time": "2021-11-11T21:32:13.841Z"
   },
   {
    "duration": 4,
    "start_time": "2021-11-11T21:32:14.035Z"
   },
   {
    "duration": 11,
    "start_time": "2021-11-11T21:32:14.240Z"
   },
   {
    "duration": 11,
    "start_time": "2021-11-11T21:32:14.475Z"
   },
   {
    "duration": 11,
    "start_time": "2021-11-11T21:32:14.724Z"
   },
   {
    "duration": 37,
    "start_time": "2021-11-11T21:32:14.885Z"
   },
   {
    "duration": 17,
    "start_time": "2021-11-11T21:32:30.529Z"
   },
   {
    "duration": 6,
    "start_time": "2021-11-11T21:32:31.946Z"
   },
   {
    "duration": 17,
    "start_time": "2021-11-11T21:32:32.509Z"
   },
   {
    "duration": 4,
    "start_time": "2021-11-11T21:32:32.989Z"
   },
   {
    "duration": 12,
    "start_time": "2021-11-11T21:32:33.566Z"
   },
   {
    "duration": 14,
    "start_time": "2021-11-11T21:32:33.890Z"
   },
   {
    "duration": 6,
    "start_time": "2021-11-11T21:32:34.132Z"
   },
   {
    "duration": 9,
    "start_time": "2021-11-11T21:32:34.410Z"
   },
   {
    "duration": 9,
    "start_time": "2021-11-11T21:32:37.043Z"
   },
   {
    "duration": 117,
    "start_time": "2021-11-11T21:32:37.914Z"
   },
   {
    "duration": 16,
    "start_time": "2021-11-11T21:32:38.457Z"
   },
   {
    "duration": 42,
    "start_time": "2021-11-11T21:32:39.735Z"
   },
   {
    "duration": 20,
    "start_time": "2021-11-11T21:32:40.030Z"
   },
   {
    "duration": 17,
    "start_time": "2021-11-11T21:32:40.245Z"
   },
   {
    "duration": 42,
    "start_time": "2021-11-11T21:32:40.497Z"
   },
   {
    "duration": 19,
    "start_time": "2021-11-11T21:32:41.261Z"
   },
   {
    "duration": 494,
    "start_time": "2021-11-11T21:32:41.992Z"
   },
   {
    "duration": 18,
    "start_time": "2021-11-11T21:32:43.315Z"
   },
   {
    "duration": 483,
    "start_time": "2021-11-11T21:32:43.745Z"
   },
   {
    "duration": 18,
    "start_time": "2021-11-11T21:32:46.529Z"
   },
   {
    "duration": 658,
    "start_time": "2021-11-11T21:32:46.825Z"
   },
   {
    "duration": 575,
    "start_time": "2021-11-11T21:32:47.874Z"
   },
   {
    "duration": 758,
    "start_time": "2021-11-11T21:32:48.644Z"
   },
   {
    "duration": 586,
    "start_time": "2021-11-11T21:32:49.404Z"
   },
   {
    "duration": 23,
    "start_time": "2021-11-11T21:32:50.407Z"
   },
   {
    "duration": 6,
    "start_time": "2021-11-11T21:32:51.293Z"
   },
   {
    "duration": 476,
    "start_time": "2021-11-11T21:32:51.928Z"
   },
   {
    "duration": 541,
    "start_time": "2021-11-11T21:32:52.514Z"
   },
   {
    "duration": 485,
    "start_time": "2021-11-11T21:32:53.083Z"
   },
   {
    "duration": 7,
    "start_time": "2021-11-11T21:32:56.750Z"
   },
   {
    "duration": 26,
    "start_time": "2021-11-11T21:32:57.046Z"
   },
   {
    "duration": 6,
    "start_time": "2021-11-11T21:32:57.635Z"
   },
   {
    "duration": 12,
    "start_time": "2021-11-11T21:32:57.890Z"
   },
   {
    "duration": 277,
    "start_time": "2021-11-11T21:32:58.464Z"
   },
   {
    "duration": 13,
    "start_time": "2021-11-11T21:33:00.847Z"
   },
   {
    "duration": 1142,
    "start_time": "2021-11-11T21:33:01.487Z"
   },
   {
    "duration": 9,
    "start_time": "2021-11-11T21:33:02.632Z"
   },
   {
    "duration": 14,
    "start_time": "2021-11-11T21:33:02.644Z"
   },
   {
    "duration": 8,
    "start_time": "2021-11-11T21:33:02.773Z"
   },
   {
    "duration": 4,
    "start_time": "2021-11-11T21:33:03.096Z"
   },
   {
    "duration": 5,
    "start_time": "2021-11-11T21:33:03.468Z"
   },
   {
    "duration": 6,
    "start_time": "2021-11-11T21:33:04.033Z"
   },
   {
    "duration": 7,
    "start_time": "2021-11-11T21:33:04.345Z"
   },
   {
    "duration": 5,
    "start_time": "2021-11-11T21:33:04.747Z"
   },
   {
    "duration": 16,
    "start_time": "2021-11-11T21:33:06.382Z"
   },
   {
    "duration": 13,
    "start_time": "2021-11-11T21:33:07.092Z"
   },
   {
    "duration": 13,
    "start_time": "2021-11-11T21:33:07.359Z"
   },
   {
    "duration": 24,
    "start_time": "2021-11-11T21:33:07.721Z"
   },
   {
    "duration": 25,
    "start_time": "2021-11-11T21:33:07.985Z"
   },
   {
    "duration": 4,
    "start_time": "2021-11-11T21:33:08.266Z"
   },
   {
    "duration": 4,
    "start_time": "2021-11-11T21:33:08.561Z"
   },
   {
    "duration": 7,
    "start_time": "2021-11-11T21:33:09.163Z"
   },
   {
    "duration": 7,
    "start_time": "2021-11-11T21:33:09.713Z"
   },
   {
    "duration": 5,
    "start_time": "2021-11-11T21:33:10.312Z"
   },
   {
    "duration": 942,
    "start_time": "2021-11-11T21:34:03.700Z"
   },
   {
    "duration": 8,
    "start_time": "2021-11-12T11:33:28.896Z"
   },
   {
    "duration": 459,
    "start_time": "2021-11-12T11:35:17.079Z"
   },
   {
    "duration": 53700,
    "start_time": "2021-11-12T11:35:46.581Z"
   },
   {
    "duration": 1383,
    "start_time": "2021-11-12T11:36:40.283Z"
   },
   {
    "duration": 118,
    "start_time": "2021-11-12T11:36:41.669Z"
   },
   {
    "duration": 102,
    "start_time": "2021-11-12T11:36:41.789Z"
   },
   {
    "duration": 61,
    "start_time": "2021-11-12T11:36:41.893Z"
   },
   {
    "duration": 17,
    "start_time": "2021-11-12T11:36:41.956Z"
   },
   {
    "duration": 45,
    "start_time": "2021-11-12T11:36:41.975Z"
   },
   {
    "duration": 14,
    "start_time": "2021-11-12T11:36:42.023Z"
   },
   {
    "duration": 19,
    "start_time": "2021-11-12T11:36:42.041Z"
   },
   {
    "duration": 21,
    "start_time": "2021-11-12T11:36:42.063Z"
   },
   {
    "duration": 16,
    "start_time": "2021-11-12T11:36:42.086Z"
   },
   {
    "duration": 31,
    "start_time": "2021-11-12T11:36:42.104Z"
   },
   {
    "duration": 6,
    "start_time": "2021-11-12T11:36:42.136Z"
   },
   {
    "duration": 31,
    "start_time": "2021-11-12T11:36:42.145Z"
   },
   {
    "duration": 33,
    "start_time": "2021-11-12T11:36:42.178Z"
   },
   {
    "duration": 10,
    "start_time": "2021-11-12T11:36:42.214Z"
   },
   {
    "duration": 37,
    "start_time": "2021-11-12T11:36:42.226Z"
   },
   {
    "duration": 9,
    "start_time": "2021-11-12T11:36:42.265Z"
   },
   {
    "duration": 20,
    "start_time": "2021-11-12T11:36:42.276Z"
   },
   {
    "duration": 39,
    "start_time": "2021-11-12T11:36:42.298Z"
   },
   {
    "duration": 30,
    "start_time": "2021-11-12T11:36:42.339Z"
   },
   {
    "duration": 29,
    "start_time": "2021-11-12T11:36:42.371Z"
   },
   {
    "duration": 11,
    "start_time": "2021-11-12T11:36:42.402Z"
   },
   {
    "duration": 48,
    "start_time": "2021-11-12T11:36:42.415Z"
   },
   {
    "duration": 11,
    "start_time": "2021-11-12T11:36:42.466Z"
   },
   {
    "duration": 14,
    "start_time": "2021-11-12T11:36:42.479Z"
   },
   {
    "duration": 17,
    "start_time": "2021-11-12T11:36:42.498Z"
   },
   {
    "duration": 27,
    "start_time": "2021-11-12T11:36:42.518Z"
   },
   {
    "duration": 55,
    "start_time": "2021-11-12T11:36:42.546Z"
   },
   {
    "duration": 10,
    "start_time": "2021-11-12T11:36:42.603Z"
   },
   {
    "duration": 20,
    "start_time": "2021-11-12T11:36:42.615Z"
   },
   {
    "duration": 20,
    "start_time": "2021-11-12T11:36:42.637Z"
   },
   {
    "duration": 9,
    "start_time": "2021-11-12T11:36:42.664Z"
   },
   {
    "duration": 9,
    "start_time": "2021-11-12T11:36:42.675Z"
   },
   {
    "duration": 11,
    "start_time": "2021-11-12T11:36:42.686Z"
   },
   {
    "duration": 26,
    "start_time": "2021-11-12T11:36:42.699Z"
   },
   {
    "duration": 10,
    "start_time": "2021-11-12T11:36:42.727Z"
   },
   {
    "duration": 33,
    "start_time": "2021-11-12T11:36:42.739Z"
   },
   {
    "duration": 10,
    "start_time": "2021-11-12T11:36:42.774Z"
   },
   {
    "duration": 15,
    "start_time": "2021-11-12T11:36:42.786Z"
   },
   {
    "duration": 24,
    "start_time": "2021-11-12T11:36:42.803Z"
   },
   {
    "duration": 16,
    "start_time": "2021-11-12T11:36:42.829Z"
   },
   {
    "duration": 8,
    "start_time": "2021-11-12T11:36:42.848Z"
   },
   {
    "duration": 12,
    "start_time": "2021-11-12T11:36:42.857Z"
   },
   {
    "duration": 7,
    "start_time": "2021-11-12T11:36:42.871Z"
   },
   {
    "duration": 90,
    "start_time": "2021-11-12T11:36:42.879Z"
   },
   {
    "duration": 14,
    "start_time": "2021-11-12T11:36:42.971Z"
   },
   {
    "duration": 31,
    "start_time": "2021-11-12T11:36:42.987Z"
   },
   {
    "duration": 15,
    "start_time": "2021-11-12T11:36:43.020Z"
   },
   {
    "duration": 40,
    "start_time": "2021-11-12T11:36:43.037Z"
   },
   {
    "duration": 51,
    "start_time": "2021-11-12T11:36:43.079Z"
   },
   {
    "duration": 34,
    "start_time": "2021-11-12T11:36:43.133Z"
   },
   {
    "duration": 383,
    "start_time": "2021-11-12T11:36:43.169Z"
   },
   {
    "duration": 20,
    "start_time": "2021-11-12T11:36:43.554Z"
   },
   {
    "duration": 309,
    "start_time": "2021-11-12T11:36:43.576Z"
   },
   {
    "duration": 13,
    "start_time": "2021-11-12T11:36:43.886Z"
   },
   {
    "duration": 299,
    "start_time": "2021-11-12T11:36:43.900Z"
   },
   {
    "duration": 376,
    "start_time": "2021-11-12T11:36:44.200Z"
   },
   {
    "duration": 542,
    "start_time": "2021-11-12T11:36:44.578Z"
   },
   {
    "duration": 869,
    "start_time": "2021-11-12T11:36:45.121Z"
   },
   {
    "duration": 17,
    "start_time": "2021-11-12T11:36:45.992Z"
   },
   {
    "duration": 4,
    "start_time": "2021-11-12T11:36:46.011Z"
   },
   {
    "duration": 296,
    "start_time": "2021-11-12T11:36:46.016Z"
   },
   {
    "duration": 340,
    "start_time": "2021-11-12T11:36:46.314Z"
   },
   {
    "duration": 289,
    "start_time": "2021-11-12T11:36:46.655Z"
   },
   {
    "duration": 4,
    "start_time": "2021-11-12T11:36:46.946Z"
   },
   {
    "duration": 18,
    "start_time": "2021-11-12T11:36:46.963Z"
   },
   {
    "duration": 5,
    "start_time": "2021-11-12T11:36:46.982Z"
   },
   {
    "duration": 9,
    "start_time": "2021-11-12T11:36:46.989Z"
   },
   {
    "duration": 185,
    "start_time": "2021-11-12T11:36:46.999Z"
   },
   {
    "duration": 9,
    "start_time": "2021-11-12T11:36:47.185Z"
   },
   {
    "duration": 663,
    "start_time": "2021-11-12T11:36:47.196Z"
   },
   {
    "duration": 7,
    "start_time": "2021-11-12T11:36:47.863Z"
   },
   {
    "duration": 7,
    "start_time": "2021-11-12T11:36:47.872Z"
   },
   {
    "duration": 12,
    "start_time": "2021-11-12T11:36:47.880Z"
   },
   {
    "duration": 5,
    "start_time": "2021-11-12T11:36:47.893Z"
   },
   {
    "duration": 8,
    "start_time": "2021-11-12T11:36:47.900Z"
   },
   {
    "duration": 7,
    "start_time": "2021-11-12T11:36:47.910Z"
   },
   {
    "duration": 7,
    "start_time": "2021-11-12T11:36:47.919Z"
   },
   {
    "duration": 8,
    "start_time": "2021-11-12T11:36:47.928Z"
   },
   {
    "duration": 31,
    "start_time": "2021-11-12T11:36:47.941Z"
   },
   {
    "duration": 11,
    "start_time": "2021-11-12T11:36:47.974Z"
   },
   {
    "duration": 10,
    "start_time": "2021-11-12T11:36:47.988Z"
   },
   {
    "duration": 23,
    "start_time": "2021-11-12T11:36:47.999Z"
   },
   {
    "duration": 15,
    "start_time": "2021-11-12T11:36:48.024Z"
   },
   {
    "duration": 24,
    "start_time": "2021-11-12T11:36:48.040Z"
   },
   {
    "duration": 6,
    "start_time": "2021-11-12T11:36:48.066Z"
   },
   {
    "duration": 15,
    "start_time": "2021-11-12T11:36:48.074Z"
   },
   {
    "duration": 10,
    "start_time": "2021-11-12T11:36:48.091Z"
   },
   {
    "duration": 9,
    "start_time": "2021-11-12T11:36:48.103Z"
   },
   {
    "duration": 25,
    "start_time": "2021-11-12T11:37:11.098Z"
   },
   {
    "duration": 21,
    "start_time": "2021-11-12T11:38:01.127Z"
   },
   {
    "duration": 28,
    "start_time": "2021-11-12T11:40:32.978Z"
   },
   {
    "duration": 12,
    "start_time": "2021-11-12T11:41:57.395Z"
   },
   {
    "duration": 67,
    "start_time": "2021-11-12T11:44:38.719Z"
   },
   {
    "duration": 12,
    "start_time": "2021-11-12T11:52:08.879Z"
   },
   {
    "duration": 3,
    "start_time": "2021-11-12T11:52:34.307Z"
   },
   {
    "duration": 8,
    "start_time": "2021-11-12T11:52:34.312Z"
   },
   {
    "duration": 128,
    "start_time": "2021-11-12T11:52:34.322Z"
   },
   {
    "duration": 95,
    "start_time": "2021-11-12T11:52:34.452Z"
   },
   {
    "duration": 63,
    "start_time": "2021-11-12T11:52:34.549Z"
   },
   {
    "duration": 18,
    "start_time": "2021-11-12T11:52:34.614Z"
   },
   {
    "duration": 31,
    "start_time": "2021-11-12T11:52:34.634Z"
   },
   {
    "duration": 12,
    "start_time": "2021-11-12T11:52:34.667Z"
   },
   {
    "duration": 14,
    "start_time": "2021-11-12T11:52:34.682Z"
   },
   {
    "duration": 8,
    "start_time": "2021-11-12T11:52:34.698Z"
   },
   {
    "duration": 26,
    "start_time": "2021-11-12T11:52:34.708Z"
   },
   {
    "duration": 22,
    "start_time": "2021-11-12T11:52:34.735Z"
   },
   {
    "duration": 11,
    "start_time": "2021-11-12T11:52:34.759Z"
   },
   {
    "duration": 30,
    "start_time": "2021-11-12T11:52:34.772Z"
   },
   {
    "duration": 24,
    "start_time": "2021-11-12T11:52:34.804Z"
   },
   {
    "duration": 7,
    "start_time": "2021-11-12T11:52:34.830Z"
   },
   {
    "duration": 25,
    "start_time": "2021-11-12T11:52:34.839Z"
   },
   {
    "duration": 17,
    "start_time": "2021-11-12T11:52:34.866Z"
   },
   {
    "duration": 23,
    "start_time": "2021-11-12T11:52:34.884Z"
   },
   {
    "duration": 46,
    "start_time": "2021-11-12T11:52:34.909Z"
   },
   {
    "duration": 10,
    "start_time": "2021-11-12T11:52:34.957Z"
   },
   {
    "duration": 33,
    "start_time": "2021-11-12T11:52:34.968Z"
   },
   {
    "duration": 10,
    "start_time": "2021-11-12T11:52:35.003Z"
   },
   {
    "duration": 35,
    "start_time": "2021-11-12T11:52:35.014Z"
   },
   {
    "duration": 8,
    "start_time": "2021-11-12T11:52:35.051Z"
   },
   {
    "duration": 8,
    "start_time": "2021-11-12T11:52:35.060Z"
   },
   {
    "duration": 11,
    "start_time": "2021-11-12T11:52:35.071Z"
   },
   {
    "duration": 46,
    "start_time": "2021-11-12T11:52:35.084Z"
   },
   {
    "duration": 35,
    "start_time": "2021-11-12T11:52:35.132Z"
   },
   {
    "duration": 8,
    "start_time": "2021-11-12T11:52:35.169Z"
   },
   {
    "duration": 13,
    "start_time": "2021-11-12T11:52:35.179Z"
   },
   {
    "duration": 10,
    "start_time": "2021-11-12T11:52:35.194Z"
   },
   {
    "duration": 12,
    "start_time": "2021-11-12T11:52:35.206Z"
   },
   {
    "duration": 16,
    "start_time": "2021-11-12T11:52:35.220Z"
   },
   {
    "duration": 25,
    "start_time": "2021-11-12T11:52:35.238Z"
   },
   {
    "duration": 30,
    "start_time": "2021-11-12T11:52:35.265Z"
   },
   {
    "duration": 14,
    "start_time": "2021-11-12T11:52:37.510Z"
   },
   {
    "duration": 15,
    "start_time": "2021-11-12T12:16:57.564Z"
   },
   {
    "duration": 345,
    "start_time": "2021-11-12T12:22:07.649Z"
   },
   {
    "duration": 14,
    "start_time": "2021-11-12T12:22:37.930Z"
   },
   {
    "duration": 294,
    "start_time": "2021-11-12T12:29:11.912Z"
   },
   {
    "duration": 30,
    "start_time": "2021-11-12T12:29:29.669Z"
   },
   {
    "duration": 5,
    "start_time": "2021-11-12T12:39:44.994Z"
   },
   {
    "duration": 16,
    "start_time": "2021-11-12T12:41:06.575Z"
   },
   {
    "duration": 9,
    "start_time": "2021-11-12T12:41:09.998Z"
   },
   {
    "duration": 17,
    "start_time": "2021-11-12T12:41:12.025Z"
   },
   {
    "duration": 324,
    "start_time": "2021-11-12T13:12:24.040Z"
   },
   {
    "duration": 3,
    "start_time": "2021-11-12T13:12:42.867Z"
   },
   {
    "duration": 1409,
    "start_time": "2021-11-12T13:12:43.084Z"
   },
   {
    "duration": 149,
    "start_time": "2021-11-12T13:12:44.495Z"
   },
   {
    "duration": 112,
    "start_time": "2021-11-12T13:12:44.647Z"
   },
   {
    "duration": 72,
    "start_time": "2021-11-12T13:12:44.762Z"
   },
   {
    "duration": 18,
    "start_time": "2021-11-12T13:12:44.837Z"
   },
   {
    "duration": 28,
    "start_time": "2021-11-12T13:12:44.858Z"
   },
   {
    "duration": 17,
    "start_time": "2021-11-12T13:12:44.889Z"
   },
   {
    "duration": 15,
    "start_time": "2021-11-12T13:12:44.909Z"
   },
   {
    "duration": 6,
    "start_time": "2021-11-12T13:12:44.967Z"
   },
   {
    "duration": 9,
    "start_time": "2021-11-12T13:12:45.551Z"
   },
   {
    "duration": 17,
    "start_time": "2021-11-12T13:12:45.728Z"
   },
   {
    "duration": 7,
    "start_time": "2021-11-12T13:12:45.923Z"
   },
   {
    "duration": 21,
    "start_time": "2021-11-12T13:12:46.504Z"
   },
   {
    "duration": 33,
    "start_time": "2021-11-12T13:12:46.701Z"
   },
   {
    "duration": 12,
    "start_time": "2021-11-12T13:12:46.880Z"
   },
   {
    "duration": 18,
    "start_time": "2021-11-12T13:12:47.235Z"
   },
   {
    "duration": 11,
    "start_time": "2021-11-12T13:12:47.417Z"
   },
   {
    "duration": 15,
    "start_time": "2021-11-12T13:12:47.615Z"
   },
   {
    "duration": 49,
    "start_time": "2021-11-12T13:12:47.847Z"
   },
   {
    "duration": 13,
    "start_time": "2021-11-12T13:12:48.004Z"
   },
   {
    "duration": 38,
    "start_time": "2021-11-12T13:12:48.159Z"
   },
   {
    "duration": 12,
    "start_time": "2021-11-12T13:12:48.379Z"
   },
   {
    "duration": 28,
    "start_time": "2021-11-12T13:12:48.567Z"
   },
   {
    "duration": 11,
    "start_time": "2021-11-12T13:12:48.763Z"
   },
   {
    "duration": 5,
    "start_time": "2021-11-12T13:12:49.152Z"
   },
   {
    "duration": 5,
    "start_time": "2021-11-12T13:12:49.520Z"
   },
   {
    "duration": 56,
    "start_time": "2021-11-12T13:12:50.125Z"
   },
   {
    "duration": 35,
    "start_time": "2021-11-12T13:12:50.522Z"
   },
   {
    "duration": 11,
    "start_time": "2021-11-12T13:12:50.751Z"
   },
   {
    "duration": 11,
    "start_time": "2021-11-12T13:12:50.987Z"
   },
   {
    "duration": 4,
    "start_time": "2021-11-12T13:12:51.118Z"
   },
   {
    "duration": 11,
    "start_time": "2021-11-12T13:12:51.335Z"
   },
   {
    "duration": 11,
    "start_time": "2021-11-12T13:12:51.514Z"
   },
   {
    "duration": 12,
    "start_time": "2021-11-12T13:12:51.738Z"
   },
   {
    "duration": 35,
    "start_time": "2021-11-12T13:12:51.906Z"
   },
   {
    "duration": 14,
    "start_time": "2021-11-12T13:12:52.499Z"
   },
   {
    "duration": 10,
    "start_time": "2021-11-12T13:12:53.174Z"
   },
   {
    "duration": 13,
    "start_time": "2021-11-12T13:12:53.642Z"
   },
   {
    "duration": 4,
    "start_time": "2021-11-12T13:12:53.888Z"
   },
   {
    "duration": 11,
    "start_time": "2021-11-12T13:12:54.502Z"
   },
   {
    "duration": 14,
    "start_time": "2021-11-12T13:12:54.700Z"
   },
   {
    "duration": 6,
    "start_time": "2021-11-12T13:12:54.877Z"
   },
   {
    "duration": 9,
    "start_time": "2021-11-12T13:12:55.089Z"
   },
   {
    "duration": 8,
    "start_time": "2021-11-12T13:12:56.072Z"
   },
   {
    "duration": 113,
    "start_time": "2021-11-12T13:12:56.657Z"
   },
   {
    "duration": 17,
    "start_time": "2021-11-12T13:12:56.945Z"
   },
   {
    "duration": 43,
    "start_time": "2021-11-12T13:12:57.763Z"
   },
   {
    "duration": 18,
    "start_time": "2021-11-12T13:12:58.046Z"
   },
   {
    "duration": 17,
    "start_time": "2021-11-12T13:12:58.629Z"
   },
   {
    "duration": 39,
    "start_time": "2021-11-12T13:12:58.922Z"
   },
   {
    "duration": 18,
    "start_time": "2021-11-12T13:13:05.208Z"
   },
   {
    "duration": 501,
    "start_time": "2021-11-12T13:13:08.222Z"
   },
   {
    "duration": 668,
    "start_time": "2021-11-12T13:13:09.080Z"
   },
   {
    "duration": 20,
    "start_time": "2021-11-12T13:13:10.853Z"
   },
   {
    "duration": 561,
    "start_time": "2021-11-12T13:13:12.655Z"
   },
   {
    "duration": 20,
    "start_time": "2021-11-12T13:13:13.228Z"
   },
   {
    "duration": 570,
    "start_time": "2021-11-12T13:13:14.817Z"
   },
   {
    "duration": 373,
    "start_time": "2021-11-12T13:13:15.782Z"
   },
   {
    "duration": 308,
    "start_time": "2021-11-12T13:13:16.278Z"
   },
   {
    "duration": 330,
    "start_time": "2021-11-12T13:13:16.593Z"
   },
   {
    "duration": 28,
    "start_time": "2021-11-12T13:13:17.081Z"
   },
   {
    "duration": 6,
    "start_time": "2021-11-12T13:13:17.339Z"
   },
   {
    "duration": 883,
    "start_time": "2021-11-12T13:13:17.561Z"
   },
   {
    "duration": 804,
    "start_time": "2021-11-12T13:13:18.611Z"
   },
   {
    "duration": -60973,
    "start_time": "2021-11-12T13:14:20.391Z"
   },
   {
    "duration": -60979,
    "start_time": "2021-11-12T13:14:20.398Z"
   },
   {
    "duration": 26,
    "start_time": "2021-11-12T13:13:19.513Z"
   },
   {
    "duration": 7,
    "start_time": "2021-11-12T13:13:19.974Z"
   },
   {
    "duration": 3,
    "start_time": "2021-11-12T13:13:48.646Z"
   },
   {
    "duration": 5,
    "start_time": "2021-11-12T13:13:48.965Z"
   },
   {
    "duration": 147,
    "start_time": "2021-11-12T13:13:49.367Z"
   },
   {
    "duration": 112,
    "start_time": "2021-11-12T13:13:49.561Z"
   },
   {
    "duration": 72,
    "start_time": "2021-11-12T13:13:49.806Z"
   },
   {
    "duration": 17,
    "start_time": "2021-11-12T13:13:51.005Z"
   },
   {
    "duration": 26,
    "start_time": "2021-11-12T13:13:51.789Z"
   },
   {
    "duration": 13,
    "start_time": "2021-11-12T13:13:52.800Z"
   },
   {
    "duration": 14,
    "start_time": "2021-11-12T13:13:53.053Z"
   },
   {
    "duration": 7,
    "start_time": "2021-11-12T13:13:53.374Z"
   },
   {
    "duration": 10,
    "start_time": "2021-11-12T13:13:55.381Z"
   },
   {
    "duration": 15,
    "start_time": "2021-11-12T13:13:55.741Z"
   },
   {
    "duration": 6,
    "start_time": "2021-11-12T13:13:56.119Z"
   },
   {
    "duration": 22,
    "start_time": "2021-11-12T13:13:56.920Z"
   },
   {
    "duration": 29,
    "start_time": "2021-11-12T13:13:58.020Z"
   },
   {
    "duration": 13,
    "start_time": "2021-11-12T13:13:58.756Z"
   },
   {
    "duration": 18,
    "start_time": "2021-11-12T13:13:59.797Z"
   },
   {
    "duration": 11,
    "start_time": "2021-11-12T13:14:00.460Z"
   },
   {
    "duration": 15,
    "start_time": "2021-11-12T13:14:01.064Z"
   },
   {
    "duration": 50,
    "start_time": "2021-11-12T13:14:01.770Z"
   },
   {
    "duration": 13,
    "start_time": "2021-11-12T13:14:02.507Z"
   },
   {
    "duration": 40,
    "start_time": "2021-11-12T13:14:03.314Z"
   },
   {
    "duration": 14,
    "start_time": "2021-11-12T13:14:03.910Z"
   },
   {
    "duration": 31,
    "start_time": "2021-11-12T13:14:05.001Z"
   },
   {
    "duration": 11,
    "start_time": "2021-11-12T13:14:05.646Z"
   },
   {
    "duration": 6,
    "start_time": "2021-11-12T13:14:07.400Z"
   },
   {
    "duration": 5,
    "start_time": "2021-11-12T13:14:08.683Z"
   },
   {
    "duration": 52,
    "start_time": "2021-11-12T13:14:10.794Z"
   },
   {
    "duration": 35,
    "start_time": "2021-11-12T13:14:11.443Z"
   },
   {
    "duration": 11,
    "start_time": "2021-11-12T13:14:11.719Z"
   },
   {
    "duration": 10,
    "start_time": "2021-11-12T13:14:12.061Z"
   },
   {
    "duration": 3,
    "start_time": "2021-11-12T13:14:12.318Z"
   },
   {
    "duration": 11,
    "start_time": "2021-11-12T13:14:12.560Z"
   },
   {
    "duration": 11,
    "start_time": "2021-11-12T13:14:12.805Z"
   },
   {
    "duration": 11,
    "start_time": "2021-11-12T13:14:13.118Z"
   },
   {
    "duration": 35,
    "start_time": "2021-11-12T13:14:13.351Z"
   },
   {
    "duration": 15,
    "start_time": "2021-11-12T13:14:13.861Z"
   },
   {
    "duration": 5,
    "start_time": "2021-11-12T13:14:14.766Z"
   },
   {
    "duration": 14,
    "start_time": "2021-11-12T13:14:15.314Z"
   },
   {
    "duration": 4,
    "start_time": "2021-11-12T13:14:15.608Z"
   },
   {
    "duration": 12,
    "start_time": "2021-11-12T13:14:19.227Z"
   },
   {
    "duration": 15,
    "start_time": "2021-11-12T13:14:19.474Z"
   },
   {
    "duration": 5,
    "start_time": "2021-11-12T13:14:19.842Z"
   },
   {
    "duration": 8,
    "start_time": "2021-11-12T13:14:20.372Z"
   },
   {
    "duration": 9,
    "start_time": "2021-11-12T13:14:21.752Z"
   },
   {
    "duration": 114,
    "start_time": "2021-11-12T13:14:22.942Z"
   },
   {
    "duration": 18,
    "start_time": "2021-11-12T13:14:23.200Z"
   },
   {
    "duration": 42,
    "start_time": "2021-11-12T13:14:24.512Z"
   },
   {
    "duration": 18,
    "start_time": "2021-11-12T13:14:25.518Z"
   },
   {
    "duration": 16,
    "start_time": "2021-11-12T13:14:29.910Z"
   },
   {
    "duration": 40,
    "start_time": "2021-11-12T13:14:32.836Z"
   },
   {
    "duration": 18,
    "start_time": "2021-11-12T13:14:33.573Z"
   },
   {
    "duration": 503,
    "start_time": "2021-11-12T13:14:35.450Z"
   },
   {
    "duration": 595,
    "start_time": "2021-11-12T13:14:36.794Z"
   },
   {
    "duration": 19,
    "start_time": "2021-11-12T13:14:37.392Z"
   },
   {
    "duration": 487,
    "start_time": "2021-11-12T13:14:38.157Z"
   },
   {
    "duration": 18,
    "start_time": "2021-11-12T13:14:38.725Z"
   },
   {
    "duration": 490,
    "start_time": "2021-11-12T13:14:39.194Z"
   },
   {
    "duration": 292,
    "start_time": "2021-11-12T13:14:40.030Z"
   },
   {
    "duration": 282,
    "start_time": "2021-11-12T13:14:47.885Z"
   },
   {
    "duration": 271,
    "start_time": "2021-11-12T13:14:49.201Z"
   },
   {
    "duration": 24,
    "start_time": "2021-11-12T13:14:51.366Z"
   },
   {
    "duration": 6,
    "start_time": "2021-11-12T13:14:52.506Z"
   },
   {
    "duration": 782,
    "start_time": "2021-11-12T13:14:52.899Z"
   },
   {
    "duration": 4307,
    "start_time": "2021-11-12T13:15:14.876Z"
   },
   {
    "duration": 4,
    "start_time": "2021-11-12T13:15:19.186Z"
   },
   {
    "duration": 155,
    "start_time": "2021-11-12T13:15:19.193Z"
   },
   {
    "duration": 118,
    "start_time": "2021-11-12T13:15:19.351Z"
   },
   {
    "duration": 81,
    "start_time": "2021-11-12T13:15:19.472Z"
   },
   {
    "duration": 16,
    "start_time": "2021-11-12T13:15:19.556Z"
   },
   {
    "duration": 31,
    "start_time": "2021-11-12T13:15:19.575Z"
   },
   {
    "duration": 15,
    "start_time": "2021-11-12T13:15:20.540Z"
   },
   {
    "duration": 15,
    "start_time": "2021-11-12T13:15:20.896Z"
   },
   {
    "duration": 7,
    "start_time": "2021-11-12T13:15:21.237Z"
   },
   {
    "duration": 9,
    "start_time": "2021-11-12T13:15:21.844Z"
   },
   {
    "duration": 17,
    "start_time": "2021-11-12T13:15:22.089Z"
   },
   {
    "duration": 7,
    "start_time": "2021-11-12T13:15:22.307Z"
   },
   {
    "duration": 22,
    "start_time": "2021-11-12T13:15:22.924Z"
   },
   {
    "duration": 31,
    "start_time": "2021-11-12T13:15:23.172Z"
   },
   {
    "duration": 130,
    "start_time": "2021-11-12T13:15:23.430Z"
   },
   {
    "duration": 19,
    "start_time": "2021-11-12T13:15:23.847Z"
   },
   {
    "duration": 11,
    "start_time": "2021-11-12T13:15:24.149Z"
   },
   {
    "duration": 17,
    "start_time": "2021-11-12T13:15:24.374Z"
   },
   {
    "duration": 51,
    "start_time": "2021-11-12T13:15:24.608Z"
   },
   {
    "duration": 13,
    "start_time": "2021-11-12T13:15:24.802Z"
   },
   {
    "duration": 39,
    "start_time": "2021-11-12T13:15:25.024Z"
   },
   {
    "duration": 12,
    "start_time": "2021-11-12T13:15:25.242Z"
   },
   {
    "duration": 31,
    "start_time": "2021-11-12T13:15:25.496Z"
   },
   {
    "duration": 12,
    "start_time": "2021-11-12T13:15:25.668Z"
   },
   {
    "duration": 6,
    "start_time": "2021-11-12T13:15:26.095Z"
   },
   {
    "duration": 5,
    "start_time": "2021-11-12T13:15:26.519Z"
   },
   {
    "duration": 55,
    "start_time": "2021-11-12T13:15:27.137Z"
   },
   {
    "duration": 33,
    "start_time": "2021-11-12T13:15:27.554Z"
   },
   {
    "duration": 12,
    "start_time": "2021-11-12T13:15:27.806Z"
   },
   {
    "duration": 11,
    "start_time": "2021-11-12T13:15:28.026Z"
   },
   {
    "duration": 4,
    "start_time": "2021-11-12T13:15:28.222Z"
   },
   {
    "duration": 11,
    "start_time": "2021-11-12T13:15:28.442Z"
   },
   {
    "duration": 11,
    "start_time": "2021-11-12T13:15:28.691Z"
   },
   {
    "duration": 11,
    "start_time": "2021-11-12T13:15:28.939Z"
   },
   {
    "duration": 36,
    "start_time": "2021-11-12T13:15:29.107Z"
   },
   {
    "duration": 16,
    "start_time": "2021-11-12T13:15:29.558Z"
   },
   {
    "duration": 5,
    "start_time": "2021-11-12T13:15:30.002Z"
   },
   {
    "duration": 14,
    "start_time": "2021-11-12T13:15:30.588Z"
   },
   {
    "duration": 4,
    "start_time": "2021-11-12T13:15:30.874Z"
   },
   {
    "duration": 13,
    "start_time": "2021-11-12T13:15:31.619Z"
   },
   {
    "duration": 15,
    "start_time": "2021-11-12T13:15:31.864Z"
   },
   {
    "duration": 4,
    "start_time": "2021-11-12T13:15:32.121Z"
   },
   {
    "duration": 9,
    "start_time": "2021-11-12T13:15:32.403Z"
   },
   {
    "duration": 7,
    "start_time": "2021-11-12T13:15:33.230Z"
   },
   {
    "duration": 113,
    "start_time": "2021-11-12T13:15:34.447Z"
   },
   {
    "duration": 16,
    "start_time": "2021-11-12T13:15:34.993Z"
   },
   {
    "duration": 42,
    "start_time": "2021-11-12T13:15:36.340Z"
   },
   {
    "duration": 18,
    "start_time": "2021-11-12T13:15:36.707Z"
   },
   {
    "duration": 17,
    "start_time": "2021-11-12T13:15:45.083Z"
   },
   {
    "duration": 39,
    "start_time": "2021-11-12T13:15:45.367Z"
   },
   {
    "duration": 18,
    "start_time": "2021-11-12T13:15:45.844Z"
   },
   {
    "duration": 502,
    "start_time": "2021-11-12T13:15:47.120Z"
   },
   {
    "duration": 591,
    "start_time": "2021-11-12T13:15:47.890Z"
   },
   {
    "duration": 20,
    "start_time": "2021-11-12T13:15:48.483Z"
   },
   {
    "duration": 466,
    "start_time": "2021-11-12T13:15:48.915Z"
   },
   {
    "duration": 19,
    "start_time": "2021-11-12T13:15:49.400Z"
   },
   {
    "duration": 479,
    "start_time": "2021-11-12T13:15:49.886Z"
   },
   {
    "duration": 272,
    "start_time": "2021-11-12T13:15:50.813Z"
   },
   {
    "duration": 275,
    "start_time": "2021-11-12T13:15:51.274Z"
   },
   {
    "duration": -60939,
    "start_time": "2021-11-12T13:16:52.490Z"
   },
   {
    "duration": 23,
    "start_time": "2021-11-12T13:15:54.329Z"
   },
   {
    "duration": 494,
    "start_time": "2021-11-12T13:16:00.803Z"
   },
   {
    "duration": 4627,
    "start_time": "2021-11-13T06:20:26.651Z"
   },
   {
    "duration": 1502,
    "start_time": "2021-11-13T06:20:31.281Z"
   },
   {
    "duration": 168,
    "start_time": "2021-11-13T06:20:32.786Z"
   },
   {
    "duration": 126,
    "start_time": "2021-11-13T06:20:32.957Z"
   },
   {
    "duration": 84,
    "start_time": "2021-11-13T06:20:33.086Z"
   },
   {
    "duration": 17,
    "start_time": "2021-11-13T06:20:33.173Z"
   },
   {
    "duration": 46,
    "start_time": "2021-11-13T06:20:33.192Z"
   },
   {
    "duration": 38,
    "start_time": "2021-11-13T06:20:33.242Z"
   },
   {
    "duration": 17,
    "start_time": "2021-11-13T06:20:33.284Z"
   },
   {
    "duration": 29,
    "start_time": "2021-11-13T06:20:33.304Z"
   },
   {
    "duration": 15,
    "start_time": "2021-11-13T06:20:33.335Z"
   },
   {
    "duration": 40,
    "start_time": "2021-11-13T06:20:33.352Z"
   },
   {
    "duration": 9,
    "start_time": "2021-11-13T06:20:33.395Z"
   },
   {
    "duration": 54,
    "start_time": "2021-11-13T06:20:33.406Z"
   },
   {
    "duration": 35,
    "start_time": "2021-11-13T06:20:33.463Z"
   },
   {
    "duration": 31,
    "start_time": "2021-11-13T06:20:33.500Z"
   },
   {
    "duration": 21,
    "start_time": "2021-11-13T06:20:33.533Z"
   },
   {
    "duration": 26,
    "start_time": "2021-11-13T06:20:33.556Z"
   },
   {
    "duration": 22,
    "start_time": "2021-11-13T06:20:33.585Z"
   },
   {
    "duration": 66,
    "start_time": "2021-11-13T06:20:33.610Z"
   },
   {
    "duration": 15,
    "start_time": "2021-11-13T06:20:33.679Z"
   },
   {
    "duration": 52,
    "start_time": "2021-11-13T06:20:33.696Z"
   },
   {
    "duration": 13,
    "start_time": "2021-11-13T06:20:33.755Z"
   },
   {
    "duration": 45,
    "start_time": "2021-11-13T06:20:33.772Z"
   },
   {
    "duration": 25,
    "start_time": "2021-11-13T06:20:33.819Z"
   },
   {
    "duration": 19,
    "start_time": "2021-11-13T06:20:33.846Z"
   },
   {
    "duration": 27,
    "start_time": "2021-11-13T06:20:33.867Z"
   },
   {
    "duration": 71,
    "start_time": "2021-11-13T06:20:33.896Z"
   },
   {
    "duration": 35,
    "start_time": "2021-11-13T06:20:33.970Z"
   },
   {
    "duration": 24,
    "start_time": "2021-11-13T06:20:34.007Z"
   },
   {
    "duration": 15,
    "start_time": "2021-11-13T06:20:34.034Z"
   },
   {
    "duration": 15,
    "start_time": "2021-11-13T06:20:34.051Z"
   },
   {
    "duration": 26,
    "start_time": "2021-11-13T06:20:34.068Z"
   },
   {
    "duration": 25,
    "start_time": "2021-11-13T06:20:34.097Z"
   },
   {
    "duration": 28,
    "start_time": "2021-11-13T06:20:34.130Z"
   },
   {
    "duration": 56,
    "start_time": "2021-11-13T06:20:34.160Z"
   },
   {
    "duration": 16,
    "start_time": "2021-11-13T06:20:34.219Z"
   },
   {
    "duration": 40,
    "start_time": "2021-11-13T06:20:34.238Z"
   },
   {
    "duration": 27,
    "start_time": "2021-11-13T06:20:34.280Z"
   },
   {
    "duration": 19,
    "start_time": "2021-11-13T06:20:34.310Z"
   },
   {
    "duration": 31,
    "start_time": "2021-11-13T06:20:34.332Z"
   },
   {
    "duration": 30,
    "start_time": "2021-11-13T06:20:34.366Z"
   },
   {
    "duration": 33,
    "start_time": "2021-11-13T06:20:34.398Z"
   },
   {
    "duration": 23,
    "start_time": "2021-11-13T06:20:34.434Z"
   },
   {
    "duration": 12,
    "start_time": "2021-11-13T06:20:34.460Z"
   },
   {
    "duration": 145,
    "start_time": "2021-11-13T06:20:34.475Z"
   },
   {
    "duration": 25,
    "start_time": "2021-11-13T06:20:34.622Z"
   },
   {
    "duration": 43,
    "start_time": "2021-11-13T06:20:34.650Z"
   },
   {
    "duration": 41,
    "start_time": "2021-11-13T06:20:34.695Z"
   },
   {
    "duration": 18,
    "start_time": "2021-11-13T06:20:34.738Z"
   },
   {
    "duration": 64,
    "start_time": "2021-11-13T06:20:34.758Z"
   },
   {
    "duration": 21,
    "start_time": "2021-11-13T06:20:34.824Z"
   },
   {
    "duration": 637,
    "start_time": "2021-11-13T06:20:34.847Z"
   },
   {
    "duration": 642,
    "start_time": "2021-11-13T06:20:35.487Z"
   },
   {
    "duration": 23,
    "start_time": "2021-11-13T06:20:36.132Z"
   },
   {
    "duration": 517,
    "start_time": "2021-11-13T06:20:36.158Z"
   },
   {
    "duration": 20,
    "start_time": "2021-11-13T06:20:36.679Z"
   },
   {
    "duration": 538,
    "start_time": "2021-11-13T06:20:36.702Z"
   },
   {
    "duration": 691,
    "start_time": "2021-11-13T06:20:37.243Z"
   },
   {
    "duration": 763,
    "start_time": "2021-11-13T06:20:37.937Z"
   },
   {
    "duration": 598,
    "start_time": "2021-11-13T06:20:38.703Z"
   },
   {
    "duration": 36,
    "start_time": "2021-11-13T06:20:39.304Z"
   },
   {
    "duration": 6,
    "start_time": "2021-11-13T06:20:39.342Z"
   },
   {
    "duration": 493,
    "start_time": "2021-11-13T06:20:39.351Z"
   },
   {
    "duration": 699,
    "start_time": "2021-11-13T06:20:39.846Z"
   },
   {
    "duration": 528,
    "start_time": "2021-11-13T06:20:40.548Z"
   },
   {
    "duration": 6,
    "start_time": "2021-11-13T06:20:41.078Z"
   },
   {
    "duration": 58,
    "start_time": "2021-11-13T06:20:41.092Z"
   },
   {
    "duration": 6,
    "start_time": "2021-11-13T06:20:41.153Z"
   },
   {
    "duration": 14,
    "start_time": "2021-11-13T06:20:41.161Z"
   },
   {
    "duration": 309,
    "start_time": "2021-11-13T06:20:41.178Z"
   },
   {
    "duration": 13,
    "start_time": "2021-11-13T06:20:41.490Z"
   },
   {
    "duration": 1145,
    "start_time": "2021-11-13T06:20:41.505Z"
   },
   {
    "duration": 9,
    "start_time": "2021-11-13T06:20:42.653Z"
   },
   {
    "duration": 11,
    "start_time": "2021-11-13T06:20:42.664Z"
   },
   {
    "duration": 8,
    "start_time": "2021-11-13T06:20:42.677Z"
   },
   {
    "duration": 6,
    "start_time": "2021-11-13T06:20:42.687Z"
   },
   {
    "duration": 37,
    "start_time": "2021-11-13T06:20:42.695Z"
   },
   {
    "duration": 9,
    "start_time": "2021-11-13T06:20:42.735Z"
   },
   {
    "duration": 8,
    "start_time": "2021-11-13T06:20:42.747Z"
   },
   {
    "duration": 5,
    "start_time": "2021-11-13T06:20:42.757Z"
   },
   {
    "duration": 17,
    "start_time": "2021-11-13T06:20:42.765Z"
   },
   {
    "duration": 61,
    "start_time": "2021-11-13T06:20:42.784Z"
   },
   {
    "duration": 13,
    "start_time": "2021-11-13T06:20:42.847Z"
   },
   {
    "duration": 25,
    "start_time": "2021-11-13T06:20:42.863Z"
   },
   {
    "duration": 55,
    "start_time": "2021-11-13T06:20:42.890Z"
   },
   {
    "duration": 3,
    "start_time": "2021-11-13T06:20:42.948Z"
   },
   {
    "duration": 5,
    "start_time": "2021-11-13T06:20:42.954Z"
   },
   {
    "duration": 10,
    "start_time": "2021-11-13T06:20:42.961Z"
   },
   {
    "duration": 6,
    "start_time": "2021-11-13T06:20:42.973Z"
   },
   {
    "duration": 47,
    "start_time": "2021-11-13T06:20:42.982Z"
   },
   {
    "duration": 3392,
    "start_time": "2021-11-13T06:21:26.092Z"
   },
   {
    "duration": 5,
    "start_time": "2021-11-13T06:21:29.487Z"
   },
   {
    "duration": 163,
    "start_time": "2021-11-13T06:21:29.494Z"
   },
   {
    "duration": 115,
    "start_time": "2021-11-13T06:21:29.660Z"
   },
   {
    "duration": 77,
    "start_time": "2021-11-13T06:21:29.778Z"
   },
   {
    "duration": 17,
    "start_time": "2021-11-13T06:21:29.857Z"
   },
   {
    "duration": 34,
    "start_time": "2021-11-13T06:21:29.877Z"
   },
   {
    "duration": 17,
    "start_time": "2021-11-13T06:21:29.914Z"
   },
   {
    "duration": 22,
    "start_time": "2021-11-13T06:21:29.934Z"
   },
   {
    "duration": 18,
    "start_time": "2021-11-13T06:21:29.958Z"
   },
   {
    "duration": 19,
    "start_time": "2021-11-13T06:21:29.978Z"
   },
   {
    "duration": 26,
    "start_time": "2021-11-13T06:21:30.000Z"
   },
   {
    "duration": 10,
    "start_time": "2021-11-13T06:21:30.029Z"
   },
   {
    "duration": 23,
    "start_time": "2021-11-13T06:21:31.597Z"
   },
   {
    "duration": 37,
    "start_time": "2021-11-13T06:21:32.106Z"
   },
   {
    "duration": 12,
    "start_time": "2021-11-13T06:21:32.380Z"
   },
   {
    "duration": 19,
    "start_time": "2021-11-13T06:21:32.980Z"
   },
   {
    "duration": 14,
    "start_time": "2021-11-13T06:21:33.203Z"
   },
   {
    "duration": 15,
    "start_time": "2021-11-13T06:21:33.481Z"
   },
   {
    "duration": 51,
    "start_time": "2021-11-13T06:21:33.803Z"
   },
   {
    "duration": 15,
    "start_time": "2021-11-13T06:21:34.037Z"
   },
   {
    "duration": 39,
    "start_time": "2021-11-13T06:21:34.272Z"
   },
   {
    "duration": 13,
    "start_time": "2021-11-13T06:21:34.484Z"
   },
   {
    "duration": 31,
    "start_time": "2021-11-13T06:21:35.262Z"
   },
   {
    "duration": 12,
    "start_time": "2021-11-13T06:21:35.698Z"
   },
   {
    "duration": 6,
    "start_time": "2021-11-13T06:21:36.347Z"
   },
   {
    "duration": 5,
    "start_time": "2021-11-13T06:21:38.164Z"
   },
   {
    "duration": 6,
    "start_time": "2021-11-13T06:22:17.327Z"
   },
   {
    "duration": 6,
    "start_time": "2021-11-13T06:22:20.246Z"
   },
   {
    "duration": 56,
    "start_time": "2021-11-13T06:22:49.684Z"
   },
   {
    "duration": 36,
    "start_time": "2021-11-13T06:23:06.198Z"
   },
   {
    "duration": 11,
    "start_time": "2021-11-13T06:23:06.776Z"
   },
   {
    "duration": 12,
    "start_time": "2021-11-13T06:23:07.259Z"
   },
   {
    "duration": 4,
    "start_time": "2021-11-13T06:23:07.666Z"
   },
   {
    "duration": 11,
    "start_time": "2021-11-13T06:23:08.220Z"
   },
   {
    "duration": 13,
    "start_time": "2021-11-13T06:23:09.038Z"
   },
   {
    "duration": 11,
    "start_time": "2021-11-13T06:23:10.156Z"
   },
   {
    "duration": 35,
    "start_time": "2021-11-13T06:23:11.285Z"
   },
   {
    "duration": 14,
    "start_time": "2021-11-13T06:23:14.260Z"
   },
   {
    "duration": 6,
    "start_time": "2021-11-13T06:23:17.853Z"
   },
   {
    "duration": 18,
    "start_time": "2021-11-13T06:23:23.426Z"
   },
   {
    "duration": 4,
    "start_time": "2021-11-13T06:23:24.348Z"
   },
   {
    "duration": 13,
    "start_time": "2021-11-13T06:23:34.576Z"
   },
   {
    "duration": 15,
    "start_time": "2021-11-13T06:23:35.554Z"
   },
   {
    "duration": 5,
    "start_time": "2021-11-13T06:23:36.627Z"
   },
   {
    "duration": 8,
    "start_time": "2021-11-13T06:23:37.910Z"
   },
   {
    "duration": 9,
    "start_time": "2021-11-13T06:23:40.352Z"
   },
   {
    "duration": 110,
    "start_time": "2021-11-13T06:23:52.204Z"
   },
   {
    "duration": 17,
    "start_time": "2021-11-13T06:23:53.189Z"
   },
   {
    "duration": 47,
    "start_time": "2021-11-13T06:23:58.293Z"
   },
   {
    "duration": 20,
    "start_time": "2021-11-13T06:23:59.590Z"
   },
   {
    "duration": 19,
    "start_time": "2021-11-13T06:24:05.072Z"
   },
   {
    "duration": 42,
    "start_time": "2021-11-13T06:24:05.983Z"
   },
   {
    "duration": 21,
    "start_time": "2021-11-13T06:24:07.206Z"
   },
   {
    "duration": 20,
    "start_time": "2021-11-13T06:24:20.199Z"
   },
   {
    "duration": 24,
    "start_time": "2021-11-13T06:24:59.517Z"
   },
   {
    "duration": 26,
    "start_time": "2021-11-13T06:26:03.048Z"
   },
   {
    "duration": 21,
    "start_time": "2021-11-13T06:26:17.061Z"
   },
   {
    "duration": 3896,
    "start_time": "2021-11-13T06:29:22.685Z"
   },
   {
    "duration": 5,
    "start_time": "2021-11-13T06:29:26.584Z"
   },
   {
    "duration": 165,
    "start_time": "2021-11-13T06:29:26.592Z"
   },
   {
    "duration": 3566,
    "start_time": "2021-11-13T06:59:57.030Z"
   },
   {
    "duration": 4,
    "start_time": "2021-11-13T07:00:00.599Z"
   },
   {
    "duration": 191,
    "start_time": "2021-11-13T07:00:00.606Z"
   },
   {
    "duration": 129,
    "start_time": "2021-11-13T07:00:00.800Z"
   },
   {
    "duration": 84,
    "start_time": "2021-11-13T07:00:00.932Z"
   },
   {
    "duration": 27,
    "start_time": "2021-11-13T07:00:01.018Z"
   },
   {
    "duration": 44,
    "start_time": "2021-11-13T07:00:01.048Z"
   },
   {
    "duration": 43,
    "start_time": "2021-11-13T07:00:01.096Z"
   },
   {
    "duration": 42,
    "start_time": "2021-11-13T07:00:01.143Z"
   },
   {
    "duration": 29,
    "start_time": "2021-11-13T07:00:01.188Z"
   },
   {
    "duration": 12,
    "start_time": "2021-11-13T07:00:02.537Z"
   },
   {
    "duration": 15,
    "start_time": "2021-11-13T07:00:03.263Z"
   },
   {
    "duration": 7,
    "start_time": "2021-11-13T07:00:03.881Z"
   },
   {
    "duration": 22,
    "start_time": "2021-11-13T07:00:05.248Z"
   },
   {
    "duration": 31,
    "start_time": "2021-11-13T07:00:05.485Z"
   },
   {
    "duration": 15,
    "start_time": "2021-11-13T07:00:05.736Z"
   },
   {
    "duration": 21,
    "start_time": "2021-11-13T07:00:06.162Z"
   },
   {
    "duration": 7464,
    "start_time": "2021-11-13T07:00:45.215Z"
   },
   {
    "duration": 10,
    "start_time": "2021-11-13T07:01:13.375Z"
   },
   {
    "duration": 8,
    "start_time": "2021-11-13T07:01:16.738Z"
   },
   {
    "duration": 8,
    "start_time": "2021-11-13T07:01:45.522Z"
   },
   {
    "duration": 340,
    "start_time": "2021-11-13T07:02:03.935Z"
   },
   {
    "duration": 311,
    "start_time": "2021-11-13T07:03:12.922Z"
   },
   {
    "duration": 3419,
    "start_time": "2021-11-13T07:03:36.000Z"
   },
   {
    "duration": 4,
    "start_time": "2021-11-13T07:03:39.423Z"
   },
   {
    "duration": 172,
    "start_time": "2021-11-13T07:03:39.430Z"
   },
   {
    "duration": 122,
    "start_time": "2021-11-13T07:03:39.604Z"
   },
   {
    "duration": 84,
    "start_time": "2021-11-13T07:03:39.728Z"
   },
   {
    "duration": 21,
    "start_time": "2021-11-13T07:03:39.814Z"
   },
   {
    "duration": 35,
    "start_time": "2021-11-13T07:03:39.838Z"
   },
   {
    "duration": 20,
    "start_time": "2021-11-13T07:03:39.876Z"
   },
   {
    "duration": 20,
    "start_time": "2021-11-13T07:03:39.898Z"
   },
   {
    "duration": 42,
    "start_time": "2021-11-13T07:03:39.920Z"
   },
   {
    "duration": 12,
    "start_time": "2021-11-13T07:03:43.732Z"
   },
   {
    "duration": 16,
    "start_time": "2021-11-13T07:03:44.588Z"
   },
   {
    "duration": 9,
    "start_time": "2021-11-13T07:03:45.349Z"
   },
   {
    "duration": 21,
    "start_time": "2021-11-13T07:03:47.192Z"
   },
   {
    "duration": 36,
    "start_time": "2021-11-13T07:03:47.711Z"
   },
   {
    "duration": 11,
    "start_time": "2021-11-13T07:03:48.413Z"
   },
   {
    "duration": 7,
    "start_time": "2021-11-13T07:03:48.901Z"
   },
   {
    "duration": 25,
    "start_time": "2021-11-13T07:03:49.727Z"
   },
   {
    "duration": 10,
    "start_time": "2021-11-13T07:03:51.560Z"
   },
   {
    "duration": 15,
    "start_time": "2021-11-13T07:03:52.233Z"
   },
   {
    "duration": 50,
    "start_time": "2021-11-13T07:03:53.323Z"
   },
   {
    "duration": 17,
    "start_time": "2021-11-13T07:03:55.327Z"
   },
   {
    "duration": 40,
    "start_time": "2021-11-13T07:03:56.448Z"
   },
   {
    "duration": 17,
    "start_time": "2021-11-13T07:03:57.436Z"
   },
   {
    "duration": 30,
    "start_time": "2021-11-13T07:03:57.955Z"
   },
   {
    "duration": 11,
    "start_time": "2021-11-13T07:03:58.578Z"
   },
   {
    "duration": 6,
    "start_time": "2021-11-13T07:04:01.792Z"
   },
   {
    "duration": 5,
    "start_time": "2021-11-13T07:04:02.330Z"
   },
   {
    "duration": 307,
    "start_time": "2021-11-13T07:04:03.101Z"
   },
   {
    "duration": 295,
    "start_time": "2021-11-13T07:04:53.848Z"
   },
   {
    "duration": 43,
    "start_time": "2021-11-13T07:05:28.761Z"
   },
   {
    "duration": 36,
    "start_time": "2021-11-13T07:05:33.167Z"
   },
   {
    "duration": 14,
    "start_time": "2021-11-13T07:05:42.036Z"
   },
   {
    "duration": 11,
    "start_time": "2021-11-13T07:05:43.374Z"
   },
   {
    "duration": 4,
    "start_time": "2021-11-13T07:05:44.254Z"
   },
   {
    "duration": 12,
    "start_time": "2021-11-13T07:05:44.680Z"
   },
   {
    "duration": 11,
    "start_time": "2021-11-13T07:05:45.116Z"
   },
   {
    "duration": 12,
    "start_time": "2021-11-13T07:05:46.064Z"
   },
   {
    "duration": 36,
    "start_time": "2021-11-13T07:05:47.275Z"
   },
   {
    "duration": 19,
    "start_time": "2021-11-13T07:05:51.722Z"
   },
   {
    "duration": 5,
    "start_time": "2021-11-13T07:05:51.744Z"
   },
   {
    "duration": 16,
    "start_time": "2021-11-13T07:05:54.621Z"
   },
   {
    "duration": 7,
    "start_time": "2021-11-13T07:05:55.649Z"
   },
   {
    "duration": 13,
    "start_time": "2021-11-13T07:05:57.745Z"
   },
   {
    "duration": 15,
    "start_time": "2021-11-13T07:05:58.450Z"
   },
   {
    "duration": 7,
    "start_time": "2021-11-13T07:05:59.037Z"
   },
   {
    "duration": 9,
    "start_time": "2021-11-13T07:05:59.315Z"
   },
   {
    "duration": 11,
    "start_time": "2021-11-13T07:06:35.735Z"
   },
   {
    "duration": 127,
    "start_time": "2021-11-13T07:06:44.645Z"
   },
   {
    "duration": 16,
    "start_time": "2021-11-13T07:06:46.595Z"
   },
   {
    "duration": 796,
    "start_time": "2021-11-13T07:08:21.233Z"
   },
   {
    "duration": 288,
    "start_time": "2021-11-13T07:09:44.264Z"
   },
   {
    "duration": 521,
    "start_time": "2021-11-13T07:09:53.911Z"
   },
   {
    "duration": 782,
    "start_time": "2021-11-13T07:10:29.068Z"
   },
   {
    "duration": 522,
    "start_time": "2021-11-13T07:10:41.666Z"
   },
   {
    "duration": 654,
    "start_time": "2021-11-13T07:10:56.773Z"
   },
   {
    "duration": 649,
    "start_time": "2021-11-13T07:11:50.868Z"
   },
   {
    "duration": 497,
    "start_time": "2021-11-13T07:12:32.291Z"
   },
   {
    "duration": 725,
    "start_time": "2021-11-13T07:12:47.914Z"
   },
   {
    "duration": 739,
    "start_time": "2021-11-13T07:12:50.969Z"
   },
   {
    "duration": 653,
    "start_time": "2021-11-13T07:12:53.027Z"
   },
   {
    "duration": 25,
    "start_time": "2021-11-13T07:13:23.949Z"
   },
   {
    "duration": 7,
    "start_time": "2021-11-13T07:13:26.440Z"
   },
   {
    "duration": 647,
    "start_time": "2021-11-13T07:13:30.910Z"
   },
   {
    "duration": 592,
    "start_time": "2021-11-13T07:13:31.560Z"
   },
   {
    "duration": 488,
    "start_time": "2021-11-13T07:13:35.436Z"
   },
   {
    "duration": 6,
    "start_time": "2021-11-13T07:13:37.272Z"
   },
   {
    "duration": 35,
    "start_time": "2021-11-13T07:13:38.512Z"
   },
   {
    "duration": 6,
    "start_time": "2021-11-13T07:13:40.169Z"
   },
   {
    "duration": 12,
    "start_time": "2021-11-13T07:13:40.411Z"
   },
   {
    "duration": 275,
    "start_time": "2021-11-13T07:13:41.500Z"
   },
   {
    "duration": 15,
    "start_time": "2021-11-13T07:13:52.041Z"
   },
   {
    "duration": 929,
    "start_time": "2021-11-13T07:13:52.290Z"
   },
   {
    "duration": 17,
    "start_time": "2021-11-13T07:13:53.222Z"
   },
   {
    "duration": 10,
    "start_time": "2021-11-13T07:13:53.419Z"
   },
   {
    "duration": 7,
    "start_time": "2021-11-13T07:13:54.482Z"
   },
   {
    "duration": 4,
    "start_time": "2021-11-13T07:13:55.539Z"
   },
   {
    "duration": 4,
    "start_time": "2021-11-13T07:13:56.044Z"
   },
   {
    "duration": 7,
    "start_time": "2021-11-13T07:13:56.283Z"
   },
   {
    "duration": 7,
    "start_time": "2021-11-13T07:13:56.511Z"
   },
   {
    "duration": 5,
    "start_time": "2021-11-13T07:13:56.777Z"
   },
   {
    "duration": 16,
    "start_time": "2021-11-13T07:13:59.009Z"
   },
   {
    "duration": 14,
    "start_time": "2021-11-13T07:14:00.469Z"
   },
   {
    "duration": 13,
    "start_time": "2021-11-13T07:14:01.444Z"
   },
   {
    "duration": 29,
    "start_time": "2021-11-13T07:14:02.319Z"
   },
   {
    "duration": 25,
    "start_time": "2021-11-13T07:14:10.705Z"
   },
   {
    "duration": 24,
    "start_time": "2021-11-13T07:14:25.564Z"
   },
   {
    "duration": 24,
    "start_time": "2021-11-13T07:14:28.605Z"
   },
   {
    "duration": 5,
    "start_time": "2021-11-13T07:14:34.289Z"
   },
   {
    "duration": 4,
    "start_time": "2021-11-13T07:14:34.931Z"
   },
   {
    "duration": 7,
    "start_time": "2021-11-13T07:14:35.580Z"
   },
   {
    "duration": 9,
    "start_time": "2021-11-13T07:14:37.930Z"
   },
   {
    "duration": 5,
    "start_time": "2021-11-13T07:14:38.866Z"
   },
   {
    "duration": 3767,
    "start_time": "2021-11-13T07:15:21.658Z"
   },
   {
    "duration": 5,
    "start_time": "2021-11-13T07:15:25.428Z"
   },
   {
    "duration": 174,
    "start_time": "2021-11-13T07:15:25.436Z"
   },
   {
    "duration": 111,
    "start_time": "2021-11-13T07:15:25.613Z"
   },
   {
    "duration": 72,
    "start_time": "2021-11-13T07:15:25.726Z"
   },
   {
    "duration": 17,
    "start_time": "2021-11-13T07:15:25.800Z"
   },
   {
    "duration": 47,
    "start_time": "2021-11-13T07:15:25.819Z"
   },
   {
    "duration": 14,
    "start_time": "2021-11-13T07:15:27.118Z"
   },
   {
    "duration": 17,
    "start_time": "2021-11-13T07:15:28.165Z"
   },
   {
    "duration": 7,
    "start_time": "2021-11-13T07:15:29.036Z"
   },
   {
    "duration": 9,
    "start_time": "2021-11-13T07:15:38.913Z"
   },
   {
    "duration": 16,
    "start_time": "2021-11-13T07:15:39.777Z"
   },
   {
    "duration": 9,
    "start_time": "2021-11-13T07:15:42.297Z"
   },
   {
    "duration": 21,
    "start_time": "2021-11-13T07:16:05.058Z"
   },
   {
    "duration": 33,
    "start_time": "2021-11-13T07:16:05.791Z"
   },
   {
    "duration": 12,
    "start_time": "2021-11-13T07:16:06.971Z"
   },
   {
    "duration": 8,
    "start_time": "2021-11-13T07:16:08.637Z"
   },
   {
    "duration": 19,
    "start_time": "2021-11-13T07:16:11.111Z"
   },
   {
    "duration": 11,
    "start_time": "2021-11-13T07:16:12.107Z"
   },
   {
    "duration": 16,
    "start_time": "2021-11-13T07:16:13.044Z"
   },
   {
    "duration": 49,
    "start_time": "2021-11-13T07:16:14.447Z"
   },
   {
    "duration": 13,
    "start_time": "2021-11-13T07:16:15.011Z"
   },
   {
    "duration": 49,
    "start_time": "2021-11-13T07:16:15.711Z"
   },
   {
    "duration": 13,
    "start_time": "2021-11-13T07:16:16.019Z"
   },
   {
    "duration": 32,
    "start_time": "2021-11-13T07:16:16.311Z"
   },
   {
    "duration": 15,
    "start_time": "2021-11-13T07:16:16.530Z"
   },
   {
    "duration": 5,
    "start_time": "2021-11-13T07:16:19.989Z"
   },
   {
    "duration": 5,
    "start_time": "2021-11-13T07:16:23.169Z"
   },
   {
    "duration": 52,
    "start_time": "2021-11-13T07:16:26.223Z"
   },
   {
    "duration": 36,
    "start_time": "2021-11-13T07:16:27.656Z"
   },
   {
    "duration": 12,
    "start_time": "2021-11-13T07:16:28.735Z"
   },
   {
    "duration": 10,
    "start_time": "2021-11-13T07:16:30.854Z"
   },
   {
    "duration": 6,
    "start_time": "2021-11-13T07:16:31.935Z"
   },
   {
    "duration": 11,
    "start_time": "2021-11-13T07:16:33.278Z"
   },
   {
    "duration": 12,
    "start_time": "2021-11-13T07:16:34.144Z"
   },
   {
    "duration": 14,
    "start_time": "2021-11-13T07:16:35.223Z"
   },
   {
    "duration": 36,
    "start_time": "2021-11-13T07:16:36.046Z"
   },
   {
    "duration": 15,
    "start_time": "2021-11-13T07:16:38.356Z"
   },
   {
    "duration": 5,
    "start_time": "2021-11-13T07:16:43.227Z"
   },
   {
    "duration": 13,
    "start_time": "2021-11-13T07:16:48.829Z"
   },
   {
    "duration": 4,
    "start_time": "2021-11-13T07:16:50.511Z"
   },
   {
    "duration": 11,
    "start_time": "2021-11-13T07:16:55.589Z"
   },
   {
    "duration": 14,
    "start_time": "2021-11-13T07:17:03.588Z"
   },
   {
    "duration": 5,
    "start_time": "2021-11-13T07:17:04.486Z"
   },
   {
    "duration": 10,
    "start_time": "2021-11-13T07:17:05.483Z"
   },
   {
    "duration": 8,
    "start_time": "2021-11-13T07:17:08.120Z"
   },
   {
    "duration": 122,
    "start_time": "2021-11-13T07:17:09.295Z"
   },
   {
    "duration": 16,
    "start_time": "2021-11-13T07:17:09.594Z"
   },
   {
    "duration": 44,
    "start_time": "2021-11-13T07:17:12.746Z"
   },
   {
    "duration": 23,
    "start_time": "2021-11-13T07:17:13.920Z"
   },
   {
    "duration": 21,
    "start_time": "2021-11-13T07:17:15.834Z"
   },
   {
    "duration": 44,
    "start_time": "2021-11-13T07:17:16.106Z"
   },
   {
    "duration": 20,
    "start_time": "2021-11-13T07:17:16.948Z"
   },
   {
    "duration": 535,
    "start_time": "2021-11-13T07:17:20.307Z"
   },
   {
    "duration": 605,
    "start_time": "2021-11-13T07:17:22.018Z"
   },
   {
    "duration": 21,
    "start_time": "2021-11-13T07:17:22.657Z"
   },
   {
    "duration": 661,
    "start_time": "2021-11-13T07:17:24.222Z"
   },
   {
    "duration": 21,
    "start_time": "2021-11-13T07:17:25.056Z"
   },
   {
    "duration": 564,
    "start_time": "2021-11-13T07:17:26.729Z"
   },
   {
    "duration": 610,
    "start_time": "2021-11-13T07:17:28.874Z"
   },
   {
    "duration": 869,
    "start_time": "2021-11-13T07:17:30.113Z"
   },
   {
    "duration": 650,
    "start_time": "2021-11-13T07:17:30.986Z"
   },
   {
    "duration": 28,
    "start_time": "2021-11-13T07:17:31.640Z"
   },
   {
    "duration": 7,
    "start_time": "2021-11-13T07:17:31.686Z"
   },
   {
    "duration": 508,
    "start_time": "2021-11-13T07:17:32.466Z"
   },
   {
    "duration": 701,
    "start_time": "2021-11-13T07:17:35.307Z"
   },
   {
    "duration": 504,
    "start_time": "2021-11-13T07:17:36.264Z"
   },
   {
    "duration": 6,
    "start_time": "2021-11-13T07:17:38.157Z"
   },
   {
    "duration": 29,
    "start_time": "2021-11-13T07:17:58.383Z"
   },
   {
    "duration": 6,
    "start_time": "2021-11-13T07:18:27.456Z"
   },
   {
    "duration": 12,
    "start_time": "2021-11-13T07:18:28.723Z"
   },
   {
    "duration": 289,
    "start_time": "2021-11-13T07:18:41.208Z"
   },
   {
    "duration": 14,
    "start_time": "2021-11-13T07:18:54.702Z"
   },
   {
    "duration": 944,
    "start_time": "2021-11-13T07:19:01.064Z"
   },
   {
    "duration": 9,
    "start_time": "2021-11-13T07:19:03.196Z"
   },
   {
    "duration": 7,
    "start_time": "2021-11-13T07:19:03.596Z"
   },
   {
    "duration": 8,
    "start_time": "2021-11-13T07:19:08.266Z"
   },
   {
    "duration": 4,
    "start_time": "2021-11-13T07:19:09.259Z"
   },
   {
    "duration": 5,
    "start_time": "2021-11-13T07:19:09.933Z"
   },
   {
    "duration": 8,
    "start_time": "2021-11-13T07:19:10.349Z"
   },
   {
    "duration": 7,
    "start_time": "2021-11-13T07:19:10.799Z"
   },
   {
    "duration": 6,
    "start_time": "2021-11-13T07:19:11.392Z"
   },
   {
    "duration": 16,
    "start_time": "2021-11-13T07:19:17.871Z"
   },
   {
    "duration": 18,
    "start_time": "2021-11-13T07:19:18.650Z"
   },
   {
    "duration": 14,
    "start_time": "2021-11-13T07:19:19.447Z"
   },
   {
    "duration": 25,
    "start_time": "2021-11-13T07:19:20.039Z"
   },
   {
    "duration": 23,
    "start_time": "2021-11-13T07:19:23.095Z"
   },
   {
    "duration": 4,
    "start_time": "2021-11-13T07:19:25.225Z"
   },
   {
    "duration": 4,
    "start_time": "2021-11-13T07:19:26.002Z"
   },
   {
    "duration": 7,
    "start_time": "2021-11-13T07:19:26.698Z"
   },
   {
    "duration": 6,
    "start_time": "2021-11-13T07:19:26.964Z"
   },
   {
    "duration": 6,
    "start_time": "2021-11-13T07:19:29.238Z"
   },
   {
    "duration": 3578,
    "start_time": "2021-11-13T07:24:28.885Z"
   },
   {
    "duration": 5,
    "start_time": "2021-11-13T07:24:32.467Z"
   },
   {
    "duration": 179,
    "start_time": "2021-11-13T07:24:32.475Z"
   },
   {
    "duration": 117,
    "start_time": "2021-11-13T07:24:32.657Z"
   },
   {
    "duration": 85,
    "start_time": "2021-11-13T07:24:32.777Z"
   },
   {
    "duration": 18,
    "start_time": "2021-11-13T07:24:32.864Z"
   },
   {
    "duration": 42,
    "start_time": "2021-11-13T07:24:32.885Z"
   },
   {
    "duration": 17,
    "start_time": "2021-11-13T07:24:33.423Z"
   },
   {
    "duration": 15,
    "start_time": "2021-11-13T07:24:33.674Z"
   },
   {
    "duration": 6,
    "start_time": "2021-11-13T07:24:33.878Z"
   },
   {
    "duration": 9,
    "start_time": "2021-11-13T07:24:34.536Z"
   },
   {
    "duration": 17,
    "start_time": "2021-11-13T07:24:34.775Z"
   },
   {
    "duration": 7,
    "start_time": "2021-11-13T07:24:34.991Z"
   },
   {
    "duration": 22,
    "start_time": "2021-11-13T07:24:36.723Z"
   },
   {
    "duration": 32,
    "start_time": "2021-11-13T07:24:37.503Z"
   },
   {
    "duration": 12,
    "start_time": "2021-11-13T07:24:37.758Z"
   },
   {
    "duration": 7,
    "start_time": "2021-11-13T07:24:37.965Z"
   },
   {
    "duration": 20,
    "start_time": "2021-11-13T07:25:48.074Z"
   },
   {
    "duration": 11,
    "start_time": "2021-11-13T07:25:48.992Z"
   },
   {
    "duration": 21,
    "start_time": "2021-11-13T07:25:50.031Z"
   },
   {
    "duration": 50,
    "start_time": "2021-11-13T07:25:50.333Z"
   },
   {
    "duration": 14,
    "start_time": "2021-11-13T07:25:51.985Z"
   },
   {
    "duration": 44,
    "start_time": "2021-11-13T07:25:52.003Z"
   },
   {
    "duration": 13,
    "start_time": "2021-11-13T07:25:52.051Z"
   },
   {
    "duration": 34,
    "start_time": "2021-11-13T07:25:52.067Z"
   },
   {
    "duration": 32,
    "start_time": "2021-11-13T07:25:52.104Z"
   },
   {
    "duration": 6,
    "start_time": "2021-11-13T07:25:52.207Z"
   },
   {
    "duration": 4,
    "start_time": "2021-11-13T07:25:54.401Z"
   },
   {
    "duration": 55,
    "start_time": "2021-11-13T07:25:55.238Z"
   },
   {
    "duration": 34,
    "start_time": "2021-11-13T07:25:56.405Z"
   },
   {
    "duration": 13,
    "start_time": "2021-11-13T07:25:56.580Z"
   },
   {
    "duration": 11,
    "start_time": "2021-11-13T07:25:56.802Z"
   },
   {
    "duration": 4,
    "start_time": "2021-11-13T07:25:57.671Z"
   },
   {
    "duration": 11,
    "start_time": "2021-11-13T07:25:57.888Z"
   },
   {
    "duration": 12,
    "start_time": "2021-11-13T07:25:58.120Z"
   },
   {
    "duration": 12,
    "start_time": "2021-11-13T07:25:58.282Z"
   },
   {
    "duration": 37,
    "start_time": "2021-11-13T07:25:58.868Z"
   },
   {
    "duration": 15,
    "start_time": "2021-11-13T07:25:59.210Z"
   },
   {
    "duration": 5,
    "start_time": "2021-11-13T07:25:59.557Z"
   },
   {
    "duration": 13,
    "start_time": "2021-11-13T07:25:59.875Z"
   },
   {
    "duration": 15,
    "start_time": "2021-11-13T07:26:00.071Z"
   },
   {
    "duration": 12,
    "start_time": "2021-11-13T07:26:00.773Z"
   },
   {
    "duration": 17,
    "start_time": "2021-11-13T07:26:00.937Z"
   },
   {
    "duration": 6,
    "start_time": "2021-11-13T07:26:01.133Z"
   },
   {
    "duration": 9,
    "start_time": "2021-11-13T07:26:01.284Z"
   },
   {
    "duration": 9,
    "start_time": "2021-11-13T07:26:01.819Z"
   },
   {
    "duration": 139,
    "start_time": "2021-11-13T07:26:02.126Z"
   },
   {
    "duration": 17,
    "start_time": "2021-11-13T07:26:02.300Z"
   },
   {
    "duration": 43,
    "start_time": "2021-11-13T07:26:02.847Z"
   },
   {
    "duration": 20,
    "start_time": "2021-11-13T07:26:03.066Z"
   },
   {
    "duration": 18,
    "start_time": "2021-11-13T07:26:03.399Z"
   },
   {
    "duration": 43,
    "start_time": "2021-11-13T07:26:03.647Z"
   },
   {
    "duration": 24,
    "start_time": "2021-11-13T07:26:04.007Z"
   },
   {
    "duration": 570,
    "start_time": "2021-11-13T07:26:04.922Z"
   },
   {
    "duration": 638,
    "start_time": "2021-11-13T07:26:05.495Z"
   },
   {
    "duration": 24,
    "start_time": "2021-11-13T07:26:06.136Z"
   },
   {
    "duration": 526,
    "start_time": "2021-11-13T07:26:06.592Z"
   },
   {
    "duration": 21,
    "start_time": "2021-11-13T07:26:07.791Z"
   },
   {
    "duration": 709,
    "start_time": "2021-11-13T07:26:08.367Z"
   },
   {
    "duration": 625,
    "start_time": "2021-11-13T07:26:09.298Z"
   },
   {
    "duration": 784,
    "start_time": "2021-11-13T07:26:09.929Z"
   },
   {
    "duration": 650,
    "start_time": "2021-11-13T07:26:10.717Z"
   },
   {
    "duration": 24,
    "start_time": "2021-11-13T07:26:11.369Z"
   },
   {
    "duration": 18,
    "start_time": "2021-11-13T07:26:11.395Z"
   },
   {
    "duration": 524,
    "start_time": "2021-11-13T07:26:11.416Z"
   },
   {
    "duration": 578,
    "start_time": "2021-11-13T07:26:11.943Z"
   },
   {
    "duration": 605,
    "start_time": "2021-11-13T07:26:12.531Z"
   },
   {
    "duration": 7,
    "start_time": "2021-11-13T07:26:13.139Z"
   },
   {
    "duration": 44,
    "start_time": "2021-11-13T07:26:13.149Z"
   },
   {
    "duration": 7,
    "start_time": "2021-11-13T07:26:13.196Z"
   },
   {
    "duration": 38,
    "start_time": "2021-11-13T07:26:13.206Z"
   },
   {
    "duration": 294,
    "start_time": "2021-11-13T07:26:13.526Z"
   },
   {
    "duration": 13,
    "start_time": "2021-11-13T07:26:15.700Z"
   },
   {
    "duration": 923,
    "start_time": "2021-11-13T07:26:15.944Z"
   },
   {
    "duration": 9,
    "start_time": "2021-11-13T07:26:16.870Z"
   },
   {
    "duration": 10,
    "start_time": "2021-11-13T07:26:16.899Z"
   },
   {
    "duration": 7,
    "start_time": "2021-11-13T07:26:17.515Z"
   },
   {
    "duration": 5,
    "start_time": "2021-11-13T07:26:17.802Z"
   },
   {
    "duration": 4,
    "start_time": "2021-11-13T07:26:18.002Z"
   },
   {
    "duration": 8,
    "start_time": "2021-11-13T07:26:18.183Z"
   },
   {
    "duration": 8,
    "start_time": "2021-11-13T07:26:18.421Z"
   },
   {
    "duration": 5,
    "start_time": "2021-11-13T07:26:18.562Z"
   },
   {
    "duration": 16,
    "start_time": "2021-11-13T07:26:19.110Z"
   },
   {
    "duration": 14,
    "start_time": "2021-11-13T07:26:19.396Z"
   },
   {
    "duration": 12,
    "start_time": "2021-11-13T07:26:19.589Z"
   },
   {
    "duration": 24,
    "start_time": "2021-11-13T07:26:19.942Z"
   },
   {
    "duration": 26,
    "start_time": "2021-11-13T07:26:20.544Z"
   },
   {
    "duration": 3,
    "start_time": "2021-11-13T07:26:20.905Z"
   },
   {
    "duration": 4,
    "start_time": "2021-11-13T07:26:21.104Z"
   },
   {
    "duration": 8,
    "start_time": "2021-11-13T07:26:21.447Z"
   },
   {
    "duration": 6,
    "start_time": "2021-11-13T07:26:21.665Z"
   },
   {
    "duration": 5,
    "start_time": "2021-11-13T07:26:24.253Z"
   },
   {
    "duration": 336,
    "start_time": "2021-11-13T19:18:29.374Z"
   },
   {
    "duration": 73783,
    "start_time": "2021-11-13T19:18:33.428Z"
   },
   {
    "duration": 1443,
    "start_time": "2021-11-13T19:19:47.214Z"
   },
   {
    "duration": 148,
    "start_time": "2021-11-13T19:19:48.660Z"
   },
   {
    "duration": 125,
    "start_time": "2021-11-13T19:19:48.810Z"
   },
   {
    "duration": 75,
    "start_time": "2021-11-13T19:19:48.937Z"
   },
   {
    "duration": 19,
    "start_time": "2021-11-13T19:19:49.015Z"
   },
   {
    "duration": 35,
    "start_time": "2021-11-13T19:19:49.036Z"
   },
   {
    "duration": 17,
    "start_time": "2021-11-13T19:19:49.073Z"
   },
   {
    "duration": 15,
    "start_time": "2021-11-13T19:19:49.094Z"
   },
   {
    "duration": 10,
    "start_time": "2021-11-13T19:19:49.112Z"
   },
   {
    "duration": 24,
    "start_time": "2021-11-13T19:19:49.125Z"
   },
   {
    "duration": 19,
    "start_time": "2021-11-13T19:19:49.152Z"
   },
   {
    "duration": 7,
    "start_time": "2021-11-13T19:19:49.174Z"
   },
   {
    "duration": 45,
    "start_time": "2021-11-13T19:19:49.184Z"
   },
   {
    "duration": 33,
    "start_time": "2021-11-13T19:19:49.232Z"
   },
   {
    "duration": 13,
    "start_time": "2021-11-13T19:19:49.268Z"
   },
   {
    "duration": 41,
    "start_time": "2021-11-13T19:19:49.284Z"
   },
   {
    "duration": 20,
    "start_time": "2021-11-13T19:19:49.328Z"
   },
   {
    "duration": 11,
    "start_time": "2021-11-13T19:19:49.351Z"
   },
   {
    "duration": 18,
    "start_time": "2021-11-13T19:19:49.364Z"
   },
   {
    "duration": 87,
    "start_time": "2021-11-13T19:19:49.384Z"
   },
   {
    "duration": 15,
    "start_time": "2021-11-13T19:19:49.473Z"
   },
   {
    "duration": 68,
    "start_time": "2021-11-13T19:19:49.491Z"
   },
   {
    "duration": 14,
    "start_time": "2021-11-13T19:19:49.562Z"
   },
   {
    "duration": 73,
    "start_time": "2021-11-13T19:19:49.579Z"
   },
   {
    "duration": 23,
    "start_time": "2021-11-13T19:19:49.655Z"
   },
   {
    "duration": 7,
    "start_time": "2021-11-13T19:19:49.688Z"
   },
   {
    "duration": 27,
    "start_time": "2021-11-13T19:19:49.700Z"
   },
   {
    "duration": 106,
    "start_time": "2021-11-13T19:19:49.730Z"
   },
   {
    "duration": 50,
    "start_time": "2021-11-13T19:19:49.840Z"
   },
   {
    "duration": 29,
    "start_time": "2021-11-13T19:19:49.893Z"
   },
   {
    "duration": 14,
    "start_time": "2021-11-13T19:19:49.925Z"
   },
   {
    "duration": 5,
    "start_time": "2021-11-13T19:19:49.942Z"
   },
   {
    "duration": 15,
    "start_time": "2021-11-13T19:19:49.950Z"
   },
   {
    "duration": 56,
    "start_time": "2021-11-13T19:19:49.967Z"
   },
   {
    "duration": 17,
    "start_time": "2021-11-13T19:19:50.025Z"
   },
   {
    "duration": 38,
    "start_time": "2021-11-13T19:19:50.044Z"
   },
   {
    "duration": 15,
    "start_time": "2021-11-13T19:19:50.084Z"
   },
   {
    "duration": 11,
    "start_time": "2021-11-13T19:19:50.123Z"
   },
   {
    "duration": 13,
    "start_time": "2021-11-13T19:19:50.137Z"
   },
   {
    "duration": 4,
    "start_time": "2021-11-13T19:19:50.152Z"
   },
   {
    "duration": 14,
    "start_time": "2021-11-13T19:19:50.159Z"
   },
   {
    "duration": 49,
    "start_time": "2021-11-13T19:19:50.175Z"
   },
   {
    "duration": 6,
    "start_time": "2021-11-13T19:19:50.226Z"
   },
   {
    "duration": 14,
    "start_time": "2021-11-13T19:19:50.235Z"
   },
   {
    "duration": 9,
    "start_time": "2021-11-13T19:19:50.251Z"
   },
   {
    "duration": 8,
    "start_time": "2021-11-13T19:19:50.262Z"
   },
   {
    "duration": 153,
    "start_time": "2021-11-13T19:19:50.272Z"
   },
   {
    "duration": 18,
    "start_time": "2021-11-13T19:19:50.427Z"
   },
   {
    "duration": 43,
    "start_time": "2021-11-13T19:19:50.447Z"
   },
   {
    "duration": 43,
    "start_time": "2021-11-13T19:19:50.492Z"
   },
   {
    "duration": 16,
    "start_time": "2021-11-13T19:19:50.537Z"
   },
   {
    "duration": 42,
    "start_time": "2021-11-13T19:19:50.555Z"
   },
   {
    "duration": 20,
    "start_time": "2021-11-13T19:19:50.623Z"
   },
   {
    "duration": 531,
    "start_time": "2021-11-13T19:19:50.645Z"
   },
   {
    "duration": 730,
    "start_time": "2021-11-13T19:19:51.179Z"
   },
   {
    "duration": 30,
    "start_time": "2021-11-13T19:19:51.912Z"
   },
   {
    "duration": 798,
    "start_time": "2021-11-13T19:19:51.946Z"
   },
   {
    "duration": 21,
    "start_time": "2021-11-13T19:19:52.747Z"
   },
   {
    "duration": 531,
    "start_time": "2021-11-13T19:19:52.770Z"
   },
   {
    "duration": 54,
    "start_time": "2021-11-13T19:19:53.304Z"
   },
   {
    "duration": 376,
    "start_time": "2021-11-13T19:25:26.175Z"
   },
   {
    "duration": 475,
    "start_time": "2021-11-13T19:25:51.903Z"
   },
   {
    "duration": 100,
    "start_time": "2021-11-13T19:26:22.424Z"
   },
   {
    "duration": 63681,
    "start_time": "2021-11-13T19:27:43.372Z"
   },
   {
    "duration": 4,
    "start_time": "2021-11-13T19:28:47.056Z"
   },
   {
    "duration": 151,
    "start_time": "2021-11-13T19:28:47.063Z"
   },
   {
    "duration": 123,
    "start_time": "2021-11-13T19:28:47.217Z"
   },
   {
    "duration": 77,
    "start_time": "2021-11-13T19:28:47.342Z"
   },
   {
    "duration": 20,
    "start_time": "2021-11-13T19:28:47.421Z"
   },
   {
    "duration": 34,
    "start_time": "2021-11-13T19:28:47.443Z"
   },
   {
    "duration": 13,
    "start_time": "2021-11-13T19:28:47.480Z"
   },
   {
    "duration": 19,
    "start_time": "2021-11-13T19:28:47.497Z"
   },
   {
    "duration": 8,
    "start_time": "2021-11-13T19:28:47.519Z"
   },
   {
    "duration": 11,
    "start_time": "2021-11-13T19:28:47.529Z"
   },
   {
    "duration": 17,
    "start_time": "2021-11-13T19:28:47.543Z"
   },
   {
    "duration": 7,
    "start_time": "2021-11-13T19:28:47.563Z"
   },
   {
    "duration": 27,
    "start_time": "2021-11-13T19:28:47.572Z"
   },
   {
    "duration": 36,
    "start_time": "2021-11-13T19:28:47.601Z"
   },
   {
    "duration": 11,
    "start_time": "2021-11-13T19:28:47.639Z"
   },
   {
    "duration": 7,
    "start_time": "2021-11-13T19:28:47.652Z"
   },
   {
    "duration": 23,
    "start_time": "2021-11-13T19:28:47.662Z"
   },
   {
    "duration": 47,
    "start_time": "2021-11-13T19:28:47.688Z"
   },
   {
    "duration": 25,
    "start_time": "2021-11-13T19:28:47.738Z"
   },
   {
    "duration": 187,
    "start_time": "2021-11-13T19:28:47.766Z"
   },
   {
    "duration": 70,
    "start_time": "2021-11-13T19:28:47.956Z"
   },
   {
    "duration": 108,
    "start_time": "2021-11-13T19:28:48.029Z"
   },
   {
    "duration": 12,
    "start_time": "2021-11-13T19:28:48.140Z"
   },
   {
    "duration": 80,
    "start_time": "2021-11-13T19:28:48.154Z"
   },
   {
    "duration": 11,
    "start_time": "2021-11-13T19:28:48.236Z"
   },
   {
    "duration": 4,
    "start_time": "2021-11-13T19:28:48.255Z"
   },
   {
    "duration": 5,
    "start_time": "2021-11-13T19:28:48.263Z"
   },
   {
    "duration": 76,
    "start_time": "2021-11-13T19:28:48.270Z"
   },
   {
    "duration": 31,
    "start_time": "2021-11-13T19:28:48.349Z"
   },
   {
    "duration": 10,
    "start_time": "2021-11-13T19:28:48.382Z"
   },
   {
    "duration": 10,
    "start_time": "2021-11-13T19:28:48.395Z"
   },
   {
    "duration": 4,
    "start_time": "2021-11-13T19:28:48.407Z"
   },
   {
    "duration": 11,
    "start_time": "2021-11-13T19:28:48.422Z"
   },
   {
    "duration": 11,
    "start_time": "2021-11-13T19:28:48.436Z"
   },
   {
    "duration": 12,
    "start_time": "2021-11-13T19:28:48.450Z"
   },
   {
    "duration": 71,
    "start_time": "2021-11-13T19:28:48.465Z"
   },
   {
    "duration": 14,
    "start_time": "2021-11-13T19:28:48.538Z"
   },
   {
    "duration": 10,
    "start_time": "2021-11-13T19:28:48.554Z"
   },
   {
    "duration": 57,
    "start_time": "2021-11-13T19:28:48.566Z"
   },
   {
    "duration": 4,
    "start_time": "2021-11-13T19:28:48.626Z"
   },
   {
    "duration": 15,
    "start_time": "2021-11-13T19:28:48.632Z"
   },
   {
    "duration": 14,
    "start_time": "2021-11-13T19:28:48.649Z"
   },
   {
    "duration": 10,
    "start_time": "2021-11-13T19:28:48.665Z"
   },
   {
    "duration": 7,
    "start_time": "2021-11-13T19:28:48.677Z"
   },
   {
    "duration": 8,
    "start_time": "2021-11-13T19:28:48.687Z"
   },
   {
    "duration": 8,
    "start_time": "2021-11-13T19:28:48.722Z"
   },
   {
    "duration": 119,
    "start_time": "2021-11-13T19:28:48.733Z"
   },
   {
    "duration": 20,
    "start_time": "2021-11-13T19:28:48.855Z"
   },
   {
    "duration": 56,
    "start_time": "2021-11-13T19:28:48.877Z"
   },
   {
    "duration": 22,
    "start_time": "2021-11-13T19:28:48.936Z"
   },
   {
    "duration": 16,
    "start_time": "2021-11-13T19:28:48.960Z"
   },
   {
    "duration": 52,
    "start_time": "2021-11-13T19:28:48.978Z"
   },
   {
    "duration": 19,
    "start_time": "2021-11-13T19:28:49.032Z"
   },
   {
    "duration": 494,
    "start_time": "2021-11-13T19:28:49.053Z"
   },
   {
    "duration": 895,
    "start_time": "2021-11-13T19:28:49.550Z"
   },
   {
    "duration": 21,
    "start_time": "2021-11-13T19:28:50.447Z"
   },
   {
    "duration": 501,
    "start_time": "2021-11-13T19:28:50.470Z"
   },
   {
    "duration": 21,
    "start_time": "2021-11-13T19:28:50.973Z"
   },
   {
    "duration": 513,
    "start_time": "2021-11-13T19:28:50.996Z"
   },
   {
    "duration": 52,
    "start_time": "2021-11-13T19:28:51.512Z"
   },
   {
    "duration": 117,
    "start_time": "2021-11-13T19:28:51.566Z"
   },
   {
    "duration": 565,
    "start_time": "2021-11-13T19:28:51.686Z"
   },
   {
    "duration": 785,
    "start_time": "2021-11-13T19:28:52.254Z"
   },
   {
    "duration": 563,
    "start_time": "2021-11-13T19:28:53.041Z"
   },
   {
    "duration": 32,
    "start_time": "2021-11-13T19:28:53.606Z"
   },
   {
    "duration": 6,
    "start_time": "2021-11-13T19:28:53.641Z"
   },
   {
    "duration": 473,
    "start_time": "2021-11-13T19:28:53.649Z"
   },
   {
    "duration": 544,
    "start_time": "2021-11-13T19:28:54.125Z"
   },
   {
    "duration": 587,
    "start_time": "2021-11-13T19:28:54.672Z"
   },
   {
    "duration": 6,
    "start_time": "2021-11-13T19:28:55.261Z"
   },
   {
    "duration": 28,
    "start_time": "2021-11-13T19:28:55.270Z"
   },
   {
    "duration": 7,
    "start_time": "2021-11-13T19:28:55.322Z"
   },
   {
    "duration": 11,
    "start_time": "2021-11-13T19:28:55.331Z"
   },
   {
    "duration": 294,
    "start_time": "2021-11-13T19:28:55.344Z"
   },
   {
    "duration": 13,
    "start_time": "2021-11-13T19:28:55.640Z"
   },
   {
    "duration": 915,
    "start_time": "2021-11-13T19:28:55.656Z"
   },
   {
    "duration": 9,
    "start_time": "2021-11-13T19:28:56.573Z"
   },
   {
    "duration": 8,
    "start_time": "2021-11-13T19:28:56.584Z"
   },
   {
    "duration": 30,
    "start_time": "2021-11-13T19:28:56.594Z"
   },
   {
    "duration": 4,
    "start_time": "2021-11-13T19:28:56.631Z"
   },
   {
    "duration": 4,
    "start_time": "2021-11-13T19:28:56.637Z"
   },
   {
    "duration": 11,
    "start_time": "2021-11-13T19:28:56.643Z"
   },
   {
    "duration": 7,
    "start_time": "2021-11-13T19:28:56.656Z"
   },
   {
    "duration": 7,
    "start_time": "2021-11-13T19:28:56.665Z"
   },
   {
    "duration": 55,
    "start_time": "2021-11-13T19:28:56.674Z"
   },
   {
    "duration": 14,
    "start_time": "2021-11-13T19:28:56.731Z"
   },
   {
    "duration": 11,
    "start_time": "2021-11-13T19:28:56.747Z"
   },
   {
    "duration": 135,
    "start_time": "2021-11-13T19:28:56.760Z"
   },
   {
    "duration": 36,
    "start_time": "2021-11-13T19:28:56.897Z"
   },
   {
    "duration": 3,
    "start_time": "2021-11-13T19:28:56.935Z"
   },
   {
    "duration": 6,
    "start_time": "2021-11-13T19:28:56.940Z"
   },
   {
    "duration": 11,
    "start_time": "2021-11-13T19:28:56.948Z"
   },
   {
    "duration": 6,
    "start_time": "2021-11-13T19:28:56.961Z"
   },
   {
    "duration": 5,
    "start_time": "2021-11-13T19:28:56.969Z"
   },
   {
    "duration": 20,
    "start_time": "2021-11-13T19:30:02.272Z"
   },
   {
    "duration": 5,
    "start_time": "2021-11-13T19:31:01.534Z"
   },
   {
    "duration": 69934,
    "start_time": "2021-11-13T19:36:08.620Z"
   },
   {
    "duration": 5,
    "start_time": "2021-11-13T19:37:18.557Z"
   },
   {
    "duration": 155,
    "start_time": "2021-11-13T19:37:18.565Z"
   },
   {
    "duration": 129,
    "start_time": "2021-11-13T19:37:18.722Z"
   },
   {
    "duration": 77,
    "start_time": "2021-11-13T19:37:18.854Z"
   },
   {
    "duration": 19,
    "start_time": "2021-11-13T19:37:18.934Z"
   },
   {
    "duration": 47,
    "start_time": "2021-11-13T19:37:18.956Z"
   },
   {
    "duration": 15,
    "start_time": "2021-11-13T19:37:19.005Z"
   },
   {
    "duration": 20,
    "start_time": "2021-11-13T19:37:19.024Z"
   },
   {
    "duration": 13,
    "start_time": "2021-11-13T19:37:19.047Z"
   },
   {
    "duration": 22,
    "start_time": "2021-11-13T19:37:19.063Z"
   },
   {
    "duration": 32,
    "start_time": "2021-11-13T19:37:19.088Z"
   },
   {
    "duration": 7,
    "start_time": "2021-11-13T19:37:19.123Z"
   },
   {
    "duration": 23,
    "start_time": "2021-11-13T19:37:19.132Z"
   },
   {
    "duration": 33,
    "start_time": "2021-11-13T19:37:19.158Z"
   },
   {
    "duration": 10,
    "start_time": "2021-11-13T19:37:19.194Z"
   },
   {
    "duration": 15,
    "start_time": "2021-11-13T19:37:19.207Z"
   },
   {
    "duration": 17,
    "start_time": "2021-11-13T19:37:19.224Z"
   },
   {
    "duration": 21,
    "start_time": "2021-11-13T19:37:19.243Z"
   },
   {
    "duration": 16,
    "start_time": "2021-11-13T19:37:19.267Z"
   },
   {
    "duration": 55,
    "start_time": "2021-11-13T19:37:19.286Z"
   },
   {
    "duration": 13,
    "start_time": "2021-11-13T19:37:19.343Z"
   },
   {
    "duration": 51,
    "start_time": "2021-11-13T19:37:19.359Z"
   },
   {
    "duration": 12,
    "start_time": "2021-11-13T19:37:19.413Z"
   },
   {
    "duration": 31,
    "start_time": "2021-11-13T19:37:19.428Z"
   },
   {
    "duration": 12,
    "start_time": "2021-11-13T19:37:19.461Z"
   },
   {
    "duration": 5,
    "start_time": "2021-11-13T19:37:19.480Z"
   },
   {
    "duration": 6,
    "start_time": "2021-11-13T19:37:19.489Z"
   },
   {
    "duration": 58,
    "start_time": "2021-11-13T19:37:19.497Z"
   },
   {
    "duration": 35,
    "start_time": "2021-11-13T19:37:19.558Z"
   },
   {
    "duration": 11,
    "start_time": "2021-11-13T19:37:19.623Z"
   },
   {
    "duration": 18,
    "start_time": "2021-11-13T19:37:19.637Z"
   },
   {
    "duration": 10,
    "start_time": "2021-11-13T19:37:19.657Z"
   },
   {
    "duration": 59,
    "start_time": "2021-11-13T19:37:19.670Z"
   },
   {
    "duration": 11,
    "start_time": "2021-11-13T19:37:19.731Z"
   },
   {
    "duration": 14,
    "start_time": "2021-11-13T19:37:19.744Z"
   },
   {
    "duration": 88,
    "start_time": "2021-11-13T19:37:19.760Z"
   },
   {
    "duration": 14,
    "start_time": "2021-11-13T19:37:19.850Z"
   },
   {
    "duration": 58,
    "start_time": "2021-11-13T19:37:19.867Z"
   },
   {
    "duration": 20,
    "start_time": "2021-11-13T19:37:19.928Z"
   },
   {
    "duration": 28,
    "start_time": "2021-11-13T19:37:19.951Z"
   },
   {
    "duration": 17,
    "start_time": "2021-11-13T19:37:19.982Z"
   },
   {
    "duration": 16,
    "start_time": "2021-11-13T19:37:20.002Z"
   },
   {
    "duration": 8,
    "start_time": "2021-11-13T19:37:20.022Z"
   },
   {
    "duration": 11,
    "start_time": "2021-11-13T19:37:20.033Z"
   },
   {
    "duration": 9,
    "start_time": "2021-11-13T19:37:20.046Z"
   },
   {
    "duration": 13,
    "start_time": "2021-11-13T19:37:20.057Z"
   },
   {
    "duration": 119,
    "start_time": "2021-11-13T19:37:20.073Z"
   },
   {
    "duration": 28,
    "start_time": "2021-11-13T19:37:20.194Z"
   },
   {
    "duration": 119,
    "start_time": "2021-11-13T19:37:20.225Z"
   },
   {
    "duration": 20,
    "start_time": "2021-11-13T19:37:20.347Z"
   },
   {
    "duration": 59,
    "start_time": "2021-11-13T19:37:20.369Z"
   },
   {
    "duration": 107,
    "start_time": "2021-11-13T19:37:20.430Z"
   },
   {
    "duration": 19,
    "start_time": "2021-11-13T19:37:20.540Z"
   },
   {
    "duration": 790,
    "start_time": "2021-11-13T19:37:20.562Z"
   },
   {
    "duration": 654,
    "start_time": "2021-11-13T19:37:21.355Z"
   },
   {
    "duration": 26,
    "start_time": "2021-11-13T19:37:22.012Z"
   },
   {
    "duration": 587,
    "start_time": "2021-11-13T19:37:22.040Z"
   },
   {
    "duration": 20,
    "start_time": "2021-11-13T19:37:22.629Z"
   },
   {
    "duration": 521,
    "start_time": "2021-11-13T19:37:22.651Z"
   },
   {
    "duration": 61,
    "start_time": "2021-11-13T19:37:23.175Z"
   },
   {
    "duration": 110,
    "start_time": "2021-11-13T19:37:23.238Z"
   },
   {
    "duration": 573,
    "start_time": "2021-11-13T19:37:23.351Z"
   },
   {
    "duration": 797,
    "start_time": "2021-11-13T19:37:23.928Z"
   },
   {
    "duration": 571,
    "start_time": "2021-11-13T19:37:24.728Z"
   },
   {
    "duration": 36,
    "start_time": "2021-11-13T19:37:25.302Z"
   },
   {
    "duration": 6,
    "start_time": "2021-11-13T19:37:25.340Z"
   },
   {
    "duration": 477,
    "start_time": "2021-11-13T19:37:25.348Z"
   },
   {
    "duration": 585,
    "start_time": "2021-11-13T19:37:25.828Z"
   },
   {
    "duration": 475,
    "start_time": "2021-11-13T19:37:26.415Z"
   },
   {
    "duration": 7,
    "start_time": "2021-11-13T19:37:26.892Z"
   },
   {
    "duration": 44,
    "start_time": "2021-11-13T19:37:26.901Z"
   },
   {
    "duration": 7,
    "start_time": "2021-11-13T19:37:26.947Z"
   },
   {
    "duration": 13,
    "start_time": "2021-11-13T19:37:26.957Z"
   },
   {
    "duration": 309,
    "start_time": "2021-11-13T19:37:26.973Z"
   },
   {
    "duration": 15,
    "start_time": "2021-11-13T19:37:27.285Z"
   },
   {
    "duration": 914,
    "start_time": "2021-11-13T19:37:27.302Z"
   },
   {
    "duration": 10,
    "start_time": "2021-11-13T19:37:28.223Z"
   },
   {
    "duration": 14,
    "start_time": "2021-11-13T19:37:28.236Z"
   },
   {
    "duration": 11,
    "start_time": "2021-11-13T19:37:28.253Z"
   },
   {
    "duration": 4,
    "start_time": "2021-11-13T19:37:28.274Z"
   },
   {
    "duration": 40,
    "start_time": "2021-11-13T19:37:28.282Z"
   },
   {
    "duration": 9,
    "start_time": "2021-11-13T19:37:28.326Z"
   },
   {
    "duration": 10,
    "start_time": "2021-11-13T19:37:28.338Z"
   },
   {
    "duration": 8,
    "start_time": "2021-11-13T19:37:28.351Z"
   },
   {
    "duration": 63,
    "start_time": "2021-11-13T19:37:28.362Z"
   },
   {
    "duration": 15,
    "start_time": "2021-11-13T19:37:28.428Z"
   },
   {
    "duration": 13,
    "start_time": "2021-11-13T19:37:28.446Z"
   },
   {
    "duration": 163,
    "start_time": "2021-11-13T19:37:28.462Z"
   },
   {
    "duration": 24,
    "start_time": "2021-11-13T19:37:28.628Z"
   },
   {
    "duration": 3,
    "start_time": "2021-11-13T19:37:28.654Z"
   },
   {
    "duration": 6,
    "start_time": "2021-11-13T19:37:28.659Z"
   },
   {
    "duration": 13,
    "start_time": "2021-11-13T19:37:28.667Z"
   },
   {
    "duration": 42,
    "start_time": "2021-11-13T19:37:28.682Z"
   },
   {
    "duration": 6,
    "start_time": "2021-11-13T19:37:28.727Z"
   },
   {
    "duration": 8,
    "start_time": "2021-11-13T19:37:28.735Z"
   },
   {
    "duration": 609,
    "start_time": "2021-11-15T19:41:11.108Z"
   },
   {
    "duration": 4840,
    "start_time": "2021-11-15T19:41:33.384Z"
   },
   {
    "duration": 1581,
    "start_time": "2021-11-15T19:41:38.227Z"
   },
   {
    "duration": 144,
    "start_time": "2021-11-15T19:41:39.811Z"
   },
   {
    "duration": 126,
    "start_time": "2021-11-15T19:41:39.958Z"
   },
   {
    "duration": 70,
    "start_time": "2021-11-15T19:41:40.086Z"
   },
   {
    "duration": 17,
    "start_time": "2021-11-15T19:41:40.158Z"
   },
   {
    "duration": 40,
    "start_time": "2021-11-15T19:41:40.178Z"
   },
   {
    "duration": 17,
    "start_time": "2021-11-15T19:41:40.221Z"
   },
   {
    "duration": 14,
    "start_time": "2021-11-15T19:41:40.346Z"
   },
   {
    "duration": 6,
    "start_time": "2021-11-15T19:41:40.690Z"
   },
   {
    "duration": 9,
    "start_time": "2021-11-15T19:41:41.963Z"
   },
   {
    "duration": 16,
    "start_time": "2021-11-15T19:41:42.351Z"
   },
   {
    "duration": 7,
    "start_time": "2021-11-15T19:41:42.689Z"
   },
   {
    "duration": 23,
    "start_time": "2021-11-15T19:41:43.593Z"
   },
   {
    "duration": 39,
    "start_time": "2021-11-15T19:41:43.935Z"
   },
   {
    "duration": 11,
    "start_time": "2021-11-15T19:41:44.235Z"
   },
   {
    "duration": 8,
    "start_time": "2021-11-15T19:41:44.610Z"
   },
   {
    "duration": 18,
    "start_time": "2021-11-15T19:41:45.911Z"
   },
   {
    "duration": 11,
    "start_time": "2021-11-15T19:41:52.502Z"
   },
   {
    "duration": 14,
    "start_time": "2021-11-15T19:41:55.105Z"
   },
   {
    "duration": 51,
    "start_time": "2021-11-15T19:41:56.554Z"
   },
   {
    "duration": 14,
    "start_time": "2021-11-15T19:41:57.387Z"
   },
   {
    "duration": 40,
    "start_time": "2021-11-15T19:41:58.599Z"
   },
   {
    "duration": 12,
    "start_time": "2021-11-15T19:41:59.121Z"
   },
   {
    "duration": 29,
    "start_time": "2021-11-15T19:41:59.454Z"
   },
   {
    "duration": 12,
    "start_time": "2021-11-15T19:41:59.735Z"
   },
   {
    "duration": 6,
    "start_time": "2021-11-15T19:42:00.846Z"
   },
   {
    "duration": 5,
    "start_time": "2021-11-15T19:42:01.402Z"
   },
   {
    "duration": 52,
    "start_time": "2021-11-15T19:42:02.336Z"
   },
   {
    "duration": 33,
    "start_time": "2021-11-15T19:42:02.900Z"
   },
   {
    "duration": 13,
    "start_time": "2021-11-15T19:42:03.203Z"
   },
   {
    "duration": 11,
    "start_time": "2021-11-15T19:42:03.768Z"
   },
   {
    "duration": 4,
    "start_time": "2021-11-15T19:42:04.288Z"
   },
   {
    "duration": 11,
    "start_time": "2021-11-15T19:42:04.750Z"
   },
   {
    "duration": 11,
    "start_time": "2021-11-15T19:42:05.004Z"
   },
   {
    "duration": 11,
    "start_time": "2021-11-15T19:42:05.693Z"
   },
   {
    "duration": 41,
    "start_time": "2021-11-15T19:42:05.707Z"
   },
   {
    "duration": 15,
    "start_time": "2021-11-15T19:42:09.046Z"
   },
   {
    "duration": 16,
    "start_time": "2021-11-15T19:42:09.434Z"
   },
   {
    "duration": 450,
    "start_time": "2021-11-15T19:45:44.432Z"
   },
   {
    "duration": 8,
    "start_time": "2021-11-15T19:45:53.145Z"
   },
   {
    "duration": 8,
    "start_time": "2021-11-15T19:45:54.247Z"
   },
   {
    "duration": 365,
    "start_time": "2021-11-15T19:45:54.996Z"
   },
   {
    "duration": -144,
    "start_time": "2021-11-15T19:45:55.507Z"
   },
   {
    "duration": 13,
    "start_time": "2021-11-15T19:46:08.020Z"
   },
   {
    "duration": 16,
    "start_time": "2021-11-15T19:46:08.272Z"
   },
   {
    "duration": 10,
    "start_time": "2021-11-15T19:46:08.791Z"
   },
   {
    "duration": 13,
    "start_time": "2021-11-15T19:46:09.296Z"
   },
   {
    "duration": 4,
    "start_time": "2021-11-15T19:46:09.546Z"
   },
   {
    "duration": 11,
    "start_time": "2021-11-15T19:46:10.320Z"
   },
   {
    "duration": 13,
    "start_time": "2021-11-15T19:46:10.563Z"
   },
   {
    "duration": 5,
    "start_time": "2021-11-15T19:46:10.818Z"
   },
   {
    "duration": 11,
    "start_time": "2021-11-15T19:46:11.131Z"
   },
   {
    "duration": 7,
    "start_time": "2021-11-15T19:46:12.307Z"
   },
   {
    "duration": 11,
    "start_time": "2021-11-15T19:46:13.536Z"
   },
   {
    "duration": 107,
    "start_time": "2021-11-15T19:46:14.747Z"
   },
   {
    "duration": 27,
    "start_time": "2021-11-15T19:46:16.062Z"
   },
   {
    "duration": 30,
    "start_time": "2021-11-15T19:46:54.392Z"
   },
   {
    "duration": 3393,
    "start_time": "2022-07-02T11:23:11.175Z"
   },
   {
    "duration": 1230,
    "start_time": "2022-07-02T11:23:14.570Z"
   },
   {
    "duration": 766,
    "start_time": "2022-07-02T11:23:15.802Z"
   },
   {
    "duration": 294,
    "start_time": "2022-07-02T11:23:16.570Z"
   },
   {
    "duration": 190,
    "start_time": "2022-07-02T11:23:16.865Z"
   },
   {
    "duration": 68,
    "start_time": "2022-07-02T11:23:17.056Z"
   },
   {
    "duration": 69,
    "start_time": "2022-07-02T11:23:17.126Z"
   },
   {
    "duration": 14,
    "start_time": "2022-07-02T11:23:17.197Z"
   },
   {
    "duration": 10,
    "start_time": "2022-07-02T11:23:17.213Z"
   },
   {
    "duration": 8,
    "start_time": "2022-07-02T11:23:17.226Z"
   },
   {
    "duration": 13,
    "start_time": "2022-07-02T11:23:17.236Z"
   },
   {
    "duration": 19,
    "start_time": "2022-07-02T11:23:17.251Z"
   },
   {
    "duration": 6,
    "start_time": "2022-07-02T11:23:17.272Z"
   },
   {
    "duration": 17,
    "start_time": "2022-07-02T11:23:17.280Z"
   },
   {
    "duration": 45,
    "start_time": "2022-07-02T11:23:17.299Z"
   },
   {
    "duration": 8,
    "start_time": "2022-07-02T11:23:17.345Z"
   },
   {
    "duration": 8,
    "start_time": "2022-07-02T11:23:17.354Z"
   },
   {
    "duration": 16,
    "start_time": "2022-07-02T11:23:17.364Z"
   },
   {
    "duration": 8,
    "start_time": "2022-07-02T11:23:17.381Z"
   },
   {
    "duration": 64,
    "start_time": "2022-07-02T11:23:17.391Z"
   },
   {
    "duration": 43,
    "start_time": "2022-07-02T11:23:17.458Z"
   },
   {
    "duration": 9,
    "start_time": "2022-07-02T11:23:17.503Z"
   },
   {
    "duration": 50,
    "start_time": "2022-07-02T11:23:17.515Z"
   },
   {
    "duration": 10,
    "start_time": "2022-07-02T11:23:17.566Z"
   },
   {
    "duration": 21,
    "start_time": "2022-07-02T11:23:17.577Z"
   },
   {
    "duration": 10,
    "start_time": "2022-07-02T11:23:17.599Z"
   },
   {
    "duration": 4,
    "start_time": "2022-07-02T11:23:17.634Z"
   },
   {
    "duration": 55,
    "start_time": "2022-07-02T11:23:17.642Z"
   },
   {
    "duration": 32,
    "start_time": "2022-07-02T11:23:17.699Z"
   },
   {
    "duration": 13,
    "start_time": "2022-07-02T11:23:17.733Z"
   },
   {
    "duration": 11,
    "start_time": "2022-07-02T11:23:17.748Z"
   },
   {
    "duration": 12,
    "start_time": "2022-07-02T11:23:17.760Z"
   },
   {
    "duration": 11,
    "start_time": "2022-07-02T11:23:17.774Z"
   },
   {
    "duration": 14,
    "start_time": "2022-07-02T11:23:17.787Z"
   },
   {
    "duration": 10,
    "start_time": "2022-07-02T11:23:17.805Z"
   },
   {
    "duration": 26,
    "start_time": "2022-07-02T11:23:17.828Z"
   },
   {
    "duration": 14,
    "start_time": "2022-07-02T11:23:17.856Z"
   },
   {
    "duration": 37,
    "start_time": "2022-07-02T11:23:17.872Z"
   },
   {
    "duration": 10,
    "start_time": "2022-07-02T11:23:17.911Z"
   },
   {
    "duration": 19,
    "start_time": "2022-07-02T11:23:17.923Z"
   },
   {
    "duration": 4,
    "start_time": "2022-07-02T11:23:17.944Z"
   },
   {
    "duration": 9,
    "start_time": "2022-07-02T11:23:17.952Z"
   },
   {
    "duration": 15,
    "start_time": "2022-07-02T11:23:17.963Z"
   },
   {
    "duration": 5,
    "start_time": "2022-07-02T11:23:17.980Z"
   },
   {
    "duration": 11,
    "start_time": "2022-07-02T11:23:17.987Z"
   },
   {
    "duration": 30,
    "start_time": "2022-07-02T11:23:18.000Z"
   },
   {
    "duration": 10,
    "start_time": "2022-07-02T11:23:18.032Z"
   },
   {
    "duration": 68,
    "start_time": "2022-07-02T11:23:18.044Z"
   },
   {
    "duration": 18,
    "start_time": "2022-07-02T11:23:18.116Z"
   },
   {
    "duration": 41,
    "start_time": "2022-07-02T11:23:18.137Z"
   },
   {
    "duration": 13,
    "start_time": "2022-07-02T11:23:18.181Z"
   },
   {
    "duration": 11,
    "start_time": "2022-07-02T11:23:18.196Z"
   },
   {
    "duration": 46,
    "start_time": "2022-07-02T11:23:18.209Z"
   },
   {
    "duration": 15,
    "start_time": "2022-07-02T11:23:18.256Z"
   },
   {
    "duration": 281,
    "start_time": "2022-07-02T11:23:18.273Z"
   },
   {
    "duration": 322,
    "start_time": "2022-07-02T11:23:18.556Z"
   },
   {
    "duration": 17,
    "start_time": "2022-07-02T11:23:18.881Z"
   },
   {
    "duration": 364,
    "start_time": "2022-07-02T11:23:18.900Z"
   },
   {
    "duration": 26,
    "start_time": "2022-07-02T11:23:19.268Z"
   },
   {
    "duration": 362,
    "start_time": "2022-07-02T11:23:19.297Z"
   },
   {
    "duration": 44,
    "start_time": "2022-07-02T11:23:19.661Z"
   },
   {
    "duration": 198,
    "start_time": "2022-07-02T11:23:19.707Z"
   },
   {
    "duration": 356,
    "start_time": "2022-07-02T11:23:19.908Z"
   },
   {
    "duration": 379,
    "start_time": "2022-07-02T11:23:20.266Z"
   },
   {
    "duration": 336,
    "start_time": "2022-07-02T11:23:20.647Z"
   },
   {
    "duration": 18,
    "start_time": "2022-07-02T11:23:20.985Z"
   },
   {
    "duration": 6,
    "start_time": "2022-07-02T11:23:21.005Z"
   },
   {
    "duration": 229,
    "start_time": "2022-07-02T11:23:21.013Z"
   },
   {
    "duration": 248,
    "start_time": "2022-07-02T11:23:21.244Z"
   },
   {
    "duration": 236,
    "start_time": "2022-07-02T11:23:21.496Z"
   },
   {
    "duration": 4,
    "start_time": "2022-07-02T11:23:21.734Z"
   },
   {
    "duration": 20,
    "start_time": "2022-07-02T11:23:21.740Z"
   },
   {
    "duration": 5,
    "start_time": "2022-07-02T11:23:21.761Z"
   },
   {
    "duration": 6,
    "start_time": "2022-07-02T11:23:21.768Z"
   },
   {
    "duration": 170,
    "start_time": "2022-07-02T11:23:21.776Z"
   },
   {
    "duration": 9,
    "start_time": "2022-07-02T11:23:21.947Z"
   },
   {
    "duration": 486,
    "start_time": "2022-07-02T11:23:21.958Z"
   },
   {
    "duration": 7,
    "start_time": "2022-07-02T11:23:22.445Z"
   },
   {
    "duration": 7,
    "start_time": "2022-07-02T11:23:22.453Z"
   },
   {
    "duration": 7,
    "start_time": "2022-07-02T11:23:22.462Z"
   },
   {
    "duration": 4,
    "start_time": "2022-07-02T11:23:22.471Z"
   },
   {
    "duration": 3,
    "start_time": "2022-07-02T11:23:22.482Z"
   },
   {
    "duration": 7,
    "start_time": "2022-07-02T11:23:22.486Z"
   },
   {
    "duration": 35,
    "start_time": "2022-07-02T11:23:22.495Z"
   },
   {
    "duration": 5,
    "start_time": "2022-07-02T11:23:22.532Z"
   },
   {
    "duration": 16,
    "start_time": "2022-07-02T11:23:22.539Z"
   },
   {
    "duration": 18,
    "start_time": "2022-07-02T11:23:22.557Z"
   },
   {
    "duration": 25,
    "start_time": "2022-07-02T11:23:22.576Z"
   },
   {
    "duration": 10,
    "start_time": "2022-07-02T11:23:22.603Z"
   },
   {
    "duration": 20,
    "start_time": "2022-07-02T11:23:22.615Z"
   },
   {
    "duration": 19,
    "start_time": "2022-07-02T11:23:22.637Z"
   },
   {
    "duration": 3,
    "start_time": "2022-07-02T11:23:22.658Z"
   },
   {
    "duration": 20,
    "start_time": "2022-07-02T11:23:22.662Z"
   },
   {
    "duration": 9,
    "start_time": "2022-07-02T11:23:22.685Z"
   },
   {
    "duration": 28,
    "start_time": "2022-07-02T11:23:22.696Z"
   },
   {
    "duration": 13,
    "start_time": "2022-07-02T11:23:22.726Z"
   },
   {
    "duration": 23,
    "start_time": "2022-07-02T11:23:22.740Z"
   }
  ],
  "kernelspec": {
   "display_name": "Python 3 (ipykernel)",
   "language": "python",
   "name": "python3"
  },
  "language_info": {
   "codemirror_mode": {
    "name": "ipython",
    "version": 3
   },
   "file_extension": ".py",
   "mimetype": "text/x-python",
   "name": "python",
   "nbconvert_exporter": "python",
   "pygments_lexer": "ipython3",
   "version": "3.9.5"
  },
  "toc": {
   "base_numbering": 1,
   "nav_menu": {},
   "number_sections": true,
   "sideBar": true,
   "skip_h1_title": true,
   "title_cell": "Table of Contents",
   "title_sidebar": "Contents",
   "toc_cell": false,
   "toc_position": {
    "height": "calc(100% - 180px)",
    "left": "10px",
    "top": "150px",
    "width": "165px"
   },
   "toc_section_display": true,
   "toc_window_display": true
  }
 },
 "nbformat": 4,
 "nbformat_minor": 2
}
